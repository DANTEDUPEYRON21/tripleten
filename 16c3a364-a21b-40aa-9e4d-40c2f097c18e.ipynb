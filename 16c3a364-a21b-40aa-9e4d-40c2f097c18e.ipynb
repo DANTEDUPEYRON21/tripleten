{
 "cells": [
  {
   "cell_type": "markdown",
   "metadata": {},
   "source": [
    "**¡Hola Dante! 😊**\n",
    "\n",
    "Mi nombre es **Alejandro Castellanos** y hoy tengo el placer de ser el revisor de tu proyecto.\n",
    "\n",
    "Voy a revisar todo tu código con detalle, buscando tanto los puntos fuertes como aquellos en los que podrías mejorar. Te dejaré comentarios a lo largo del notebook, destacando lo que has hecho bien y sugiriendo ajustes donde sea necesario. Si encuentro algún error, no te preocupes, te lo haré saber de forma clara y te daré información útil para que puedas corregirlo en la próxima iteración. Si en algún punto tienes comentarios, siéntete libre de dejarlos también.\n",
    "\n",
    "\n",
    "Encontrarás mis comentarios específicos dentro de cajas verdes, amarillas o rojas, es muy importante que no muevas, modifiques o borres mis comentarios, con el fin de tener un seguimiento adecuado de tu proceso:\n",
    "\n",
    "\n",
    "<div class=\"alert alert-block alert-success\">\n",
    "<b>Comentario del revisor</b> <a class=“tocSkip”></a>\n",
    "Si todo está perfecto.\n",
    "</div>\n",
    "\n",
    "<div class=\"alert alert-block alert-warning\">\n",
    "<b>Comentario del revisor</b> <a class=“tocSkip”></a>\n",
    "Si tu código está bien pero se puede mejorar o hay algún detalle que le hace falta.\n",
    "</div>\n",
    "\n",
    "<div class=\"alert alert-block alert-danger\">\n",
    "<b>Comentario del revisor</b> <a class=“tocSkip”></a>\n",
    "Si de pronto hace falta algo o existe algún problema con tu código o conclusiones.\n",
    "</div>\n",
    "\n",
    "Puedes responderme de esta forma:\n",
    "<div class=\"alert alert-block alert-info\">\n",
    "<b>Respuesta del estudiante</b> <a class=“tocSkip”></a>\n",
    "¡Hola Alejandro! 😊\n",
    "\n",
    "Espero que te encuentres bien. Agradezco mucho tus comentarios y el tiempo que has tomado para revisar mi proyecto.\n",
    "\n",
    "Quiero informarte que ya he corregido los errores que me señalaste. He ajustado la tabla de los mensajes para evitar la repetición de datos. También he corregido la fórmula de la resta de los \"total GB\", lo que me permitió darme cuenta de que había un error en mi cálculo de los ingresos extra de Ultimate. Ahora todo tiene más sentido y los datos son más claros.Además, utilicé la prueba de Levene para verificar la igualdad de varianzas entre los planes Ultimate y Surf. Al detectar que las varianzas eran diferentes, ajusté la prueba t utilizando equal_var=False, lo que garantizó resultados más precisos y válidos.\n",
    "\n",
    "Te agradezco mucho por tu ayuda, tus observaciones han sido muy valiosas.\n",
    "\n",
    "¡Muchas gracias nuevamente!\n",
    "\n",
    "Saludos cordiales,\n",
    "Dante   \n",
    "</div>\n",
    "\n",
    "A continuación te dejaré un comentario general con mi valoración del proyecto. **¡Mi objetivo es que sigas aprendiendo y mejorando con cada paso!**"
   ]
  },
  {
   "cell_type": "markdown",
   "metadata": {},
   "source": [
    "----"
   ]
  },
  {
   "cell_type": "markdown",
   "metadata": {},
   "source": [
    "<div class=\"alert alert-block alert-warning\">\n",
    "<b>Comentario del revisor (1ra Iteración)</b> <a class=“tocSkip”></a>\n",
    "\n",
    "Dante has demostrado buenas habilidades en la etapa de preparación de datos para tu proyecto, lo cual establece una base firme para tu análisis. En el apartado de visualización, utilizaste herramientas efectivas para comprender el comportamiento de consumo de los usuarios en diferentes planes, aunque resulta clave que uses la misma estructura de análsis que empleaste para los datos de llamadas en los demás conjuntos de datos. Por otro lado, tu enfoque en las pruebas de hipótesis refleja un buen dominio de la metodología para realizar comparaciones estadísticas en diferentes conjuntos de datos. \n",
    "\n",
    "Sin embargo, es necesario ajustar el cálculo del consumo de mensajes e internet para determinar con mayor precisión el cobro mensual por usuario, un aspecto clave para la validez de tus conclusiones. ¡No te preocupes! Cada ajuste que haces es una oportunidad para aprender y mejorar. Vas por buen camino, y estoy seguro de que en la siguiente versión harás un gran trabajo y lograrás completar el proyecto con éxito. ¡Sigue adelante! \n",
    "\n",
    "Estaré atento a tu próxima iteración 👀\n",
    "\n",
    "\n",
    "\n",
    "</div>"
   ]
  },
  {
   "cell_type": "markdown",
   "metadata": {},
   "source": [
    "<div class=\"alert alert-block alert-success\">\n",
    "<b>Comentario General del revisor (2da Iteración)</b> <a class=“tocSkip”></a>\n",
    "\n",
    "¡Dante excelente trabajo con los ajustes! Tu proyecto ahora cumple con todos los objetivos propuestos. Me alegra que mis indicaciones te hayan servido,\n",
    "    \n",
    "    \n",
    "Estoy seguro de que lo que aprendiste aquí te será muy útil en futuros proyectos. ¡Éxito en tu próximo sprint! 🚀\n",
    "\n",
    "*Estado del Proyecto:* **Aprobado**\n",
    "\n",
    "</div>"
   ]
  },
  {
   "cell_type": "markdown",
   "metadata": {},
   "source": [
    "---"
   ]
  },
  {
   "cell_type": "markdown",
   "metadata": {
    "id": "3rYiDeEH0q0f"
   },
   "source": [
    "# ¿Cuál es la mejor tarifa?\n",
    "\n",
    "Trabajas como analista para el operador de telecomunicaciones Megaline. La empresa ofrece a sus clientes dos tarifas de prepago, Surf y Ultimate. El departamento comercial quiere saber cuál de las tarifas genera más ingresos para poder ajustar el presupuesto de publicidad.\n",
    "\n",
    "Vas a realizar un análisis preliminar de las tarifas basado en una selección de clientes relativamente pequeña. Tendrás los datos de 500 clientes de Megaline: quiénes son los clientes, de dónde son, qué tarifa usan, así como la cantidad de llamadas que hicieron y los mensajes de texto que enviaron en 2018. Tu trabajo es analizar el comportamiento de los clientes y determinar qué tarifa de prepago genera más ingresos."
   ]
  },
  {
   "cell_type": "markdown",
   "metadata": {
    "id": "VNddPNRQ0q0w"
   },
   "source": [
    "El objetivo de este análisis es determinar qué tarifa, Surf o Ultimate, genera más ingresos para Megaline. Los resultados servirán como base para tomar decisiones, permitiendo a la empresa optimizar su estrategia enfocándose en la tarifa más rentable o equilibrando los ingresos entre ambas. Las acciones que planeo realizar incluyen la segmentación de los clientes por tarifa, el cálculo de los ingresos generados por cada tarifa, el análisis del comportamiento de los clientes y la visualización y comparación de los ingresos.\n",
    "\n"
   ]
  },
  {
   "cell_type": "markdown",
   "metadata": {
    "id": "MQi4IPy70q0y"
   },
   "source": [
    "## Inicialización"
   ]
  },
  {
   "cell_type": "code",
   "execution_count": 64,
   "metadata": {
    "id": "MtYIuBxu0q0z"
   },
   "outputs": [],
   "source": [
    "# Cargar todas las librerías\n",
    "import pandas as pd\n",
    "import numpy as np\n",
    "import seaborn as sns\n",
    "import matplotlib.pyplot as plt\n",
    "from scipy.stats import ttest_ind\n",
    "import math as mt\n",
    "from datetime import datetime\n",
    "\n"
   ]
  },
  {
   "cell_type": "markdown",
   "metadata": {
    "id": "4ysWWC5i0q00"
   },
   "source": [
    "## Cargar datos"
   ]
  },
  {
   "cell_type": "code",
   "execution_count": 65,
   "metadata": {
    "id": "CCqPW7rS0q01"
   },
   "outputs": [],
   "source": [
    "# Carga los archivos de datos en diferentes DataFrames\n",
    "calls = pd.read_csv('/datasets/megaline_calls.csv')\n",
    "messages = pd.read_csv('/datasets/megaline_messages.csv')\n",
    "internet = pd.read_csv('/datasets/megaline_internet.csv')\n",
    "users = pd.read_csv('/datasets/megaline_users.csv')\n",
    "plans = pd.read_csv('/datasets/megaline_plans.csv')\n",
    "\n"
   ]
  },
  {
   "cell_type": "markdown",
   "metadata": {
    "id": "69qqoJ3r0q01"
   },
   "source": [
    "## Preparar los datos"
   ]
  },
  {
   "cell_type": "code",
   "execution_count": 66,
   "metadata": {},
   "outputs": [
    {
     "name": "stdout",
     "output_type": "stream",
     "text": [
      "<class 'pandas.core.frame.DataFrame'>\n",
      "RangeIndex: 137735 entries, 0 to 137734\n",
      "Data columns (total 4 columns):\n",
      " #   Column     Non-Null Count   Dtype  \n",
      "---  ------     --------------   -----  \n",
      " 0   id         137735 non-null  object \n",
      " 1   user_id    137735 non-null  int64  \n",
      " 2   call_date  137735 non-null  object \n",
      " 3   duration   137735 non-null  float64\n",
      "dtypes: float64(1), int64(1), object(2)\n",
      "memory usage: 4.2+ MB\n",
      "<class 'pandas.core.frame.DataFrame'>\n",
      "RangeIndex: 76051 entries, 0 to 76050\n",
      "Data columns (total 3 columns):\n",
      " #   Column        Non-Null Count  Dtype \n",
      "---  ------        --------------  ----- \n",
      " 0   id            76051 non-null  object\n",
      " 1   user_id       76051 non-null  int64 \n",
      " 2   message_date  76051 non-null  object\n",
      "dtypes: int64(1), object(2)\n",
      "memory usage: 1.7+ MB\n",
      "<class 'pandas.core.frame.DataFrame'>\n",
      "RangeIndex: 104825 entries, 0 to 104824\n",
      "Data columns (total 4 columns):\n",
      " #   Column        Non-Null Count   Dtype  \n",
      "---  ------        --------------   -----  \n",
      " 0   id            104825 non-null  object \n",
      " 1   user_id       104825 non-null  int64  \n",
      " 2   session_date  104825 non-null  object \n",
      " 3   mb_used       104825 non-null  float64\n",
      "dtypes: float64(1), int64(1), object(2)\n",
      "memory usage: 3.2+ MB\n",
      "<class 'pandas.core.frame.DataFrame'>\n",
      "RangeIndex: 500 entries, 0 to 499\n",
      "Data columns (total 8 columns):\n",
      " #   Column      Non-Null Count  Dtype \n",
      "---  ------      --------------  ----- \n",
      " 0   user_id     500 non-null    int64 \n",
      " 1   first_name  500 non-null    object\n",
      " 2   last_name   500 non-null    object\n",
      " 3   age         500 non-null    int64 \n",
      " 4   city        500 non-null    object\n",
      " 5   reg_date    500 non-null    object\n",
      " 6   plan        500 non-null    object\n",
      " 7   churn_date  34 non-null     object\n",
      "dtypes: int64(2), object(6)\n",
      "memory usage: 31.4+ KB\n",
      "<class 'pandas.core.frame.DataFrame'>\n",
      "RangeIndex: 2 entries, 0 to 1\n",
      "Data columns (total 8 columns):\n",
      " #   Column                 Non-Null Count  Dtype  \n",
      "---  ------                 --------------  -----  \n",
      " 0   messages_included      2 non-null      int64  \n",
      " 1   mb_per_month_included  2 non-null      int64  \n",
      " 2   minutes_included       2 non-null      int64  \n",
      " 3   usd_monthly_pay        2 non-null      int64  \n",
      " 4   usd_per_gb             2 non-null      int64  \n",
      " 5   usd_per_message        2 non-null      float64\n",
      " 6   usd_per_minute         2 non-null      float64\n",
      " 7   plan_name              2 non-null      object \n",
      "dtypes: float64(2), int64(5), object(1)\n",
      "memory usage: 256.0+ bytes\n"
     ]
    },
    {
     "data": {
      "text/plain": [
       "(None, None, None, None, None)"
      ]
     },
     "execution_count": 66,
     "metadata": {},
     "output_type": "execute_result"
    }
   ],
   "source": [
    "# Explora cada una para tener una comprensión inicial de los datos\n",
    "calls.info(), messages.info(), internet.info(), users.info(), plans.info()"
   ]
  },
  {
   "cell_type": "code",
   "execution_count": 67,
   "metadata": {
    "scrolled": true
   },
   "outputs": [
    {
     "data": {
      "text/plain": [
       "(         id  user_id   call_date  duration\n",
       " 0   1000_93     1000  2018-12-27      8.52\n",
       " 1  1000_145     1000  2018-12-27     13.66\n",
       " 2  1000_247     1000  2018-12-27     14.48\n",
       " 3  1000_309     1000  2018-12-28      5.76\n",
       " 4  1000_380     1000  2018-12-30      4.22,\n",
       "          id  user_id message_date\n",
       " 0  1000_125     1000   2018-12-27\n",
       " 1  1000_160     1000   2018-12-31\n",
       " 2  1000_223     1000   2018-12-31\n",
       " 3  1000_251     1000   2018-12-27\n",
       " 4  1000_255     1000   2018-12-26,\n",
       "          id  user_id session_date  mb_used\n",
       " 0   1000_13     1000   2018-12-29    89.86\n",
       " 1  1000_204     1000   2018-12-31     0.00\n",
       " 2  1000_379     1000   2018-12-28   660.40\n",
       " 3  1000_413     1000   2018-12-26   270.99\n",
       " 4  1000_442     1000   2018-12-27   880.22,\n",
       "    user_id first_name  last_name  age                                   city  \\\n",
       " 0     1000   Anamaria      Bauer   45  Atlanta-Sandy Springs-Roswell, GA MSA   \n",
       " 1     1001     Mickey  Wilkerson   28        Seattle-Tacoma-Bellevue, WA MSA   \n",
       " 2     1002     Carlee    Hoffman   36   Las Vegas-Henderson-Paradise, NV MSA   \n",
       " 3     1003   Reynaldo    Jenkins   52                          Tulsa, OK MSA   \n",
       " 4     1004    Leonila   Thompson   40        Seattle-Tacoma-Bellevue, WA MSA   \n",
       " \n",
       "      reg_date      plan churn_date  \n",
       " 0  2018-12-24  ultimate        NaN  \n",
       " 1  2018-08-13      surf        NaN  \n",
       " 2  2018-10-21      surf        NaN  \n",
       " 3  2018-01-28      surf        NaN  \n",
       " 4  2018-05-23      surf        NaN  ,\n",
       "    messages_included  mb_per_month_included  minutes_included  \\\n",
       " 0                 50                  15360               500   \n",
       " 1               1000                  30720              3000   \n",
       " \n",
       "    usd_monthly_pay  usd_per_gb  usd_per_message  usd_per_minute plan_name  \n",
       " 0               20          10             0.03            0.03      surf  \n",
       " 1               70           7             0.01            0.01  ultimate  )"
      ]
     },
     "execution_count": 67,
     "metadata": {},
     "output_type": "execute_result"
    }
   ],
   "source": [
    "# Muestra algunas filas de cada DataFrame\n",
    "calls.head(), messages.head(), internet.head(), users.head(), plans.head()"
   ]
  },
  {
   "cell_type": "markdown",
   "metadata": {
    "id": "ohBhimvH0q01"
   },
   "source": [
    "## Tarifas"
   ]
  },
  {
   "cell_type": "code",
   "execution_count": 68,
   "metadata": {
    "id": "GptqP3Q40q02"
   },
   "outputs": [
    {
     "data": {
      "text/html": [
       "<div>\n",
       "<style scoped>\n",
       "    .dataframe tbody tr th:only-of-type {\n",
       "        vertical-align: middle;\n",
       "    }\n",
       "\n",
       "    .dataframe tbody tr th {\n",
       "        vertical-align: top;\n",
       "    }\n",
       "\n",
       "    .dataframe thead th {\n",
       "        text-align: right;\n",
       "    }\n",
       "</style>\n",
       "<table border=\"1\" class=\"dataframe\">\n",
       "  <thead>\n",
       "    <tr style=\"text-align: right;\">\n",
       "      <th></th>\n",
       "      <th>messages_included</th>\n",
       "      <th>mb_per_month_included</th>\n",
       "      <th>minutes_included</th>\n",
       "      <th>usd_monthly_pay</th>\n",
       "      <th>usd_per_gb</th>\n",
       "      <th>usd_per_message</th>\n",
       "      <th>usd_per_minute</th>\n",
       "    </tr>\n",
       "  </thead>\n",
       "  <tbody>\n",
       "    <tr>\n",
       "      <th>count</th>\n",
       "      <td>2.000000</td>\n",
       "      <td>2.000000</td>\n",
       "      <td>2.000000</td>\n",
       "      <td>2.000000</td>\n",
       "      <td>2.00000</td>\n",
       "      <td>2.000000</td>\n",
       "      <td>2.000000</td>\n",
       "    </tr>\n",
       "    <tr>\n",
       "      <th>mean</th>\n",
       "      <td>525.000000</td>\n",
       "      <td>23040.000000</td>\n",
       "      <td>1750.000000</td>\n",
       "      <td>45.000000</td>\n",
       "      <td>8.50000</td>\n",
       "      <td>0.020000</td>\n",
       "      <td>0.020000</td>\n",
       "    </tr>\n",
       "    <tr>\n",
       "      <th>std</th>\n",
       "      <td>671.751442</td>\n",
       "      <td>10861.160159</td>\n",
       "      <td>1767.766953</td>\n",
       "      <td>35.355339</td>\n",
       "      <td>2.12132</td>\n",
       "      <td>0.014142</td>\n",
       "      <td>0.014142</td>\n",
       "    </tr>\n",
       "    <tr>\n",
       "      <th>min</th>\n",
       "      <td>50.000000</td>\n",
       "      <td>15360.000000</td>\n",
       "      <td>500.000000</td>\n",
       "      <td>20.000000</td>\n",
       "      <td>7.00000</td>\n",
       "      <td>0.010000</td>\n",
       "      <td>0.010000</td>\n",
       "    </tr>\n",
       "    <tr>\n",
       "      <th>25%</th>\n",
       "      <td>287.500000</td>\n",
       "      <td>19200.000000</td>\n",
       "      <td>1125.000000</td>\n",
       "      <td>32.500000</td>\n",
       "      <td>7.75000</td>\n",
       "      <td>0.015000</td>\n",
       "      <td>0.015000</td>\n",
       "    </tr>\n",
       "    <tr>\n",
       "      <th>50%</th>\n",
       "      <td>525.000000</td>\n",
       "      <td>23040.000000</td>\n",
       "      <td>1750.000000</td>\n",
       "      <td>45.000000</td>\n",
       "      <td>8.50000</td>\n",
       "      <td>0.020000</td>\n",
       "      <td>0.020000</td>\n",
       "    </tr>\n",
       "    <tr>\n",
       "      <th>75%</th>\n",
       "      <td>762.500000</td>\n",
       "      <td>26880.000000</td>\n",
       "      <td>2375.000000</td>\n",
       "      <td>57.500000</td>\n",
       "      <td>9.25000</td>\n",
       "      <td>0.025000</td>\n",
       "      <td>0.025000</td>\n",
       "    </tr>\n",
       "    <tr>\n",
       "      <th>max</th>\n",
       "      <td>1000.000000</td>\n",
       "      <td>30720.000000</td>\n",
       "      <td>3000.000000</td>\n",
       "      <td>70.000000</td>\n",
       "      <td>10.00000</td>\n",
       "      <td>0.030000</td>\n",
       "      <td>0.030000</td>\n",
       "    </tr>\n",
       "  </tbody>\n",
       "</table>\n",
       "</div>"
      ],
      "text/plain": [
       "       messages_included  mb_per_month_included  minutes_included  \\\n",
       "count           2.000000               2.000000          2.000000   \n",
       "mean          525.000000           23040.000000       1750.000000   \n",
       "std           671.751442           10861.160159       1767.766953   \n",
       "min            50.000000           15360.000000        500.000000   \n",
       "25%           287.500000           19200.000000       1125.000000   \n",
       "50%           525.000000           23040.000000       1750.000000   \n",
       "75%           762.500000           26880.000000       2375.000000   \n",
       "max          1000.000000           30720.000000       3000.000000   \n",
       "\n",
       "       usd_monthly_pay  usd_per_gb  usd_per_message  usd_per_minute  \n",
       "count         2.000000     2.00000         2.000000        2.000000  \n",
       "mean         45.000000     8.50000         0.020000        0.020000  \n",
       "std          35.355339     2.12132         0.014142        0.014142  \n",
       "min          20.000000     7.00000         0.010000        0.010000  \n",
       "25%          32.500000     7.75000         0.015000        0.015000  \n",
       "50%          45.000000     8.50000         0.020000        0.020000  \n",
       "75%          57.500000     9.25000         0.025000        0.025000  \n",
       "max          70.000000    10.00000         0.030000        0.030000  "
      ]
     },
     "execution_count": 68,
     "metadata": {},
     "output_type": "execute_result"
    }
   ],
   "source": [
    "# Imprime la información general/resumida sobre el DataFrame de las tarifas\n",
    "plans.describe()"
   ]
  },
  {
   "cell_type": "code",
   "execution_count": 69,
   "metadata": {
    "id": "64xzjwL70q02"
   },
   "outputs": [
    {
     "data": {
      "text/html": [
       "<div>\n",
       "<style scoped>\n",
       "    .dataframe tbody tr th:only-of-type {\n",
       "        vertical-align: middle;\n",
       "    }\n",
       "\n",
       "    .dataframe tbody tr th {\n",
       "        vertical-align: top;\n",
       "    }\n",
       "\n",
       "    .dataframe thead th {\n",
       "        text-align: right;\n",
       "    }\n",
       "</style>\n",
       "<table border=\"1\" class=\"dataframe\">\n",
       "  <thead>\n",
       "    <tr style=\"text-align: right;\">\n",
       "      <th></th>\n",
       "      <th>messages_included</th>\n",
       "      <th>mb_per_month_included</th>\n",
       "      <th>minutes_included</th>\n",
       "      <th>usd_monthly_pay</th>\n",
       "      <th>usd_per_gb</th>\n",
       "      <th>usd_per_message</th>\n",
       "      <th>usd_per_minute</th>\n",
       "      <th>plan_name</th>\n",
       "    </tr>\n",
       "  </thead>\n",
       "  <tbody>\n",
       "    <tr>\n",
       "      <th>0</th>\n",
       "      <td>50</td>\n",
       "      <td>15360</td>\n",
       "      <td>500</td>\n",
       "      <td>20</td>\n",
       "      <td>10</td>\n",
       "      <td>0.03</td>\n",
       "      <td>0.03</td>\n",
       "      <td>surf</td>\n",
       "    </tr>\n",
       "    <tr>\n",
       "      <th>1</th>\n",
       "      <td>1000</td>\n",
       "      <td>30720</td>\n",
       "      <td>3000</td>\n",
       "      <td>70</td>\n",
       "      <td>7</td>\n",
       "      <td>0.01</td>\n",
       "      <td>0.01</td>\n",
       "      <td>ultimate</td>\n",
       "    </tr>\n",
       "  </tbody>\n",
       "</table>\n",
       "</div>"
      ],
      "text/plain": [
       "   messages_included  mb_per_month_included  minutes_included  \\\n",
       "0                 50                  15360               500   \n",
       "1               1000                  30720              3000   \n",
       "\n",
       "   usd_monthly_pay  usd_per_gb  usd_per_message  usd_per_minute plan_name  \n",
       "0               20          10             0.03            0.03      surf  \n",
       "1               70           7             0.01            0.01  ultimate  "
      ]
     },
     "execution_count": 69,
     "metadata": {},
     "output_type": "execute_result"
    }
   ],
   "source": [
    "# Imprime una muestra de los datos para las tarifas\n",
    "plans.head()"
   ]
  },
  {
   "cell_type": "markdown",
   "metadata": {
    "id": "mEc_3_hs0q02"
   },
   "source": [
    "Los datos proporcionados son correctos por sí mismos; sin embargo, es necesario crear algunas columnas adicionales para facilitar su interpretación y manipulación, como la conversión de MB a GB. Además, los datos no incluyen información sobre el consumo de extras por parte de cada usuario."
   ]
  },
  {
   "cell_type": "markdown",
   "metadata": {
    "id": "R3C05i1l0q03"
   },
   "source": [
    "## Corregir datos"
   ]
  },
  {
   "cell_type": "code",
   "execution_count": 70,
   "metadata": {
    "id": "Y7SVmjGn0q03"
   },
   "outputs": [
    {
     "data": {
      "text/plain": [
       "array(['surf', 'ultimate'], dtype=object)"
      ]
     },
     "execution_count": 70,
     "metadata": {},
     "output_type": "execute_result"
    }
   ],
   "source": [
    "# Verificar los valores únicos en 'plan_name' para asegurarnos de que no haya inconsistencias\n",
    "plans['plan_name'].unique()"
   ]
  },
  {
   "cell_type": "code",
   "execution_count": 71,
   "metadata": {},
   "outputs": [
    {
     "data": {
      "text/plain": [
       "messages_included        0\n",
       "mb_per_month_included    0\n",
       "minutes_included         0\n",
       "usd_monthly_pay          0\n",
       "usd_per_gb               0\n",
       "usd_per_message          0\n",
       "usd_per_minute           0\n",
       "plan_name                0\n",
       "dtype: int64"
      ]
     },
     "execution_count": 71,
     "metadata": {},
     "output_type": "execute_result"
    }
   ],
   "source": [
    "# Verificar valores nulos en 'plans'\n",
    "plans.isnull().sum()"
   ]
  },
  {
   "cell_type": "code",
   "execution_count": 72,
   "metadata": {},
   "outputs": [],
   "source": [
    "plans['mb_per_month_included'] = plans['mb_per_month_included'].astype(float)"
   ]
  },
  {
   "cell_type": "markdown",
   "metadata": {
    "id": "LJir7bml0q03"
   },
   "source": [
    "## Enriquecer los datos"
   ]
  },
  {
   "cell_type": "code",
   "execution_count": 73,
   "metadata": {},
   "outputs": [],
   "source": [
    "# Convertir 'mb_per_month_included' a GB\n",
    "plans['gb_per_month_included'] = plans['mb_per_month_included'] / 1024"
   ]
  },
  {
   "cell_type": "code",
   "execution_count": 74,
   "metadata": {},
   "outputs": [
    {
     "data": {
      "text/html": [
       "<div>\n",
       "<style scoped>\n",
       "    .dataframe tbody tr th:only-of-type {\n",
       "        vertical-align: middle;\n",
       "    }\n",
       "\n",
       "    .dataframe tbody tr th {\n",
       "        vertical-align: top;\n",
       "    }\n",
       "\n",
       "    .dataframe thead th {\n",
       "        text-align: right;\n",
       "    }\n",
       "</style>\n",
       "<table border=\"1\" class=\"dataframe\">\n",
       "  <thead>\n",
       "    <tr style=\"text-align: right;\">\n",
       "      <th></th>\n",
       "      <th>messages_included</th>\n",
       "      <th>mb_per_month_included</th>\n",
       "      <th>minutes_included</th>\n",
       "      <th>usd_monthly_pay</th>\n",
       "      <th>usd_per_gb</th>\n",
       "      <th>usd_per_message</th>\n",
       "      <th>usd_per_minute</th>\n",
       "      <th>plan_name</th>\n",
       "      <th>gb_per_month_included</th>\n",
       "    </tr>\n",
       "  </thead>\n",
       "  <tbody>\n",
       "    <tr>\n",
       "      <th>0</th>\n",
       "      <td>50</td>\n",
       "      <td>15360.0</td>\n",
       "      <td>500</td>\n",
       "      <td>20</td>\n",
       "      <td>10</td>\n",
       "      <td>0.03</td>\n",
       "      <td>0.03</td>\n",
       "      <td>surf</td>\n",
       "      <td>15.0</td>\n",
       "    </tr>\n",
       "    <tr>\n",
       "      <th>1</th>\n",
       "      <td>1000</td>\n",
       "      <td>30720.0</td>\n",
       "      <td>3000</td>\n",
       "      <td>70</td>\n",
       "      <td>7</td>\n",
       "      <td>0.01</td>\n",
       "      <td>0.01</td>\n",
       "      <td>ultimate</td>\n",
       "      <td>30.0</td>\n",
       "    </tr>\n",
       "  </tbody>\n",
       "</table>\n",
       "</div>"
      ],
      "text/plain": [
       "   messages_included  mb_per_month_included  minutes_included  \\\n",
       "0                 50                15360.0               500   \n",
       "1               1000                30720.0              3000   \n",
       "\n",
       "   usd_monthly_pay  usd_per_gb  usd_per_message  usd_per_minute plan_name  \\\n",
       "0               20          10             0.03            0.03      surf   \n",
       "1               70           7             0.01            0.01  ultimate   \n",
       "\n",
       "   gb_per_month_included  \n",
       "0                   15.0  \n",
       "1                   30.0  "
      ]
     },
     "execution_count": 74,
     "metadata": {},
     "output_type": "execute_result"
    }
   ],
   "source": [
    "# Imprime una muestra de los datos para las tarifas\n",
    "plans.head()"
   ]
  },
  {
   "cell_type": "markdown",
   "metadata": {
    "id": "1n2X6WXf0q04"
   },
   "source": [
    "## Usuarios/as"
   ]
  },
  {
   "cell_type": "code",
   "execution_count": 75,
   "metadata": {
    "id": "2NgjWFqx0q05"
   },
   "outputs": [
    {
     "data": {
      "text/html": [
       "<div>\n",
       "<style scoped>\n",
       "    .dataframe tbody tr th:only-of-type {\n",
       "        vertical-align: middle;\n",
       "    }\n",
       "\n",
       "    .dataframe tbody tr th {\n",
       "        vertical-align: top;\n",
       "    }\n",
       "\n",
       "    .dataframe thead th {\n",
       "        text-align: right;\n",
       "    }\n",
       "</style>\n",
       "<table border=\"1\" class=\"dataframe\">\n",
       "  <thead>\n",
       "    <tr style=\"text-align: right;\">\n",
       "      <th></th>\n",
       "      <th>user_id</th>\n",
       "      <th>age</th>\n",
       "    </tr>\n",
       "  </thead>\n",
       "  <tbody>\n",
       "    <tr>\n",
       "      <th>count</th>\n",
       "      <td>500.000000</td>\n",
       "      <td>500.000000</td>\n",
       "    </tr>\n",
       "    <tr>\n",
       "      <th>mean</th>\n",
       "      <td>1249.500000</td>\n",
       "      <td>45.486000</td>\n",
       "    </tr>\n",
       "    <tr>\n",
       "      <th>std</th>\n",
       "      <td>144.481833</td>\n",
       "      <td>16.972269</td>\n",
       "    </tr>\n",
       "    <tr>\n",
       "      <th>min</th>\n",
       "      <td>1000.000000</td>\n",
       "      <td>18.000000</td>\n",
       "    </tr>\n",
       "    <tr>\n",
       "      <th>25%</th>\n",
       "      <td>1124.750000</td>\n",
       "      <td>30.000000</td>\n",
       "    </tr>\n",
       "    <tr>\n",
       "      <th>50%</th>\n",
       "      <td>1249.500000</td>\n",
       "      <td>46.000000</td>\n",
       "    </tr>\n",
       "    <tr>\n",
       "      <th>75%</th>\n",
       "      <td>1374.250000</td>\n",
       "      <td>61.000000</td>\n",
       "    </tr>\n",
       "    <tr>\n",
       "      <th>max</th>\n",
       "      <td>1499.000000</td>\n",
       "      <td>75.000000</td>\n",
       "    </tr>\n",
       "  </tbody>\n",
       "</table>\n",
       "</div>"
      ],
      "text/plain": [
       "           user_id         age\n",
       "count   500.000000  500.000000\n",
       "mean   1249.500000   45.486000\n",
       "std     144.481833   16.972269\n",
       "min    1000.000000   18.000000\n",
       "25%    1124.750000   30.000000\n",
       "50%    1249.500000   46.000000\n",
       "75%    1374.250000   61.000000\n",
       "max    1499.000000   75.000000"
      ]
     },
     "execution_count": 75,
     "metadata": {},
     "output_type": "execute_result"
    }
   ],
   "source": [
    "# Imprime la información general/resumida sobre el DataFrame de usuarios\n",
    "users.describe()\n"
   ]
  },
  {
   "cell_type": "code",
   "execution_count": 76,
   "metadata": {
    "id": "1IN1L9uh0q05"
   },
   "outputs": [
    {
     "data": {
      "text/html": [
       "<div>\n",
       "<style scoped>\n",
       "    .dataframe tbody tr th:only-of-type {\n",
       "        vertical-align: middle;\n",
       "    }\n",
       "\n",
       "    .dataframe tbody tr th {\n",
       "        vertical-align: top;\n",
       "    }\n",
       "\n",
       "    .dataframe thead th {\n",
       "        text-align: right;\n",
       "    }\n",
       "</style>\n",
       "<table border=\"1\" class=\"dataframe\">\n",
       "  <thead>\n",
       "    <tr style=\"text-align: right;\">\n",
       "      <th></th>\n",
       "      <th>user_id</th>\n",
       "      <th>first_name</th>\n",
       "      <th>last_name</th>\n",
       "      <th>age</th>\n",
       "      <th>city</th>\n",
       "      <th>reg_date</th>\n",
       "      <th>plan</th>\n",
       "      <th>churn_date</th>\n",
       "    </tr>\n",
       "  </thead>\n",
       "  <tbody>\n",
       "    <tr>\n",
       "      <th>0</th>\n",
       "      <td>1000</td>\n",
       "      <td>Anamaria</td>\n",
       "      <td>Bauer</td>\n",
       "      <td>45</td>\n",
       "      <td>Atlanta-Sandy Springs-Roswell, GA MSA</td>\n",
       "      <td>2018-12-24</td>\n",
       "      <td>ultimate</td>\n",
       "      <td>NaN</td>\n",
       "    </tr>\n",
       "    <tr>\n",
       "      <th>1</th>\n",
       "      <td>1001</td>\n",
       "      <td>Mickey</td>\n",
       "      <td>Wilkerson</td>\n",
       "      <td>28</td>\n",
       "      <td>Seattle-Tacoma-Bellevue, WA MSA</td>\n",
       "      <td>2018-08-13</td>\n",
       "      <td>surf</td>\n",
       "      <td>NaN</td>\n",
       "    </tr>\n",
       "    <tr>\n",
       "      <th>2</th>\n",
       "      <td>1002</td>\n",
       "      <td>Carlee</td>\n",
       "      <td>Hoffman</td>\n",
       "      <td>36</td>\n",
       "      <td>Las Vegas-Henderson-Paradise, NV MSA</td>\n",
       "      <td>2018-10-21</td>\n",
       "      <td>surf</td>\n",
       "      <td>NaN</td>\n",
       "    </tr>\n",
       "    <tr>\n",
       "      <th>3</th>\n",
       "      <td>1003</td>\n",
       "      <td>Reynaldo</td>\n",
       "      <td>Jenkins</td>\n",
       "      <td>52</td>\n",
       "      <td>Tulsa, OK MSA</td>\n",
       "      <td>2018-01-28</td>\n",
       "      <td>surf</td>\n",
       "      <td>NaN</td>\n",
       "    </tr>\n",
       "    <tr>\n",
       "      <th>4</th>\n",
       "      <td>1004</td>\n",
       "      <td>Leonila</td>\n",
       "      <td>Thompson</td>\n",
       "      <td>40</td>\n",
       "      <td>Seattle-Tacoma-Bellevue, WA MSA</td>\n",
       "      <td>2018-05-23</td>\n",
       "      <td>surf</td>\n",
       "      <td>NaN</td>\n",
       "    </tr>\n",
       "  </tbody>\n",
       "</table>\n",
       "</div>"
      ],
      "text/plain": [
       "   user_id first_name  last_name  age                                   city  \\\n",
       "0     1000   Anamaria      Bauer   45  Atlanta-Sandy Springs-Roswell, GA MSA   \n",
       "1     1001     Mickey  Wilkerson   28        Seattle-Tacoma-Bellevue, WA MSA   \n",
       "2     1002     Carlee    Hoffman   36   Las Vegas-Henderson-Paradise, NV MSA   \n",
       "3     1003   Reynaldo    Jenkins   52                          Tulsa, OK MSA   \n",
       "4     1004    Leonila   Thompson   40        Seattle-Tacoma-Bellevue, WA MSA   \n",
       "\n",
       "     reg_date      plan churn_date  \n",
       "0  2018-12-24  ultimate        NaN  \n",
       "1  2018-08-13      surf        NaN  \n",
       "2  2018-10-21      surf        NaN  \n",
       "3  2018-01-28      surf        NaN  \n",
       "4  2018-05-23      surf        NaN  "
      ]
     },
     "execution_count": 76,
     "metadata": {},
     "output_type": "execute_result"
    }
   ],
   "source": [
    "# Imprime una muestra de datos para usuarios\n",
    "users.head()"
   ]
  },
  {
   "cell_type": "markdown",
   "metadata": {
    "id": "dCZoUq4f0q06"
   },
   "source": [
    "\n",
    "Los datos están completos, ya que no presentan valores nulos ni faltantes.\n",
    "no se requieren ajustes adicionales en este aspecto."
   ]
  },
  {
   "cell_type": "markdown",
   "metadata": {
    "id": "BX5FQh_I0q06"
   },
   "source": [
    "### Corregir los datos"
   ]
  },
  {
   "cell_type": "code",
   "execution_count": 77,
   "metadata": {
    "id": "yUqX-K0C0q07"
   },
   "outputs": [],
   "source": [
    "# Convertir 'reg_date' y 'churn_date' a tipo datetime\n",
    "users['reg_date'] = pd.to_datetime(users['reg_date'])\n",
    "users['churn_date'] = pd.to_datetime(users['churn_date'], errors='coerce')"
   ]
  },
  {
   "cell_type": "markdown",
   "metadata": {
    "id": "ycwuARJp0q07"
   },
   "source": [
    "### Enriquecer los datos"
   ]
  },
  {
   "cell_type": "code",
   "execution_count": 78,
   "metadata": {
    "id": "iq0AaBS90q08"
   },
   "outputs": [],
   "source": [
    "# Extraer el año y mes de 'reg_date' y 'churn_date'\n",
    "users['reg_year'] = users['reg_date'].dt.year\n",
    "users['reg_month'] = users['reg_date'].dt.month\n",
    "users['churn_year'] = users['churn_date'].dt.year\n",
    "users['churn_month'] = users['churn_date'].dt.month"
   ]
  },
  {
   "cell_type": "code",
   "execution_count": 79,
   "metadata": {},
   "outputs": [
    {
     "data": {
      "text/plain": [
       "surf        339\n",
       "ultimate    161\n",
       "Name: plan, dtype: int64"
      ]
     },
     "execution_count": 79,
     "metadata": {},
     "output_type": "execute_result"
    }
   ],
   "source": [
    "# Ver la distribución de planes\n",
    "plan_distribution = users['plan'].value_counts()\n",
    "plan_distribution"
   ]
  },
  {
   "cell_type": "code",
   "execution_count": 80,
   "metadata": {},
   "outputs": [
    {
     "data": {
      "text/html": [
       "<div>\n",
       "<style scoped>\n",
       "    .dataframe tbody tr th:only-of-type {\n",
       "        vertical-align: middle;\n",
       "    }\n",
       "\n",
       "    .dataframe tbody tr th {\n",
       "        vertical-align: top;\n",
       "    }\n",
       "\n",
       "    .dataframe thead th {\n",
       "        text-align: right;\n",
       "    }\n",
       "</style>\n",
       "<table border=\"1\" class=\"dataframe\">\n",
       "  <thead>\n",
       "    <tr style=\"text-align: right;\">\n",
       "      <th></th>\n",
       "      <th>user_id</th>\n",
       "      <th>first_name</th>\n",
       "      <th>last_name</th>\n",
       "      <th>age</th>\n",
       "      <th>city</th>\n",
       "      <th>reg_date</th>\n",
       "      <th>plan</th>\n",
       "      <th>churn_date</th>\n",
       "      <th>reg_year</th>\n",
       "      <th>reg_month</th>\n",
       "      <th>churn_year</th>\n",
       "      <th>churn_month</th>\n",
       "    </tr>\n",
       "  </thead>\n",
       "  <tbody>\n",
       "    <tr>\n",
       "      <th>0</th>\n",
       "      <td>1000</td>\n",
       "      <td>Anamaria</td>\n",
       "      <td>Bauer</td>\n",
       "      <td>45</td>\n",
       "      <td>Atlanta-Sandy Springs-Roswell, GA MSA</td>\n",
       "      <td>2018-12-24</td>\n",
       "      <td>ultimate</td>\n",
       "      <td>NaT</td>\n",
       "      <td>2018</td>\n",
       "      <td>12</td>\n",
       "      <td>NaN</td>\n",
       "      <td>NaN</td>\n",
       "    </tr>\n",
       "    <tr>\n",
       "      <th>1</th>\n",
       "      <td>1001</td>\n",
       "      <td>Mickey</td>\n",
       "      <td>Wilkerson</td>\n",
       "      <td>28</td>\n",
       "      <td>Seattle-Tacoma-Bellevue, WA MSA</td>\n",
       "      <td>2018-08-13</td>\n",
       "      <td>surf</td>\n",
       "      <td>NaT</td>\n",
       "      <td>2018</td>\n",
       "      <td>8</td>\n",
       "      <td>NaN</td>\n",
       "      <td>NaN</td>\n",
       "    </tr>\n",
       "    <tr>\n",
       "      <th>2</th>\n",
       "      <td>1002</td>\n",
       "      <td>Carlee</td>\n",
       "      <td>Hoffman</td>\n",
       "      <td>36</td>\n",
       "      <td>Las Vegas-Henderson-Paradise, NV MSA</td>\n",
       "      <td>2018-10-21</td>\n",
       "      <td>surf</td>\n",
       "      <td>NaT</td>\n",
       "      <td>2018</td>\n",
       "      <td>10</td>\n",
       "      <td>NaN</td>\n",
       "      <td>NaN</td>\n",
       "    </tr>\n",
       "    <tr>\n",
       "      <th>3</th>\n",
       "      <td>1003</td>\n",
       "      <td>Reynaldo</td>\n",
       "      <td>Jenkins</td>\n",
       "      <td>52</td>\n",
       "      <td>Tulsa, OK MSA</td>\n",
       "      <td>2018-01-28</td>\n",
       "      <td>surf</td>\n",
       "      <td>NaT</td>\n",
       "      <td>2018</td>\n",
       "      <td>1</td>\n",
       "      <td>NaN</td>\n",
       "      <td>NaN</td>\n",
       "    </tr>\n",
       "    <tr>\n",
       "      <th>4</th>\n",
       "      <td>1004</td>\n",
       "      <td>Leonila</td>\n",
       "      <td>Thompson</td>\n",
       "      <td>40</td>\n",
       "      <td>Seattle-Tacoma-Bellevue, WA MSA</td>\n",
       "      <td>2018-05-23</td>\n",
       "      <td>surf</td>\n",
       "      <td>NaT</td>\n",
       "      <td>2018</td>\n",
       "      <td>5</td>\n",
       "      <td>NaN</td>\n",
       "      <td>NaN</td>\n",
       "    </tr>\n",
       "  </tbody>\n",
       "</table>\n",
       "</div>"
      ],
      "text/plain": [
       "   user_id first_name  last_name  age                                   city  \\\n",
       "0     1000   Anamaria      Bauer   45  Atlanta-Sandy Springs-Roswell, GA MSA   \n",
       "1     1001     Mickey  Wilkerson   28        Seattle-Tacoma-Bellevue, WA MSA   \n",
       "2     1002     Carlee    Hoffman   36   Las Vegas-Henderson-Paradise, NV MSA   \n",
       "3     1003   Reynaldo    Jenkins   52                          Tulsa, OK MSA   \n",
       "4     1004    Leonila   Thompson   40        Seattle-Tacoma-Bellevue, WA MSA   \n",
       "\n",
       "    reg_date      plan churn_date  reg_year  reg_month  churn_year  \\\n",
       "0 2018-12-24  ultimate        NaT      2018         12         NaN   \n",
       "1 2018-08-13      surf        NaT      2018          8         NaN   \n",
       "2 2018-10-21      surf        NaT      2018         10         NaN   \n",
       "3 2018-01-28      surf        NaT      2018          1         NaN   \n",
       "4 2018-05-23      surf        NaT      2018          5         NaN   \n",
       "\n",
       "   churn_month  \n",
       "0          NaN  \n",
       "1          NaN  \n",
       "2          NaN  \n",
       "3          NaN  \n",
       "4          NaN  "
      ]
     },
     "execution_count": 80,
     "metadata": {},
     "output_type": "execute_result"
    }
   ],
   "source": [
    "users.head()"
   ]
  },
  {
   "cell_type": "markdown",
   "metadata": {
    "id": "o7MeKCid0q08"
   },
   "source": [
    "## Llamadas"
   ]
  },
  {
   "cell_type": "code",
   "execution_count": 81,
   "metadata": {
    "id": "6dDlnoDm0q08"
   },
   "outputs": [
    {
     "data": {
      "text/html": [
       "<div>\n",
       "<style scoped>\n",
       "    .dataframe tbody tr th:only-of-type {\n",
       "        vertical-align: middle;\n",
       "    }\n",
       "\n",
       "    .dataframe tbody tr th {\n",
       "        vertical-align: top;\n",
       "    }\n",
       "\n",
       "    .dataframe thead th {\n",
       "        text-align: right;\n",
       "    }\n",
       "</style>\n",
       "<table border=\"1\" class=\"dataframe\">\n",
       "  <thead>\n",
       "    <tr style=\"text-align: right;\">\n",
       "      <th></th>\n",
       "      <th>user_id</th>\n",
       "      <th>duration</th>\n",
       "    </tr>\n",
       "  </thead>\n",
       "  <tbody>\n",
       "    <tr>\n",
       "      <th>count</th>\n",
       "      <td>137735.000000</td>\n",
       "      <td>137735.000000</td>\n",
       "    </tr>\n",
       "    <tr>\n",
       "      <th>mean</th>\n",
       "      <td>1247.658046</td>\n",
       "      <td>6.745927</td>\n",
       "    </tr>\n",
       "    <tr>\n",
       "      <th>std</th>\n",
       "      <td>139.416268</td>\n",
       "      <td>5.839241</td>\n",
       "    </tr>\n",
       "    <tr>\n",
       "      <th>min</th>\n",
       "      <td>1000.000000</td>\n",
       "      <td>0.000000</td>\n",
       "    </tr>\n",
       "    <tr>\n",
       "      <th>25%</th>\n",
       "      <td>1128.000000</td>\n",
       "      <td>1.290000</td>\n",
       "    </tr>\n",
       "    <tr>\n",
       "      <th>50%</th>\n",
       "      <td>1247.000000</td>\n",
       "      <td>5.980000</td>\n",
       "    </tr>\n",
       "    <tr>\n",
       "      <th>75%</th>\n",
       "      <td>1365.000000</td>\n",
       "      <td>10.690000</td>\n",
       "    </tr>\n",
       "    <tr>\n",
       "      <th>max</th>\n",
       "      <td>1499.000000</td>\n",
       "      <td>37.600000</td>\n",
       "    </tr>\n",
       "  </tbody>\n",
       "</table>\n",
       "</div>"
      ],
      "text/plain": [
       "             user_id       duration\n",
       "count  137735.000000  137735.000000\n",
       "mean     1247.658046       6.745927\n",
       "std       139.416268       5.839241\n",
       "min      1000.000000       0.000000\n",
       "25%      1128.000000       1.290000\n",
       "50%      1247.000000       5.980000\n",
       "75%      1365.000000      10.690000\n",
       "max      1499.000000      37.600000"
      ]
     },
     "execution_count": 81,
     "metadata": {},
     "output_type": "execute_result"
    }
   ],
   "source": [
    "# Imprime la información general/resumida sobre el DataFrame de las llamadas\n",
    "calls.describe()\n",
    "\n"
   ]
  },
  {
   "cell_type": "code",
   "execution_count": 82,
   "metadata": {
    "id": "kuh1vlNB0q09"
   },
   "outputs": [
    {
     "data": {
      "text/html": [
       "<div>\n",
       "<style scoped>\n",
       "    .dataframe tbody tr th:only-of-type {\n",
       "        vertical-align: middle;\n",
       "    }\n",
       "\n",
       "    .dataframe tbody tr th {\n",
       "        vertical-align: top;\n",
       "    }\n",
       "\n",
       "    .dataframe thead th {\n",
       "        text-align: right;\n",
       "    }\n",
       "</style>\n",
       "<table border=\"1\" class=\"dataframe\">\n",
       "  <thead>\n",
       "    <tr style=\"text-align: right;\">\n",
       "      <th></th>\n",
       "      <th>id</th>\n",
       "      <th>user_id</th>\n",
       "      <th>call_date</th>\n",
       "      <th>duration</th>\n",
       "    </tr>\n",
       "  </thead>\n",
       "  <tbody>\n",
       "    <tr>\n",
       "      <th>0</th>\n",
       "      <td>1000_93</td>\n",
       "      <td>1000</td>\n",
       "      <td>2018-12-27</td>\n",
       "      <td>8.52</td>\n",
       "    </tr>\n",
       "    <tr>\n",
       "      <th>1</th>\n",
       "      <td>1000_145</td>\n",
       "      <td>1000</td>\n",
       "      <td>2018-12-27</td>\n",
       "      <td>13.66</td>\n",
       "    </tr>\n",
       "    <tr>\n",
       "      <th>2</th>\n",
       "      <td>1000_247</td>\n",
       "      <td>1000</td>\n",
       "      <td>2018-12-27</td>\n",
       "      <td>14.48</td>\n",
       "    </tr>\n",
       "    <tr>\n",
       "      <th>3</th>\n",
       "      <td>1000_309</td>\n",
       "      <td>1000</td>\n",
       "      <td>2018-12-28</td>\n",
       "      <td>5.76</td>\n",
       "    </tr>\n",
       "    <tr>\n",
       "      <th>4</th>\n",
       "      <td>1000_380</td>\n",
       "      <td>1000</td>\n",
       "      <td>2018-12-30</td>\n",
       "      <td>4.22</td>\n",
       "    </tr>\n",
       "  </tbody>\n",
       "</table>\n",
       "</div>"
      ],
      "text/plain": [
       "         id  user_id   call_date  duration\n",
       "0   1000_93     1000  2018-12-27      8.52\n",
       "1  1000_145     1000  2018-12-27     13.66\n",
       "2  1000_247     1000  2018-12-27     14.48\n",
       "3  1000_309     1000  2018-12-28      5.76\n",
       "4  1000_380     1000  2018-12-30      4.22"
      ]
     },
     "execution_count": 82,
     "metadata": {},
     "output_type": "execute_result"
    }
   ],
   "source": [
    "# Imprime una muestra de datos para las llamadas\n",
    "calls.head()\n",
    "\n"
   ]
  },
  {
   "cell_type": "markdown",
   "metadata": {
    "id": "DOAxYJSx0q09"
   },
   "source": [
    "Convertiremos las fechas a formato datetime para facilitar la manipulación de los datos y así poder realizar divisiones mensuales de manera más eficiente."
   ]
  },
  {
   "cell_type": "markdown",
   "metadata": {
    "id": "S7hzxmbX0q0-"
   },
   "source": [
    "### Corregir los datos"
   ]
  },
  {
   "cell_type": "code",
   "execution_count": 83,
   "metadata": {
    "id": "S2r8xA4f0q0-"
   },
   "outputs": [],
   "source": [
    "# Convertir la columna 'call_date' a tipo datetime\n",
    "calls['call_date'] = pd.to_datetime(calls['call_date'])"
   ]
  },
  {
   "cell_type": "markdown",
   "metadata": {
    "id": "KrMgTrlG0q0_"
   },
   "source": [
    "### Enriquecer los datos"
   ]
  },
  {
   "cell_type": "code",
   "execution_count": 84,
   "metadata": {
    "id": "iZ1avpA_0q0_"
   },
   "outputs": [],
   "source": [
    "# Calcular el número total de llamadas por usuario\n",
    "calls['call_count'] = calls.groupby('user_id')['id'].transform('count')"
   ]
  },
  {
   "cell_type": "code",
   "execution_count": 85,
   "metadata": {},
   "outputs": [],
   "source": [
    "# Extraer mes y año de la columna 'call_date'\n",
    "calls['year'] = calls['call_date'].dt.year\n",
    "calls['month'] = calls['call_date'].dt.month\n",
    "calls['duration'] = np.ceil(calls['duration'])"
   ]
  },
  {
   "cell_type": "code",
   "execution_count": 86,
   "metadata": {},
   "outputs": [
    {
     "data": {
      "text/html": [
       "<div>\n",
       "<style scoped>\n",
       "    .dataframe tbody tr th:only-of-type {\n",
       "        vertical-align: middle;\n",
       "    }\n",
       "\n",
       "    .dataframe tbody tr th {\n",
       "        vertical-align: top;\n",
       "    }\n",
       "\n",
       "    .dataframe thead th {\n",
       "        text-align: right;\n",
       "    }\n",
       "</style>\n",
       "<table border=\"1\" class=\"dataframe\">\n",
       "  <thead>\n",
       "    <tr style=\"text-align: right;\">\n",
       "      <th></th>\n",
       "      <th>id</th>\n",
       "      <th>user_id</th>\n",
       "      <th>call_date</th>\n",
       "      <th>duration</th>\n",
       "      <th>call_count</th>\n",
       "      <th>year</th>\n",
       "      <th>month</th>\n",
       "    </tr>\n",
       "  </thead>\n",
       "  <tbody>\n",
       "    <tr>\n",
       "      <th>0</th>\n",
       "      <td>1000_93</td>\n",
       "      <td>1000</td>\n",
       "      <td>2018-12-27</td>\n",
       "      <td>9.0</td>\n",
       "      <td>16</td>\n",
       "      <td>2018</td>\n",
       "      <td>12</td>\n",
       "    </tr>\n",
       "    <tr>\n",
       "      <th>1</th>\n",
       "      <td>1000_145</td>\n",
       "      <td>1000</td>\n",
       "      <td>2018-12-27</td>\n",
       "      <td>14.0</td>\n",
       "      <td>16</td>\n",
       "      <td>2018</td>\n",
       "      <td>12</td>\n",
       "    </tr>\n",
       "    <tr>\n",
       "      <th>2</th>\n",
       "      <td>1000_247</td>\n",
       "      <td>1000</td>\n",
       "      <td>2018-12-27</td>\n",
       "      <td>15.0</td>\n",
       "      <td>16</td>\n",
       "      <td>2018</td>\n",
       "      <td>12</td>\n",
       "    </tr>\n",
       "    <tr>\n",
       "      <th>3</th>\n",
       "      <td>1000_309</td>\n",
       "      <td>1000</td>\n",
       "      <td>2018-12-28</td>\n",
       "      <td>6.0</td>\n",
       "      <td>16</td>\n",
       "      <td>2018</td>\n",
       "      <td>12</td>\n",
       "    </tr>\n",
       "    <tr>\n",
       "      <th>4</th>\n",
       "      <td>1000_380</td>\n",
       "      <td>1000</td>\n",
       "      <td>2018-12-30</td>\n",
       "      <td>5.0</td>\n",
       "      <td>16</td>\n",
       "      <td>2018</td>\n",
       "      <td>12</td>\n",
       "    </tr>\n",
       "  </tbody>\n",
       "</table>\n",
       "</div>"
      ],
      "text/plain": [
       "         id  user_id  call_date  duration  call_count  year  month\n",
       "0   1000_93     1000 2018-12-27       9.0          16  2018     12\n",
       "1  1000_145     1000 2018-12-27      14.0          16  2018     12\n",
       "2  1000_247     1000 2018-12-27      15.0          16  2018     12\n",
       "3  1000_309     1000 2018-12-28       6.0          16  2018     12\n",
       "4  1000_380     1000 2018-12-30       5.0          16  2018     12"
      ]
     },
     "execution_count": 86,
     "metadata": {},
     "output_type": "execute_result"
    }
   ],
   "source": [
    "calls.head()"
   ]
  },
  {
   "cell_type": "markdown",
   "metadata": {
    "id": "mOUZSi180q0_"
   },
   "source": [
    "## Mensajes"
   ]
  },
  {
   "cell_type": "code",
   "execution_count": 87,
   "metadata": {
    "id": "R-bYJpdV0q1A"
   },
   "outputs": [
    {
     "data": {
      "text/html": [
       "<div>\n",
       "<style scoped>\n",
       "    .dataframe tbody tr th:only-of-type {\n",
       "        vertical-align: middle;\n",
       "    }\n",
       "\n",
       "    .dataframe tbody tr th {\n",
       "        vertical-align: top;\n",
       "    }\n",
       "\n",
       "    .dataframe thead th {\n",
       "        text-align: right;\n",
       "    }\n",
       "</style>\n",
       "<table border=\"1\" class=\"dataframe\">\n",
       "  <thead>\n",
       "    <tr style=\"text-align: right;\">\n",
       "      <th></th>\n",
       "      <th>user_id</th>\n",
       "    </tr>\n",
       "  </thead>\n",
       "  <tbody>\n",
       "    <tr>\n",
       "      <th>count</th>\n",
       "      <td>76051.000000</td>\n",
       "    </tr>\n",
       "    <tr>\n",
       "      <th>mean</th>\n",
       "      <td>1245.972768</td>\n",
       "    </tr>\n",
       "    <tr>\n",
       "      <th>std</th>\n",
       "      <td>139.843635</td>\n",
       "    </tr>\n",
       "    <tr>\n",
       "      <th>min</th>\n",
       "      <td>1000.000000</td>\n",
       "    </tr>\n",
       "    <tr>\n",
       "      <th>25%</th>\n",
       "      <td>1123.000000</td>\n",
       "    </tr>\n",
       "    <tr>\n",
       "      <th>50%</th>\n",
       "      <td>1251.000000</td>\n",
       "    </tr>\n",
       "    <tr>\n",
       "      <th>75%</th>\n",
       "      <td>1362.000000</td>\n",
       "    </tr>\n",
       "    <tr>\n",
       "      <th>max</th>\n",
       "      <td>1497.000000</td>\n",
       "    </tr>\n",
       "  </tbody>\n",
       "</table>\n",
       "</div>"
      ],
      "text/plain": [
       "            user_id\n",
       "count  76051.000000\n",
       "mean    1245.972768\n",
       "std      139.843635\n",
       "min     1000.000000\n",
       "25%     1123.000000\n",
       "50%     1251.000000\n",
       "75%     1362.000000\n",
       "max     1497.000000"
      ]
     },
     "execution_count": 87,
     "metadata": {},
     "output_type": "execute_result"
    }
   ],
   "source": [
    "# Imprime la información general/resumida sobre el DataFrame de los mensajes\n",
    "messages.describe()\n",
    "\n"
   ]
  },
  {
   "cell_type": "code",
   "execution_count": 88,
   "metadata": {
    "id": "mCEl2iGE0q1A"
   },
   "outputs": [
    {
     "data": {
      "text/html": [
       "<div>\n",
       "<style scoped>\n",
       "    .dataframe tbody tr th:only-of-type {\n",
       "        vertical-align: middle;\n",
       "    }\n",
       "\n",
       "    .dataframe tbody tr th {\n",
       "        vertical-align: top;\n",
       "    }\n",
       "\n",
       "    .dataframe thead th {\n",
       "        text-align: right;\n",
       "    }\n",
       "</style>\n",
       "<table border=\"1\" class=\"dataframe\">\n",
       "  <thead>\n",
       "    <tr style=\"text-align: right;\">\n",
       "      <th></th>\n",
       "      <th>id</th>\n",
       "      <th>user_id</th>\n",
       "      <th>message_date</th>\n",
       "    </tr>\n",
       "  </thead>\n",
       "  <tbody>\n",
       "    <tr>\n",
       "      <th>0</th>\n",
       "      <td>1000_125</td>\n",
       "      <td>1000</td>\n",
       "      <td>2018-12-27</td>\n",
       "    </tr>\n",
       "    <tr>\n",
       "      <th>1</th>\n",
       "      <td>1000_160</td>\n",
       "      <td>1000</td>\n",
       "      <td>2018-12-31</td>\n",
       "    </tr>\n",
       "    <tr>\n",
       "      <th>2</th>\n",
       "      <td>1000_223</td>\n",
       "      <td>1000</td>\n",
       "      <td>2018-12-31</td>\n",
       "    </tr>\n",
       "    <tr>\n",
       "      <th>3</th>\n",
       "      <td>1000_251</td>\n",
       "      <td>1000</td>\n",
       "      <td>2018-12-27</td>\n",
       "    </tr>\n",
       "    <tr>\n",
       "      <th>4</th>\n",
       "      <td>1000_255</td>\n",
       "      <td>1000</td>\n",
       "      <td>2018-12-26</td>\n",
       "    </tr>\n",
       "  </tbody>\n",
       "</table>\n",
       "</div>"
      ],
      "text/plain": [
       "         id  user_id message_date\n",
       "0  1000_125     1000   2018-12-27\n",
       "1  1000_160     1000   2018-12-31\n",
       "2  1000_223     1000   2018-12-31\n",
       "3  1000_251     1000   2018-12-27\n",
       "4  1000_255     1000   2018-12-26"
      ]
     },
     "execution_count": 88,
     "metadata": {},
     "output_type": "execute_result"
    }
   ],
   "source": [
    "# Imprime una muestra de datos para los mensajes\n",
    "messages.head()\n",
    "\n"
   ]
  },
  {
   "cell_type": "markdown",
   "metadata": {
    "id": "Sprfak900q1B"
   },
   "source": [
    "### Corregir los datos"
   ]
  },
  {
   "cell_type": "code",
   "execution_count": 89,
   "metadata": {
    "id": "vsllvkoa0q1B"
   },
   "outputs": [],
   "source": [
    "# Convertir la columna 'message_date' a tipo datetime\n",
    "messages['message_date'] = pd.to_datetime(messages['message_date'])"
   ]
  },
  {
   "cell_type": "markdown",
   "metadata": {
    "id": "HvLid7iD0q1B"
   },
   "source": [
    "### Enriquecer los datos"
   ]
  },
  {
   "cell_type": "markdown",
   "metadata": {},
   "source": [
    "<div class=\"alert alert-block alert-warning\">\n",
    "<b>Comentario del revisor (1ra Iteración)</b> <a class=“tocSkip”></a>\n",
    "\n",
    "Este proceso de agrupación debes realizarlo en la siguiente sección, ya que en este punto estás repitiendo información. Por eso cuando usas `message.head()` las columnas *message_count* y *month* repiten los valores.\n",
    "\n",
    "</div>"
   ]
  },
  {
   "cell_type": "code",
   "execution_count": 90,
   "metadata": {},
   "outputs": [],
   "source": [
    "# Extraer el año y mes de la columna 'message_date'\n",
    "messages['year'] = messages['message_date'].dt.year\n",
    "messages['month'] = messages['message_date'].dt.month"
   ]
  },
  {
   "cell_type": "code",
   "execution_count": 91,
   "metadata": {},
   "outputs": [
    {
     "data": {
      "text/html": [
       "<div>\n",
       "<style scoped>\n",
       "    .dataframe tbody tr th:only-of-type {\n",
       "        vertical-align: middle;\n",
       "    }\n",
       "\n",
       "    .dataframe tbody tr th {\n",
       "        vertical-align: top;\n",
       "    }\n",
       "\n",
       "    .dataframe thead th {\n",
       "        text-align: right;\n",
       "    }\n",
       "</style>\n",
       "<table border=\"1\" class=\"dataframe\">\n",
       "  <thead>\n",
       "    <tr style=\"text-align: right;\">\n",
       "      <th></th>\n",
       "      <th>id</th>\n",
       "      <th>user_id</th>\n",
       "      <th>message_date</th>\n",
       "      <th>year</th>\n",
       "      <th>month</th>\n",
       "    </tr>\n",
       "  </thead>\n",
       "  <tbody>\n",
       "    <tr>\n",
       "      <th>0</th>\n",
       "      <td>1000_125</td>\n",
       "      <td>1000</td>\n",
       "      <td>2018-12-27</td>\n",
       "      <td>2018</td>\n",
       "      <td>12</td>\n",
       "    </tr>\n",
       "    <tr>\n",
       "      <th>1</th>\n",
       "      <td>1000_160</td>\n",
       "      <td>1000</td>\n",
       "      <td>2018-12-31</td>\n",
       "      <td>2018</td>\n",
       "      <td>12</td>\n",
       "    </tr>\n",
       "    <tr>\n",
       "      <th>2</th>\n",
       "      <td>1000_223</td>\n",
       "      <td>1000</td>\n",
       "      <td>2018-12-31</td>\n",
       "      <td>2018</td>\n",
       "      <td>12</td>\n",
       "    </tr>\n",
       "    <tr>\n",
       "      <th>3</th>\n",
       "      <td>1000_251</td>\n",
       "      <td>1000</td>\n",
       "      <td>2018-12-27</td>\n",
       "      <td>2018</td>\n",
       "      <td>12</td>\n",
       "    </tr>\n",
       "    <tr>\n",
       "      <th>4</th>\n",
       "      <td>1000_255</td>\n",
       "      <td>1000</td>\n",
       "      <td>2018-12-26</td>\n",
       "      <td>2018</td>\n",
       "      <td>12</td>\n",
       "    </tr>\n",
       "  </tbody>\n",
       "</table>\n",
       "</div>"
      ],
      "text/plain": [
       "         id  user_id message_date  year  month\n",
       "0  1000_125     1000   2018-12-27  2018     12\n",
       "1  1000_160     1000   2018-12-31  2018     12\n",
       "2  1000_223     1000   2018-12-31  2018     12\n",
       "3  1000_251     1000   2018-12-27  2018     12\n",
       "4  1000_255     1000   2018-12-26  2018     12"
      ]
     },
     "execution_count": 91,
     "metadata": {},
     "output_type": "execute_result"
    }
   ],
   "source": [
    "messages.head()"
   ]
  },
  {
   "cell_type": "markdown",
   "metadata": {
    "id": "bStkaxn40q1C"
   },
   "source": [
    "## Internet"
   ]
  },
  {
   "cell_type": "code",
   "execution_count": 92,
   "metadata": {
    "id": "e-Uz5qyn0q1C"
   },
   "outputs": [
    {
     "data": {
      "text/html": [
       "<div>\n",
       "<style scoped>\n",
       "    .dataframe tbody tr th:only-of-type {\n",
       "        vertical-align: middle;\n",
       "    }\n",
       "\n",
       "    .dataframe tbody tr th {\n",
       "        vertical-align: top;\n",
       "    }\n",
       "\n",
       "    .dataframe thead th {\n",
       "        text-align: right;\n",
       "    }\n",
       "</style>\n",
       "<table border=\"1\" class=\"dataframe\">\n",
       "  <thead>\n",
       "    <tr style=\"text-align: right;\">\n",
       "      <th></th>\n",
       "      <th>user_id</th>\n",
       "      <th>mb_used</th>\n",
       "    </tr>\n",
       "  </thead>\n",
       "  <tbody>\n",
       "    <tr>\n",
       "      <th>count</th>\n",
       "      <td>104825.000000</td>\n",
       "      <td>104825.000000</td>\n",
       "    </tr>\n",
       "    <tr>\n",
       "      <th>mean</th>\n",
       "      <td>1242.496361</td>\n",
       "      <td>366.713701</td>\n",
       "    </tr>\n",
       "    <tr>\n",
       "      <th>std</th>\n",
       "      <td>142.053913</td>\n",
       "      <td>277.170542</td>\n",
       "    </tr>\n",
       "    <tr>\n",
       "      <th>min</th>\n",
       "      <td>1000.000000</td>\n",
       "      <td>0.000000</td>\n",
       "    </tr>\n",
       "    <tr>\n",
       "      <th>25%</th>\n",
       "      <td>1122.000000</td>\n",
       "      <td>136.080000</td>\n",
       "    </tr>\n",
       "    <tr>\n",
       "      <th>50%</th>\n",
       "      <td>1236.000000</td>\n",
       "      <td>343.980000</td>\n",
       "    </tr>\n",
       "    <tr>\n",
       "      <th>75%</th>\n",
       "      <td>1367.000000</td>\n",
       "      <td>554.610000</td>\n",
       "    </tr>\n",
       "    <tr>\n",
       "      <th>max</th>\n",
       "      <td>1499.000000</td>\n",
       "      <td>1693.470000</td>\n",
       "    </tr>\n",
       "  </tbody>\n",
       "</table>\n",
       "</div>"
      ],
      "text/plain": [
       "             user_id        mb_used\n",
       "count  104825.000000  104825.000000\n",
       "mean     1242.496361     366.713701\n",
       "std       142.053913     277.170542\n",
       "min      1000.000000       0.000000\n",
       "25%      1122.000000     136.080000\n",
       "50%      1236.000000     343.980000\n",
       "75%      1367.000000     554.610000\n",
       "max      1499.000000    1693.470000"
      ]
     },
     "execution_count": 92,
     "metadata": {},
     "output_type": "execute_result"
    }
   ],
   "source": [
    "# Imprime la información general/resumida sobre el DataFrame de internet\n",
    "internet.describe()\n",
    "\n"
   ]
  },
  {
   "cell_type": "code",
   "execution_count": 93,
   "metadata": {
    "id": "9r3x_XLw0q1C"
   },
   "outputs": [
    {
     "data": {
      "text/html": [
       "<div>\n",
       "<style scoped>\n",
       "    .dataframe tbody tr th:only-of-type {\n",
       "        vertical-align: middle;\n",
       "    }\n",
       "\n",
       "    .dataframe tbody tr th {\n",
       "        vertical-align: top;\n",
       "    }\n",
       "\n",
       "    .dataframe thead th {\n",
       "        text-align: right;\n",
       "    }\n",
       "</style>\n",
       "<table border=\"1\" class=\"dataframe\">\n",
       "  <thead>\n",
       "    <tr style=\"text-align: right;\">\n",
       "      <th></th>\n",
       "      <th>id</th>\n",
       "      <th>user_id</th>\n",
       "      <th>session_date</th>\n",
       "      <th>mb_used</th>\n",
       "    </tr>\n",
       "  </thead>\n",
       "  <tbody>\n",
       "    <tr>\n",
       "      <th>0</th>\n",
       "      <td>1000_13</td>\n",
       "      <td>1000</td>\n",
       "      <td>2018-12-29</td>\n",
       "      <td>89.86</td>\n",
       "    </tr>\n",
       "    <tr>\n",
       "      <th>1</th>\n",
       "      <td>1000_204</td>\n",
       "      <td>1000</td>\n",
       "      <td>2018-12-31</td>\n",
       "      <td>0.00</td>\n",
       "    </tr>\n",
       "    <tr>\n",
       "      <th>2</th>\n",
       "      <td>1000_379</td>\n",
       "      <td>1000</td>\n",
       "      <td>2018-12-28</td>\n",
       "      <td>660.40</td>\n",
       "    </tr>\n",
       "    <tr>\n",
       "      <th>3</th>\n",
       "      <td>1000_413</td>\n",
       "      <td>1000</td>\n",
       "      <td>2018-12-26</td>\n",
       "      <td>270.99</td>\n",
       "    </tr>\n",
       "    <tr>\n",
       "      <th>4</th>\n",
       "      <td>1000_442</td>\n",
       "      <td>1000</td>\n",
       "      <td>2018-12-27</td>\n",
       "      <td>880.22</td>\n",
       "    </tr>\n",
       "  </tbody>\n",
       "</table>\n",
       "</div>"
      ],
      "text/plain": [
       "         id  user_id session_date  mb_used\n",
       "0   1000_13     1000   2018-12-29    89.86\n",
       "1  1000_204     1000   2018-12-31     0.00\n",
       "2  1000_379     1000   2018-12-28   660.40\n",
       "3  1000_413     1000   2018-12-26   270.99\n",
       "4  1000_442     1000   2018-12-27   880.22"
      ]
     },
     "execution_count": 93,
     "metadata": {},
     "output_type": "execute_result"
    }
   ],
   "source": [
    "# Imprime una muestra de datos para el tráfico de internet\n",
    "internet.head()\n"
   ]
  },
  {
   "cell_type": "markdown",
   "metadata": {
    "id": "yA0tkPFg0q1D"
   },
   "source": [
    "### Corregir los datos"
   ]
  },
  {
   "cell_type": "code",
   "execution_count": 94,
   "metadata": {
    "id": "zVeanzdd0q1E"
   },
   "outputs": [],
   "source": [
    "# Convertir la columna 'session_date' a tipo datetime\n",
    "internet['session_date'] = pd.to_datetime(internet['session_date'])"
   ]
  },
  {
   "cell_type": "code",
   "execution_count": 95,
   "metadata": {},
   "outputs": [],
   "source": [
    "internet['mb_used'] = internet['mb_used'].astype(float) "
   ]
  },
  {
   "cell_type": "markdown",
   "metadata": {
    "id": "e8_mLF4a0q1E"
   },
   "source": [
    "### Enriquecer los datos"
   ]
  },
  {
   "cell_type": "code",
   "execution_count": 96,
   "metadata": {
    "id": "ESiYPIEK0q1E"
   },
   "outputs": [],
   "source": [
    "# Extraer el año y mes de la columna 'session_date'\n",
    "internet['year'] = internet['session_date'].dt.year\n",
    "internet['month'] = internet['session_date'].dt.month"
   ]
  },
  {
   "cell_type": "code",
   "execution_count": 97,
   "metadata": {},
   "outputs": [],
   "source": [
    "internet['Total_GB_used'] = np.ceil(internet['mb_used']/1024)\n"
   ]
  },
  {
   "cell_type": "code",
   "execution_count": 98,
   "metadata": {},
   "outputs": [
    {
     "data": {
      "text/html": [
       "<div>\n",
       "<style scoped>\n",
       "    .dataframe tbody tr th:only-of-type {\n",
       "        vertical-align: middle;\n",
       "    }\n",
       "\n",
       "    .dataframe tbody tr th {\n",
       "        vertical-align: top;\n",
       "    }\n",
       "\n",
       "    .dataframe thead th {\n",
       "        text-align: right;\n",
       "    }\n",
       "</style>\n",
       "<table border=\"1\" class=\"dataframe\">\n",
       "  <thead>\n",
       "    <tr style=\"text-align: right;\">\n",
       "      <th></th>\n",
       "      <th>id</th>\n",
       "      <th>user_id</th>\n",
       "      <th>session_date</th>\n",
       "      <th>mb_used</th>\n",
       "      <th>year</th>\n",
       "      <th>month</th>\n",
       "      <th>Total_GB_used</th>\n",
       "    </tr>\n",
       "  </thead>\n",
       "  <tbody>\n",
       "    <tr>\n",
       "      <th>0</th>\n",
       "      <td>1000_13</td>\n",
       "      <td>1000</td>\n",
       "      <td>2018-12-29</td>\n",
       "      <td>89.86</td>\n",
       "      <td>2018</td>\n",
       "      <td>12</td>\n",
       "      <td>1.0</td>\n",
       "    </tr>\n",
       "    <tr>\n",
       "      <th>1</th>\n",
       "      <td>1000_204</td>\n",
       "      <td>1000</td>\n",
       "      <td>2018-12-31</td>\n",
       "      <td>0.00</td>\n",
       "      <td>2018</td>\n",
       "      <td>12</td>\n",
       "      <td>0.0</td>\n",
       "    </tr>\n",
       "    <tr>\n",
       "      <th>2</th>\n",
       "      <td>1000_379</td>\n",
       "      <td>1000</td>\n",
       "      <td>2018-12-28</td>\n",
       "      <td>660.40</td>\n",
       "      <td>2018</td>\n",
       "      <td>12</td>\n",
       "      <td>1.0</td>\n",
       "    </tr>\n",
       "    <tr>\n",
       "      <th>3</th>\n",
       "      <td>1000_413</td>\n",
       "      <td>1000</td>\n",
       "      <td>2018-12-26</td>\n",
       "      <td>270.99</td>\n",
       "      <td>2018</td>\n",
       "      <td>12</td>\n",
       "      <td>1.0</td>\n",
       "    </tr>\n",
       "    <tr>\n",
       "      <th>4</th>\n",
       "      <td>1000_442</td>\n",
       "      <td>1000</td>\n",
       "      <td>2018-12-27</td>\n",
       "      <td>880.22</td>\n",
       "      <td>2018</td>\n",
       "      <td>12</td>\n",
       "      <td>1.0</td>\n",
       "    </tr>\n",
       "  </tbody>\n",
       "</table>\n",
       "</div>"
      ],
      "text/plain": [
       "         id  user_id session_date  mb_used  year  month  Total_GB_used\n",
       "0   1000_13     1000   2018-12-29    89.86  2018     12            1.0\n",
       "1  1000_204     1000   2018-12-31     0.00  2018     12            0.0\n",
       "2  1000_379     1000   2018-12-28   660.40  2018     12            1.0\n",
       "3  1000_413     1000   2018-12-26   270.99  2018     12            1.0\n",
       "4  1000_442     1000   2018-12-27   880.22  2018     12            1.0"
      ]
     },
     "execution_count": 98,
     "metadata": {},
     "output_type": "execute_result"
    }
   ],
   "source": [
    "internet.head()"
   ]
  },
  {
   "cell_type": "markdown",
   "metadata": {},
   "source": [
    "En cada uno de los dataframes, pudimos agregar las nuevas columnas necesarias, como el conteo de mensajes, llamadas e internet en GB, para poder calcular cuál es la mejor tarifa."
   ]
  },
  {
   "cell_type": "markdown",
   "metadata": {},
   "source": [
    "<div class=\"alert alert-block alert-success\">\n",
    "<b>Comentario del revisor (1ra Iteración)</b> <a class=“tocSkip”></a>\n",
    "\n",
    "¡Excelente trabajo en el análisis exploratorio de datos! Usaste correctamente las funciones `info` y `head` para revisar la estructura y el contenido de los datos, lo que te permitió realizar los ajustes necesarios. Esto facilitará el análisis de los datos y el desarrollo de las demás etapas del proyecto.\n",
    "\n",
    "\n",
    "</div>"
   ]
  },
  {
   "cell_type": "markdown",
   "metadata": {
    "id": "3UA2cqIW0q1E"
   },
   "source": [
    "## Estudiar las condiciones de las tarifas"
   ]
  },
  {
   "cell_type": "code",
   "execution_count": 99,
   "metadata": {
    "id": "i409op8p0q1F"
   },
   "outputs": [
    {
     "data": {
      "text/html": [
       "<div>\n",
       "<style scoped>\n",
       "    .dataframe tbody tr th:only-of-type {\n",
       "        vertical-align: middle;\n",
       "    }\n",
       "\n",
       "    .dataframe tbody tr th {\n",
       "        vertical-align: top;\n",
       "    }\n",
       "\n",
       "    .dataframe thead th {\n",
       "        text-align: right;\n",
       "    }\n",
       "</style>\n",
       "<table border=\"1\" class=\"dataframe\">\n",
       "  <thead>\n",
       "    <tr style=\"text-align: right;\">\n",
       "      <th></th>\n",
       "      <th>messages_included</th>\n",
       "      <th>mb_per_month_included</th>\n",
       "      <th>minutes_included</th>\n",
       "      <th>usd_monthly_pay</th>\n",
       "      <th>usd_per_gb</th>\n",
       "      <th>usd_per_message</th>\n",
       "      <th>usd_per_minute</th>\n",
       "      <th>plan_name</th>\n",
       "      <th>gb_per_month_included</th>\n",
       "    </tr>\n",
       "  </thead>\n",
       "  <tbody>\n",
       "    <tr>\n",
       "      <th>0</th>\n",
       "      <td>50</td>\n",
       "      <td>15360.0</td>\n",
       "      <td>500</td>\n",
       "      <td>20</td>\n",
       "      <td>10</td>\n",
       "      <td>0.03</td>\n",
       "      <td>0.03</td>\n",
       "      <td>surf</td>\n",
       "      <td>15.0</td>\n",
       "    </tr>\n",
       "    <tr>\n",
       "      <th>1</th>\n",
       "      <td>1000</td>\n",
       "      <td>30720.0</td>\n",
       "      <td>3000</td>\n",
       "      <td>70</td>\n",
       "      <td>7</td>\n",
       "      <td>0.01</td>\n",
       "      <td>0.01</td>\n",
       "      <td>ultimate</td>\n",
       "      <td>30.0</td>\n",
       "    </tr>\n",
       "  </tbody>\n",
       "</table>\n",
       "</div>"
      ],
      "text/plain": [
       "   messages_included  mb_per_month_included  minutes_included  \\\n",
       "0                 50                15360.0               500   \n",
       "1               1000                30720.0              3000   \n",
       "\n",
       "   usd_monthly_pay  usd_per_gb  usd_per_message  usd_per_minute plan_name  \\\n",
       "0               20          10             0.03            0.03      surf   \n",
       "1               70           7             0.01            0.01  ultimate   \n",
       "\n",
       "   gb_per_month_included  \n",
       "0                   15.0  \n",
       "1                   30.0  "
      ]
     },
     "execution_count": 99,
     "metadata": {},
     "output_type": "execute_result"
    }
   ],
   "source": [
    "# Imprime las condiciones de la tarifa y asegúrate de que te quedan claras\n",
    "plans.head()"
   ]
  },
  {
   "cell_type": "markdown",
   "metadata": {
    "id": "hMR1tP5d0q1F"
   },
   "source": [
    "## Agregar datos por usuario\n",
    "\n"
   ]
  },
  {
   "cell_type": "code",
   "execution_count": 100,
   "metadata": {
    "id": "A332cedB0q1G"
   },
   "outputs": [
    {
     "data": {
      "text/html": [
       "<div>\n",
       "<style scoped>\n",
       "    .dataframe tbody tr th:only-of-type {\n",
       "        vertical-align: middle;\n",
       "    }\n",
       "\n",
       "    .dataframe tbody tr th {\n",
       "        vertical-align: top;\n",
       "    }\n",
       "\n",
       "    .dataframe thead th {\n",
       "        text-align: right;\n",
       "    }\n",
       "</style>\n",
       "<table border=\"1\" class=\"dataframe\">\n",
       "  <thead>\n",
       "    <tr style=\"text-align: right;\">\n",
       "      <th></th>\n",
       "      <th>user_id</th>\n",
       "      <th>month</th>\n",
       "      <th>call_count</th>\n",
       "    </tr>\n",
       "  </thead>\n",
       "  <tbody>\n",
       "    <tr>\n",
       "      <th>0</th>\n",
       "      <td>1000</td>\n",
       "      <td>12</td>\n",
       "      <td>16</td>\n",
       "    </tr>\n",
       "    <tr>\n",
       "      <th>1</th>\n",
       "      <td>1001</td>\n",
       "      <td>8</td>\n",
       "      <td>27</td>\n",
       "    </tr>\n",
       "    <tr>\n",
       "      <th>2</th>\n",
       "      <td>1001</td>\n",
       "      <td>9</td>\n",
       "      <td>49</td>\n",
       "    </tr>\n",
       "    <tr>\n",
       "      <th>3</th>\n",
       "      <td>1001</td>\n",
       "      <td>10</td>\n",
       "      <td>65</td>\n",
       "    </tr>\n",
       "    <tr>\n",
       "      <th>4</th>\n",
       "      <td>1001</td>\n",
       "      <td>11</td>\n",
       "      <td>64</td>\n",
       "    </tr>\n",
       "  </tbody>\n",
       "</table>\n",
       "</div>"
      ],
      "text/plain": [
       "   user_id  month  call_count\n",
       "0     1000     12          16\n",
       "1     1001      8          27\n",
       "2     1001      9          49\n",
       "3     1001     10          65\n",
       "4     1001     11          64"
      ]
     },
     "execution_count": 100,
     "metadata": {},
     "output_type": "execute_result"
    }
   ],
   "source": [
    "# Calcula el número de llamadas hechas por cada usuario al mes. Guarda el resultado.\n",
    "# Agrupar por 'user_id' y 'month' y contar las llamadas realizadas\n",
    "calls_per_user_per_month = calls.groupby(['user_id','month'])['call_count'].count().reset_index()\n",
    "\n",
    "# Mostrar el resultado\n",
    "calls_per_user_per_month.head()\n"
   ]
  },
  {
   "cell_type": "code",
   "execution_count": 101,
   "metadata": {},
   "outputs": [],
   "source": [
    "calls['duration']= np.ceil(calls['duration'])"
   ]
  },
  {
   "cell_type": "code",
   "execution_count": 102,
   "metadata": {
    "id": "aw2cmuql0q1G"
   },
   "outputs": [
    {
     "data": {
      "text/html": [
       "<div>\n",
       "<style scoped>\n",
       "    .dataframe tbody tr th:only-of-type {\n",
       "        vertical-align: middle;\n",
       "    }\n",
       "\n",
       "    .dataframe tbody tr th {\n",
       "        vertical-align: top;\n",
       "    }\n",
       "\n",
       "    .dataframe thead th {\n",
       "        text-align: right;\n",
       "    }\n",
       "</style>\n",
       "<table border=\"1\" class=\"dataframe\">\n",
       "  <thead>\n",
       "    <tr style=\"text-align: right;\">\n",
       "      <th></th>\n",
       "      <th>user_id</th>\n",
       "      <th>month</th>\n",
       "      <th>duration</th>\n",
       "    </tr>\n",
       "  </thead>\n",
       "  <tbody>\n",
       "    <tr>\n",
       "      <th>0</th>\n",
       "      <td>1000</td>\n",
       "      <td>12</td>\n",
       "      <td>124.0</td>\n",
       "    </tr>\n",
       "    <tr>\n",
       "      <th>1</th>\n",
       "      <td>1001</td>\n",
       "      <td>8</td>\n",
       "      <td>182.0</td>\n",
       "    </tr>\n",
       "    <tr>\n",
       "      <th>2</th>\n",
       "      <td>1001</td>\n",
       "      <td>9</td>\n",
       "      <td>315.0</td>\n",
       "    </tr>\n",
       "    <tr>\n",
       "      <th>3</th>\n",
       "      <td>1001</td>\n",
       "      <td>10</td>\n",
       "      <td>393.0</td>\n",
       "    </tr>\n",
       "    <tr>\n",
       "      <th>4</th>\n",
       "      <td>1001</td>\n",
       "      <td>11</td>\n",
       "      <td>426.0</td>\n",
       "    </tr>\n",
       "  </tbody>\n",
       "</table>\n",
       "</div>"
      ],
      "text/plain": [
       "   user_id  month  duration\n",
       "0     1000     12     124.0\n",
       "1     1001      8     182.0\n",
       "2     1001      9     315.0\n",
       "3     1001     10     393.0\n",
       "4     1001     11     426.0"
      ]
     },
     "execution_count": 102,
     "metadata": {},
     "output_type": "execute_result"
    }
   ],
   "source": [
    "# Calcula la cantidad de minutos usados por cada usuario al mes. Guarda el resultado.\n",
    "# Agrupar por 'user_id', 'year' y 'month' y sumar los minutos usados\n",
    "minutes_per_user_per_month = calls.groupby(['user_id','month'])['duration'].sum().reset_index()\n",
    "# Mostrar el resultado\n",
    "minutes_per_user_per_month.head()\n"
   ]
  },
  {
   "cell_type": "code",
   "execution_count": 103,
   "metadata": {
    "id": "CcQvNHn60q1G"
   },
   "outputs": [
    {
     "data": {
      "text/html": [
       "<div>\n",
       "<style scoped>\n",
       "    .dataframe tbody tr th:only-of-type {\n",
       "        vertical-align: middle;\n",
       "    }\n",
       "\n",
       "    .dataframe tbody tr th {\n",
       "        vertical-align: top;\n",
       "    }\n",
       "\n",
       "    .dataframe thead th {\n",
       "        text-align: right;\n",
       "    }\n",
       "</style>\n",
       "<table border=\"1\" class=\"dataframe\">\n",
       "  <thead>\n",
       "    <tr style=\"text-align: right;\">\n",
       "      <th></th>\n",
       "      <th>user_id</th>\n",
       "      <th>month</th>\n",
       "      <th>message_count</th>\n",
       "    </tr>\n",
       "  </thead>\n",
       "  <tbody>\n",
       "    <tr>\n",
       "      <th>0</th>\n",
       "      <td>1000</td>\n",
       "      <td>12</td>\n",
       "      <td>11</td>\n",
       "    </tr>\n",
       "    <tr>\n",
       "      <th>1</th>\n",
       "      <td>1001</td>\n",
       "      <td>8</td>\n",
       "      <td>30</td>\n",
       "    </tr>\n",
       "    <tr>\n",
       "      <th>2</th>\n",
       "      <td>1001</td>\n",
       "      <td>9</td>\n",
       "      <td>44</td>\n",
       "    </tr>\n",
       "    <tr>\n",
       "      <th>3</th>\n",
       "      <td>1001</td>\n",
       "      <td>10</td>\n",
       "      <td>53</td>\n",
       "    </tr>\n",
       "    <tr>\n",
       "      <th>4</th>\n",
       "      <td>1001</td>\n",
       "      <td>11</td>\n",
       "      <td>36</td>\n",
       "    </tr>\n",
       "  </tbody>\n",
       "</table>\n",
       "</div>"
      ],
      "text/plain": [
       "   user_id  month  message_count\n",
       "0     1000     12             11\n",
       "1     1001      8             30\n",
       "2     1001      9             44\n",
       "3     1001     10             53\n",
       "4     1001     11             36"
      ]
     },
     "execution_count": 103,
     "metadata": {},
     "output_type": "execute_result"
    }
   ],
   "source": [
    "# Calcula el número de mensajes enviados por cada usuario al mes. Guarda el resultado.\n",
    "# Agrupar por 'user_id', 'year' y 'month' y contar los mensajes enviados\n",
    "messages_per_user_per_month = messages.groupby(['user_id','month'])['id'].count().reset_index()\n",
    "\n",
    "# Mostrar el resultado\n",
    "messages_per_user_per_month.columns=['user_id', 'month', 'message_count']\n",
    "messages_per_user_per_month.head()\n",
    "\n"
   ]
  },
  {
   "cell_type": "markdown",
   "metadata": {},
   "source": [
    "<div class=\"alert alert-block alert-warning\">\n",
    "<b>Comentario del revisor (1ra Iteración)</b> <a class=“tocSkip”></a>\n",
    "\n",
    "En este punnto se observa el problema de haber agrupado los datos de mensaje más arriba, como la información de *message_count* se repetia estás sumando más de los mensajes reales. Puedes cambiar esto cambiando la operación de agrupación de `sum()` a `size()`\n",
    "\n",
    "</div>"
   ]
  },
  {
   "cell_type": "markdown",
   "metadata": {},
   "source": [
    "<div class=\"alert alert-block alert-success\">\n",
    "<b>Comentario del revisor (2da Iteración)</b> <a class=“tocSkip”></a>\n",
    "\n",
    "Excelente Dante ahora el registro de mensajes por usuario es correcto\n",
    "\n",
    "</div>"
   ]
  },
  {
   "cell_type": "code",
   "execution_count": 104,
   "metadata": {},
   "outputs": [],
   "source": [
    "# Calcula el volumen del tráfico de Internet usado por cada usuario al mes. Guarda el resultado.\n",
    "internet_per_user_per_month = internet.groupby(['user_id','month'])['mb_used'].sum().reset_index()"
   ]
  },
  {
   "cell_type": "code",
   "execution_count": 105,
   "metadata": {},
   "outputs": [
    {
     "data": {
      "text/html": [
       "<div>\n",
       "<style scoped>\n",
       "    .dataframe tbody tr th:only-of-type {\n",
       "        vertical-align: middle;\n",
       "    }\n",
       "\n",
       "    .dataframe tbody tr th {\n",
       "        vertical-align: top;\n",
       "    }\n",
       "\n",
       "    .dataframe thead th {\n",
       "        text-align: right;\n",
       "    }\n",
       "</style>\n",
       "<table border=\"1\" class=\"dataframe\">\n",
       "  <thead>\n",
       "    <tr style=\"text-align: right;\">\n",
       "      <th></th>\n",
       "      <th>user_id</th>\n",
       "      <th>month</th>\n",
       "      <th>mb_used</th>\n",
       "    </tr>\n",
       "  </thead>\n",
       "  <tbody>\n",
       "    <tr>\n",
       "      <th>0</th>\n",
       "      <td>1000</td>\n",
       "      <td>12</td>\n",
       "      <td>1901.47</td>\n",
       "    </tr>\n",
       "    <tr>\n",
       "      <th>1</th>\n",
       "      <td>1001</td>\n",
       "      <td>8</td>\n",
       "      <td>6919.15</td>\n",
       "    </tr>\n",
       "    <tr>\n",
       "      <th>2</th>\n",
       "      <td>1001</td>\n",
       "      <td>9</td>\n",
       "      <td>13314.82</td>\n",
       "    </tr>\n",
       "    <tr>\n",
       "      <th>3</th>\n",
       "      <td>1001</td>\n",
       "      <td>10</td>\n",
       "      <td>22330.49</td>\n",
       "    </tr>\n",
       "    <tr>\n",
       "      <th>4</th>\n",
       "      <td>1001</td>\n",
       "      <td>11</td>\n",
       "      <td>18504.30</td>\n",
       "    </tr>\n",
       "  </tbody>\n",
       "</table>\n",
       "</div>"
      ],
      "text/plain": [
       "   user_id  month   mb_used\n",
       "0     1000     12   1901.47\n",
       "1     1001      8   6919.15\n",
       "2     1001      9  13314.82\n",
       "3     1001     10  22330.49\n",
       "4     1001     11  18504.30"
      ]
     },
     "execution_count": 105,
     "metadata": {},
     "output_type": "execute_result"
    }
   ],
   "source": [
    "internet_per_user_per_month.head()"
   ]
  },
  {
   "cell_type": "code",
   "execution_count": 106,
   "metadata": {},
   "outputs": [],
   "source": [
    "internet_per_user_per_month['Total_GB_used'] = np.ceil(internet_per_user_per_month['mb_used']/1024)"
   ]
  },
  {
   "cell_type": "code",
   "execution_count": 107,
   "metadata": {},
   "outputs": [
    {
     "data": {
      "text/html": [
       "<div>\n",
       "<style scoped>\n",
       "    .dataframe tbody tr th:only-of-type {\n",
       "        vertical-align: middle;\n",
       "    }\n",
       "\n",
       "    .dataframe tbody tr th {\n",
       "        vertical-align: top;\n",
       "    }\n",
       "\n",
       "    .dataframe thead th {\n",
       "        text-align: right;\n",
       "    }\n",
       "</style>\n",
       "<table border=\"1\" class=\"dataframe\">\n",
       "  <thead>\n",
       "    <tr style=\"text-align: right;\">\n",
       "      <th></th>\n",
       "      <th>user_id</th>\n",
       "      <th>month</th>\n",
       "      <th>mb_used</th>\n",
       "      <th>Total_GB_used</th>\n",
       "    </tr>\n",
       "  </thead>\n",
       "  <tbody>\n",
       "    <tr>\n",
       "      <th>0</th>\n",
       "      <td>1000</td>\n",
       "      <td>12</td>\n",
       "      <td>1901.47</td>\n",
       "      <td>2.0</td>\n",
       "    </tr>\n",
       "    <tr>\n",
       "      <th>1</th>\n",
       "      <td>1001</td>\n",
       "      <td>8</td>\n",
       "      <td>6919.15</td>\n",
       "      <td>7.0</td>\n",
       "    </tr>\n",
       "    <tr>\n",
       "      <th>2</th>\n",
       "      <td>1001</td>\n",
       "      <td>9</td>\n",
       "      <td>13314.82</td>\n",
       "      <td>14.0</td>\n",
       "    </tr>\n",
       "    <tr>\n",
       "      <th>3</th>\n",
       "      <td>1001</td>\n",
       "      <td>10</td>\n",
       "      <td>22330.49</td>\n",
       "      <td>22.0</td>\n",
       "    </tr>\n",
       "    <tr>\n",
       "      <th>4</th>\n",
       "      <td>1001</td>\n",
       "      <td>11</td>\n",
       "      <td>18504.30</td>\n",
       "      <td>19.0</td>\n",
       "    </tr>\n",
       "  </tbody>\n",
       "</table>\n",
       "</div>"
      ],
      "text/plain": [
       "   user_id  month   mb_used  Total_GB_used\n",
       "0     1000     12   1901.47            2.0\n",
       "1     1001      8   6919.15            7.0\n",
       "2     1001      9  13314.82           14.0\n",
       "3     1001     10  22330.49           22.0\n",
       "4     1001     11  18504.30           19.0"
      ]
     },
     "execution_count": 107,
     "metadata": {},
     "output_type": "execute_result"
    }
   ],
   "source": [
    "internet_per_user_per_month.head()"
   ]
  },
  {
   "cell_type": "code",
   "execution_count": 108,
   "metadata": {},
   "outputs": [],
   "source": [
    "# Fusionar las tablas en un solo DataFrame usando las claves 'user_id' y 'month'\n",
    "combined_data = pd.merge(calls_per_user_per_month, minutes_per_user_per_month, on=['user_id', 'month'], how='inner')\n",
    "combined_data = pd.merge(combined_data, messages_per_user_per_month, on=['user_id', 'month'], how='inner')\n",
    "combined_data = pd.merge(combined_data, internet_per_user_per_month, on=['user_id', 'month'], how='inner')"
   ]
  },
  {
   "cell_type": "code",
   "execution_count": 109,
   "metadata": {},
   "outputs": [
    {
     "data": {
      "text/html": [
       "<div>\n",
       "<style scoped>\n",
       "    .dataframe tbody tr th:only-of-type {\n",
       "        vertical-align: middle;\n",
       "    }\n",
       "\n",
       "    .dataframe tbody tr th {\n",
       "        vertical-align: top;\n",
       "    }\n",
       "\n",
       "    .dataframe thead th {\n",
       "        text-align: right;\n",
       "    }\n",
       "</style>\n",
       "<table border=\"1\" class=\"dataframe\">\n",
       "  <thead>\n",
       "    <tr style=\"text-align: right;\">\n",
       "      <th></th>\n",
       "      <th>user_id</th>\n",
       "      <th>month</th>\n",
       "      <th>call_count</th>\n",
       "      <th>duration</th>\n",
       "      <th>message_count</th>\n",
       "      <th>mb_used</th>\n",
       "      <th>Total_GB_used</th>\n",
       "    </tr>\n",
       "  </thead>\n",
       "  <tbody>\n",
       "    <tr>\n",
       "      <th>0</th>\n",
       "      <td>1000</td>\n",
       "      <td>12</td>\n",
       "      <td>16</td>\n",
       "      <td>124.0</td>\n",
       "      <td>11</td>\n",
       "      <td>1901.47</td>\n",
       "      <td>2.0</td>\n",
       "    </tr>\n",
       "    <tr>\n",
       "      <th>1</th>\n",
       "      <td>1001</td>\n",
       "      <td>8</td>\n",
       "      <td>27</td>\n",
       "      <td>182.0</td>\n",
       "      <td>30</td>\n",
       "      <td>6919.15</td>\n",
       "      <td>7.0</td>\n",
       "    </tr>\n",
       "    <tr>\n",
       "      <th>2</th>\n",
       "      <td>1001</td>\n",
       "      <td>9</td>\n",
       "      <td>49</td>\n",
       "      <td>315.0</td>\n",
       "      <td>44</td>\n",
       "      <td>13314.82</td>\n",
       "      <td>14.0</td>\n",
       "    </tr>\n",
       "    <tr>\n",
       "      <th>3</th>\n",
       "      <td>1001</td>\n",
       "      <td>10</td>\n",
       "      <td>65</td>\n",
       "      <td>393.0</td>\n",
       "      <td>53</td>\n",
       "      <td>22330.49</td>\n",
       "      <td>22.0</td>\n",
       "    </tr>\n",
       "    <tr>\n",
       "      <th>4</th>\n",
       "      <td>1001</td>\n",
       "      <td>11</td>\n",
       "      <td>64</td>\n",
       "      <td>426.0</td>\n",
       "      <td>36</td>\n",
       "      <td>18504.30</td>\n",
       "      <td>19.0</td>\n",
       "    </tr>\n",
       "  </tbody>\n",
       "</table>\n",
       "</div>"
      ],
      "text/plain": [
       "   user_id  month  call_count  duration  message_count   mb_used  \\\n",
       "0     1000     12          16     124.0             11   1901.47   \n",
       "1     1001      8          27     182.0             30   6919.15   \n",
       "2     1001      9          49     315.0             44  13314.82   \n",
       "3     1001     10          65     393.0             53  22330.49   \n",
       "4     1001     11          64     426.0             36  18504.30   \n",
       "\n",
       "   Total_GB_used  \n",
       "0            2.0  \n",
       "1            7.0  \n",
       "2           14.0  \n",
       "3           22.0  \n",
       "4           19.0  "
      ]
     },
     "execution_count": 109,
     "metadata": {},
     "output_type": "execute_result"
    }
   ],
   "source": [
    "combined_data.head()"
   ]
  },
  {
   "cell_type": "code",
   "execution_count": 110,
   "metadata": {},
   "outputs": [],
   "source": [
    "# Añade la información de la tarifa\n",
    "# Añadir la información de la tarifa a partir del DataFrame de 'users' y 'plans'\n",
    "combined_data = combined_data \\\n",
    "    .merge(users[['user_id', 'plan','city']], on='user_id', how='left') \\\n",
    "    .merge(plans[['plan_name', 'usd_monthly_pay','usd_per_gb', 'usd_per_message', 'usd_per_minute','messages_included', 'mb_per_month_included', 'minutes_included']], left_on='plan', right_on='plan_name', how='left') \\\n",
    "    .drop(columns=['plan_name'])  # Eliminar columna duplicada "
   ]
  },
  {
   "cell_type": "code",
   "execution_count": 111,
   "metadata": {},
   "outputs": [
    {
     "data": {
      "text/html": [
       "<div>\n",
       "<style scoped>\n",
       "    .dataframe tbody tr th:only-of-type {\n",
       "        vertical-align: middle;\n",
       "    }\n",
       "\n",
       "    .dataframe tbody tr th {\n",
       "        vertical-align: top;\n",
       "    }\n",
       "\n",
       "    .dataframe thead th {\n",
       "        text-align: right;\n",
       "    }\n",
       "</style>\n",
       "<table border=\"1\" class=\"dataframe\">\n",
       "  <thead>\n",
       "    <tr style=\"text-align: right;\">\n",
       "      <th></th>\n",
       "      <th>user_id</th>\n",
       "      <th>month</th>\n",
       "      <th>call_count</th>\n",
       "      <th>duration</th>\n",
       "      <th>message_count</th>\n",
       "      <th>mb_used</th>\n",
       "      <th>Total_GB_used</th>\n",
       "      <th>plan</th>\n",
       "      <th>city</th>\n",
       "      <th>usd_monthly_pay</th>\n",
       "      <th>usd_per_gb</th>\n",
       "      <th>usd_per_message</th>\n",
       "      <th>usd_per_minute</th>\n",
       "      <th>messages_included</th>\n",
       "      <th>mb_per_month_included</th>\n",
       "      <th>minutes_included</th>\n",
       "    </tr>\n",
       "  </thead>\n",
       "  <tbody>\n",
       "    <tr>\n",
       "      <th>0</th>\n",
       "      <td>1000</td>\n",
       "      <td>12</td>\n",
       "      <td>16</td>\n",
       "      <td>124.0</td>\n",
       "      <td>11</td>\n",
       "      <td>1901.47</td>\n",
       "      <td>2.0</td>\n",
       "      <td>ultimate</td>\n",
       "      <td>Atlanta-Sandy Springs-Roswell, GA MSA</td>\n",
       "      <td>70</td>\n",
       "      <td>7</td>\n",
       "      <td>0.01</td>\n",
       "      <td>0.01</td>\n",
       "      <td>1000</td>\n",
       "      <td>30720.0</td>\n",
       "      <td>3000</td>\n",
       "    </tr>\n",
       "    <tr>\n",
       "      <th>1</th>\n",
       "      <td>1001</td>\n",
       "      <td>8</td>\n",
       "      <td>27</td>\n",
       "      <td>182.0</td>\n",
       "      <td>30</td>\n",
       "      <td>6919.15</td>\n",
       "      <td>7.0</td>\n",
       "      <td>surf</td>\n",
       "      <td>Seattle-Tacoma-Bellevue, WA MSA</td>\n",
       "      <td>20</td>\n",
       "      <td>10</td>\n",
       "      <td>0.03</td>\n",
       "      <td>0.03</td>\n",
       "      <td>50</td>\n",
       "      <td>15360.0</td>\n",
       "      <td>500</td>\n",
       "    </tr>\n",
       "    <tr>\n",
       "      <th>2</th>\n",
       "      <td>1001</td>\n",
       "      <td>9</td>\n",
       "      <td>49</td>\n",
       "      <td>315.0</td>\n",
       "      <td>44</td>\n",
       "      <td>13314.82</td>\n",
       "      <td>14.0</td>\n",
       "      <td>surf</td>\n",
       "      <td>Seattle-Tacoma-Bellevue, WA MSA</td>\n",
       "      <td>20</td>\n",
       "      <td>10</td>\n",
       "      <td>0.03</td>\n",
       "      <td>0.03</td>\n",
       "      <td>50</td>\n",
       "      <td>15360.0</td>\n",
       "      <td>500</td>\n",
       "    </tr>\n",
       "    <tr>\n",
       "      <th>3</th>\n",
       "      <td>1001</td>\n",
       "      <td>10</td>\n",
       "      <td>65</td>\n",
       "      <td>393.0</td>\n",
       "      <td>53</td>\n",
       "      <td>22330.49</td>\n",
       "      <td>22.0</td>\n",
       "      <td>surf</td>\n",
       "      <td>Seattle-Tacoma-Bellevue, WA MSA</td>\n",
       "      <td>20</td>\n",
       "      <td>10</td>\n",
       "      <td>0.03</td>\n",
       "      <td>0.03</td>\n",
       "      <td>50</td>\n",
       "      <td>15360.0</td>\n",
       "      <td>500</td>\n",
       "    </tr>\n",
       "    <tr>\n",
       "      <th>4</th>\n",
       "      <td>1001</td>\n",
       "      <td>11</td>\n",
       "      <td>64</td>\n",
       "      <td>426.0</td>\n",
       "      <td>36</td>\n",
       "      <td>18504.30</td>\n",
       "      <td>19.0</td>\n",
       "      <td>surf</td>\n",
       "      <td>Seattle-Tacoma-Bellevue, WA MSA</td>\n",
       "      <td>20</td>\n",
       "      <td>10</td>\n",
       "      <td>0.03</td>\n",
       "      <td>0.03</td>\n",
       "      <td>50</td>\n",
       "      <td>15360.0</td>\n",
       "      <td>500</td>\n",
       "    </tr>\n",
       "  </tbody>\n",
       "</table>\n",
       "</div>"
      ],
      "text/plain": [
       "   user_id  month  call_count  duration  message_count   mb_used  \\\n",
       "0     1000     12          16     124.0             11   1901.47   \n",
       "1     1001      8          27     182.0             30   6919.15   \n",
       "2     1001      9          49     315.0             44  13314.82   \n",
       "3     1001     10          65     393.0             53  22330.49   \n",
       "4     1001     11          64     426.0             36  18504.30   \n",
       "\n",
       "   Total_GB_used      plan                                   city  \\\n",
       "0            2.0  ultimate  Atlanta-Sandy Springs-Roswell, GA MSA   \n",
       "1            7.0      surf        Seattle-Tacoma-Bellevue, WA MSA   \n",
       "2           14.0      surf        Seattle-Tacoma-Bellevue, WA MSA   \n",
       "3           22.0      surf        Seattle-Tacoma-Bellevue, WA MSA   \n",
       "4           19.0      surf        Seattle-Tacoma-Bellevue, WA MSA   \n",
       "\n",
       "   usd_monthly_pay  usd_per_gb  usd_per_message  usd_per_minute  \\\n",
       "0               70           7             0.01            0.01   \n",
       "1               20          10             0.03            0.03   \n",
       "2               20          10             0.03            0.03   \n",
       "3               20          10             0.03            0.03   \n",
       "4               20          10             0.03            0.03   \n",
       "\n",
       "   messages_included  mb_per_month_included  minutes_included  \n",
       "0               1000                30720.0              3000  \n",
       "1                 50                15360.0               500  \n",
       "2                 50                15360.0               500  \n",
       "3                 50                15360.0               500  \n",
       "4                 50                15360.0               500  "
      ]
     },
     "execution_count": 111,
     "metadata": {},
     "output_type": "execute_result"
    }
   ],
   "source": [
    "# Ver el DataFrame resultante\n",
    "combined_data.head()"
   ]
  },
  {
   "cell_type": "code",
   "execution_count": 112,
   "metadata": {
    "id": "5FGCf_c60q1I"
   },
   "outputs": [],
   "source": [
    "# Fusionar los límites de minutos, mensajes y datos con 'combined_data' desde el DataFrame 'plans'\n",
    "# Función para calcular los ingresos mensuales\n",
    "def calcular_ingresos(row):\n",
    "    # Llamadas\n",
    "    exceso_llamadas = max(0, row['duration'] - row['minutes_included']) * row['usd_per_minute']\n",
    "    \n",
    "    # Mensajes\n",
    "    exceso_mensajes = max(0, row['message_count'] - row['messages_included']) * row['usd_per_message']\n",
    "    \n",
    "    # Datos\n",
    "    exceso_datos = max(0, (row['Total_GB_used'] - row['mb_per_month_included'] / 1024) * row['usd_per_gb'])\n",
    "    \n",
    "    # Ingresos totales\n",
    "    ingresos_mes_extra = row['usd_monthly_pay'] + exceso_llamadas + exceso_mensajes + exceso_datos\n",
    "    return ingresos_mes_extra\n"
   ]
  },
  {
   "cell_type": "markdown",
   "metadata": {},
   "source": [
    "<div class=\"alert alert-block alert-danger\">\n",
    "<b>Comentario del revisor (1ra Iteración)</b> <a class=“tocSkip”></a>\n",
    "\n",
    "De acuerdo con el enunciado, el cobro de consumo de internet extra se hacer por cada GB adicional al plan, debes hacer la estimación en esa escala (GB), es decir usando la columna **Total_GB_used** que ya calculaste\n",
    "\n",
    "Entonces este valor de GB consumidas o lo debes comparar con los 15GB o 30GB que incluye cada plan, de esta forma la diferencia te dará un número entero, que en el caso de que indique que el usuario consumió más de los GB incluidos en el plan se le haga el cobro respectivo.\n",
    "\n",
    "</div>"
   ]
  },
  {
   "cell_type": "markdown",
   "metadata": {},
   "source": [
    "<div class=\"alert alert-block alert-success\">\n",
    "<b>Comentario del revisor (2da Iteración)</b> <a class=“tocSkip”></a>\n",
    "\n",
    "Excelente Dante, el cálculo del consumno de internet es correcto\n",
    "\n",
    "</div>"
   ]
  },
  {
   "cell_type": "code",
   "execution_count": 113,
   "metadata": {
    "scrolled": false
   },
   "outputs": [],
   "source": [
    "# Aplicar la función para calcular el ingreso mensual\n",
    "combined_data['ingresos_mes_extra'] = combined_data.apply(calcular_ingresos, axis=1)"
   ]
  },
  {
   "cell_type": "code",
   "execution_count": 114,
   "metadata": {
    "scrolled": true
   },
   "outputs": [
    {
     "data": {
      "text/html": [
       "<div>\n",
       "<style scoped>\n",
       "    .dataframe tbody tr th:only-of-type {\n",
       "        vertical-align: middle;\n",
       "    }\n",
       "\n",
       "    .dataframe tbody tr th {\n",
       "        vertical-align: top;\n",
       "    }\n",
       "\n",
       "    .dataframe thead th {\n",
       "        text-align: right;\n",
       "    }\n",
       "</style>\n",
       "<table border=\"1\" class=\"dataframe\">\n",
       "  <thead>\n",
       "    <tr style=\"text-align: right;\">\n",
       "      <th></th>\n",
       "      <th>user_id</th>\n",
       "      <th>month</th>\n",
       "      <th>call_count</th>\n",
       "      <th>duration</th>\n",
       "      <th>message_count</th>\n",
       "      <th>mb_used</th>\n",
       "      <th>Total_GB_used</th>\n",
       "      <th>plan</th>\n",
       "      <th>city</th>\n",
       "      <th>usd_monthly_pay</th>\n",
       "      <th>usd_per_gb</th>\n",
       "      <th>usd_per_message</th>\n",
       "      <th>usd_per_minute</th>\n",
       "      <th>messages_included</th>\n",
       "      <th>mb_per_month_included</th>\n",
       "      <th>minutes_included</th>\n",
       "      <th>ingresos_mes_extra</th>\n",
       "    </tr>\n",
       "  </thead>\n",
       "  <tbody>\n",
       "    <tr>\n",
       "      <th>0</th>\n",
       "      <td>1000</td>\n",
       "      <td>12</td>\n",
       "      <td>16</td>\n",
       "      <td>124.0</td>\n",
       "      <td>11</td>\n",
       "      <td>1901.47</td>\n",
       "      <td>2.0</td>\n",
       "      <td>ultimate</td>\n",
       "      <td>Atlanta-Sandy Springs-Roswell, GA MSA</td>\n",
       "      <td>70</td>\n",
       "      <td>7</td>\n",
       "      <td>0.01</td>\n",
       "      <td>0.01</td>\n",
       "      <td>1000</td>\n",
       "      <td>30720.0</td>\n",
       "      <td>3000</td>\n",
       "      <td>70.00</td>\n",
       "    </tr>\n",
       "    <tr>\n",
       "      <th>1</th>\n",
       "      <td>1001</td>\n",
       "      <td>8</td>\n",
       "      <td>27</td>\n",
       "      <td>182.0</td>\n",
       "      <td>30</td>\n",
       "      <td>6919.15</td>\n",
       "      <td>7.0</td>\n",
       "      <td>surf</td>\n",
       "      <td>Seattle-Tacoma-Bellevue, WA MSA</td>\n",
       "      <td>20</td>\n",
       "      <td>10</td>\n",
       "      <td>0.03</td>\n",
       "      <td>0.03</td>\n",
       "      <td>50</td>\n",
       "      <td>15360.0</td>\n",
       "      <td>500</td>\n",
       "      <td>20.00</td>\n",
       "    </tr>\n",
       "    <tr>\n",
       "      <th>2</th>\n",
       "      <td>1001</td>\n",
       "      <td>9</td>\n",
       "      <td>49</td>\n",
       "      <td>315.0</td>\n",
       "      <td>44</td>\n",
       "      <td>13314.82</td>\n",
       "      <td>14.0</td>\n",
       "      <td>surf</td>\n",
       "      <td>Seattle-Tacoma-Bellevue, WA MSA</td>\n",
       "      <td>20</td>\n",
       "      <td>10</td>\n",
       "      <td>0.03</td>\n",
       "      <td>0.03</td>\n",
       "      <td>50</td>\n",
       "      <td>15360.0</td>\n",
       "      <td>500</td>\n",
       "      <td>20.00</td>\n",
       "    </tr>\n",
       "    <tr>\n",
       "      <th>3</th>\n",
       "      <td>1001</td>\n",
       "      <td>10</td>\n",
       "      <td>65</td>\n",
       "      <td>393.0</td>\n",
       "      <td>53</td>\n",
       "      <td>22330.49</td>\n",
       "      <td>22.0</td>\n",
       "      <td>surf</td>\n",
       "      <td>Seattle-Tacoma-Bellevue, WA MSA</td>\n",
       "      <td>20</td>\n",
       "      <td>10</td>\n",
       "      <td>0.03</td>\n",
       "      <td>0.03</td>\n",
       "      <td>50</td>\n",
       "      <td>15360.0</td>\n",
       "      <td>500</td>\n",
       "      <td>90.09</td>\n",
       "    </tr>\n",
       "    <tr>\n",
       "      <th>4</th>\n",
       "      <td>1001</td>\n",
       "      <td>11</td>\n",
       "      <td>64</td>\n",
       "      <td>426.0</td>\n",
       "      <td>36</td>\n",
       "      <td>18504.30</td>\n",
       "      <td>19.0</td>\n",
       "      <td>surf</td>\n",
       "      <td>Seattle-Tacoma-Bellevue, WA MSA</td>\n",
       "      <td>20</td>\n",
       "      <td>10</td>\n",
       "      <td>0.03</td>\n",
       "      <td>0.03</td>\n",
       "      <td>50</td>\n",
       "      <td>15360.0</td>\n",
       "      <td>500</td>\n",
       "      <td>60.00</td>\n",
       "    </tr>\n",
       "  </tbody>\n",
       "</table>\n",
       "</div>"
      ],
      "text/plain": [
       "   user_id  month  call_count  duration  message_count   mb_used  \\\n",
       "0     1000     12          16     124.0             11   1901.47   \n",
       "1     1001      8          27     182.0             30   6919.15   \n",
       "2     1001      9          49     315.0             44  13314.82   \n",
       "3     1001     10          65     393.0             53  22330.49   \n",
       "4     1001     11          64     426.0             36  18504.30   \n",
       "\n",
       "   Total_GB_used      plan                                   city  \\\n",
       "0            2.0  ultimate  Atlanta-Sandy Springs-Roswell, GA MSA   \n",
       "1            7.0      surf        Seattle-Tacoma-Bellevue, WA MSA   \n",
       "2           14.0      surf        Seattle-Tacoma-Bellevue, WA MSA   \n",
       "3           22.0      surf        Seattle-Tacoma-Bellevue, WA MSA   \n",
       "4           19.0      surf        Seattle-Tacoma-Bellevue, WA MSA   \n",
       "\n",
       "   usd_monthly_pay  usd_per_gb  usd_per_message  usd_per_minute  \\\n",
       "0               70           7             0.01            0.01   \n",
       "1               20          10             0.03            0.03   \n",
       "2               20          10             0.03            0.03   \n",
       "3               20          10             0.03            0.03   \n",
       "4               20          10             0.03            0.03   \n",
       "\n",
       "   messages_included  mb_per_month_included  minutes_included  \\\n",
       "0               1000                30720.0              3000   \n",
       "1                 50                15360.0               500   \n",
       "2                 50                15360.0               500   \n",
       "3                 50                15360.0               500   \n",
       "4                 50                15360.0               500   \n",
       "\n",
       "   ingresos_mes_extra  \n",
       "0               70.00  \n",
       "1               20.00  \n",
       "2               20.00  \n",
       "3               90.09  \n",
       "4               60.00  "
      ]
     },
     "execution_count": 114,
     "metadata": {},
     "output_type": "execute_result"
    }
   ],
   "source": [
    "combined_data.head()"
   ]
  },
  {
   "cell_type": "markdown",
   "metadata": {},
   "source": [
    "<div class=\"alert alert-block alert-warning\">\n",
    "<b>Comentario del revisor (1ra Iteración)</b> <a class=“tocSkip”></a>\n",
    "\n",
    "La lógica de cálculo del cobro mensual es correcta en general, solo necesitas ajustar los valores de consumo de mensajes y asegúrate de hacer la estimación del cobro por el consumo de internet comparando los datos en GB, además es importante considerar el plan de cada usuario, el costo del plan base y los cargos por consumos adicionales para calcular correctamente el monto final.\n",
    "\n",
    "</div>"
   ]
  },
  {
   "cell_type": "markdown",
   "metadata": {},
   "source": [
    "<div class=\"alert alert-block alert-success\">\n",
    "<b>Comentario del revisor (2da Iteración)</b> <a class=“tocSkip”></a>\n",
    "\n",
    "Perfecto, los valores de cobro mensual son los esperados,\n",
    "\n",
    "</div>"
   ]
  },
  {
   "cell_type": "markdown",
   "metadata": {
    "id": "-jtyHzJb0q1I"
   },
   "source": [
    "## Estudia el comportamiento de usuario"
   ]
  },
  {
   "cell_type": "markdown",
   "metadata": {
    "id": "vtW4CJEe0q1J"
   },
   "source": [
    "### Llamadas"
   ]
  },
  {
   "cell_type": "code",
   "execution_count": 115,
   "metadata": {
    "id": "Jf5v5--k0q1J"
   },
   "outputs": [
    {
     "data": {
      "image/png": "[encoded data removed]",
      "text/plain": [
       "<Figure size 1000x600 with 1 Axes>"
      ]
     },
     "metadata": {},
     "output_type": "display_data"
    }
   ],
   "source": [
    "# Compara la duración promedio de llamadas por cada plan y por cada mes. Traza un gráfico de barras para visualizarla.\n",
    "# Duración promedio de llamadas por cada plan y mes\n",
    "avg_duration_per_plan_month = combined_data.groupby(['plan', 'month'])['duration'].mean().reset_index()\n",
    "\n",
    "# Graficar la duración promedio de llamadas por cada plan y mes\n",
    "plt.figure(figsize=(10,6))\n",
    "sns.barplot(data=avg_duration_per_plan_month, x='month', y='duration', hue='plan', palette='Set1')\n",
    "plt.title('Duración Promedio de Llamadas por Plan y Mes')\n",
    "plt.xlabel('Mes')\n",
    "plt.ylabel('Duración Promedio de Llamadas (minutos)')\n",
    "plt.legend(title='Plan')\n",
    "plt.xticks(rotation=45)\n",
    "plt.tight_layout()\n",
    "plt.show()\n",
    "\n"
   ]
  },
  {
   "cell_type": "code",
   "execution_count": 116,
   "metadata": {
    "id": "QoLqW1S_0q1J",
    "scrolled": false
   },
   "outputs": [
    {
     "name": "stderr",
     "output_type": "stream",
     "text": [
      "No handles with labels found to put in legend.\n"
     ]
    },
    {
     "data": {
      "image/png": "[encoded data removed]",
      "text/plain": [
       "<Figure size 1000x600 with 1 Axes>"
      ]
     },
     "metadata": {},
     "output_type": "display_data"
    }
   ],
   "source": [
    "# Histograma de los minutos mensuales por plan\n",
    "plt.figure(figsize=(10,6))\n",
    "sns.histplot(data=combined_data, x='duration', hue='plan', kde=True, bins=20, palette='Set1')\n",
    "plt.title('Distribución de Minutos Mensuales por Plan')\n",
    "plt.xlabel('Minutos')\n",
    "plt.ylabel('Frecuencia')\n",
    "plt.legend(title='Plan')\n",
    "plt.tight_layout()\n",
    "plt.show()\n",
    "\n"
   ]
  },
  {
   "cell_type": "code",
   "execution_count": 117,
   "metadata": {
    "id": "oSndbAnt0q1K"
   },
   "outputs": [
    {
     "data": {
      "text/html": [
       "<div>\n",
       "<style scoped>\n",
       "    .dataframe tbody tr th:only-of-type {\n",
       "        vertical-align: middle;\n",
       "    }\n",
       "\n",
       "    .dataframe tbody tr th {\n",
       "        vertical-align: top;\n",
       "    }\n",
       "\n",
       "    .dataframe thead th {\n",
       "        text-align: right;\n",
       "    }\n",
       "</style>\n",
       "<table border=\"1\" class=\"dataframe\">\n",
       "  <thead>\n",
       "    <tr style=\"text-align: right;\">\n",
       "      <th></th>\n",
       "      <th>plan</th>\n",
       "      <th>mean</th>\n",
       "      <th>var</th>\n",
       "    </tr>\n",
       "  </thead>\n",
       "  <tbody>\n",
       "    <tr>\n",
       "      <th>0</th>\n",
       "      <td>surf</td>\n",
       "      <td>445.775424</td>\n",
       "      <td>55321.412627</td>\n",
       "    </tr>\n",
       "    <tr>\n",
       "      <th>1</th>\n",
       "      <td>ultimate</td>\n",
       "      <td>442.512953</td>\n",
       "      <td>62288.399053</td>\n",
       "    </tr>\n",
       "  </tbody>\n",
       "</table>\n",
       "</div>"
      ],
      "text/plain": [
       "       plan        mean           var\n",
       "0      surf  445.775424  55321.412627\n",
       "1  ultimate  442.512953  62288.399053"
      ]
     },
     "execution_count": 117,
     "metadata": {},
     "output_type": "execute_result"
    }
   ],
   "source": [
    "# Calcula la media y la varianza de la duración mensual de llamadas.\n",
    "call_duration_stats = combined_data.groupby('plan')['duration'].agg(['mean', 'var']).reset_index()\n",
    "call_duration_stats"
   ]
  },
  {
   "cell_type": "code",
   "execution_count": 118,
   "metadata": {
    "id": "nZzoRUKc0q1K"
   },
   "outputs": [
    {
     "data": {
      "image/png": "[encoded data removed]",
      "text/plain": [
       "<Figure size 1000x600 with 1 Axes>"
      ]
     },
     "metadata": {},
     "output_type": "display_data"
    }
   ],
   "source": [
    "# Traza un diagrama de caja para visualizar la distribución de la duración mensual de llamadas\n",
    "# Graficar la distribución de la duración mensual de llamadas con un diagrama de caja\n",
    "plt.figure(figsize=(10,6))\n",
    "sns.boxplot(data=combined_data, x='plan', y='duration', palette='Set1')\n",
    "plt.title('Distribución de la Duración Mensual de Llamadas por Plan')\n",
    "plt.xlabel('Plan')\n",
    "plt.ylabel('Duración de Llamadas (minutos)')\n",
    "plt.tight_layout()\n",
    "plt.show()\n"
   ]
  },
  {
   "cell_type": "markdown",
   "metadata": {
    "id": "r627zBO50q1K"
   },
   "source": [
    "Las llamadas parecen comportarse de la misma manera en ambos planes. Se observa que algunos usuarios generan cargos adicionales, pero en este caso, la diferencia no se debe al tipo de paquete, ya que entre Surf y Ultimate los ingresos extra son casi iguales."
   ]
  },
  {
   "cell_type": "markdown",
   "metadata": {
    "id": "8idKy8Wh0q1L"
   },
   "source": [
    "### Mensajes"
   ]
  },
  {
   "cell_type": "code",
   "execution_count": 119,
   "metadata": {},
   "outputs": [
    {
     "data": {
      "text/html": [
       "<div>\n",
       "<style scoped>\n",
       "    .dataframe tbody tr th:only-of-type {\n",
       "        vertical-align: middle;\n",
       "    }\n",
       "\n",
       "    .dataframe tbody tr th {\n",
       "        vertical-align: top;\n",
       "    }\n",
       "\n",
       "    .dataframe thead th {\n",
       "        text-align: right;\n",
       "    }\n",
       "</style>\n",
       "<table border=\"1\" class=\"dataframe\">\n",
       "  <thead>\n",
       "    <tr style=\"text-align: right;\">\n",
       "      <th></th>\n",
       "      <th>plan</th>\n",
       "      <th>mean</th>\n",
       "      <th>var</th>\n",
       "    </tr>\n",
       "  </thead>\n",
       "  <tbody>\n",
       "    <tr>\n",
       "      <th>0</th>\n",
       "      <td>surf</td>\n",
       "      <td>39.489831</td>\n",
       "      <td>1044.217878</td>\n",
       "    </tr>\n",
       "    <tr>\n",
       "      <th>1</th>\n",
       "      <td>ultimate</td>\n",
       "      <td>46.455959</td>\n",
       "      <td>1084.393818</td>\n",
       "    </tr>\n",
       "  </tbody>\n",
       "</table>\n",
       "</div>"
      ],
      "text/plain": [
       "       plan       mean          var\n",
       "0      surf  39.489831  1044.217878\n",
       "1  ultimate  46.455959  1084.393818"
      ]
     },
     "execution_count": 119,
     "metadata": {},
     "output_type": "execute_result"
    }
   ],
   "source": [
    "message_stats= combined_data.groupby('plan')['message_count'].agg(['mean', 'var']).reset_index()\n",
    "message_stats"
   ]
  },
  {
   "cell_type": "code",
   "execution_count": 120,
   "metadata": {
    "id": "NXLxiTit0q1L"
   },
   "outputs": [
    {
     "data": {
      "image/png": "[encoded data removed]",
      "text/plain": [
       "<Figure size 1000x600 with 1 Axes>"
      ]
     },
     "metadata": {},
     "output_type": "display_data"
    }
   ],
   "source": [
    "# Comprara el número de mensajes que tienden a enviar cada mes los usuarios de cada plan\n",
    "plt.figure(figsize=(10,6))\n",
    "\n",
    "# Gráfico de barras\n",
    "sns.boxplot(data=combined_data, x='plan', y='message_count', palette='Set1')\n",
    "\n",
    "# Título y etiquetas\n",
    "plt.title('Distribución del Número de Mensajes Enviados por Plan')\n",
    "plt.xlabel('Plan')\n",
    "plt.ylabel('Número de Mensajes Enviados')\n",
    "\n",
    "# Ajustar el layout para que todo se vea bien\n",
    "plt.tight_layout()\n",
    "\n",
    "# Mostrar el gráfico\n",
    "plt.show()\n",
    "\n"
   ]
  },
  {
   "cell_type": "markdown",
   "metadata": {
    "id": "390SSL480q1M"
   },
   "source": [
    "En cuanto a los mensajes, parece ser la mejor manera de generar ingresos adicionales, especialmente en el plan Surf, ya que ofrece una menor cantidad de mensajes y parece que nuestros usuarios se comunican en gran medida a través de mensajes de texto."
   ]
  },
  {
   "cell_type": "markdown",
   "metadata": {
    "id": "42YSypXz0q1M"
   },
   "source": [
    "### Internet"
   ]
  },
  {
   "cell_type": "code",
   "execution_count": 121,
   "metadata": {},
   "outputs": [
    {
     "data": {
      "text/html": [
       "<div>\n",
       "<style scoped>\n",
       "    .dataframe tbody tr th:only-of-type {\n",
       "        vertical-align: middle;\n",
       "    }\n",
       "\n",
       "    .dataframe tbody tr th {\n",
       "        vertical-align: top;\n",
       "    }\n",
       "\n",
       "    .dataframe thead th {\n",
       "        text-align: right;\n",
       "    }\n",
       "</style>\n",
       "<table border=\"1\" class=\"dataframe\">\n",
       "  <thead>\n",
       "    <tr style=\"text-align: right;\">\n",
       "      <th></th>\n",
       "      <th>plan</th>\n",
       "      <th>mean</th>\n",
       "      <th>var</th>\n",
       "    </tr>\n",
       "  </thead>\n",
       "  <tbody>\n",
       "    <tr>\n",
       "      <th>0</th>\n",
       "      <td>surf</td>\n",
       "      <td>16.752542</td>\n",
       "      <td>57.012504</td>\n",
       "    </tr>\n",
       "    <tr>\n",
       "      <th>1</th>\n",
       "      <td>ultimate</td>\n",
       "      <td>17.343696</td>\n",
       "      <td>56.174056</td>\n",
       "    </tr>\n",
       "  </tbody>\n",
       "</table>\n",
       "</div>"
      ],
      "text/plain": [
       "       plan       mean        var\n",
       "0      surf  16.752542  57.012504\n",
       "1  ultimate  17.343696  56.174056"
      ]
     },
     "execution_count": 121,
     "metadata": {},
     "output_type": "execute_result"
    }
   ],
   "source": [
    "internet_stats= combined_data.groupby('plan')['Total_GB_used'].agg(['mean', 'var']).reset_index()\n",
    "internet_stats"
   ]
  },
  {
   "cell_type": "code",
   "execution_count": 122,
   "metadata": {
    "id": "lSuKPtjh0q1M"
   },
   "outputs": [
    {
     "data": {
      "image/png": "[encoded data removed]",
      "text/plain": [
       "<Figure size 1000x600 with 1 Axes>"
      ]
     },
     "metadata": {},
     "output_type": "display_data"
    }
   ],
   "source": [
    "# Compara la cantidad de tráfico de Internet consumido por usuarios por plan\n",
    "# Gráfico de cajas para comparar el tráfico de Internet consumido por los usuarios de cada plan\n",
    "plt.figure(figsize=(10,6))\n",
    "\n",
    "# Gráfico de cajas\n",
    "sns.boxplot(data=combined_data, x='plan', y='Total_GB_used', palette='Set1')\n",
    "\n",
    "# Título y etiquetas\n",
    "plt.title('Distribución del Tráfico de Internet Consumido por Plan')\n",
    "plt.xlabel('Plan')\n",
    "plt.ylabel('Tráfico de Internet Consumido (GB)')\n",
    "\n",
    "# Ajustar el layout para que todo se vea bien\n",
    "plt.tight_layout()\n",
    "\n",
    "# Mostrar el gráfico\n",
    "plt.show()"
   ]
  },
  {
   "cell_type": "markdown",
   "metadata": {
    "id": "5VlyJ9ry0q1N"
   },
   "source": [
    "El tráfico de internet entre ambos planes es muy similar, y los cargos adicionales en internet parecen ser menores en comparación con otras áreas. "
   ]
  },
  {
   "cell_type": "markdown",
   "metadata": {
    "id": "tCijq3260q1N"
   },
   "source": [
    "## Ingreso"
   ]
  },
  {
   "cell_type": "code",
   "execution_count": 123,
   "metadata": {
    "id": "tz-dq_V00q1O"
   },
   "outputs": [
    {
     "data": {
      "text/html": [
       "<div>\n",
       "<style scoped>\n",
       "    .dataframe tbody tr th:only-of-type {\n",
       "        vertical-align: middle;\n",
       "    }\n",
       "\n",
       "    .dataframe tbody tr th {\n",
       "        vertical-align: top;\n",
       "    }\n",
       "\n",
       "    .dataframe thead th {\n",
       "        text-align: right;\n",
       "    }\n",
       "</style>\n",
       "<table border=\"1\" class=\"dataframe\">\n",
       "  <thead>\n",
       "    <tr style=\"text-align: right;\">\n",
       "      <th></th>\n",
       "      <th>plan</th>\n",
       "      <th>mean</th>\n",
       "      <th>var</th>\n",
       "    </tr>\n",
       "  </thead>\n",
       "  <tbody>\n",
       "    <tr>\n",
       "      <th>0</th>\n",
       "      <td>surf</td>\n",
       "      <td>60.415839</td>\n",
       "      <td>2872.503215</td>\n",
       "    </tr>\n",
       "    <tr>\n",
       "      <th>1</th>\n",
       "      <td>ultimate</td>\n",
       "      <td>72.248705</td>\n",
       "      <td>121.758108</td>\n",
       "    </tr>\n",
       "  </tbody>\n",
       "</table>\n",
       "</div>"
      ],
      "text/plain": [
       "       plan       mean          var\n",
       "0      surf  60.415839  2872.503215\n",
       "1  ultimate  72.248705   121.758108"
      ]
     },
     "execution_count": 123,
     "metadata": {},
     "output_type": "execute_result"
    }
   ],
   "source": [
    "internet_stats= combined_data.groupby('plan')['ingresos_mes_extra'].agg(['mean', 'var']).reset_index()\n",
    "internet_stats"
   ]
  },
  {
   "cell_type": "code",
   "execution_count": 124,
   "metadata": {
    "id": "0Y1v8ZUz0q1P"
   },
   "outputs": [
    {
     "data": {
      "image/png": "[encoded data removed]",
      "text/plain": [
       "<Figure size 1000x600 with 1 Axes>"
      ]
     },
     "metadata": {},
     "output_type": "display_data"
    }
   ],
   "source": [
    "plt.figure(figsize=(10,6))\n",
    "sns.boxplot(data=combined_data, x='plan', y='ingresos_mes_extra', palette='Set1')\n",
    "plt.title('Distribución de los Ingresos por Plan')\n",
    "plt.xlabel('Plan')\n",
    "plt.ylabel('Ingresos Mensuales Extra (USD)')\n",
    "plt.tight_layout()\n",
    "plt.show()"
   ]
  },
  {
   "cell_type": "code",
   "execution_count": 129,
   "metadata": {},
   "outputs": [
    {
     "data": {
      "text/plain": [
       "plan\n",
       "surf        71290.69\n",
       "ultimate    41832.00\n",
       "Name: ingresos_mes_extra, dtype: float64"
      ]
     },
     "execution_count": 129,
     "metadata": {},
     "output_type": "execute_result"
    }
   ],
   "source": [
    "combined_data.groupby('plan')['ingresos_mes_extra'].sum()"
   ]
  },
  {
   "cell_type": "markdown",
   "metadata": {
    "id": "KAFidcXZ0q1P"
   },
   "source": [
    "El ingreso del plan Surf es considerablemente mayor debido a la presencia de más cargos adicionales en los usuarios."
   ]
  },
  {
   "cell_type": "markdown",
   "metadata": {},
   "source": [
    "<div class=\"alert alert-block alert-danger\">\n",
    "<b>Comentario del revisor (1ra Iteración)</b> <a class=“tocSkip”></a>\n",
    "\n",
    "La forma como analizaste los datos de llamadas fue perfecto ya que incluía herramientas de visualización como los histogramas, además de los calculos de valores estadísticos (media y varianza). Repite esta misma estrucutra para los datos de consumo de mensajes e internet, asi como los datos de ingresos. \n",
    "    \n",
    "Respecto a la información sobre **Ingresos**, seguramente las gráficas y datos que obtuviste cambiarán cuando hagas el ajuste en el cálculo de los cobros mensuales por usuario en cada plan, entonces vale la pena revisar si tu análisis deba ser ajustado también.\n",
    "\n",
    "Recuerda que es muy importante incluir tu análisis de la información que obtienes.\n",
    "\n",
    "</div>"
   ]
  },
  {
   "cell_type": "markdown",
   "metadata": {},
   "source": [
    "<div class=\"alert alert-block alert-success\">\n",
    "<b>Comentario del revisor (2da Iteración)</b> <a class=“tocSkip”></a>\n",
    "\n",
    "Muy buen trabajo Dante, ahora el análisis del comportamiento de consumo de los usuarios de cada plan es correcto\n",
    "\n",
    "</div>"
   ]
  },
  {
   "cell_type": "markdown",
   "metadata": {
    "id": "ajJ7VKeI0q1Q"
   },
   "source": [
    "## Prueba las hipótesis estadísticas"
   ]
  },
  {
   "cell_type": "markdown",
   "metadata": {
    "id": "IQwa_hsh0q1Q"
   },
   "source": [
    "hioptesis nula: ultimte y surf no tienen diferencia en los ingresos \n",
    "    \n",
    "hipotesis alterna: ultimate y surf tienen difrencia de ingresos "
   ]
  },
  {
   "cell_type": "code",
   "execution_count": 125,
   "metadata": {
    "id": "nFoPNlPq0q1R"
   },
   "outputs": [
    {
     "name": "stdout",
     "output_type": "stream",
     "text": [
      "Valor p de la prueba de Levene: 2.0941791851303886e-69\n",
      "Rechazamos la hipótesis nula de igualdad de varianzas. Las varianzas son diferentes.\n",
      "Valor t: 7.276268189271249\n",
      "Valor p de la t de Student: 5.756661975640558e-13\n",
      "Rechazamos la hipótesis nula. Existe una diferencia significativa en los ingresos promedio.\n"
     ]
    }
   ],
   "source": [
    "from scipy import stats\n",
    "\n",
    "# Filtrar los datos para los planes 'ultimate' y 'surf'\n",
    "ultimate_data = combined_data[combined_data['plan'] == 'ultimate']['ingresos_mes_extra']\n",
    "surf_data = combined_data[combined_data['plan'] == 'surf']['ingresos_mes_extra']\n",
    "\n",
    "# Primero, realizar la prueba de Levene para comparar la igualdad de varianzas\n",
    "levene_stat, levene_p_value = stats.levene(ultimate_data, surf_data)\n",
    "\n",
    "# Mostrar el valor p de la prueba de Levene\n",
    "print(f\"Valor p de la prueba de Levene: {levene_p_value}\")\n",
    "\n",
    "# Definir el umbral de significancia\n",
    "alpha = 0.05\n",
    "\n",
    "# Si el valor p de Levene es menor que alpha, las varianzas son diferentes\n",
    "if levene_p_value < alpha:\n",
    "    print(\"Rechazamos la hipótesis nula de igualdad de varianzas. Las varianzas son diferentes.\")\n",
    "    # Usar equal_var=False si las varianzas son diferentes\n",
    "    t_stat, p_value = stats.ttest_ind(ultimate_data, surf_data, equal_var=False)\n",
    "else:\n",
    "    print(\"No se rechaza la hipótesis nula de igualdad de varianzas. Las varianzas son iguales.\")\n",
    "    # Usar equal_var=True si las varianzas son iguales\n",
    "    t_stat, p_value = stats.ttest_ind(ultimate_data, surf_data)\n",
    "\n",
    "# Imprimir los resultados de la prueba t de Student\n",
    "print(f\"Valor t: {t_stat}\")\n",
    "print(f\"Valor p de la t de Student: {p_value}\")\n",
    "\n",
    "# Decisión final sobre la hipótesis nula\n",
    "if p_value < alpha:\n",
    "    print(\"Rechazamos la hipótesis nula. Existe una diferencia significativa en los ingresos promedio.\")\n",
    "else:\n",
    "    print(\"No se rechaza la hipótesis nula. No hay una diferencia significativa en los ingresos promedio.\")"
   ]
  },
  {
   "cell_type": "markdown",
   "metadata": {
    "id": "LsBgitqj0q1R"
   },
   "source": [
    "hipotesis nula : el ingreso promedio del area NY-NJ es igual a las otras regiones.\n",
    "\n",
    "hipotesis alterna : el ingreso del area NY-NJ es diferente a las otras regiones."
   ]
  },
  {
   "cell_type": "code",
   "execution_count": 126,
   "metadata": {
    "id": "Cqcj7wrZ0q1S"
   },
   "outputs": [
    {
     "name": "stdout",
     "output_type": "stream",
     "text": [
      "Valor p: 1.6396969942407258e-07\n",
      "Rechazamos la hipótesis nula.el el ingreso del area NY-NJ es diferente a las otras regiones .\n"
     ]
    }
   ],
   "source": [
    "# Prueba las hipótesis\n",
    "\n",
    "combined_data[combined_data['city'] == 'New York-Newark-Jersey City, NY-NJ-PA MSA']['ingresos_mes_extra']\n",
    "\n",
    "combined_data[combined_data['city'] != 'New York-Newark-Jersey City, NY-NJ-PA MSA']['ingresos_mes_extra']\n",
    " \n",
    "results = stats.ttest_ind(ultimate_data,surf_data)\n",
    "#resultado\n",
    "\n",
    "print(f\"Valor p: {results.pvalue }\")\n",
    "\n",
    "# Decisión\n",
    "alpha = 0.05\n",
    "if results.pvalue < alpha:\n",
    "    print(\"Rechazamos la hipótesis nula.el el ingreso del area NY-NJ es diferente a las otras regiones .\")\n",
    "else:\n",
    "    print(\"No se rechaza la hipótesis nula.el ingreso del area NY-NJ es igual a las otras regiones. .\")"
   ]
  },
  {
   "cell_type": "markdown",
   "metadata": {},
   "source": [
    "<div class=\"alert alert-block alert-success\">\n",
    "<b>Comentario del revisor (1ra Iteración)</b> <a class=“tocSkip”></a>\n",
    "\n",
    "Dante aplicaste correctamente la prueba de hipótesis comparando la distribución de dos muestras independientes e interpretando de manera acertada el `p-value` obtenido y su relación con la hipótesis nula\n",
    "\n",
    "<div class=\"alert alert-block alert-warning\">\n",
    "<b>Comentario del revisor (1ra Iteración)</b> <a class=“tocSkip”></a>\n",
    "\n",
    "Como recomendación, siempre muestra el valor del *p-value*, lo hiciste para la primera prueba de hipótesis, pero no para la segunda. Esto es clave para identificar si tal vez obtenemos `p_value = nan` lo que puede ser un indicio de que algo no está bien.\n",
    "    \n",
    "Por otro lado, te recomiendo realizar previamente una prueba de  [Levene](https://www.educaopen.com/digital-lab/blog/educacion-digital/prueba-de-levene) para evaluar la igualdad de las varianzas, lo que te permitirá configurar adecuadamente el parámetro **equal_var** en la función `ttest_ind`. Esto permitirá una interpretación más precisa de los resultados además garantizará que la prueba t sea estadísticamente válida.\n",
    "</div>\n",
    "</div>"
   ]
  },
  {
   "cell_type": "markdown",
   "metadata": {
    "id": "bbTR8UQO0q1T"
   },
   "source": [
    "## Conclusión general\n"
   ]
  },
  {
   "cell_type": "markdown",
   "metadata": {},
   "source": [
    "En resumen, el análisis muestra que el plan Surf genera más ingresos que el plan Ultimate, principalmente por los cargos adicionales por mensajes de texto, ya que ofrece menos mensajes incluidos. Aunque el uso de internet y las llamadas es similar en ambos planes, los cargos extra en Surf contribuyen más a los ingresos. Se descartó la hipótesis de que no hay diferencias entre los ingresos de ambos planes, confirmando que sí existen diferencias. También se observó que los ingresos en la zona de NY-NJ son significativamente distintos a los de otras regiones. Estos hallazgos permiten a la empresa ajustar tanto sus estrategias de marketing como sus tarifas y servicios, maximizando los ingresos y optimizando su enfoque en las zonas y características de consumo más rentables."
   ]
  },
  {
   "cell_type": "markdown",
   "metadata": {},
   "source": [
    "<div class=\"alert alert-block alert-warning\">\n",
    "<b>Comentario del revisor (1ra Iteración)</b> <a class=“tocSkip”></a>\n",
    "\n",
    "Aunque tu conclusión es válida de acuerdo a la información que obtuviste, vale la pena revisarla cuando hagas los ajustes que te he mencionado más arriba\n",
    "\n",
    "</div>"
   ]
  }
 ],
 "metadata": {
  "ExecuteTimeLog": [
   {
    "duration": 828,
    "start_time": "2021-11-16T09:21:11.304Z"
   },
   {
    "duration": 893,
    "start_time": "2021-11-16T09:21:17.728Z"
   },
   {
    "duration": 1150,
    "start_time": "2021-11-16T09:21:29.568Z"
   },
   {
    "duration": 3,
    "start_time": "2021-11-16T09:24:14.495Z"
   },
   {
    "duration": 120,
    "start_time": "2021-11-16T09:24:46.630Z"
   },
   {
    "duration": 3,
    "start_time": "2021-11-16T09:28:27.882Z"
   },
   {
    "duration": 4,
    "start_time": "2021-11-16T09:29:54.281Z"
   },
   {
    "duration": 3,
    "start_time": "2021-11-16T09:30:45.936Z"
   },
   {
    "duration": 4,
    "start_time": "2021-11-16T09:31:06.300Z"
   },
   {
    "duration": 113,
    "start_time": "2021-11-16T09:31:37.208Z"
   },
   {
    "duration": 143,
    "start_time": "2021-11-16T09:31:48.656Z"
   },
   {
    "duration": 98,
    "start_time": "2021-11-16T09:31:55.678Z"
   },
   {
    "duration": 3,
    "start_time": "2021-11-16T09:32:08.535Z"
   },
   {
    "duration": 111,
    "start_time": "2021-11-16T09:32:10.120Z"
   },
   {
    "duration": 3,
    "start_time": "2021-11-16T09:32:15.732Z"
   },
   {
    "duration": 4,
    "start_time": "2021-11-16T09:32:29.423Z"
   },
   {
    "duration": 3,
    "start_time": "2021-11-16T10:03:03.074Z"
   },
   {
    "duration": 3,
    "start_time": "2021-11-16T10:10:01.288Z"
   },
   {
    "duration": 3,
    "start_time": "2021-11-16T10:10:46.923Z"
   },
   {
    "duration": 121,
    "start_time": "2021-11-16T10:37:46.494Z"
   },
   {
    "duration": 125,
    "start_time": "2021-11-16T10:38:20.632Z"
   },
   {
    "duration": 112,
    "start_time": "2021-11-16T10:46:53.001Z"
   },
   {
    "duration": 110,
    "start_time": "2021-11-16T10:48:25.775Z"
   },
   {
    "duration": 3,
    "start_time": "2021-11-16T10:50:18.720Z"
   },
   {
    "duration": 4,
    "start_time": "2021-11-16T10:50:37.649Z"
   },
   {
    "duration": 2,
    "start_time": "2021-11-16T10:50:51.884Z"
   },
   {
    "duration": 3,
    "start_time": "2021-11-16T10:51:56.237Z"
   },
   {
    "duration": 101,
    "start_time": "2021-11-16T10:53:13.791Z"
   },
   {
    "duration": 3,
    "start_time": "2021-11-16T10:55:59.186Z"
   },
   {
    "duration": 3,
    "start_time": "2021-11-16T10:56:10.751Z"
   },
   {
    "duration": 3,
    "start_time": "2021-11-16T10:56:49.038Z"
   },
   {
    "duration": 3,
    "start_time": "2021-11-16T10:56:49.174Z"
   },
   {
    "duration": 4,
    "start_time": "2021-11-16T10:56:49.414Z"
   },
   {
    "duration": 3,
    "start_time": "2021-11-16T10:56:49.680Z"
   },
   {
    "duration": 3,
    "start_time": "2021-11-16T10:56:50.370Z"
   },
   {
    "duration": 114,
    "start_time": "2021-11-16T10:59:34.518Z"
   },
   {
    "duration": 3,
    "start_time": "2021-11-16T11:01:41.201Z"
   },
   {
    "duration": 116,
    "start_time": "2021-11-16T11:01:48.754Z"
   },
   {
    "duration": 3,
    "start_time": "2021-11-16T11:02:16.685Z"
   },
   {
    "duration": 3,
    "start_time": "2021-11-16T11:02:19.479Z"
   },
   {
    "duration": 3,
    "start_time": "2021-11-16T11:02:47.067Z"
   },
   {
    "duration": 3,
    "start_time": "2021-11-16T11:02:49.353Z"
   },
   {
    "duration": 3,
    "start_time": "2021-11-16T11:03:07.835Z"
   },
   {
    "duration": 3,
    "start_time": "2021-11-16T11:03:07.953Z"
   },
   {
    "duration": 112,
    "start_time": "2021-11-16T11:07:52.072Z"
   },
   {
    "duration": 187,
    "start_time": "2021-11-16T11:09:23.468Z"
   },
   {
    "duration": 4,
    "start_time": "2021-11-16T11:10:01.455Z"
   },
   {
    "duration": 3,
    "start_time": "2021-11-16T11:10:05.069Z"
   },
   {
    "duration": 4,
    "start_time": "2021-11-16T11:10:13.376Z"
   },
   {
    "duration": 3,
    "start_time": "2021-11-16T11:10:14.434Z"
   },
   {
    "duration": 3,
    "start_time": "2021-11-16T11:10:22.853Z"
   },
   {
    "duration": 4,
    "start_time": "2021-11-16T11:27:29.279Z"
   },
   {
    "duration": 4,
    "start_time": "2021-11-16T11:29:08.919Z"
   },
   {
    "duration": 118,
    "start_time": "2021-11-16T11:29:46.703Z"
   },
   {
    "duration": 437,
    "start_time": "2021-11-16T11:36:02.181Z"
   },
   {
    "duration": 157,
    "start_time": "2021-11-16T11:36:14.388Z"
   },
   {
    "duration": 207,
    "start_time": "2021-11-16T11:47:15.898Z"
   },
   {
    "duration": 3,
    "start_time": "2021-11-16T11:53:52.092Z"
   },
   {
    "duration": 3,
    "start_time": "2021-11-16T11:53:52.236Z"
   },
   {
    "duration": 3,
    "start_time": "2021-11-16T11:59:12.005Z"
   },
   {
    "duration": 112,
    "start_time": "2021-11-16T12:00:33.446Z"
   },
   {
    "duration": 3,
    "start_time": "2021-11-16T12:02:14.453Z"
   },
   {
    "duration": 3,
    "start_time": "2021-11-16T12:02:39.512Z"
   },
   {
    "duration": 106,
    "start_time": "2021-11-16T12:03:03.460Z"
   },
   {
    "duration": 3,
    "start_time": "2021-11-17T20:37:21.139Z"
   },
   {
    "duration": 3,
    "start_time": "2021-11-17T20:37:22.229Z"
   },
   {
    "duration": 3,
    "start_time": "2021-11-17T20:38:38.806Z"
   },
   {
    "duration": 3,
    "start_time": "2021-11-17T20:38:41.958Z"
   },
   {
    "duration": 3,
    "start_time": "2021-11-17T20:43:46.551Z"
   },
   {
    "duration": 4,
    "start_time": "2021-11-17T20:58:21.835Z"
   },
   {
    "duration": 3,
    "start_time": "2021-11-17T20:59:21.872Z"
   },
   {
    "duration": 4,
    "start_time": "2021-11-17T20:59:45.352Z"
   },
   {
    "duration": 4,
    "start_time": "2021-11-17T20:59:49.646Z"
   },
   {
    "duration": 159,
    "start_time": "2021-11-17T21:02:26.949Z"
   },
   {
    "duration": 3,
    "start_time": "2021-11-17T21:03:53.461Z"
   },
   {
    "duration": 3,
    "start_time": "2021-11-17T21:03:53.694Z"
   },
   {
    "duration": 3,
    "start_time": "2021-11-17T21:05:28.145Z"
   },
   {
    "duration": 116,
    "start_time": "2021-11-17T21:05:57.787Z"
   },
   {
    "duration": 3,
    "start_time": "2021-11-17T21:06:37.993Z"
   },
   {
    "duration": 3,
    "start_time": "2021-11-17T21:06:38.261Z"
   },
   {
    "duration": 3,
    "start_time": "2021-11-17T21:11:54.358Z"
   },
   {
    "duration": 3,
    "start_time": "2021-11-17T21:12:43.846Z"
   },
   {
    "duration": 4,
    "start_time": "2021-11-17T21:13:08.773Z"
   },
   {
    "duration": 3,
    "start_time": "2021-11-17T21:14:44.441Z"
   },
   {
    "duration": 3,
    "start_time": "2021-11-17T21:15:42.059Z"
   },
   {
    "duration": 4,
    "start_time": "2021-11-17T21:15:51.995Z"
   },
   {
    "duration": 3,
    "start_time": "2021-11-17T21:15:53.923Z"
   },
   {
    "duration": 3,
    "start_time": "2021-11-17T21:15:55.282Z"
   },
   {
    "duration": 3,
    "start_time": "2021-11-17T21:16:28.492Z"
   },
   {
    "duration": 3,
    "start_time": "2021-11-17T21:16:32.603Z"
   },
   {
    "duration": 3,
    "start_time": "2021-11-17T21:17:06.941Z"
   },
   {
    "duration": 98,
    "start_time": "2021-11-17T21:18:05.733Z"
   },
   {
    "duration": 4,
    "start_time": "2021-11-17T21:21:35.255Z"
   },
   {
    "duration": 3,
    "start_time": "2021-11-17T21:21:37.804Z"
   },
   {
    "duration": 4,
    "start_time": "2021-11-17T21:23:06.071Z"
   },
   {
    "duration": 3,
    "start_time": "2021-11-17T21:23:24.799Z"
   },
   {
    "duration": 3,
    "start_time": "2021-11-17T21:23:32.591Z"
   },
   {
    "duration": 98,
    "start_time": "2021-11-17T21:28:31.559Z"
   },
   {
    "duration": 3,
    "start_time": "2021-11-17T21:28:45.448Z"
   },
   {
    "duration": 3,
    "start_time": "2021-11-17T21:29:17.303Z"
   },
   {
    "duration": 3,
    "start_time": "2021-11-17T21:29:29.617Z"
   },
   {
    "duration": 3,
    "start_time": "2021-11-17T21:29:32.681Z"
   },
   {
    "duration": 3,
    "start_time": "2021-11-17T21:36:11.474Z"
   },
   {
    "duration": 3,
    "start_time": "2021-11-17T21:36:14.791Z"
   },
   {
    "duration": 3,
    "start_time": "2021-11-17T21:36:53.943Z"
   },
   {
    "duration": 3,
    "start_time": "2021-11-17T21:36:56.165Z"
   },
   {
    "duration": 4,
    "start_time": "2021-11-17T21:37:16.590Z"
   },
   {
    "duration": 3,
    "start_time": "2021-11-17T21:37:22.702Z"
   },
   {
    "duration": 4,
    "start_time": "2021-11-17T21:38:03.479Z"
   },
   {
    "duration": 3,
    "start_time": "2021-11-17T21:38:08.601Z"
   },
   {
    "duration": 3,
    "start_time": "2021-11-17T21:38:12.928Z"
   },
   {
    "duration": 3,
    "start_time": "2021-11-17T21:38:48.896Z"
   },
   {
    "duration": 2,
    "start_time": "2021-11-17T21:38:49.171Z"
   },
   {
    "duration": 4,
    "start_time": "2021-11-17T21:39:57.889Z"
   },
   {
    "duration": 3,
    "start_time": "2021-11-17T21:39:58.057Z"
   },
   {
    "duration": 3,
    "start_time": "2021-11-17T21:41:20.108Z"
   },
   {
    "duration": 3,
    "start_time": "2021-11-17T21:41:20.629Z"
   },
   {
    "duration": 3,
    "start_time": "2021-11-17T21:42:49.136Z"
   },
   {
    "duration": 3,
    "start_time": "2021-11-17T21:43:15.137Z"
   },
   {
    "duration": 4,
    "start_time": "2021-11-17T21:43:16.766Z"
   },
   {
    "duration": 4,
    "start_time": "2021-11-17T21:43:31.711Z"
   },
   {
    "duration": 3,
    "start_time": "2021-11-17T21:43:36.312Z"
   },
   {
    "duration": 4,
    "start_time": "2021-11-17T21:45:08.825Z"
   },
   {
    "duration": 4,
    "start_time": "2021-11-17T21:45:10.119Z"
   },
   {
    "duration": 4,
    "start_time": "2021-11-17T21:45:13.748Z"
   },
   {
    "duration": 3,
    "start_time": "2021-11-17T21:45:22.219Z"
   },
   {
    "duration": 3,
    "start_time": "2021-11-17T21:45:33.412Z"
   },
   {
    "duration": 2,
    "start_time": "2021-11-17T21:46:01.885Z"
   },
   {
    "duration": 3,
    "start_time": "2021-11-17T21:46:03.628Z"
   },
   {
    "duration": 107,
    "start_time": "2021-11-17T21:47:32.512Z"
   },
   {
    "duration": 103,
    "start_time": "2021-11-17T21:50:36.243Z"
   },
   {
    "duration": 3,
    "start_time": "2021-11-18T06:28:31.440Z"
   },
   {
    "duration": 3,
    "start_time": "2021-11-18T06:29:00.168Z"
   },
   {
    "duration": 3,
    "start_time": "2021-11-18T06:31:27.008Z"
   },
   {
    "duration": 2,
    "start_time": "2021-11-18T06:35:34.288Z"
   },
   {
    "duration": 2,
    "start_time": "2021-11-18T06:38:04.527Z"
   },
   {
    "duration": 2576,
    "start_time": "2025-03-13T18:22:20.315Z"
   },
   {
    "duration": 218,
    "start_time": "2025-03-13T18:22:52.032Z"
   },
   {
    "duration": 160,
    "start_time": "2025-03-13T18:25:47.463Z"
   },
   {
    "duration": 3,
    "start_time": "2025-03-13T18:26:06.775Z"
   },
   {
    "duration": 155,
    "start_time": "2025-03-13T18:26:10.750Z"
   },
   {
    "duration": 43,
    "start_time": "2025-03-13T18:27:10.207Z"
   },
   {
    "duration": 13,
    "start_time": "2025-03-13T18:28:13.634Z"
   },
   {
    "duration": 21,
    "start_time": "2025-03-13T18:42:24.746Z"
   },
   {
    "duration": 2,
    "start_time": "2025-03-13T18:43:02.580Z"
   },
   {
    "duration": 8,
    "start_time": "2025-03-13T18:43:14.995Z"
   },
   {
    "duration": 7,
    "start_time": "2025-03-13T18:43:23.604Z"
   },
   {
    "duration": 8,
    "start_time": "2025-03-13T18:43:27.368Z"
   },
   {
    "duration": 11,
    "start_time": "2025-03-13T19:04:35.677Z"
   },
   {
    "duration": 8,
    "start_time": "2025-03-13T19:04:54.080Z"
   },
   {
    "duration": 6,
    "start_time": "2025-03-13T19:11:16.892Z"
   },
   {
    "duration": 20,
    "start_time": "2025-03-13T19:17:17.509Z"
   },
   {
    "duration": 7,
    "start_time": "2025-03-13T19:17:36.675Z"
   },
   {
    "duration": 14,
    "start_time": "2025-03-13T19:42:34.425Z"
   },
   {
    "duration": 24,
    "start_time": "2025-03-13T19:42:46.104Z"
   },
   {
    "duration": 16,
    "start_time": "2025-03-13T19:43:38.929Z"
   },
   {
    "duration": 27,
    "start_time": "2025-03-13T19:43:53.406Z"
   },
   {
    "duration": 8,
    "start_time": "2025-03-13T19:44:59.322Z"
   },
   {
    "duration": 2590,
    "start_time": "2025-03-14T00:27:28.570Z"
   },
   {
    "duration": 216,
    "start_time": "2025-03-14T00:27:35.493Z"
   },
   {
    "duration": 46,
    "start_time": "2025-03-14T00:27:36.510Z"
   },
   {
    "duration": 12,
    "start_time": "2025-03-14T00:27:36.951Z"
   },
   {
    "duration": 22,
    "start_time": "2025-03-14T00:27:38.959Z"
   },
   {
    "duration": 7,
    "start_time": "2025-03-14T00:27:39.421Z"
   },
   {
    "duration": 11,
    "start_time": "2025-03-14T00:27:43.024Z"
   },
   {
    "duration": 9,
    "start_time": "2025-03-14T00:27:43.296Z"
   },
   {
    "duration": 17,
    "start_time": "2025-03-14T00:27:45.606Z"
   },
   {
    "duration": 7,
    "start_time": "2025-03-14T00:27:46.150Z"
   },
   {
    "duration": 9,
    "start_time": "2025-03-14T00:27:50.339Z"
   },
   {
    "duration": 6,
    "start_time": "2025-03-14T00:27:50.350Z"
   },
   {
    "duration": 14,
    "start_time": "2025-03-14T00:28:00.075Z"
   },
   {
    "duration": 7,
    "start_time": "2025-03-14T00:28:00.837Z"
   },
   {
    "duration": 8,
    "start_time": "2025-03-14T00:28:04.976Z"
   },
   {
    "duration": 3,
    "start_time": "2025-03-14T00:28:05.955Z"
   },
   {
    "duration": 2,
    "start_time": "2025-03-14T00:28:06.246Z"
   },
   {
    "duration": 2,
    "start_time": "2025-03-14T00:28:06.610Z"
   },
   {
    "duration": 2,
    "start_time": "2025-03-14T00:28:07.095Z"
   },
   {
    "duration": 3,
    "start_time": "2025-03-14T01:19:20.873Z"
   },
   {
    "duration": 154,
    "start_time": "2025-03-14T01:19:22.444Z"
   },
   {
    "duration": 45,
    "start_time": "2025-03-14T01:19:23.335Z"
   },
   {
    "duration": 12,
    "start_time": "2025-03-14T01:19:23.848Z"
   },
   {
    "duration": 20,
    "start_time": "2025-03-14T01:19:26.788Z"
   },
   {
    "duration": 12,
    "start_time": "2025-03-14T01:19:28.090Z"
   },
   {
    "duration": 13,
    "start_time": "2025-03-14T01:19:31.945Z"
   },
   {
    "duration": 11,
    "start_time": "2025-03-14T01:19:32.088Z"
   },
   {
    "duration": 26,
    "start_time": "2025-03-14T01:19:34.029Z"
   },
   {
    "duration": 11,
    "start_time": "2025-03-14T01:19:34.204Z"
   },
   {
    "duration": 11,
    "start_time": "2025-03-14T01:19:36.621Z"
   },
   {
    "duration": 6,
    "start_time": "2025-03-14T01:19:36.809Z"
   },
   {
    "duration": 16,
    "start_time": "2025-03-14T01:19:38.499Z"
   },
   {
    "duration": 7,
    "start_time": "2025-03-14T01:19:38.670Z"
   },
   {
    "duration": 11,
    "start_time": "2025-03-14T01:19:40.540Z"
   },
   {
    "duration": 2,
    "start_time": "2025-03-14T01:19:40.896Z"
   },
   {
    "duration": 2,
    "start_time": "2025-03-14T01:19:41.071Z"
   },
   {
    "duration": 2,
    "start_time": "2025-03-14T01:19:41.241Z"
   },
   {
    "duration": 2,
    "start_time": "2025-03-14T01:19:41.418Z"
   },
   {
    "duration": 2,
    "start_time": "2025-03-14T01:19:41.711Z"
   },
   {
    "duration": 3,
    "start_time": "2025-03-14T01:19:42.420Z"
   },
   {
    "duration": 10,
    "start_time": "2025-03-14T01:42:48.517Z"
   },
   {
    "duration": 12,
    "start_time": "2025-03-14T01:43:03.914Z"
   },
   {
    "duration": 9,
    "start_time": "2025-03-14T01:43:36.910Z"
   },
   {
    "duration": 8,
    "start_time": "2025-03-14T01:43:43.519Z"
   },
   {
    "duration": 15,
    "start_time": "2025-03-14T01:51:07.336Z"
   },
   {
    "duration": 13,
    "start_time": "2025-03-14T01:51:14.915Z"
   },
   {
    "duration": 14,
    "start_time": "2025-03-14T01:52:04.031Z"
   },
   {
    "duration": 16,
    "start_time": "2025-03-14T01:59:40.444Z"
   },
   {
    "duration": 12,
    "start_time": "2025-03-14T01:59:43.561Z"
   },
   {
    "duration": 10,
    "start_time": "2025-03-14T01:59:46.902Z"
   },
   {
    "duration": 50,
    "start_time": "2025-03-14T02:01:51.043Z"
   },
   {
    "duration": 11,
    "start_time": "2025-03-14T02:06:23.221Z"
   },
   {
    "duration": 8,
    "start_time": "2025-03-14T02:06:35.686Z"
   },
   {
    "duration": 10,
    "start_time": "2025-03-14T02:10:04.875Z"
   },
   {
    "duration": 47,
    "start_time": "2025-03-14T02:10:05.428Z"
   },
   {
    "duration": 12,
    "start_time": "2025-03-14T02:10:07.418Z"
   },
   {
    "duration": 8,
    "start_time": "2025-03-14T02:10:08.021Z"
   },
   {
    "duration": 7,
    "start_time": "2025-03-14T02:10:25.862Z"
   },
   {
    "duration": 13,
    "start_time": "2025-03-14T02:10:47.354Z"
   },
   {
    "duration": 11,
    "start_time": "2025-03-14T02:15:48.648Z"
   },
   {
    "duration": 5,
    "start_time": "2025-03-14T02:16:54.876Z"
   },
   {
    "duration": 10,
    "start_time": "2025-03-14T02:18:13.971Z"
   },
   {
    "duration": 7,
    "start_time": "2025-03-14T02:18:15.306Z"
   },
   {
    "duration": 6,
    "start_time": "2025-03-14T02:18:15.768Z"
   },
   {
    "duration": 13,
    "start_time": "2025-03-14T02:19:42.570Z"
   },
   {
    "duration": 7,
    "start_time": "2025-03-14T02:20:30.945Z"
   },
   {
    "duration": 759,
    "start_time": "2025-03-14T02:22:48.239Z"
   },
   {
    "duration": 21,
    "start_time": "2025-03-14T02:23:21.556Z"
   },
   {
    "duration": 7,
    "start_time": "2025-03-14T02:23:22.455Z"
   },
   {
    "duration": 10,
    "start_time": "2025-03-14T02:23:25.341Z"
   },
   {
    "duration": 7,
    "start_time": "2025-03-14T02:23:29.159Z"
   },
   {
    "duration": 6,
    "start_time": "2025-03-14T02:23:29.797Z"
   },
   {
    "duration": 12,
    "start_time": "2025-03-14T02:23:30.836Z"
   },
   {
    "duration": 4,
    "start_time": "2025-03-14T02:23:34.300Z"
   },
   {
    "duration": 6,
    "start_time": "2025-03-14T02:27:32.467Z"
   },
   {
    "duration": 5,
    "start_time": "2025-03-14T02:31:30.320Z"
   },
   {
    "duration": 5,
    "start_time": "2025-03-14T02:32:29.990Z"
   },
   {
    "duration": 5,
    "start_time": "2025-03-14T02:32:50.601Z"
   },
   {
    "duration": 4,
    "start_time": "2025-03-14T02:35:34.270Z"
   },
   {
    "duration": 5,
    "start_time": "2025-03-14T02:35:54.659Z"
   },
   {
    "duration": 6,
    "start_time": "2025-03-14T03:41:30.748Z"
   },
   {
    "duration": 5,
    "start_time": "2025-03-14T03:42:09.299Z"
   },
   {
    "duration": 12,
    "start_time": "2025-03-14T03:42:23.462Z"
   },
   {
    "duration": 46,
    "start_time": "2025-03-14T03:51:21.376Z"
   },
   {
    "duration": 4,
    "start_time": "2025-03-14T03:51:34.290Z"
   },
   {
    "duration": 173,
    "start_time": "2025-03-14T03:51:35.238Z"
   },
   {
    "duration": 43,
    "start_time": "2025-03-14T03:51:35.889Z"
   },
   {
    "duration": 12,
    "start_time": "2025-03-14T03:51:36.325Z"
   },
   {
    "duration": 25,
    "start_time": "2025-03-14T03:51:37.163Z"
   },
   {
    "duration": 7,
    "start_time": "2025-03-14T03:51:37.435Z"
   },
   {
    "duration": 4,
    "start_time": "2025-03-14T03:51:38.559Z"
   },
   {
    "duration": 6,
    "start_time": "2025-03-14T03:51:38.865Z"
   },
   {
    "duration": 41,
    "start_time": "2025-03-14T03:51:41.676Z"
   },
   {
    "duration": 44,
    "start_time": "2025-03-14T03:52:00.524Z"
   },
   {
    "duration": 8,
    "start_time": "2025-03-14T03:52:23.982Z"
   },
   {
    "duration": 5,
    "start_time": "2025-03-14T03:58:12.500Z"
   },
   {
    "duration": 8,
    "start_time": "2025-03-14T03:58:15.644Z"
   },
   {
    "duration": 6,
    "start_time": "2025-03-14T04:00:44.117Z"
   },
   {
    "duration": 5,
    "start_time": "2025-03-14T04:00:44.506Z"
   },
   {
    "duration": 4,
    "start_time": "2025-03-14T04:00:44.954Z"
   },
   {
    "duration": 10,
    "start_time": "2025-03-14T04:00:45.454Z"
   },
   {
    "duration": 4,
    "start_time": "2025-03-14T04:05:08.248Z"
   },
   {
    "duration": 10,
    "start_time": "2025-03-14T04:05:08.714Z"
   },
   {
    "duration": 11,
    "start_time": "2025-03-14T04:05:41.503Z"
   },
   {
    "duration": 31,
    "start_time": "2025-03-14T04:05:53.059Z"
   },
   {
    "duration": 10,
    "start_time": "2025-03-14T04:05:53.395Z"
   },
   {
    "duration": 4,
    "start_time": "2025-03-14T04:05:54.676Z"
   },
   {
    "duration": 5,
    "start_time": "2025-03-14T04:05:55.086Z"
   },
   {
    "duration": 4,
    "start_time": "2025-03-14T04:05:57.555Z"
   },
   {
    "duration": 16,
    "start_time": "2025-03-14T04:05:58.375Z"
   },
   {
    "duration": 2,
    "start_time": "2025-03-14T04:06:22.416Z"
   },
   {
    "duration": 172,
    "start_time": "2025-03-14T04:06:22.948Z"
   },
   {
    "duration": 43,
    "start_time": "2025-03-14T04:06:23.291Z"
   },
   {
    "duration": 12,
    "start_time": "2025-03-14T04:06:23.476Z"
   },
   {
    "duration": 21,
    "start_time": "2025-03-14T04:06:23.970Z"
   },
   {
    "duration": 7,
    "start_time": "2025-03-14T04:06:24.110Z"
   },
   {
    "duration": 4,
    "start_time": "2025-03-14T04:06:24.915Z"
   },
   {
    "duration": 6,
    "start_time": "2025-03-14T04:06:25.075Z"
   },
   {
    "duration": 6,
    "start_time": "2025-03-14T04:06:25.947Z"
   },
   {
    "duration": 9,
    "start_time": "2025-03-14T04:06:26.145Z"
   },
   {
    "duration": 11,
    "start_time": "2025-03-14T04:06:26.471Z"
   },
   {
    "duration": 10,
    "start_time": "2025-03-14T04:06:26.602Z"
   },
   {
    "duration": 5,
    "start_time": "2025-03-14T04:06:27.460Z"
   },
   {
    "duration": 5,
    "start_time": "2025-03-14T04:06:28.311Z"
   },
   {
    "duration": 6,
    "start_time": "2025-03-14T04:06:28.528Z"
   },
   {
    "duration": 18,
    "start_time": "2025-03-14T04:06:29.182Z"
   },
   {
    "duration": 8,
    "start_time": "2025-03-14T04:06:29.360Z"
   },
   {
    "duration": 17,
    "start_time": "2025-03-14T04:06:30.025Z"
   },
   {
    "duration": 48,
    "start_time": "2025-03-14T04:06:30.193Z"
   },
   {
    "duration": 10,
    "start_time": "2025-03-14T04:06:30.718Z"
   },
   {
    "duration": 8,
    "start_time": "2025-03-14T04:06:30.878Z"
   },
   {
    "duration": 10,
    "start_time": "2025-03-14T04:06:31.228Z"
   },
   {
    "duration": 5,
    "start_time": "2025-03-14T04:06:31.376Z"
   },
   {
    "duration": 10,
    "start_time": "2025-03-14T04:06:32.266Z"
   },
   {
    "duration": 6,
    "start_time": "2025-03-14T04:06:32.941Z"
   },
   {
    "duration": 5,
    "start_time": "2025-03-14T04:06:33.109Z"
   },
   {
    "duration": 14,
    "start_time": "2025-03-14T04:06:33.487Z"
   },
   {
    "duration": 6,
    "start_time": "2025-03-14T04:06:33.642Z"
   },
   {
    "duration": 12,
    "start_time": "2025-03-14T04:06:34.318Z"
   },
   {
    "duration": 7,
    "start_time": "2025-03-14T04:06:34.863Z"
   },
   {
    "duration": 5,
    "start_time": "2025-03-14T04:06:35.027Z"
   },
   {
    "duration": 4,
    "start_time": "2025-03-14T04:06:35.378Z"
   },
   {
    "duration": 9,
    "start_time": "2025-03-14T04:06:35.927Z"
   },
   {
    "duration": 2,
    "start_time": "2025-03-14T04:06:36.267Z"
   },
   {
    "duration": 2,
    "start_time": "2025-03-14T04:06:36.445Z"
   },
   {
    "duration": 2,
    "start_time": "2025-03-14T04:06:36.627Z"
   },
   {
    "duration": 2,
    "start_time": "2025-03-14T04:06:36.810Z"
   },
   {
    "duration": 2,
    "start_time": "2025-03-14T04:06:37.167Z"
   },
   {
    "duration": 4,
    "start_time": "2025-03-14T04:06:37.327Z"
   },
   {
    "duration": 2,
    "start_time": "2025-03-14T04:06:37.706Z"
   },
   {
    "duration": 2,
    "start_time": "2025-03-14T04:06:38.432Z"
   },
   {
    "duration": 4,
    "start_time": "2025-03-14T04:06:38.595Z"
   },
   {
    "duration": 2,
    "start_time": "2025-03-14T04:06:39.003Z"
   },
   {
    "duration": 2,
    "start_time": "2025-03-14T04:06:39.145Z"
   },
   {
    "duration": 2,
    "start_time": "2025-03-14T04:06:39.692Z"
   },
   {
    "duration": 2,
    "start_time": "2025-03-14T04:06:39.893Z"
   },
   {
    "duration": 3,
    "start_time": "2025-03-14T04:20:00.863Z"
   },
   {
    "duration": 185,
    "start_time": "2025-03-14T04:20:01.665Z"
   },
   {
    "duration": 44,
    "start_time": "2025-03-14T04:20:02.331Z"
   },
   {
    "duration": 13,
    "start_time": "2025-03-14T04:20:02.670Z"
   },
   {
    "duration": 30,
    "start_time": "2025-03-14T04:20:04.121Z"
   },
   {
    "duration": 8,
    "start_time": "2025-03-14T04:20:05.034Z"
   },
   {
    "duration": 10,
    "start_time": "2025-03-14T04:20:07.333Z"
   },
   {
    "duration": 7,
    "start_time": "2025-03-14T04:20:07.887Z"
   },
   {
    "duration": 6,
    "start_time": "2025-03-14T04:20:09.730Z"
   },
   {
    "duration": 9,
    "start_time": "2025-03-14T04:20:10.140Z"
   },
   {
    "duration": 16,
    "start_time": "2025-03-14T04:20:45.706Z"
   },
   {
    "duration": 4,
    "start_time": "2025-03-14T04:22:56.548Z"
   },
   {
    "duration": 12,
    "start_time": "2025-03-14T04:22:58.786Z"
   },
   {
    "duration": 24,
    "start_time": "2025-03-14T04:23:36.121Z"
   },
   {
    "duration": 9,
    "start_time": "2025-03-14T04:24:04.871Z"
   },
   {
    "duration": 5,
    "start_time": "2025-03-14T04:24:27.815Z"
   },
   {
    "duration": 194,
    "start_time": "2025-03-14T04:24:28.152Z"
   },
   {
    "duration": 51,
    "start_time": "2025-03-14T04:24:28.467Z"
   },
   {
    "duration": 13,
    "start_time": "2025-03-14T04:24:28.751Z"
   },
   {
    "duration": 19,
    "start_time": "2025-03-14T04:24:29.389Z"
   },
   {
    "duration": 8,
    "start_time": "2025-03-14T04:24:29.639Z"
   },
   {
    "duration": 4,
    "start_time": "2025-03-14T04:24:30.705Z"
   },
   {
    "duration": 7,
    "start_time": "2025-03-14T04:24:31.326Z"
   },
   {
    "duration": 16,
    "start_time": "2025-03-14T04:24:34.808Z"
   },
   {
    "duration": 15,
    "start_time": "2025-03-14T04:24:36.826Z"
   },
   {
    "duration": 8,
    "start_time": "2025-03-14T04:24:53.045Z"
   },
   {
    "duration": 6,
    "start_time": "2025-03-14T04:25:10.346Z"
   },
   {
    "duration": 8,
    "start_time": "2025-03-14T04:25:24.394Z"
   },
   {
    "duration": 8,
    "start_time": "2025-03-14T04:26:05.777Z"
   },
   {
    "duration": 7,
    "start_time": "2025-03-14T04:27:12.936Z"
   },
   {
    "duration": 6,
    "start_time": "2025-03-14T04:27:14.370Z"
   },
   {
    "duration": 5,
    "start_time": "2025-03-14T04:27:15.744Z"
   },
   {
    "duration": 9,
    "start_time": "2025-03-14T04:27:16.762Z"
   },
   {
    "duration": 21,
    "start_time": "2025-03-14T04:30:27.276Z"
   },
   {
    "duration": 9,
    "start_time": "2025-03-14T04:30:27.875Z"
   },
   {
    "duration": 28,
    "start_time": "2025-03-14T04:30:30.323Z"
   },
   {
    "duration": 48,
    "start_time": "2025-03-14T04:30:30.743Z"
   },
   {
    "duration": 10,
    "start_time": "2025-03-14T04:30:33.163Z"
   },
   {
    "duration": 11,
    "start_time": "2025-03-14T04:30:33.624Z"
   },
   {
    "duration": 7,
    "start_time": "2025-03-14T04:30:34.578Z"
   },
   {
    "duration": 6,
    "start_time": "2025-03-14T04:31:46.440Z"
   },
   {
    "duration": 18,
    "start_time": "2025-03-14T04:31:54.205Z"
   },
   {
    "duration": 6,
    "start_time": "2025-03-14T04:31:54.644Z"
   },
   {
    "duration": 11,
    "start_time": "2025-03-14T04:31:56.667Z"
   },
   {
    "duration": 11,
    "start_time": "2025-03-14T04:31:58.123Z"
   },
   {
    "duration": 6,
    "start_time": "2025-03-14T04:31:58.582Z"
   },
   {
    "duration": 7,
    "start_time": "2025-03-14T04:31:59.575Z"
   },
   {
    "duration": 15,
    "start_time": "2025-03-14T04:32:10.506Z"
   },
   {
    "duration": 8,
    "start_time": "2025-03-14T04:32:11.074Z"
   },
   {
    "duration": 12,
    "start_time": "2025-03-14T04:32:14.841Z"
   },
   {
    "duration": 7,
    "start_time": "2025-03-14T04:32:16.533Z"
   },
   {
    "duration": 5,
    "start_time": "2025-03-14T04:32:17.159Z"
   },
   {
    "duration": 5,
    "start_time": "2025-03-14T04:32:18.256Z"
   },
   {
    "duration": 9,
    "start_time": "2025-03-14T04:32:32.190Z"
   },
   {
    "duration": 9,
    "start_time": "2025-03-14T04:32:45.059Z"
   },
   {
    "duration": 2,
    "start_time": "2025-03-14T04:34:20.666Z"
   },
   {
    "duration": 8,
    "start_time": "2025-03-14T04:36:27.399Z"
   },
   {
    "duration": 154,
    "start_time": "2025-03-14T04:42:23.442Z"
   },
   {
    "duration": 18,
    "start_time": "2025-03-14T04:44:47.970Z"
   },
   {
    "duration": 11,
    "start_time": "2025-03-14T04:44:49.319Z"
   },
   {
    "duration": 9,
    "start_time": "2025-03-14T04:45:37.532Z"
   },
   {
    "duration": 9,
    "start_time": "2025-03-14T04:45:38.300Z"
   },
   {
    "duration": 11,
    "start_time": "2025-03-14T04:46:18.128Z"
   },
   {
    "duration": 5,
    "start_time": "2025-03-14T04:46:18.508Z"
   },
   {
    "duration": 4,
    "start_time": "2025-03-14T04:46:18.858Z"
   },
   {
    "duration": 11,
    "start_time": "2025-03-14T04:46:19.257Z"
   },
   {
    "duration": 8,
    "start_time": "2025-03-14T04:47:47.147Z"
   },
   {
    "duration": 5,
    "start_time": "2025-03-14T04:47:47.701Z"
   },
   {
    "duration": 14,
    "start_time": "2025-03-14T04:47:48.491Z"
   },
   {
    "duration": 39,
    "start_time": "2025-03-14T04:47:56.116Z"
   },
   {
    "duration": 8,
    "start_time": "2025-03-14T04:47:56.325Z"
   },
   {
    "duration": 12,
    "start_time": "2025-03-14T04:47:57.490Z"
   },
   {
    "duration": 45,
    "start_time": "2025-03-14T04:47:57.658Z"
   },
   {
    "duration": 10,
    "start_time": "2025-03-14T04:47:58.206Z"
   },
   {
    "duration": 13,
    "start_time": "2025-03-14T04:47:58.408Z"
   },
   {
    "duration": 8,
    "start_time": "2025-03-14T04:47:58.591Z"
   },
   {
    "duration": 18,
    "start_time": "2025-03-14T04:47:59.113Z"
   },
   {
    "duration": 18,
    "start_time": "2025-03-14T04:47:59.375Z"
   },
   {
    "duration": 10,
    "start_time": "2025-03-14T04:48:00.192Z"
   },
   {
    "duration": 6,
    "start_time": "2025-03-14T04:48:00.920Z"
   },
   {
    "duration": 9,
    "start_time": "2025-03-14T04:48:01.303Z"
   },
   {
    "duration": 7,
    "start_time": "2025-03-14T04:48:01.476Z"
   },
   {
    "duration": 31,
    "start_time": "2025-03-14T04:48:02.061Z"
   },
   {
    "duration": 8,
    "start_time": "2025-03-14T04:48:02.327Z"
   },
   {
    "duration": 11,
    "start_time": "2025-03-14T04:48:03.419Z"
   },
   {
    "duration": 11,
    "start_time": "2025-03-14T04:48:04.354Z"
   },
   {
    "duration": 5,
    "start_time": "2025-03-14T04:48:04.674Z"
   },
   {
    "duration": 4,
    "start_time": "2025-03-14T04:48:04.878Z"
   },
   {
    "duration": 9,
    "start_time": "2025-03-14T04:48:05.094Z"
   },
   {
    "duration": 8,
    "start_time": "2025-03-14T04:48:05.806Z"
   },
   {
    "duration": 13,
    "start_time": "2025-03-14T04:48:06.246Z"
   },
   {
    "duration": 2,
    "start_time": "2025-03-14T04:48:06.552Z"
   },
   {
    "duration": 13,
    "start_time": "2025-03-14T04:48:23.349Z"
   },
   {
    "duration": 14,
    "start_time": "2025-03-14T04:49:52.136Z"
   },
   {
    "duration": 13,
    "start_time": "2025-03-14T04:50:34.840Z"
   },
   {
    "duration": 5,
    "start_time": "2025-03-14T04:50:50.792Z"
   },
   {
    "duration": 4,
    "start_time": "2025-03-14T04:50:53.182Z"
   },
   {
    "duration": 10,
    "start_time": "2025-03-14T04:50:59.348Z"
   },
   {
    "duration": 12,
    "start_time": "2025-03-14T04:51:28.343Z"
   },
   {
    "duration": 14,
    "start_time": "2025-03-14T04:53:07.016Z"
   },
   {
    "duration": 205,
    "start_time": "2025-03-14T04:53:55.292Z"
   },
   {
    "duration": 23,
    "start_time": "2025-03-14T04:53:57.632Z"
   },
   {
    "duration": 14,
    "start_time": "2025-03-14T04:56:16.347Z"
   },
   {
    "duration": 12,
    "start_time": "2025-03-14T04:56:25.809Z"
   },
   {
    "duration": 12,
    "start_time": "2025-03-14T04:56:36.616Z"
   },
   {
    "duration": 24,
    "start_time": "2025-03-14T04:58:23.264Z"
   },
   {
    "duration": 23,
    "start_time": "2025-03-14T04:58:42.457Z"
   },
   {
    "duration": 11,
    "start_time": "2025-03-14T04:59:19.201Z"
   },
   {
    "duration": 29,
    "start_time": "2025-03-14T05:01:37.261Z"
   },
   {
    "duration": 26,
    "start_time": "2025-03-14T05:01:45.964Z"
   },
   {
    "duration": 46,
    "start_time": "2025-03-14T05:04:59.903Z"
   },
   {
    "duration": 8,
    "start_time": "2025-03-14T05:05:01.340Z"
   },
   {
    "duration": 13,
    "start_time": "2025-03-14T05:05:01.705Z"
   },
   {
    "duration": 8,
    "start_time": "2025-03-14T05:05:02.627Z"
   },
   {
    "duration": 17,
    "start_time": "2025-03-14T05:05:03.650Z"
   },
   {
    "duration": 7,
    "start_time": "2025-03-14T05:05:03.835Z"
   },
   {
    "duration": 9,
    "start_time": "2025-03-14T05:05:04.674Z"
   },
   {
    "duration": 7,
    "start_time": "2025-03-14T05:05:05.167Z"
   },
   {
    "duration": 9,
    "start_time": "2025-03-14T05:05:05.334Z"
   },
   {
    "duration": 7,
    "start_time": "2025-03-14T05:05:05.501Z"
   },
   {
    "duration": 26,
    "start_time": "2025-03-14T05:05:05.978Z"
   },
   {
    "duration": 8,
    "start_time": "2025-03-14T05:05:06.268Z"
   },
   {
    "duration": 10,
    "start_time": "2025-03-14T05:05:07.075Z"
   },
   {
    "duration": 13,
    "start_time": "2025-03-14T05:05:07.618Z"
   },
   {
    "duration": 5,
    "start_time": "2025-03-14T05:05:07.800Z"
   },
   {
    "duration": 3,
    "start_time": "2025-03-14T05:05:07.985Z"
   },
   {
    "duration": 9,
    "start_time": "2025-03-14T05:05:08.170Z"
   },
   {
    "duration": 10,
    "start_time": "2025-03-14T05:05:08.706Z"
   },
   {
    "duration": 11,
    "start_time": "2025-03-14T05:05:09.074Z"
   },
   {
    "duration": 14,
    "start_time": "2025-03-14T05:05:09.253Z"
   },
   {
    "duration": 2,
    "start_time": "2025-03-14T05:05:09.485Z"
   },
   {
    "duration": 12,
    "start_time": "2025-03-14T05:08:27.142Z"
   },
   {
    "duration": 10,
    "start_time": "2025-03-14T05:08:30.442Z"
   },
   {
    "duration": 11,
    "start_time": "2025-03-14T05:08:38.144Z"
   },
   {
    "duration": 13,
    "start_time": "2025-03-14T05:12:41.292Z"
   },
   {
    "duration": 12,
    "start_time": "2025-03-14T05:16:56.770Z"
   },
   {
    "duration": 8,
    "start_time": "2025-03-14T05:17:23.327Z"
   },
   {
    "duration": 16,
    "start_time": "2025-03-14T05:33:38.621Z"
   },
   {
    "duration": 27,
    "start_time": "2025-03-14T05:33:55.160Z"
   },
   {
    "duration": 28,
    "start_time": "2025-03-14T05:33:57.397Z"
   },
   {
    "duration": 6,
    "start_time": "2025-03-14T05:34:14.849Z"
   },
   {
    "duration": 25,
    "start_time": "2025-03-14T05:34:44.641Z"
   },
   {
    "duration": 9,
    "start_time": "2025-03-14T05:34:57.442Z"
   },
   {
    "duration": 25,
    "start_time": "2025-03-14T05:35:18.722Z"
   },
   {
    "duration": 9,
    "start_time": "2025-03-14T05:35:30.549Z"
   },
   {
    "duration": 12,
    "start_time": "2025-03-14T05:35:46.023Z"
   },
   {
    "duration": 13,
    "start_time": "2025-03-14T05:35:46.729Z"
   },
   {
    "duration": 11,
    "start_time": "2025-03-14T05:35:46.973Z"
   },
   {
    "duration": 11,
    "start_time": "2025-03-14T05:35:47.347Z"
   },
   {
    "duration": 11,
    "start_time": "2025-03-14T05:35:47.920Z"
   },
   {
    "duration": 8,
    "start_time": "2025-03-14T05:35:48.206Z"
   },
   {
    "duration": 10,
    "start_time": "2025-03-14T05:35:48.539Z"
   },
   {
    "duration": 9,
    "start_time": "2025-03-14T05:35:49.056Z"
   },
   {
    "duration": 11,
    "start_time": "2025-03-14T05:38:46.431Z"
   },
   {
    "duration": 9,
    "start_time": "2025-03-14T05:44:38.469Z"
   },
   {
    "duration": 3,
    "start_time": "2025-03-14T05:46:13.896Z"
   },
   {
    "duration": 196,
    "start_time": "2025-03-14T05:46:40.540Z"
   },
   {
    "duration": 8,
    "start_time": "2025-03-14T05:47:28.625Z"
   },
   {
    "duration": 6,
    "start_time": "2025-03-14T05:49:32.334Z"
   },
   {
    "duration": 3,
    "start_time": "2025-03-14T05:49:33.034Z"
   },
   {
    "duration": 72,
    "start_time": "2025-03-14T05:49:33.909Z"
   },
   {
    "duration": 70,
    "start_time": "2025-03-14T05:49:36.408Z"
   },
   {
    "duration": 2,
    "start_time": "2025-03-14T05:58:21.783Z"
   },
   {
    "duration": 157,
    "start_time": "2025-03-14T05:58:22.025Z"
   },
   {
    "duration": 43,
    "start_time": "2025-03-14T05:58:22.276Z"
   },
   {
    "duration": 12,
    "start_time": "2025-03-14T05:58:22.425Z"
   },
   {
    "duration": 19,
    "start_time": "2025-03-14T05:58:22.864Z"
   },
   {
    "duration": 8,
    "start_time": "2025-03-14T05:58:23.010Z"
   },
   {
    "duration": 4,
    "start_time": "2025-03-14T05:58:23.568Z"
   },
   {
    "duration": 5,
    "start_time": "2025-03-14T05:58:23.692Z"
   },
   {
    "duration": 5,
    "start_time": "2025-03-14T05:58:24.152Z"
   },
   {
    "duration": 8,
    "start_time": "2025-03-14T05:58:24.300Z"
   },
   {
    "duration": 14,
    "start_time": "2025-03-14T05:58:24.603Z"
   },
   {
    "duration": 8,
    "start_time": "2025-03-14T05:58:24.729Z"
   },
   {
    "duration": 5,
    "start_time": "2025-03-14T05:58:25.315Z"
   },
   {
    "duration": 6,
    "start_time": "2025-03-14T05:58:25.769Z"
   },
   {
    "duration": 4,
    "start_time": "2025-03-14T05:58:25.912Z"
   },
   {
    "duration": 9,
    "start_time": "2025-03-14T05:58:26.042Z"
   },
   {
    "duration": 17,
    "start_time": "2025-03-14T05:58:26.364Z"
   },
   {
    "duration": 7,
    "start_time": "2025-03-14T05:58:26.491Z"
   },
   {
    "duration": 15,
    "start_time": "2025-03-14T05:58:27.293Z"
   },
   {
    "duration": 48,
    "start_time": "2025-03-14T05:58:27.426Z"
   },
   {
    "duration": 11,
    "start_time": "2025-03-14T05:58:27.917Z"
   },
   {
    "duration": 14,
    "start_time": "2025-03-14T05:58:28.059Z"
   },
   {
    "duration": 8,
    "start_time": "2025-03-14T05:58:28.210Z"
   },
   {
    "duration": 9,
    "start_time": "2025-03-14T05:58:28.519Z"
   },
   {
    "duration": 6,
    "start_time": "2025-03-14T05:58:28.677Z"
   },
   {
    "duration": 10,
    "start_time": "2025-03-14T05:58:29.292Z"
   },
   {
    "duration": 12,
    "start_time": "2025-03-14T05:58:29.759Z"
   },
   {
    "duration": 10,
    "start_time": "2025-03-14T05:58:29.909Z"
   },
   {
    "duration": 8,
    "start_time": "2025-03-14T05:58:30.059Z"
   },
   {
    "duration": 14,
    "start_time": "2025-03-14T05:58:30.418Z"
   },
   {
    "duration": 7,
    "start_time": "2025-03-14T05:58:30.579Z"
   },
   {
    "duration": 13,
    "start_time": "2025-03-14T05:58:31.231Z"
   },
   {
    "duration": 11,
    "start_time": "2025-03-14T05:58:31.735Z"
   },
   {
    "duration": 6,
    "start_time": "2025-03-14T05:58:31.925Z"
   },
   {
    "duration": 4,
    "start_time": "2025-03-14T05:58:32.095Z"
   },
   {
    "duration": 10,
    "start_time": "2025-03-14T05:58:32.259Z"
   },
   {
    "duration": 10,
    "start_time": "2025-03-14T05:58:32.868Z"
   },
   {
    "duration": 15,
    "start_time": "2025-03-14T05:58:33.093Z"
   },
   {
    "duration": 15,
    "start_time": "2025-03-14T05:58:33.259Z"
   },
   {
    "duration": 11,
    "start_time": "2025-03-14T05:58:33.443Z"
   },
   {
    "duration": 12,
    "start_time": "2025-03-14T05:58:33.610Z"
   },
   {
    "duration": 13,
    "start_time": "2025-03-14T05:58:34.119Z"
   },
   {
    "duration": 8,
    "start_time": "2025-03-14T05:58:34.280Z"
   },
   {
    "duration": 11,
    "start_time": "2025-03-14T05:58:34.443Z"
   },
   {
    "duration": 9,
    "start_time": "2025-03-14T05:58:34.626Z"
   },
   {
    "duration": 4,
    "start_time": "2025-03-14T05:58:35.234Z"
   },
   {
    "duration": 70,
    "start_time": "2025-03-14T05:58:35.447Z"
   },
   {
    "duration": 8,
    "start_time": "2025-03-14T05:58:36.282Z"
   },
   {
    "duration": 4,
    "start_time": "2025-03-14T06:00:33.455Z"
   },
   {
    "duration": 67,
    "start_time": "2025-03-14T06:00:35.082Z"
   },
   {
    "duration": 9,
    "start_time": "2025-03-14T06:00:41.877Z"
   },
   {
    "duration": 3,
    "start_time": "2025-03-14T06:00:42.914Z"
   },
   {
    "duration": 70,
    "start_time": "2025-03-14T06:00:43.293Z"
   },
   {
    "duration": 8,
    "start_time": "2025-03-14T06:00:43.686Z"
   },
   {
    "duration": 7,
    "start_time": "2025-03-14T06:05:06.984Z"
   },
   {
    "duration": 4,
    "start_time": "2025-03-14T06:05:07.834Z"
   },
   {
    "duration": 55,
    "start_time": "2025-03-14T06:05:08.920Z"
   },
   {
    "duration": 11,
    "start_time": "2025-03-14T06:05:11.186Z"
   },
   {
    "duration": 4,
    "start_time": "2025-03-14T06:07:16.380Z"
   },
   {
    "duration": 15,
    "start_time": "2025-03-14T06:07:48.555Z"
   },
   {
    "duration": 7,
    "start_time": "2025-03-14T06:09:10.178Z"
   },
   {
    "duration": 4,
    "start_time": "2025-03-14T06:09:13.223Z"
   },
   {
    "duration": 74,
    "start_time": "2025-03-14T06:09:14.105Z"
   },
   {
    "duration": 19,
    "start_time": "2025-03-14T06:09:15.156Z"
   },
   {
    "duration": 3,
    "start_time": "2025-03-14T06:10:15.859Z"
   },
   {
    "duration": 152,
    "start_time": "2025-03-14T06:10:16.323Z"
   },
   {
    "duration": 43,
    "start_time": "2025-03-14T06:10:17.112Z"
   },
   {
    "duration": 13,
    "start_time": "2025-03-14T06:10:17.324Z"
   },
   {
    "duration": 20,
    "start_time": "2025-03-14T06:10:17.993Z"
   },
   {
    "duration": 7,
    "start_time": "2025-03-14T06:10:18.138Z"
   },
   {
    "duration": 4,
    "start_time": "2025-03-14T06:10:19.211Z"
   },
   {
    "duration": 5,
    "start_time": "2025-03-14T06:10:19.373Z"
   },
   {
    "duration": 4,
    "start_time": "2025-03-14T06:10:19.861Z"
   },
   {
    "duration": 8,
    "start_time": "2025-03-14T06:10:20.006Z"
   },
   {
    "duration": 11,
    "start_time": "2025-03-14T06:10:20.338Z"
   },
   {
    "duration": 8,
    "start_time": "2025-03-14T06:10:20.504Z"
   },
   {
    "duration": 5,
    "start_time": "2025-03-14T06:10:21.195Z"
   },
   {
    "duration": 5,
    "start_time": "2025-03-14T06:10:21.687Z"
   },
   {
    "duration": 4,
    "start_time": "2025-03-14T06:10:21.871Z"
   },
   {
    "duration": 10,
    "start_time": "2025-03-14T06:10:22.038Z"
   },
   {
    "duration": 16,
    "start_time": "2025-03-14T06:10:22.644Z"
   },
   {
    "duration": 7,
    "start_time": "2025-03-14T06:10:22.957Z"
   },
   {
    "duration": 15,
    "start_time": "2025-03-14T06:10:23.646Z"
   },
   {
    "duration": 46,
    "start_time": "2025-03-14T06:10:23.974Z"
   },
   {
    "duration": 9,
    "start_time": "2025-03-14T06:10:24.805Z"
   },
   {
    "duration": 14,
    "start_time": "2025-03-14T06:10:25.005Z"
   },
   {
    "duration": 8,
    "start_time": "2025-03-14T06:10:25.206Z"
   },
   {
    "duration": 9,
    "start_time": "2025-03-14T06:10:25.629Z"
   },
   {
    "duration": 6,
    "start_time": "2025-03-14T06:10:25.822Z"
   },
   {
    "duration": 10,
    "start_time": "2025-03-14T06:10:27.046Z"
   },
   {
    "duration": 7,
    "start_time": "2025-03-14T06:10:27.661Z"
   },
   {
    "duration": 9,
    "start_time": "2025-03-14T06:10:27.854Z"
   },
   {
    "duration": 7,
    "start_time": "2025-03-14T06:10:28.055Z"
   },
   {
    "duration": 15,
    "start_time": "2025-03-14T06:10:28.488Z"
   },
   {
    "duration": 7,
    "start_time": "2025-03-14T06:10:28.687Z"
   },
   {
    "duration": 13,
    "start_time": "2025-03-14T06:10:29.547Z"
   },
   {
    "duration": 12,
    "start_time": "2025-03-14T06:10:30.205Z"
   },
   {
    "duration": 6,
    "start_time": "2025-03-14T06:10:30.423Z"
   },
   {
    "duration": 4,
    "start_time": "2025-03-14T06:10:30.624Z"
   },
   {
    "duration": 9,
    "start_time": "2025-03-14T06:10:30.846Z"
   },
   {
    "duration": 8,
    "start_time": "2025-03-14T06:10:31.675Z"
   },
   {
    "duration": 15,
    "start_time": "2025-03-14T06:10:32.396Z"
   },
   {
    "duration": 15,
    "start_time": "2025-03-14T06:10:33.080Z"
   },
   {
    "duration": 11,
    "start_time": "2025-03-14T06:10:33.321Z"
   },
   {
    "duration": 12,
    "start_time": "2025-03-14T06:10:33.589Z"
   },
   {
    "duration": 11,
    "start_time": "2025-03-14T06:10:34.387Z"
   },
   {
    "duration": 7,
    "start_time": "2025-03-14T06:10:34.607Z"
   },
   {
    "duration": 11,
    "start_time": "2025-03-14T06:10:34.803Z"
   },
   {
    "duration": 8,
    "start_time": "2025-03-14T06:10:36.475Z"
   },
   {
    "duration": 7,
    "start_time": "2025-03-14T06:10:39.155Z"
   },
   {
    "duration": 4,
    "start_time": "2025-03-14T06:10:39.725Z"
   },
   {
    "duration": 4,
    "start_time": "2025-03-14T06:10:40.528Z"
   },
   {
    "duration": 54,
    "start_time": "2025-03-14T06:10:41.395Z"
   },
   {
    "duration": 11,
    "start_time": "2025-03-14T06:10:42.409Z"
   },
   {
    "duration": 33,
    "start_time": "2025-03-14T06:25:03.640Z"
   },
   {
    "duration": 383,
    "start_time": "2025-03-14T06:28:23.687Z"
   },
   {
    "duration": 460,
    "start_time": "2025-03-14T06:29:11.557Z"
   },
   {
    "duration": 207,
    "start_time": "2025-03-14T06:30:00.172Z"
   },
   {
    "duration": 6,
    "start_time": "2025-03-14T06:30:54.872Z"
   },
   {
    "duration": 6,
    "start_time": "2025-03-14T06:30:57.373Z"
   },
   {
    "duration": 10,
    "start_time": "2025-03-14T06:31:22.546Z"
   },
   {
    "duration": 379,
    "start_time": "2025-03-14T06:31:59.665Z"
   },
   {
    "duration": 488,
    "start_time": "2025-03-14T06:35:05.885Z"
   },
   {
    "duration": 490,
    "start_time": "2025-03-14T06:35:49.420Z"
   },
   {
    "duration": 226,
    "start_time": "2025-03-14T06:38:55.333Z"
   },
   {
    "duration": 209,
    "start_time": "2025-03-14T06:40:08.062Z"
   },
   {
    "duration": 3,
    "start_time": "2025-03-14T06:41:23.049Z"
   },
   {
    "duration": 155,
    "start_time": "2025-03-14T06:41:23.445Z"
   },
   {
    "duration": 43,
    "start_time": "2025-03-14T06:41:23.904Z"
   },
   {
    "duration": 12,
    "start_time": "2025-03-14T06:41:24.191Z"
   },
   {
    "duration": 20,
    "start_time": "2025-03-14T06:41:24.832Z"
   },
   {
    "duration": 8,
    "start_time": "2025-03-14T06:41:25.010Z"
   },
   {
    "duration": 5,
    "start_time": "2025-03-14T06:41:25.708Z"
   },
   {
    "duration": 6,
    "start_time": "2025-03-14T06:41:25.873Z"
   },
   {
    "duration": 5,
    "start_time": "2025-03-14T06:41:26.344Z"
   },
   {
    "duration": 9,
    "start_time": "2025-03-14T06:41:26.666Z"
   },
   {
    "duration": 11,
    "start_time": "2025-03-14T06:41:26.958Z"
   },
   {
    "duration": 9,
    "start_time": "2025-03-14T06:41:27.123Z"
   },
   {
    "duration": 4,
    "start_time": "2025-03-14T06:41:27.743Z"
   },
   {
    "duration": 6,
    "start_time": "2025-03-14T06:41:28.231Z"
   },
   {
    "duration": 5,
    "start_time": "2025-03-14T06:41:28.372Z"
   },
   {
    "duration": 10,
    "start_time": "2025-03-14T06:41:28.524Z"
   },
   {
    "duration": 16,
    "start_time": "2025-03-14T06:41:28.885Z"
   },
   {
    "duration": 6,
    "start_time": "2025-03-14T06:41:29.058Z"
   },
   {
    "duration": 15,
    "start_time": "2025-03-14T06:41:29.724Z"
   },
   {
    "duration": 46,
    "start_time": "2025-03-14T06:41:29.891Z"
   },
   {
    "duration": 10,
    "start_time": "2025-03-14T06:41:30.406Z"
   },
   {
    "duration": 13,
    "start_time": "2025-03-14T06:41:30.559Z"
   },
   {
    "duration": 8,
    "start_time": "2025-03-14T06:41:30.739Z"
   },
   {
    "duration": 10,
    "start_time": "2025-03-14T06:41:31.059Z"
   },
   {
    "duration": 6,
    "start_time": "2025-03-14T06:41:31.224Z"
   },
   {
    "duration": 10,
    "start_time": "2025-03-14T06:41:31.856Z"
   },
   {
    "duration": 7,
    "start_time": "2025-03-14T06:41:32.398Z"
   },
   {
    "duration": 9,
    "start_time": "2025-03-14T06:41:32.558Z"
   },
   {
    "duration": 7,
    "start_time": "2025-03-14T06:41:32.724Z"
   },
   {
    "duration": 15,
    "start_time": "2025-03-14T06:41:33.040Z"
   },
   {
    "duration": 7,
    "start_time": "2025-03-14T06:41:33.189Z"
   },
   {
    "duration": 13,
    "start_time": "2025-03-14T06:41:33.875Z"
   },
   {
    "duration": 11,
    "start_time": "2025-03-14T06:41:34.398Z"
   },
   {
    "duration": 5,
    "start_time": "2025-03-14T06:41:34.575Z"
   },
   {
    "duration": 4,
    "start_time": "2025-03-14T06:41:34.739Z"
   },
   {
    "duration": 8,
    "start_time": "2025-03-14T06:41:35.044Z"
   },
   {
    "duration": 9,
    "start_time": "2025-03-14T06:41:35.591Z"
   },
   {
    "duration": 15,
    "start_time": "2025-03-14T06:41:35.950Z"
   },
   {
    "duration": 13,
    "start_time": "2025-03-14T06:41:36.106Z"
   },
   {
    "duration": 11,
    "start_time": "2025-03-14T06:41:36.289Z"
   },
   {
    "duration": 13,
    "start_time": "2025-03-14T06:41:36.455Z"
   },
   {
    "duration": 10,
    "start_time": "2025-03-14T06:41:36.814Z"
   },
   {
    "duration": 8,
    "start_time": "2025-03-14T06:41:36.959Z"
   },
   {
    "duration": 11,
    "start_time": "2025-03-14T06:41:37.139Z"
   },
   {
    "duration": 11,
    "start_time": "2025-03-14T06:41:37.290Z"
   },
   {
    "duration": 6,
    "start_time": "2025-03-14T06:41:37.640Z"
   },
   {
    "duration": 5,
    "start_time": "2025-03-14T06:41:37.798Z"
   },
   {
    "duration": 3,
    "start_time": "2025-03-14T06:41:37.973Z"
   },
   {
    "duration": 61,
    "start_time": "2025-03-14T06:41:38.140Z"
   },
   {
    "duration": 11,
    "start_time": "2025-03-14T06:41:38.291Z"
   },
   {
    "duration": 365,
    "start_time": "2025-03-14T06:41:38.974Z"
   },
   {
    "duration": 471,
    "start_time": "2025-03-14T06:41:39.341Z"
   },
   {
    "duration": 9,
    "start_time": "2025-03-14T06:41:39.813Z"
   },
   {
    "duration": 246,
    "start_time": "2025-03-14T06:41:39.824Z"
   },
   {
    "duration": 240,
    "start_time": "2025-03-14T06:41:40.490Z"
   },
   {
    "duration": 234,
    "start_time": "2025-03-14T06:41:40.732Z"
   },
   {
    "duration": 2,
    "start_time": "2025-03-14T06:41:45.712Z"
   },
   {
    "duration": 243,
    "start_time": "2025-03-14T06:44:44.314Z"
   },
   {
    "duration": 236,
    "start_time": "2025-03-14T06:44:57.978Z"
   },
   {
    "duration": 207,
    "start_time": "2025-03-14T06:45:19.564Z"
   },
   {
    "duration": 197,
    "start_time": "2025-03-14T06:45:20.075Z"
   },
   {
    "duration": 2486,
    "start_time": "2025-03-14T13:43:51.112Z"
   },
   {
    "duration": 234,
    "start_time": "2025-03-14T13:43:53.600Z"
   },
   {
    "duration": 43,
    "start_time": "2025-03-14T13:43:53.836Z"
   },
   {
    "duration": 12,
    "start_time": "2025-03-14T13:43:53.883Z"
   },
   {
    "duration": 19,
    "start_time": "2025-03-14T13:43:53.897Z"
   },
   {
    "duration": 7,
    "start_time": "2025-03-14T13:43:53.918Z"
   },
   {
    "duration": 4,
    "start_time": "2025-03-14T13:43:54.269Z"
   },
   {
    "duration": 5,
    "start_time": "2025-03-14T13:43:54.403Z"
   },
   {
    "duration": 6,
    "start_time": "2025-03-14T13:43:54.836Z"
   },
   {
    "duration": 9,
    "start_time": "2025-03-14T13:43:54.987Z"
   },
   {
    "duration": 11,
    "start_time": "2025-03-14T13:43:55.473Z"
   },
   {
    "duration": 8,
    "start_time": "2025-03-14T13:43:55.921Z"
   },
   {
    "duration": 5,
    "start_time": "2025-03-14T13:43:57.277Z"
   },
   {
    "duration": 6,
    "start_time": "2025-03-14T13:43:57.771Z"
   },
   {
    "duration": 5,
    "start_time": "2025-03-14T13:43:57.919Z"
   },
   {
    "duration": 10,
    "start_time": "2025-03-14T13:43:58.119Z"
   },
   {
    "duration": 17,
    "start_time": "2025-03-14T13:43:58.502Z"
   },
   {
    "duration": 7,
    "start_time": "2025-03-14T13:43:58.635Z"
   },
   {
    "duration": 16,
    "start_time": "2025-03-14T13:43:59.735Z"
   },
   {
    "duration": 49,
    "start_time": "2025-03-14T13:44:00.156Z"
   },
   {
    "duration": 10,
    "start_time": "2025-03-14T13:44:00.754Z"
   },
   {
    "duration": 14,
    "start_time": "2025-03-14T13:44:00.920Z"
   },
   {
    "duration": 8,
    "start_time": "2025-03-14T13:44:01.121Z"
   },
   {
    "duration": 11,
    "start_time": "2025-03-14T13:44:01.469Z"
   },
   {
    "duration": 6,
    "start_time": "2025-03-14T13:44:01.659Z"
   },
   {
    "duration": 10,
    "start_time": "2025-03-14T13:44:03.063Z"
   },
   {
    "duration": 8,
    "start_time": "2025-03-14T13:44:04.202Z"
   },
   {
    "duration": 9,
    "start_time": "2025-03-14T13:44:04.441Z"
   },
   {
    "duration": 7,
    "start_time": "2025-03-14T13:44:04.655Z"
   },
   {
    "duration": 15,
    "start_time": "2025-03-14T13:44:05.147Z"
   },
   {
    "duration": 7,
    "start_time": "2025-03-14T13:44:05.389Z"
   },
   {
    "duration": 12,
    "start_time": "2025-03-14T13:44:06.588Z"
   },
   {
    "duration": 11,
    "start_time": "2025-03-14T13:44:07.821Z"
   },
   {
    "duration": 5,
    "start_time": "2025-03-14T13:44:08.004Z"
   },
   {
    "duration": 3,
    "start_time": "2025-03-14T13:44:08.540Z"
   },
   {
    "duration": 8,
    "start_time": "2025-03-14T13:44:08.840Z"
   },
   {
    "duration": 10,
    "start_time": "2025-03-14T13:44:10.038Z"
   },
   {
    "duration": 15,
    "start_time": "2025-03-14T13:44:11.253Z"
   },
   {
    "duration": 17,
    "start_time": "2025-03-14T13:44:11.674Z"
   },
   {
    "duration": 12,
    "start_time": "2025-03-14T13:44:12.126Z"
   },
   {
    "duration": 15,
    "start_time": "2025-03-14T13:44:12.492Z"
   },
   {
    "duration": 11,
    "start_time": "2025-03-14T13:44:13.180Z"
   },
   {
    "duration": 7,
    "start_time": "2025-03-14T13:44:13.492Z"
   },
   {
    "duration": 9,
    "start_time": "2025-03-14T13:44:13.743Z"
   },
   {
    "duration": 8,
    "start_time": "2025-03-14T13:44:14.004Z"
   },
   {
    "duration": 6,
    "start_time": "2025-03-14T13:44:14.552Z"
   },
   {
    "duration": 4,
    "start_time": "2025-03-14T13:44:14.771Z"
   },
   {
    "duration": 3,
    "start_time": "2025-03-14T13:44:15.043Z"
   },
   {
    "duration": 55,
    "start_time": "2025-03-14T13:44:15.288Z"
   },
   {
    "duration": 11,
    "start_time": "2025-03-14T13:44:15.572Z"
   },
   {
    "duration": 399,
    "start_time": "2025-03-14T13:44:16.638Z"
   },
   {
    "duration": 459,
    "start_time": "2025-03-14T13:44:17.039Z"
   },
   {
    "duration": 10,
    "start_time": "2025-03-14T13:44:17.574Z"
   },
   {
    "duration": 214,
    "start_time": "2025-03-14T13:44:18.005Z"
   },
   {
    "duration": 208,
    "start_time": "2025-03-14T13:44:18.989Z"
   },
   {
    "duration": 261,
    "start_time": "2025-03-14T13:44:19.455Z"
   },
   {
    "duration": 37,
    "start_time": "2025-03-14T13:50:10.019Z"
   },
   {
    "duration": 36,
    "start_time": "2025-03-14T13:50:22.304Z"
   },
   {
    "duration": 3,
    "start_time": "2025-03-14T13:59:14.956Z"
   },
   {
    "duration": 54,
    "start_time": "2025-03-14T13:59:15.496Z"
   },
   {
    "duration": 11,
    "start_time": "2025-03-14T13:59:16.682Z"
   },
   {
    "duration": 330,
    "start_time": "2025-03-14T13:59:19.380Z"
   },
   {
    "duration": 435,
    "start_time": "2025-03-14T13:59:25.814Z"
   },
   {
    "duration": 10,
    "start_time": "2025-03-14T13:59:27.255Z"
   },
   {
    "duration": 199,
    "start_time": "2025-03-14T13:59:27.413Z"
   },
   {
    "duration": 231,
    "start_time": "2025-03-14T13:59:27.945Z"
   },
   {
    "duration": 241,
    "start_time": "2025-03-14T13:59:28.178Z"
   },
   {
    "duration": 216,
    "start_time": "2025-03-14T14:05:15.578Z"
   },
   {
    "duration": 2,
    "start_time": "2025-03-14T14:05:52.849Z"
   },
   {
    "duration": 12,
    "start_time": "2025-03-14T14:05:53.518Z"
   },
   {
    "duration": 4,
    "start_time": "2025-03-14T14:06:04.013Z"
   },
   {
    "duration": 6,
    "start_time": "2025-03-14T14:06:10.299Z"
   },
   {
    "duration": 9,
    "start_time": "2025-03-14T14:06:14.019Z"
   },
   {
    "duration": 4,
    "start_time": "2025-03-14T14:06:14.795Z"
   },
   {
    "duration": 3,
    "start_time": "2025-03-14T14:17:42.667Z"
   },
   {
    "duration": 4,
    "start_time": "2025-03-14T14:18:29.216Z"
   },
   {
    "duration": 4,
    "start_time": "2025-03-14T14:18:30.019Z"
   },
   {
    "duration": 9,
    "start_time": "2025-03-14T14:20:45.150Z"
   },
   {
    "duration": 32,
    "start_time": "2025-03-14T14:20:54.332Z"
   },
   {
    "duration": 14,
    "start_time": "2025-03-14T14:52:55.007Z"
   },
   {
    "duration": 77,
    "start_time": "2025-03-14T14:53:07.501Z"
   },
   {
    "duration": 15,
    "start_time": "2025-03-14T14:53:22.935Z"
   },
   {
    "duration": 13,
    "start_time": "2025-03-14T14:53:30.285Z"
   },
   {
    "duration": 10,
    "start_time": "2025-03-14T14:53:44.518Z"
   },
   {
    "duration": 3,
    "start_time": "2025-03-14T14:56:42.402Z"
   },
   {
    "duration": 558,
    "start_time": "2025-03-14T14:56:43.007Z"
   },
   {
    "duration": 12,
    "start_time": "2025-03-14T14:56:44.783Z"
   },
   {
    "duration": 68,
    "start_time": "2025-03-14T14:57:47.379Z"
   },
   {
    "duration": 3,
    "start_time": "2025-03-14T14:58:42.166Z"
   },
   {
    "duration": 161,
    "start_time": "2025-03-14T14:58:42.458Z"
   },
   {
    "duration": 42,
    "start_time": "2025-03-14T14:58:42.731Z"
   },
   {
    "duration": 12,
    "start_time": "2025-03-14T14:58:42.868Z"
   },
   {
    "duration": 19,
    "start_time": "2025-03-14T14:58:43.266Z"
   },
   {
    "duration": 7,
    "start_time": "2025-03-14T14:58:43.401Z"
   },
   {
    "duration": 8,
    "start_time": "2025-03-14T14:58:43.537Z"
   },
   {
    "duration": 3,
    "start_time": "2025-03-14T14:58:44.066Z"
   },
   {
    "duration": 5,
    "start_time": "2025-03-14T14:58:44.185Z"
   },
   {
    "duration": 8,
    "start_time": "2025-03-14T14:58:44.754Z"
   },
   {
    "duration": 11,
    "start_time": "2025-03-14T14:58:45.050Z"
   },
   {
    "duration": 10,
    "start_time": "2025-03-14T14:58:45.213Z"
   },
   {
    "duration": 5,
    "start_time": "2025-03-14T14:58:45.799Z"
   },
   {
    "duration": 6,
    "start_time": "2025-03-14T14:58:46.265Z"
   },
   {
    "duration": 5,
    "start_time": "2025-03-14T14:58:46.385Z"
   },
   {
    "duration": 9,
    "start_time": "2025-03-14T14:58:46.553Z"
   },
   {
    "duration": 16,
    "start_time": "2025-03-14T14:58:46.832Z"
   },
   {
    "duration": 7,
    "start_time": "2025-03-14T14:58:46.983Z"
   },
   {
    "duration": 15,
    "start_time": "2025-03-14T14:58:47.565Z"
   },
   {
    "duration": 48,
    "start_time": "2025-03-14T14:58:47.715Z"
   },
   {
    "duration": 11,
    "start_time": "2025-03-14T14:58:48.247Z"
   },
   {
    "duration": 14,
    "start_time": "2025-03-14T14:58:48.399Z"
   },
   {
    "duration": 8,
    "start_time": "2025-03-14T14:58:48.548Z"
   },
   {
    "duration": 10,
    "start_time": "2025-03-14T14:58:48.881Z"
   },
   {
    "duration": 7,
    "start_time": "2025-03-14T14:58:49.199Z"
   },
   {
    "duration": 10,
    "start_time": "2025-03-14T14:58:49.816Z"
   },
   {
    "duration": 6,
    "start_time": "2025-03-14T14:58:50.305Z"
   },
   {
    "duration": 9,
    "start_time": "2025-03-14T14:58:50.468Z"
   },
   {
    "duration": 8,
    "start_time": "2025-03-14T14:58:50.631Z"
   },
   {
    "duration": 15,
    "start_time": "2025-03-14T14:58:50.965Z"
   },
   {
    "duration": 7,
    "start_time": "2025-03-14T14:58:51.133Z"
   },
   {
    "duration": 16,
    "start_time": "2025-03-14T14:58:51.799Z"
   },
   {
    "duration": 12,
    "start_time": "2025-03-14T14:58:52.299Z"
   },
   {
    "duration": 5,
    "start_time": "2025-03-14T14:58:52.499Z"
   },
   {
    "duration": 4,
    "start_time": "2025-03-14T14:58:52.682Z"
   },
   {
    "duration": 9,
    "start_time": "2025-03-14T14:58:52.848Z"
   },
   {
    "duration": 8,
    "start_time": "2025-03-14T14:58:53.599Z"
   },
   {
    "duration": 16,
    "start_time": "2025-03-14T14:58:54.016Z"
   },
   {
    "duration": 17,
    "start_time": "2025-03-14T14:58:54.232Z"
   },
   {
    "duration": 13,
    "start_time": "2025-03-14T14:58:54.517Z"
   },
   {
    "duration": 12,
    "start_time": "2025-03-14T14:58:54.703Z"
   },
   {
    "duration": 11,
    "start_time": "2025-03-14T14:58:55.015Z"
   },
   {
    "duration": 8,
    "start_time": "2025-03-14T14:58:55.333Z"
   },
   {
    "duration": 11,
    "start_time": "2025-03-14T14:58:55.566Z"
   },
   {
    "duration": 9,
    "start_time": "2025-03-14T14:58:55.752Z"
   },
   {
    "duration": 9,
    "start_time": "2025-03-14T14:58:56.338Z"
   },
   {
    "duration": 4,
    "start_time": "2025-03-14T14:58:56.635Z"
   },
   {
    "duration": 4,
    "start_time": "2025-03-14T14:58:56.854Z"
   },
   {
    "duration": 83,
    "start_time": "2025-03-14T14:58:57.147Z"
   },
   {
    "duration": 3,
    "start_time": "2025-03-14T15:00:52.337Z"
   },
   {
    "duration": 71,
    "start_time": "2025-03-14T15:00:53.299Z"
   },
   {
    "duration": 7,
    "start_time": "2025-03-14T15:02:12.117Z"
   },
   {
    "duration": 5,
    "start_time": "2025-03-14T15:02:12.698Z"
   },
   {
    "duration": 3,
    "start_time": "2025-03-14T15:02:13.281Z"
   },
   {
    "duration": 70,
    "start_time": "2025-03-14T15:02:13.806Z"
   },
   {
    "duration": 69,
    "start_time": "2025-03-14T15:02:18.916Z"
   },
   {
    "duration": 7,
    "start_time": "2025-03-14T15:02:48.398Z"
   },
   {
    "duration": 4,
    "start_time": "2025-03-14T15:02:51.167Z"
   },
   {
    "duration": 4,
    "start_time": "2025-03-14T15:02:53.382Z"
   },
   {
    "duration": 69,
    "start_time": "2025-03-14T15:02:55.365Z"
   },
   {
    "duration": 16,
    "start_time": "2025-03-14T15:02:57.419Z"
   },
   {
    "duration": 16,
    "start_time": "2025-03-14T15:03:54.581Z"
   },
   {
    "duration": 3,
    "start_time": "2025-03-14T15:04:28.732Z"
   },
   {
    "duration": 162,
    "start_time": "2025-03-14T15:04:29.464Z"
   },
   {
    "duration": 42,
    "start_time": "2025-03-14T15:04:29.915Z"
   },
   {
    "duration": 15,
    "start_time": "2025-03-14T15:04:30.080Z"
   },
   {
    "duration": 21,
    "start_time": "2025-03-14T15:04:30.632Z"
   },
   {
    "duration": 7,
    "start_time": "2025-03-14T15:04:30.815Z"
   },
   {
    "duration": 9,
    "start_time": "2025-03-14T15:04:31.113Z"
   },
   {
    "duration": 4,
    "start_time": "2025-03-14T15:04:32.001Z"
   },
   {
    "duration": 6,
    "start_time": "2025-03-14T15:04:32.220Z"
   },
   {
    "duration": 9,
    "start_time": "2025-03-14T15:04:33.138Z"
   },
   {
    "duration": 11,
    "start_time": "2025-03-14T15:04:33.513Z"
   },
   {
    "duration": 9,
    "start_time": "2025-03-14T15:04:33.697Z"
   },
   {
    "duration": 5,
    "start_time": "2025-03-14T15:04:34.613Z"
   },
   {
    "duration": 7,
    "start_time": "2025-03-14T15:04:35.315Z"
   },
   {
    "duration": 5,
    "start_time": "2025-03-14T15:04:35.513Z"
   },
   {
    "duration": 10,
    "start_time": "2025-03-14T15:04:35.732Z"
   },
   {
    "duration": 15,
    "start_time": "2025-03-14T15:04:36.230Z"
   },
   {
    "duration": 7,
    "start_time": "2025-03-14T15:04:36.497Z"
   },
   {
    "duration": 14,
    "start_time": "2025-03-14T15:04:37.264Z"
   },
   {
    "duration": 51,
    "start_time": "2025-03-14T15:04:37.469Z"
   },
   {
    "duration": 10,
    "start_time": "2025-03-14T15:04:38.063Z"
   },
   {
    "duration": 14,
    "start_time": "2025-03-14T15:04:38.286Z"
   },
   {
    "duration": 8,
    "start_time": "2025-03-14T15:04:38.480Z"
   },
   {
    "duration": 10,
    "start_time": "2025-03-14T15:04:38.847Z"
   },
   {
    "duration": 6,
    "start_time": "2025-03-14T15:04:39.046Z"
   },
   {
    "duration": 10,
    "start_time": "2025-03-14T15:04:39.784Z"
   },
   {
    "duration": 7,
    "start_time": "2025-03-14T15:04:40.330Z"
   },
   {
    "duration": 10,
    "start_time": "2025-03-14T15:04:40.514Z"
   },
   {
    "duration": 7,
    "start_time": "2025-03-14T15:04:40.679Z"
   },
   {
    "duration": 17,
    "start_time": "2025-03-14T15:04:41.012Z"
   },
   {
    "duration": 7,
    "start_time": "2025-03-14T15:04:41.203Z"
   },
   {
    "duration": 12,
    "start_time": "2025-03-14T15:04:41.907Z"
   },
   {
    "duration": 11,
    "start_time": "2025-03-14T15:04:42.431Z"
   },
   {
    "duration": 5,
    "start_time": "2025-03-14T15:04:42.618Z"
   },
   {
    "duration": 4,
    "start_time": "2025-03-14T15:04:42.796Z"
   },
   {
    "duration": 9,
    "start_time": "2025-03-14T15:04:42.979Z"
   },
   {
    "duration": 8,
    "start_time": "2025-03-14T15:04:43.547Z"
   },
   {
    "duration": 16,
    "start_time": "2025-03-14T15:04:43.932Z"
   },
   {
    "duration": 18,
    "start_time": "2025-03-14T15:04:44.117Z"
   },
   {
    "duration": 12,
    "start_time": "2025-03-14T15:04:44.316Z"
   },
   {
    "duration": 12,
    "start_time": "2025-03-14T15:04:44.497Z"
   },
   {
    "duration": 10,
    "start_time": "2025-03-14T15:04:44.899Z"
   },
   {
    "duration": 7,
    "start_time": "2025-03-14T15:04:45.098Z"
   },
   {
    "duration": 11,
    "start_time": "2025-03-14T15:04:45.279Z"
   },
   {
    "duration": 8,
    "start_time": "2025-03-14T15:04:45.463Z"
   },
   {
    "duration": 7,
    "start_time": "2025-03-14T15:04:45.829Z"
   },
   {
    "duration": 4,
    "start_time": "2025-03-14T15:04:46.016Z"
   },
   {
    "duration": 3,
    "start_time": "2025-03-14T15:04:46.218Z"
   },
   {
    "duration": 10,
    "start_time": "2025-03-14T15:04:46.401Z"
   },
   {
    "duration": 56,
    "start_time": "2025-03-14T15:04:46.582Z"
   },
   {
    "duration": 11,
    "start_time": "2025-03-14T15:04:47.450Z"
   },
   {
    "duration": 33,
    "start_time": "2025-03-14T15:04:47.797Z"
   },
   {
    "duration": 3,
    "start_time": "2025-03-14T15:07:56.060Z"
   },
   {
    "duration": 8,
    "start_time": "2025-03-14T15:07:56.701Z"
   },
   {
    "duration": 3,
    "start_time": "2025-03-14T15:08:05.214Z"
   },
   {
    "duration": 10,
    "start_time": "2025-03-14T15:08:05.419Z"
   },
   {
    "duration": 7,
    "start_time": "2025-03-14T15:08:05.915Z"
   },
   {
    "duration": 15,
    "start_time": "2025-03-14T15:08:06.578Z"
   },
   {
    "duration": 17,
    "start_time": "2025-03-14T15:08:06.730Z"
   },
   {
    "duration": 11,
    "start_time": "2025-03-14T15:08:06.897Z"
   },
   {
    "duration": 11,
    "start_time": "2025-03-14T15:08:07.047Z"
   },
   {
    "duration": 11,
    "start_time": "2025-03-14T15:08:07.349Z"
   },
   {
    "duration": 7,
    "start_time": "2025-03-14T15:08:07.541Z"
   },
   {
    "duration": 9,
    "start_time": "2025-03-14T15:08:07.696Z"
   },
   {
    "duration": 8,
    "start_time": "2025-03-14T15:08:07.828Z"
   },
   {
    "duration": 7,
    "start_time": "2025-03-14T15:08:08.164Z"
   },
   {
    "duration": 5,
    "start_time": "2025-03-14T15:08:08.328Z"
   },
   {
    "duration": 4,
    "start_time": "2025-03-14T15:08:08.496Z"
   },
   {
    "duration": 10,
    "start_time": "2025-03-14T15:08:08.665Z"
   },
   {
    "duration": 54,
    "start_time": "2025-03-14T15:08:08.829Z"
   },
   {
    "duration": 10,
    "start_time": "2025-03-14T15:08:08.996Z"
   },
   {
    "duration": 32,
    "start_time": "2025-03-14T15:08:09.164Z"
   },
   {
    "duration": 355,
    "start_time": "2025-03-14T15:08:09.899Z"
   },
   {
    "duration": 454,
    "start_time": "2025-03-14T15:08:10.298Z"
   },
   {
    "duration": 3,
    "start_time": "2025-03-14T15:08:39.328Z"
   },
   {
    "duration": 161,
    "start_time": "2025-03-14T15:08:39.662Z"
   },
   {
    "duration": 43,
    "start_time": "2025-03-14T15:08:40.063Z"
   },
   {
    "duration": 12,
    "start_time": "2025-03-14T15:08:40.227Z"
   },
   {
    "duration": 20,
    "start_time": "2025-03-14T15:08:41.081Z"
   },
   {
    "duration": 8,
    "start_time": "2025-03-14T15:08:41.247Z"
   },
   {
    "duration": 9,
    "start_time": "2025-03-14T15:08:41.413Z"
   },
   {
    "duration": 3,
    "start_time": "2025-03-14T15:08:46.266Z"
   },
   {
    "duration": 194,
    "start_time": "2025-03-14T15:08:46.272Z"
   },
   {
    "duration": 42,
    "start_time": "2025-03-14T15:08:46.467Z"
   },
   {
    "duration": 12,
    "start_time": "2025-03-14T15:08:46.511Z"
   },
   {
    "duration": 34,
    "start_time": "2025-03-14T15:08:46.525Z"
   },
   {
    "duration": 18,
    "start_time": "2025-03-14T15:08:46.560Z"
   },
   {
    "duration": 8,
    "start_time": "2025-03-14T15:08:46.580Z"
   },
   {
    "duration": 4,
    "start_time": "2025-03-14T15:08:46.590Z"
   },
   {
    "duration": 5,
    "start_time": "2025-03-14T15:08:46.595Z"
   },
   {
    "duration": 8,
    "start_time": "2025-03-14T15:08:46.601Z"
   },
   {
    "duration": 10,
    "start_time": "2025-03-14T15:08:46.610Z"
   },
   {
    "duration": 8,
    "start_time": "2025-03-14T15:08:46.621Z"
   },
   {
    "duration": 6,
    "start_time": "2025-03-14T15:08:46.671Z"
   },
   {
    "duration": 7,
    "start_time": "2025-03-14T15:08:46.682Z"
   },
   {
    "duration": 4,
    "start_time": "2025-03-14T15:08:46.691Z"
   },
   {
    "duration": 10,
    "start_time": "2025-03-14T15:08:46.696Z"
   },
   {
    "duration": 15,
    "start_time": "2025-03-14T15:08:46.707Z"
   },
   {
    "duration": 7,
    "start_time": "2025-03-14T15:08:46.724Z"
   },
   {
    "duration": 55,
    "start_time": "2025-03-14T15:08:46.732Z"
   },
   {
    "duration": 49,
    "start_time": "2025-03-14T15:08:46.788Z"
   },
   {
    "duration": 11,
    "start_time": "2025-03-14T15:08:46.838Z"
   },
   {
    "duration": 30,
    "start_time": "2025-03-14T15:08:46.850Z"
   },
   {
    "duration": 10,
    "start_time": "2025-03-14T15:08:46.882Z"
   },
   {
    "duration": 9,
    "start_time": "2025-03-14T15:08:46.893Z"
   },
   {
    "duration": 6,
    "start_time": "2025-03-14T15:08:46.904Z"
   },
   {
    "duration": 11,
    "start_time": "2025-03-14T15:08:46.911Z"
   },
   {
    "duration": 6,
    "start_time": "2025-03-14T15:08:46.923Z"
   },
   {
    "duration": 41,
    "start_time": "2025-03-14T15:08:46.931Z"
   },
   {
    "duration": 9,
    "start_time": "2025-03-14T15:08:46.974Z"
   },
   {
    "duration": 14,
    "start_time": "2025-03-14T15:08:46.984Z"
   },
   {
    "duration": 6,
    "start_time": "2025-03-14T15:08:47.000Z"
   },
   {
    "duration": 13,
    "start_time": "2025-03-14T15:08:47.007Z"
   },
   {
    "duration": 10,
    "start_time": "2025-03-14T15:08:47.022Z"
   },
   {
    "duration": 5,
    "start_time": "2025-03-14T15:08:47.033Z"
   },
   {
    "duration": 4,
    "start_time": "2025-03-14T15:08:47.071Z"
   },
   {
    "duration": 9,
    "start_time": "2025-03-14T15:08:47.076Z"
   },
   {
    "duration": 8,
    "start_time": "2025-03-14T15:08:47.087Z"
   },
   {
    "duration": 16,
    "start_time": "2025-03-14T15:08:47.096Z"
   },
   {
    "duration": 17,
    "start_time": "2025-03-14T15:08:47.114Z"
   },
   {
    "duration": 37,
    "start_time": "2025-03-14T15:08:47.134Z"
   },
   {
    "duration": 16,
    "start_time": "2025-03-14T15:08:47.178Z"
   },
   {
    "duration": 12,
    "start_time": "2025-03-14T15:08:47.197Z"
   },
   {
    "duration": 8,
    "start_time": "2025-03-14T15:08:47.210Z"
   },
   {
    "duration": 10,
    "start_time": "2025-03-14T15:08:47.220Z"
   },
   {
    "duration": 7,
    "start_time": "2025-03-14T15:08:47.232Z"
   },
   {
    "duration": 7,
    "start_time": "2025-03-14T15:08:47.270Z"
   },
   {
    "duration": 4,
    "start_time": "2025-03-14T15:08:47.280Z"
   },
   {
    "duration": 4,
    "start_time": "2025-03-14T15:08:47.285Z"
   },
   {
    "duration": 10,
    "start_time": "2025-03-14T15:08:47.291Z"
   },
   {
    "duration": 79,
    "start_time": "2025-03-14T15:08:47.303Z"
   },
   {
    "duration": 10,
    "start_time": "2025-03-14T15:08:47.384Z"
   },
   {
    "duration": 32,
    "start_time": "2025-03-14T15:08:47.395Z"
   },
   {
    "duration": 378,
    "start_time": "2025-03-14T15:08:47.428Z"
   },
   {
    "duration": 472,
    "start_time": "2025-03-14T15:08:47.808Z"
   },
   {
    "duration": 10,
    "start_time": "2025-03-14T15:08:48.282Z"
   },
   {
    "duration": 3,
    "start_time": "2025-03-14T15:08:48.293Z"
   },
   {
    "duration": 3,
    "start_time": "2025-03-14T15:08:48.299Z"
   },
   {
    "duration": 226,
    "start_time": "2025-03-14T15:08:48.303Z"
   },
   {
    "duration": 266,
    "start_time": "2025-03-14T15:08:48.531Z"
   },
   {
    "duration": 225,
    "start_time": "2025-03-14T15:08:48.799Z"
   },
   {
    "duration": 3,
    "start_time": "2025-03-14T15:08:49.025Z"
   },
   {
    "duration": 3,
    "start_time": "2025-03-14T15:08:49.030Z"
   },
   {
    "duration": 232,
    "start_time": "2025-03-14T15:15:55.394Z"
   },
   {
    "duration": 3,
    "start_time": "2025-03-14T15:15:55.928Z"
   },
   {
    "duration": 8,
    "start_time": "2025-03-14T15:15:56.895Z"
   },
   {
    "duration": 11,
    "start_time": "2025-03-14T15:16:24.543Z"
   },
   {
    "duration": 9,
    "start_time": "2025-03-14T15:16:33.855Z"
   },
   {
    "duration": 37,
    "start_time": "2025-03-14T15:58:09.298Z"
   },
   {
    "duration": 3,
    "start_time": "2025-03-14T16:02:54.706Z"
   },
   {
    "duration": 149,
    "start_time": "2025-03-14T16:02:55.701Z"
   },
   {
    "duration": 44,
    "start_time": "2025-03-14T16:02:56.826Z"
   },
   {
    "duration": 12,
    "start_time": "2025-03-14T16:02:57.319Z"
   },
   {
    "duration": 20,
    "start_time": "2025-03-14T16:03:00.819Z"
   },
   {
    "duration": 8,
    "start_time": "2025-03-14T16:03:01.528Z"
   },
   {
    "duration": 8,
    "start_time": "2025-03-14T16:03:22.842Z"
   },
   {
    "duration": 3,
    "start_time": "2025-03-14T16:05:22.092Z"
   },
   {
    "duration": 8,
    "start_time": "2025-03-14T16:05:32.376Z"
   },
   {
    "duration": 4,
    "start_time": "2025-03-14T16:07:29.746Z"
   },
   {
    "duration": 10,
    "start_time": "2025-03-14T16:07:30.485Z"
   },
   {
    "duration": 21,
    "start_time": "2025-03-14T16:07:48.466Z"
   },
   {
    "duration": 8,
    "start_time": "2025-03-14T16:07:49.076Z"
   },
   {
    "duration": 4,
    "start_time": "2025-03-14T16:07:51.296Z"
   },
   {
    "duration": 5,
    "start_time": "2025-03-14T16:07:51.496Z"
   },
   {
    "duration": 4,
    "start_time": "2025-03-14T16:07:52.746Z"
   },
   {
    "duration": 8,
    "start_time": "2025-03-14T16:07:53.289Z"
   },
   {
    "duration": 40,
    "start_time": "2025-03-14T16:10:52.482Z"
   },
   {
    "duration": 225,
    "start_time": "2025-03-14T16:10:53.971Z"
   },
   {
    "duration": 8,
    "start_time": "2025-03-14T16:10:55.211Z"
   },
   {
    "duration": 13,
    "start_time": "2025-03-14T16:12:28.461Z"
   },
   {
    "duration": 28,
    "start_time": "2025-03-14T16:12:32.335Z"
   },
   {
    "duration": 8,
    "start_time": "2025-03-14T16:12:33.523Z"
   },
   {
    "duration": 17,
    "start_time": "2025-03-14T16:12:44.782Z"
   },
   {
    "duration": 10,
    "start_time": "2025-03-14T16:12:45.736Z"
   },
   {
    "duration": 14,
    "start_time": "2025-03-14T16:12:46.052Z"
   },
   {
    "duration": 8,
    "start_time": "2025-03-14T16:12:46.885Z"
   },
   {
    "duration": 13,
    "start_time": "2025-03-14T16:14:04.856Z"
   },
   {
    "duration": 11,
    "start_time": "2025-03-14T16:14:05.917Z"
   },
   {
    "duration": 38,
    "start_time": "2025-03-14T16:14:06.164Z"
   },
   {
    "duration": 72,
    "start_time": "2025-03-14T16:14:06.920Z"
   },
   {
    "duration": 8,
    "start_time": "2025-03-14T16:14:07.615Z"
   },
   {
    "duration": 8,
    "start_time": "2025-03-14T16:14:09.299Z"
   },
   {
    "duration": 38,
    "start_time": "2025-03-14T16:15:03.168Z"
   },
   {
    "duration": 37,
    "start_time": "2025-03-14T16:15:11.877Z"
   },
   {
    "duration": 24,
    "start_time": "2025-03-14T16:15:19.535Z"
   },
   {
    "duration": 8,
    "start_time": "2025-03-14T16:15:19.942Z"
   },
   {
    "duration": 116,
    "start_time": "2025-03-14T16:15:21.777Z"
   },
   {
    "duration": 12,
    "start_time": "2025-03-14T16:15:23.350Z"
   },
   {
    "duration": 38,
    "start_time": "2025-03-14T16:15:23.949Z"
   },
   {
    "duration": 40,
    "start_time": "2025-03-14T16:15:24.410Z"
   },
   {
    "duration": 8,
    "start_time": "2025-03-14T16:15:25.068Z"
   },
   {
    "duration": 3,
    "start_time": "2025-03-14T16:16:47.961Z"
   },
   {
    "duration": 173,
    "start_time": "2025-03-14T16:16:47.966Z"
   },
   {
    "duration": 51,
    "start_time": "2025-03-14T16:16:48.141Z"
   },
   {
    "duration": 11,
    "start_time": "2025-03-14T16:16:48.195Z"
   },
   {
    "duration": 21,
    "start_time": "2025-03-14T16:16:48.209Z"
   },
   {
    "duration": 6,
    "start_time": "2025-03-14T16:16:48.232Z"
   },
   {
    "duration": 32,
    "start_time": "2025-03-14T16:16:48.240Z"
   },
   {
    "duration": 5,
    "start_time": "2025-03-14T16:16:48.274Z"
   },
   {
    "duration": 3,
    "start_time": "2025-03-14T16:16:48.281Z"
   },
   {
    "duration": 8,
    "start_time": "2025-03-14T16:16:48.285Z"
   },
   {
    "duration": 10,
    "start_time": "2025-03-14T16:16:48.294Z"
   },
   {
    "duration": 7,
    "start_time": "2025-03-14T16:16:48.306Z"
   },
   {
    "duration": 4,
    "start_time": "2025-03-14T16:16:48.315Z"
   },
   {
    "duration": 6,
    "start_time": "2025-03-14T16:16:48.322Z"
   },
   {
    "duration": 42,
    "start_time": "2025-03-14T16:16:48.329Z"
   },
   {
    "duration": 9,
    "start_time": "2025-03-14T16:16:48.373Z"
   },
   {
    "duration": 14,
    "start_time": "2025-03-14T16:16:48.384Z"
   },
   {
    "duration": 6,
    "start_time": "2025-03-14T16:16:48.400Z"
   },
   {
    "duration": 16,
    "start_time": "2025-03-14T16:16:48.408Z"
   },
   {
    "duration": 10,
    "start_time": "2025-03-14T16:16:48.426Z"
   },
   {
    "duration": 13,
    "start_time": "2025-03-14T16:16:48.470Z"
   },
   {
    "duration": 7,
    "start_time": "2025-03-14T16:16:48.485Z"
   },
   {
    "duration": 8,
    "start_time": "2025-03-14T16:16:48.494Z"
   },
   {
    "duration": 6,
    "start_time": "2025-03-14T16:16:48.503Z"
   },
   {
    "duration": 10,
    "start_time": "2025-03-14T16:16:48.510Z"
   },
   {
    "duration": 5,
    "start_time": "2025-03-14T16:16:48.522Z"
   },
   {
    "duration": 41,
    "start_time": "2025-03-14T16:16:48.529Z"
   },
   {
    "duration": 7,
    "start_time": "2025-03-14T16:16:48.572Z"
   },
   {
    "duration": 15,
    "start_time": "2025-03-14T16:16:48.580Z"
   },
   {
    "duration": 6,
    "start_time": "2025-03-14T16:16:48.596Z"
   },
   {
    "duration": 12,
    "start_time": "2025-03-14T16:16:48.604Z"
   },
   {
    "duration": 10,
    "start_time": "2025-03-14T16:16:48.618Z"
   },
   {
    "duration": 68,
    "start_time": "2025-03-14T16:16:48.630Z"
   },
   {
    "duration": 0,
    "start_time": "2025-03-14T16:16:48.700Z"
   },
   {
    "duration": 0,
    "start_time": "2025-03-14T16:16:48.701Z"
   },
   {
    "duration": 0,
    "start_time": "2025-03-14T16:16:48.702Z"
   },
   {
    "duration": 0,
    "start_time": "2025-03-14T16:16:48.703Z"
   },
   {
    "duration": 0,
    "start_time": "2025-03-14T16:16:48.704Z"
   },
   {
    "duration": 0,
    "start_time": "2025-03-14T16:16:48.705Z"
   },
   {
    "duration": 0,
    "start_time": "2025-03-14T16:16:48.706Z"
   },
   {
    "duration": 0,
    "start_time": "2025-03-14T16:16:48.707Z"
   },
   {
    "duration": 0,
    "start_time": "2025-03-14T16:16:48.708Z"
   },
   {
    "duration": 0,
    "start_time": "2025-03-14T16:16:48.709Z"
   },
   {
    "duration": 0,
    "start_time": "2025-03-14T16:16:48.710Z"
   },
   {
    "duration": 0,
    "start_time": "2025-03-14T16:16:48.711Z"
   },
   {
    "duration": 0,
    "start_time": "2025-03-14T16:16:48.711Z"
   },
   {
    "duration": 0,
    "start_time": "2025-03-14T16:16:48.712Z"
   },
   {
    "duration": 0,
    "start_time": "2025-03-14T16:16:48.713Z"
   },
   {
    "duration": 0,
    "start_time": "2025-03-14T16:16:48.715Z"
   },
   {
    "duration": 0,
    "start_time": "2025-03-14T16:16:48.716Z"
   },
   {
    "duration": 0,
    "start_time": "2025-03-14T16:16:48.717Z"
   },
   {
    "duration": 0,
    "start_time": "2025-03-14T16:16:48.718Z"
   },
   {
    "duration": 0,
    "start_time": "2025-03-14T16:16:48.719Z"
   },
   {
    "duration": 0,
    "start_time": "2025-03-14T16:16:48.719Z"
   },
   {
    "duration": 0,
    "start_time": "2025-03-14T16:16:48.720Z"
   },
   {
    "duration": 0,
    "start_time": "2025-03-14T16:16:48.721Z"
   },
   {
    "duration": 0,
    "start_time": "2025-03-14T16:16:48.723Z"
   },
   {
    "duration": 0,
    "start_time": "2025-03-14T16:16:48.724Z"
   },
   {
    "duration": 0,
    "start_time": "2025-03-14T16:16:48.769Z"
   },
   {
    "duration": 0,
    "start_time": "2025-03-14T16:16:48.770Z"
   },
   {
    "duration": 0,
    "start_time": "2025-03-14T16:16:48.771Z"
   },
   {
    "duration": 381,
    "start_time": "2025-03-14T16:16:59.332Z"
   },
   {
    "duration": 6,
    "start_time": "2025-03-14T17:03:08.110Z"
   },
   {
    "duration": 4,
    "start_time": "2025-03-14T17:03:11.736Z"
   },
   {
    "duration": 41,
    "start_time": "2025-03-14T17:03:12.344Z"
   },
   {
    "duration": 7,
    "start_time": "2025-03-14T17:03:13.423Z"
   },
   {
    "duration": 12,
    "start_time": "2025-03-14T17:03:26.680Z"
   },
   {
    "duration": 5,
    "start_time": "2025-03-14T17:03:26.984Z"
   },
   {
    "duration": 40,
    "start_time": "2025-03-14T17:03:27.271Z"
   },
   {
    "duration": 7,
    "start_time": "2025-03-14T17:03:28.008Z"
   },
   {
    "duration": 8,
    "start_time": "2025-03-14T17:03:29.568Z"
   },
   {
    "duration": 10,
    "start_time": "2025-03-14T17:03:53.827Z"
   },
   {
    "duration": 41,
    "start_time": "2025-03-14T17:04:08.503Z"
   },
   {
    "duration": 4,
    "start_time": "2025-03-14T17:04:36.828Z"
   },
   {
    "duration": 4,
    "start_time": "2025-03-14T17:04:39.810Z"
   },
   {
    "duration": 8,
    "start_time": "2025-03-14T17:04:59.309Z"
   },
   {
    "duration": 13,
    "start_time": "2025-03-14T17:05:10.110Z"
   },
   {
    "duration": 3,
    "start_time": "2025-03-14T17:06:41.195Z"
   },
   {
    "duration": 8,
    "start_time": "2025-03-14T17:06:43.332Z"
   },
   {
    "duration": 3,
    "start_time": "2025-03-14T17:07:00.777Z"
   },
   {
    "duration": 8,
    "start_time": "2025-03-14T17:07:01.334Z"
   },
   {
    "duration": 13,
    "start_time": "2025-03-14T17:07:16.147Z"
   },
   {
    "duration": 8,
    "start_time": "2025-03-14T17:07:37.927Z"
   },
   {
    "duration": 8,
    "start_time": "2025-03-14T17:07:53.893Z"
   },
   {
    "duration": 12,
    "start_time": "2025-03-14T17:08:04.346Z"
   },
   {
    "duration": 8,
    "start_time": "2025-03-14T17:08:15.627Z"
   },
   {
    "duration": 15,
    "start_time": "2025-03-14T17:08:56.208Z"
   },
   {
    "duration": 115,
    "start_time": "2025-03-14T17:08:57.927Z"
   },
   {
    "duration": 10,
    "start_time": "2025-03-14T17:08:58.198Z"
   },
   {
    "duration": 11,
    "start_time": "2025-03-14T17:08:58.669Z"
   },
   {
    "duration": 10,
    "start_time": "2025-03-14T17:08:59.290Z"
   },
   {
    "duration": 7,
    "start_time": "2025-03-14T17:08:59.452Z"
   },
   {
    "duration": 10,
    "start_time": "2025-03-14T17:08:59.730Z"
   },
   {
    "duration": 8,
    "start_time": "2025-03-14T17:08:59.913Z"
   },
   {
    "duration": 120,
    "start_time": "2025-03-14T17:09:00.269Z"
   },
   {
    "duration": 118,
    "start_time": "2025-03-14T17:09:00.410Z"
   },
   {
    "duration": 4,
    "start_time": "2025-03-14T17:09:00.583Z"
   },
   {
    "duration": 8,
    "start_time": "2025-03-14T17:09:00.762Z"
   },
   {
    "duration": 68,
    "start_time": "2025-03-14T17:09:00.963Z"
   },
   {
    "duration": 8,
    "start_time": "2025-03-14T17:09:01.493Z"
   },
   {
    "duration": 21,
    "start_time": "2025-03-14T17:09:02.150Z"
   },
   {
    "duration": 385,
    "start_time": "2025-03-14T17:09:03.726Z"
   },
   {
    "duration": 454,
    "start_time": "2025-03-14T17:09:04.294Z"
   },
   {
    "duration": 3,
    "start_time": "2025-03-14T17:11:51.825Z"
   },
   {
    "duration": 8,
    "start_time": "2025-03-14T17:11:52.242Z"
   },
   {
    "duration": 3,
    "start_time": "2025-03-14T17:12:00.195Z"
   },
   {
    "duration": 8,
    "start_time": "2025-03-14T17:12:00.486Z"
   },
   {
    "duration": 3,
    "start_time": "2025-03-14T17:12:09.965Z"
   },
   {
    "duration": 150,
    "start_time": "2025-03-14T17:12:10.726Z"
   },
   {
    "duration": 43,
    "start_time": "2025-03-14T17:12:11.399Z"
   },
   {
    "duration": 12,
    "start_time": "2025-03-14T17:12:11.694Z"
   },
   {
    "duration": 20,
    "start_time": "2025-03-14T17:12:12.560Z"
   },
   {
    "duration": 8,
    "start_time": "2025-03-14T17:12:14.327Z"
   },
   {
    "duration": 4,
    "start_time": "2025-03-14T17:12:18.415Z"
   },
   {
    "duration": 5,
    "start_time": "2025-03-14T17:12:18.840Z"
   },
   {
    "duration": 3,
    "start_time": "2025-03-14T17:12:21.956Z"
   },
   {
    "duration": 8,
    "start_time": "2025-03-14T17:12:23.510Z"
   },
   {
    "duration": 7,
    "start_time": "2025-03-14T17:13:18.058Z"
   },
   {
    "duration": 4,
    "start_time": "2025-03-14T17:13:27.181Z"
   },
   {
    "duration": 8,
    "start_time": "2025-03-14T17:13:41.676Z"
   },
   {
    "duration": 3,
    "start_time": "2025-03-14T17:15:38.973Z"
   },
   {
    "duration": 8,
    "start_time": "2025-03-14T17:15:39.756Z"
   },
   {
    "duration": 4,
    "start_time": "2025-03-14T17:18:19.697Z"
   },
   {
    "duration": 8,
    "start_time": "2025-03-14T17:18:20.211Z"
   },
   {
    "duration": 3,
    "start_time": "2025-03-14T17:20:01.407Z"
   },
   {
    "duration": 7,
    "start_time": "2025-03-14T17:20:01.884Z"
   },
   {
    "duration": 3,
    "start_time": "2025-03-14T17:21:23.237Z"
   },
   {
    "duration": 9,
    "start_time": "2025-03-14T17:21:23.756Z"
   },
   {
    "duration": 8,
    "start_time": "2025-03-14T17:22:01.857Z"
   },
   {
    "duration": 3,
    "start_time": "2025-03-14T17:22:04.156Z"
   },
   {
    "duration": 7,
    "start_time": "2025-03-14T17:22:04.797Z"
   },
   {
    "duration": 3,
    "start_time": "2025-03-14T17:26:15.214Z"
   },
   {
    "duration": 10,
    "start_time": "2025-03-14T17:26:15.728Z"
   },
   {
    "duration": 4,
    "start_time": "2025-03-14T17:33:08.023Z"
   },
   {
    "duration": 10,
    "start_time": "2025-03-14T17:33:08.515Z"
   },
   {
    "duration": 3,
    "start_time": "2025-03-14T17:33:20.419Z"
   },
   {
    "duration": 6,
    "start_time": "2025-03-14T17:34:09.803Z"
   },
   {
    "duration": 3,
    "start_time": "2025-03-14T17:34:10.237Z"
   },
   {
    "duration": 3,
    "start_time": "2025-03-14T17:34:18.169Z"
   },
   {
    "duration": 4,
    "start_time": "2025-03-14T17:34:19.072Z"
   },
   {
    "duration": 8,
    "start_time": "2025-03-14T17:34:19.833Z"
   },
   {
    "duration": 8,
    "start_time": "2025-03-14T17:34:36.139Z"
   },
   {
    "duration": 5,
    "start_time": "2025-03-14T17:34:37.220Z"
   },
   {
    "duration": 6,
    "start_time": "2025-03-14T17:34:37.492Z"
   },
   {
    "duration": 5,
    "start_time": "2025-03-14T17:34:38.677Z"
   },
   {
    "duration": 3,
    "start_time": "2025-03-14T17:34:39.106Z"
   },
   {
    "duration": 9,
    "start_time": "2025-03-14T17:34:39.671Z"
   },
   {
    "duration": 3,
    "start_time": "2025-03-14T17:34:59.139Z"
   },
   {
    "duration": 3,
    "start_time": "2025-03-14T17:34:59.709Z"
   },
   {
    "duration": 8,
    "start_time": "2025-03-14T17:35:11.480Z"
   },
   {
    "duration": 6,
    "start_time": "2025-03-14T17:37:06.221Z"
   },
   {
    "duration": 22,
    "start_time": "2025-03-14T17:37:43.487Z"
   },
   {
    "duration": 8,
    "start_time": "2025-03-14T17:37:44.282Z"
   },
   {
    "duration": 7,
    "start_time": "2025-03-14T17:37:50.730Z"
   },
   {
    "duration": 3,
    "start_time": "2025-03-14T17:38:03.947Z"
   },
   {
    "duration": 157,
    "start_time": "2025-03-14T17:38:04.672Z"
   },
   {
    "duration": 42,
    "start_time": "2025-03-14T17:38:05.620Z"
   },
   {
    "duration": 12,
    "start_time": "2025-03-14T17:38:06.292Z"
   },
   {
    "duration": 20,
    "start_time": "2025-03-14T17:38:09.879Z"
   },
   {
    "duration": 9,
    "start_time": "2025-03-14T17:38:11.320Z"
   },
   {
    "duration": 4,
    "start_time": "2025-03-14T17:38:31.123Z"
   },
   {
    "duration": 5,
    "start_time": "2025-03-14T17:38:32.060Z"
   },
   {
    "duration": 3,
    "start_time": "2025-03-14T17:39:30.995Z"
   },
   {
    "duration": 4,
    "start_time": "2025-03-14T17:39:51.507Z"
   },
   {
    "duration": 8,
    "start_time": "2025-03-14T17:40:11.428Z"
   },
   {
    "duration": 3,
    "start_time": "2025-03-14T17:49:17.608Z"
   },
   {
    "duration": 26,
    "start_time": "2025-03-14T17:49:24.907Z"
   },
   {
    "duration": 13,
    "start_time": "2025-03-14T17:49:42.528Z"
   },
   {
    "duration": 3,
    "start_time": "2025-03-14T17:49:43.153Z"
   },
   {
    "duration": 16,
    "start_time": "2025-03-14T17:49:45.160Z"
   },
   {
    "duration": 7,
    "start_time": "2025-03-14T17:49:48.370Z"
   },
   {
    "duration": 12,
    "start_time": "2025-03-14T17:49:49.805Z"
   },
   {
    "duration": 4,
    "start_time": "2025-03-14T17:49:53.693Z"
   },
   {
    "duration": 9,
    "start_time": "2025-03-14T17:49:54.905Z"
   },
   {
    "duration": 8,
    "start_time": "2025-03-14T17:50:24.851Z"
   },
   {
    "duration": 285,
    "start_time": "2025-03-14T17:52:18.741Z"
   },
   {
    "duration": 40,
    "start_time": "2025-03-14T17:52:24.446Z"
   },
   {
    "duration": 42,
    "start_time": "2025-03-14T17:55:24.144Z"
   },
   {
    "duration": 42,
    "start_time": "2025-03-14T17:55:35.178Z"
   },
   {
    "duration": 51,
    "start_time": "2025-03-14T17:55:39.987Z"
   },
   {
    "duration": 12,
    "start_time": "2025-03-14T17:55:46.514Z"
   },
   {
    "duration": 11,
    "start_time": "2025-03-14T17:55:52.067Z"
   },
   {
    "duration": 8,
    "start_time": "2025-03-14T17:55:53.003Z"
   },
   {
    "duration": 10,
    "start_time": "2025-03-14T17:55:53.225Z"
   },
   {
    "duration": 8,
    "start_time": "2025-03-14T17:55:53.426Z"
   },
   {
    "duration": 7,
    "start_time": "2025-03-14T17:55:53.763Z"
   },
   {
    "duration": 4,
    "start_time": "2025-03-14T17:55:53.940Z"
   },
   {
    "duration": 3,
    "start_time": "2025-03-14T17:55:54.268Z"
   },
   {
    "duration": 10,
    "start_time": "2025-03-14T17:55:54.501Z"
   },
   {
    "duration": 56,
    "start_time": "2025-03-14T17:55:54.677Z"
   },
   {
    "duration": 11,
    "start_time": "2025-03-14T17:55:54.857Z"
   },
   {
    "duration": 33,
    "start_time": "2025-03-14T17:55:55.014Z"
   },
   {
    "duration": 375,
    "start_time": "2025-03-14T17:55:55.739Z"
   },
   {
    "duration": 464,
    "start_time": "2025-03-14T17:55:56.117Z"
   },
   {
    "duration": 9,
    "start_time": "2025-03-14T17:55:56.583Z"
   },
   {
    "duration": 6,
    "start_time": "2025-03-14T17:55:56.594Z"
   },
   {
    "duration": 4,
    "start_time": "2025-03-14T17:55:56.661Z"
   },
   {
    "duration": 200,
    "start_time": "2025-03-14T17:55:56.830Z"
   },
   {
    "duration": 245,
    "start_time": "2025-03-14T17:55:57.369Z"
   },
   {
    "duration": 216,
    "start_time": "2025-03-14T17:55:57.616Z"
   },
   {
    "duration": 8,
    "start_time": "2025-03-14T17:58:16.946Z"
   },
   {
    "duration": 15,
    "start_time": "2025-03-14T17:58:24.452Z"
   },
   {
    "duration": 10,
    "start_time": "2025-03-14T17:58:26.614Z"
   },
   {
    "duration": 14,
    "start_time": "2025-03-14T17:58:27.734Z"
   },
   {
    "duration": 8,
    "start_time": "2025-03-14T17:58:28.735Z"
   },
   {
    "duration": 10,
    "start_time": "2025-03-14T17:58:32.438Z"
   },
   {
    "duration": 6,
    "start_time": "2025-03-14T17:58:33.126Z"
   },
   {
    "duration": 9,
    "start_time": "2025-03-14T17:58:34.354Z"
   },
   {
    "duration": 6,
    "start_time": "2025-03-14T17:58:34.951Z"
   },
   {
    "duration": 9,
    "start_time": "2025-03-14T17:58:35.157Z"
   },
   {
    "duration": 7,
    "start_time": "2025-03-14T17:58:35.552Z"
   },
   {
    "duration": 24,
    "start_time": "2025-03-14T17:58:35.991Z"
   },
   {
    "duration": 8,
    "start_time": "2025-03-14T17:58:36.207Z"
   },
   {
    "duration": 10,
    "start_time": "2025-03-14T17:58:37.527Z"
   },
   {
    "duration": 3,
    "start_time": "2025-03-14T17:58:37.814Z"
   },
   {
    "duration": 12,
    "start_time": "2025-03-14T17:58:39.083Z"
   },
   {
    "duration": 5,
    "start_time": "2025-03-14T17:58:39.451Z"
   },
   {
    "duration": 7,
    "start_time": "2025-03-14T17:58:40.515Z"
   },
   {
    "duration": 3,
    "start_time": "2025-03-14T17:58:40.904Z"
   },
   {
    "duration": 8,
    "start_time": "2025-03-14T17:58:41.313Z"
   },
   {
    "duration": 8,
    "start_time": "2025-03-14T17:58:45.318Z"
   },
   {
    "duration": 14,
    "start_time": "2025-03-14T17:58:47.034Z"
   },
   {
    "duration": 15,
    "start_time": "2025-03-14T17:58:48.182Z"
   },
   {
    "duration": 10,
    "start_time": "2025-03-14T17:58:48.865Z"
   },
   {
    "duration": 11,
    "start_time": "2025-03-14T17:58:50.130Z"
   },
   {
    "duration": 11,
    "start_time": "2025-03-14T17:58:51.823Z"
   },
   {
    "duration": 14,
    "start_time": "2025-03-14T17:59:34.359Z"
   },
   {
    "duration": 14,
    "start_time": "2025-03-14T17:59:56.174Z"
   },
   {
    "duration": 9,
    "start_time": "2025-03-14T18:02:07.812Z"
   },
   {
    "duration": 2,
    "start_time": "2025-03-14T18:03:28.346Z"
   },
   {
    "duration": 6,
    "start_time": "2025-03-14T18:03:53.049Z"
   },
   {
    "duration": 14,
    "start_time": "2025-03-14T18:04:24.092Z"
   },
   {
    "duration": 11,
    "start_time": "2025-03-14T18:04:25.120Z"
   },
   {
    "duration": 8,
    "start_time": "2025-03-14T18:04:25.669Z"
   },
   {
    "duration": 3,
    "start_time": "2025-03-14T18:04:26.161Z"
   },
   {
    "duration": 6,
    "start_time": "2025-03-14T18:04:26.720Z"
   },
   {
    "duration": 9,
    "start_time": "2025-03-14T18:05:38.188Z"
   },
   {
    "duration": 6,
    "start_time": "2025-03-14T18:05:38.733Z"
   },
   {
    "duration": 3,
    "start_time": "2025-03-14T18:06:06.373Z"
   },
   {
    "duration": 6,
    "start_time": "2025-03-14T18:06:12.352Z"
   },
   {
    "duration": 3,
    "start_time": "2025-03-14T18:06:55.888Z"
   },
   {
    "duration": 8,
    "start_time": "2025-03-14T18:06:56.524Z"
   },
   {
    "duration": 3,
    "start_time": "2025-03-14T18:23:18.641Z"
   },
   {
    "duration": 17,
    "start_time": "2025-03-14T18:23:45.826Z"
   },
   {
    "duration": 14,
    "start_time": "2025-03-14T18:25:23.028Z"
   },
   {
    "duration": 11,
    "start_time": "2025-03-14T18:25:24.194Z"
   },
   {
    "duration": 7,
    "start_time": "2025-03-14T18:25:24.572Z"
   },
   {
    "duration": 3,
    "start_time": "2025-03-14T18:25:24.922Z"
   },
   {
    "duration": 6,
    "start_time": "2025-03-14T18:25:25.198Z"
   },
   {
    "duration": 3,
    "start_time": "2025-03-14T18:25:25.760Z"
   },
   {
    "duration": 15,
    "start_time": "2025-03-14T18:25:26.139Z"
   },
   {
    "duration": 3,
    "start_time": "2025-03-14T18:25:37.259Z"
   },
   {
    "duration": 156,
    "start_time": "2025-03-14T18:25:37.947Z"
   },
   {
    "duration": 42,
    "start_time": "2025-03-14T18:25:39.862Z"
   },
   {
    "duration": 14,
    "start_time": "2025-03-14T18:25:42.375Z"
   },
   {
    "duration": 20,
    "start_time": "2025-03-14T18:25:53.384Z"
   },
   {
    "duration": 7,
    "start_time": "2025-03-14T18:25:54.105Z"
   },
   {
    "duration": 4,
    "start_time": "2025-03-14T18:26:04.335Z"
   },
   {
    "duration": 6,
    "start_time": "2025-03-14T18:26:05.018Z"
   },
   {
    "duration": 3,
    "start_time": "2025-03-14T18:26:05.400Z"
   },
   {
    "duration": 3,
    "start_time": "2025-03-14T18:26:06.988Z"
   },
   {
    "duration": 9,
    "start_time": "2025-03-14T18:26:07.670Z"
   },
   {
    "duration": 11,
    "start_time": "2025-03-14T18:26:15.190Z"
   },
   {
    "duration": 9,
    "start_time": "2025-03-14T18:26:16.850Z"
   },
   {
    "duration": 7,
    "start_time": "2025-03-14T18:26:19.683Z"
   },
   {
    "duration": 7,
    "start_time": "2025-03-14T18:26:21.573Z"
   },
   {
    "duration": 5,
    "start_time": "2025-03-14T18:26:22.234Z"
   },
   {
    "duration": 10,
    "start_time": "2025-03-14T18:26:23.207Z"
   },
   {
    "duration": 23,
    "start_time": "2025-03-14T18:26:26.279Z"
   },
   {
    "duration": 12,
    "start_time": "2025-03-14T18:26:27.336Z"
   },
   {
    "duration": 15,
    "start_time": "2025-03-14T18:26:30.022Z"
   },
   {
    "duration": 10,
    "start_time": "2025-03-14T18:26:35.282Z"
   },
   {
    "duration": 16,
    "start_time": "2025-03-14T18:26:35.776Z"
   },
   {
    "duration": 13,
    "start_time": "2025-03-14T18:26:36.325Z"
   },
   {
    "duration": 10,
    "start_time": "2025-03-14T18:26:40.663Z"
   },
   {
    "duration": 6,
    "start_time": "2025-03-14T18:26:41.156Z"
   },
   {
    "duration": 10,
    "start_time": "2025-03-14T18:26:42.948Z"
   },
   {
    "duration": 6,
    "start_time": "2025-03-14T18:26:44.176Z"
   },
   {
    "duration": 9,
    "start_time": "2025-03-14T18:26:44.538Z"
   },
   {
    "duration": 7,
    "start_time": "2025-03-14T18:26:44.909Z"
   },
   {
    "duration": 16,
    "start_time": "2025-03-14T18:26:45.594Z"
   },
   {
    "duration": 7,
    "start_time": "2025-03-14T18:26:45.876Z"
   },
   {
    "duration": 17,
    "start_time": "2025-03-14T18:26:47.278Z"
   },
   {
    "duration": 4,
    "start_time": "2025-03-14T18:26:47.690Z"
   },
   {
    "duration": 12,
    "start_time": "2025-03-14T18:26:49.023Z"
   },
   {
    "duration": 7,
    "start_time": "2025-03-14T18:26:49.375Z"
   },
   {
    "duration": 7,
    "start_time": "2025-03-14T18:26:49.739Z"
   },
   {
    "duration": 4,
    "start_time": "2025-03-14T18:26:50.046Z"
   },
   {
    "duration": 8,
    "start_time": "2025-03-14T18:26:50.406Z"
   },
   {
    "duration": 9,
    "start_time": "2025-03-14T18:26:51.510Z"
   },
   {
    "duration": 16,
    "start_time": "2025-03-14T18:26:52.261Z"
   },
   {
    "duration": 21,
    "start_time": "2025-03-14T18:26:52.682Z"
   },
   {
    "duration": 12,
    "start_time": "2025-03-14T18:26:53.107Z"
   },
   {
    "duration": 9,
    "start_time": "2025-03-14T18:26:53.738Z"
   },
   {
    "duration": 3,
    "start_time": "2025-03-14T18:26:54.287Z"
   },
   {
    "duration": 7,
    "start_time": "2025-03-14T18:26:54.656Z"
   },
   {
    "duration": 3,
    "start_time": "2025-03-14T18:26:55.548Z"
   },
   {
    "duration": 15,
    "start_time": "2025-03-14T18:26:55.955Z"
   },
   {
    "duration": 14,
    "start_time": "2025-03-14T18:27:33.629Z"
   },
   {
    "duration": 1051,
    "start_time": "2025-03-14T18:30:22.087Z"
   },
   {
    "duration": 12,
    "start_time": "2025-03-14T18:30:42.086Z"
   },
   {
    "duration": 20,
    "start_time": "2025-03-14T18:39:37.815Z"
   },
   {
    "duration": 11,
    "start_time": "2025-03-14T18:39:51.392Z"
   },
   {
    "duration": 10,
    "start_time": "2025-03-14T18:42:46.574Z"
   },
   {
    "duration": 23,
    "start_time": "2025-03-14T18:49:53.023Z"
   },
   {
    "duration": 3,
    "start_time": "2025-03-14T18:50:13.913Z"
   },
   {
    "duration": 9,
    "start_time": "2025-03-14T18:50:14.426Z"
   },
   {
    "duration": 8,
    "start_time": "2025-03-14T18:50:16.979Z"
   },
   {
    "duration": 15,
    "start_time": "2025-03-14T18:50:17.689Z"
   },
   {
    "duration": 12,
    "start_time": "2025-03-14T18:50:17.955Z"
   },
   {
    "duration": 10,
    "start_time": "2025-03-14T18:50:18.542Z"
   },
   {
    "duration": 22,
    "start_time": "2025-03-14T18:50:19.341Z"
   },
   {
    "duration": 23,
    "start_time": "2025-03-14T18:51:10.767Z"
   },
   {
    "duration": 25,
    "start_time": "2025-03-14T18:51:34.678Z"
   },
   {
    "duration": 3,
    "start_time": "2025-03-14T18:53:45.940Z"
   },
   {
    "duration": 9,
    "start_time": "2025-03-14T18:54:46.347Z"
   },
   {
    "duration": 4,
    "start_time": "2025-03-14T18:54:49.418Z"
   },
   {
    "duration": 6,
    "start_time": "2025-03-14T18:54:49.997Z"
   },
   {
    "duration": 8,
    "start_time": "2025-03-14T18:55:02.247Z"
   },
   {
    "duration": 6,
    "start_time": "2025-03-14T18:55:02.725Z"
   },
   {
    "duration": 3,
    "start_time": "2025-03-14T19:01:13.867Z"
   },
   {
    "duration": 4,
    "start_time": "2025-03-14T19:07:56.116Z"
   },
   {
    "duration": 5,
    "start_time": "2025-03-14T19:17:23.685Z"
   },
   {
    "duration": 11,
    "start_time": "2025-03-14T19:17:24.431Z"
   },
   {
    "duration": 10,
    "start_time": "2025-03-14T19:22:49.162Z"
   },
   {
    "duration": 8,
    "start_time": "2025-03-14T19:23:34.426Z"
   },
   {
    "duration": 22,
    "start_time": "2025-03-14T19:26:14.706Z"
   },
   {
    "duration": 17,
    "start_time": "2025-03-14T19:29:40.309Z"
   },
   {
    "duration": 9,
    "start_time": "2025-03-14T19:29:40.587Z"
   },
   {
    "duration": 3,
    "start_time": "2025-03-14T19:29:49.985Z"
   },
   {
    "duration": 10,
    "start_time": "2025-03-14T19:29:51.393Z"
   },
   {
    "duration": 8,
    "start_time": "2025-03-14T19:31:19.040Z"
   },
   {
    "duration": 6,
    "start_time": "2025-03-14T19:31:19.445Z"
   },
   {
    "duration": 11,
    "start_time": "2025-03-14T19:31:42.502Z"
   },
   {
    "duration": 5,
    "start_time": "2025-03-14T19:31:42.688Z"
   },
   {
    "duration": 3,
    "start_time": "2025-03-14T19:31:42.887Z"
   },
   {
    "duration": 9,
    "start_time": "2025-03-14T19:31:43.072Z"
   },
   {
    "duration": 9,
    "start_time": "2025-03-14T19:31:43.850Z"
   },
   {
    "duration": 13,
    "start_time": "2025-03-14T19:31:44.265Z"
   },
   {
    "duration": 11,
    "start_time": "2025-03-14T19:31:44.679Z"
   },
   {
    "duration": 11,
    "start_time": "2025-03-14T19:31:45.361Z"
   },
   {
    "duration": 9,
    "start_time": "2025-03-14T19:31:45.695Z"
   },
   {
    "duration": 6,
    "start_time": "2025-03-14T19:31:45.988Z"
   },
   {
    "duration": 3,
    "start_time": "2025-03-14T19:31:46.215Z"
   },
   {
    "duration": 5,
    "start_time": "2025-03-14T19:31:46.562Z"
   },
   {
    "duration": 9,
    "start_time": "2025-03-14T19:31:56.446Z"
   },
   {
    "duration": 7,
    "start_time": "2025-03-14T19:31:56.912Z"
   },
   {
    "duration": 3,
    "start_time": "2025-03-14T19:32:13.676Z"
   },
   {
    "duration": 38,
    "start_time": "2025-03-14T19:33:07.578Z"
   },
   {
    "duration": 947,
    "start_time": "2025-03-14T19:33:08.054Z"
   },
   {
    "duration": 10,
    "start_time": "2025-03-14T19:33:09.004Z"
   },
   {
    "duration": 947,
    "start_time": "2025-03-14T19:33:29.418Z"
   },
   {
    "duration": 10,
    "start_time": "2025-03-14T19:33:30.367Z"
   },
   {
    "duration": 12,
    "start_time": "2025-03-14T19:35:39.507Z"
   },
   {
    "duration": 8,
    "start_time": "2025-03-14T19:35:40.360Z"
   },
   {
    "duration": 11,
    "start_time": "2025-03-14T19:35:52.643Z"
   },
   {
    "duration": 12,
    "start_time": "2025-03-14T19:35:53.327Z"
   },
   {
    "duration": 7,
    "start_time": "2025-03-14T19:36:11.291Z"
   },
   {
    "duration": 4,
    "start_time": "2025-03-14T19:36:11.997Z"
   },
   {
    "duration": 4,
    "start_time": "2025-03-14T19:36:12.587Z"
   },
   {
    "duration": 10,
    "start_time": "2025-03-14T19:36:14.243Z"
   },
   {
    "duration": 84,
    "start_time": "2025-03-14T19:37:06.475Z"
   },
   {
    "duration": 11,
    "start_time": "2025-03-14T19:37:07.081Z"
   },
   {
    "duration": 66,
    "start_time": "2025-03-14T19:37:23.526Z"
   },
   {
    "duration": 10,
    "start_time": "2025-03-14T19:37:24.496Z"
   },
   {
    "duration": 28,
    "start_time": "2025-03-14T19:37:25.322Z"
   },
   {
    "duration": 10,
    "start_time": "2025-03-14T19:43:25.353Z"
   },
   {
    "duration": 9,
    "start_time": "2025-03-14T19:43:26.406Z"
   },
   {
    "duration": 10,
    "start_time": "2025-03-14T19:45:55.212Z"
   },
   {
    "duration": 8,
    "start_time": "2025-03-14T19:45:55.817Z"
   },
   {
    "duration": 9,
    "start_time": "2025-03-14T19:46:04.871Z"
   },
   {
    "duration": 5,
    "start_time": "2025-03-14T19:46:05.379Z"
   },
   {
    "duration": 4,
    "start_time": "2025-03-14T19:46:05.998Z"
   },
   {
    "duration": 17,
    "start_time": "2025-03-14T19:46:06.856Z"
   },
   {
    "duration": 96,
    "start_time": "2025-03-14T19:46:07.946Z"
   },
   {
    "duration": 3,
    "start_time": "2025-03-14T19:48:06.196Z"
   },
   {
    "duration": 10,
    "start_time": "2025-03-14T19:48:11.975Z"
   },
   {
    "duration": 69,
    "start_time": "2025-03-14T19:48:12.889Z"
   },
   {
    "duration": 10,
    "start_time": "2025-03-14T19:48:14.359Z"
   },
   {
    "duration": 3,
    "start_time": "2025-03-14T19:48:49.735Z"
   },
   {
    "duration": 10,
    "start_time": "2025-03-14T19:48:50.450Z"
   },
   {
    "duration": 44,
    "start_time": "2025-03-14T19:48:51.508Z"
   },
   {
    "duration": 11,
    "start_time": "2025-03-14T19:48:53.015Z"
   },
   {
    "duration": 33,
    "start_time": "2025-03-14T19:56:28.472Z"
   },
   {
    "duration": 172,
    "start_time": "2025-03-14T19:56:41.448Z"
   },
   {
    "duration": 351,
    "start_time": "2025-03-14T19:57:01.954Z"
   },
   {
    "duration": 449,
    "start_time": "2025-03-14T19:57:52.524Z"
   },
   {
    "duration": 10,
    "start_time": "2025-03-14T19:58:12.433Z"
   },
   {
    "duration": 203,
    "start_time": "2025-03-14T19:58:28.314Z"
   },
   {
    "duration": 207,
    "start_time": "2025-03-14T19:58:46.110Z"
   },
   {
    "duration": 12,
    "start_time": "2025-03-14T20:06:01.041Z"
   },
   {
    "duration": 45,
    "start_time": "2025-03-14T20:06:16.617Z"
   },
   {
    "duration": 55,
    "start_time": "2025-03-14T20:07:08.243Z"
   },
   {
    "duration": 44,
    "start_time": "2025-03-14T20:07:17.419Z"
   },
   {
    "duration": 46,
    "start_time": "2025-03-14T20:07:32.349Z"
   },
   {
    "duration": 43,
    "start_time": "2025-03-14T20:07:32.860Z"
   },
   {
    "duration": 11,
    "start_time": "2025-03-14T20:07:33.454Z"
   },
   {
    "duration": 43,
    "start_time": "2025-03-14T20:08:09.945Z"
   },
   {
    "duration": 11,
    "start_time": "2025-03-14T20:08:10.590Z"
   },
   {
    "duration": 3,
    "start_time": "2025-03-14T20:08:24.234Z"
   },
   {
    "duration": 44,
    "start_time": "2025-03-14T20:08:24.610Z"
   },
   {
    "duration": 14,
    "start_time": "2025-03-14T20:08:25.041Z"
   },
   {
    "duration": 45,
    "start_time": "2025-03-14T20:09:02.073Z"
   },
   {
    "duration": 11,
    "start_time": "2025-03-14T20:09:02.514Z"
   },
   {
    "duration": 3,
    "start_time": "2025-03-14T20:09:28.581Z"
   },
   {
    "duration": 148,
    "start_time": "2025-03-14T20:09:28.916Z"
   },
   {
    "duration": 44,
    "start_time": "2025-03-14T20:09:29.234Z"
   },
   {
    "duration": 11,
    "start_time": "2025-03-14T20:09:29.386Z"
   },
   {
    "duration": 19,
    "start_time": "2025-03-14T20:09:29.825Z"
   },
   {
    "duration": 6,
    "start_time": "2025-03-14T20:09:29.932Z"
   },
   {
    "duration": 3,
    "start_time": "2025-03-14T20:09:30.647Z"
   },
   {
    "duration": 5,
    "start_time": "2025-03-14T20:09:30.776Z"
   },
   {
    "duration": 3,
    "start_time": "2025-03-14T20:09:30.904Z"
   },
   {
    "duration": 4,
    "start_time": "2025-03-14T20:09:31.430Z"
   },
   {
    "duration": 8,
    "start_time": "2025-03-14T20:09:31.576Z"
   },
   {
    "duration": 11,
    "start_time": "2025-03-14T20:09:31.850Z"
   },
   {
    "duration": 9,
    "start_time": "2025-03-14T20:09:32.003Z"
   },
   {
    "duration": 5,
    "start_time": "2025-03-14T20:09:32.599Z"
   },
   {
    "duration": 7,
    "start_time": "2025-03-14T20:09:33.004Z"
   },
   {
    "duration": 4,
    "start_time": "2025-03-14T20:09:33.136Z"
   },
   {
    "duration": 10,
    "start_time": "2025-03-14T20:09:33.283Z"
   },
   {
    "duration": 15,
    "start_time": "2025-03-14T20:09:33.556Z"
   },
   {
    "duration": 7,
    "start_time": "2025-03-14T20:09:33.702Z"
   },
   {
    "duration": 15,
    "start_time": "2025-03-14T20:09:34.251Z"
   },
   {
    "duration": 8,
    "start_time": "2025-03-14T20:09:34.691Z"
   },
   {
    "duration": 14,
    "start_time": "2025-03-14T20:09:34.842Z"
   },
   {
    "duration": 8,
    "start_time": "2025-03-14T20:09:34.983Z"
   },
   {
    "duration": 10,
    "start_time": "2025-03-14T20:09:35.269Z"
   },
   {
    "duration": 7,
    "start_time": "2025-03-14T20:09:35.416Z"
   },
   {
    "duration": 12,
    "start_time": "2025-03-14T20:09:36.332Z"
   },
   {
    "duration": 8,
    "start_time": "2025-03-14T20:09:36.777Z"
   },
   {
    "duration": 9,
    "start_time": "2025-03-14T20:09:37.048Z"
   },
   {
    "duration": 8,
    "start_time": "2025-03-14T20:09:37.185Z"
   },
   {
    "duration": 13,
    "start_time": "2025-03-14T20:09:37.514Z"
   },
   {
    "duration": 7,
    "start_time": "2025-03-14T20:09:37.666Z"
   },
   {
    "duration": 12,
    "start_time": "2025-03-14T20:09:38.309Z"
   },
   {
    "duration": 3,
    "start_time": "2025-03-14T20:09:38.453Z"
   },
   {
    "duration": 11,
    "start_time": "2025-03-14T20:09:38.916Z"
   },
   {
    "duration": 6,
    "start_time": "2025-03-14T20:09:39.085Z"
   },
   {
    "duration": 5,
    "start_time": "2025-03-14T20:09:39.266Z"
   },
   {
    "duration": 9,
    "start_time": "2025-03-14T20:09:39.421Z"
   },
   {
    "duration": 8,
    "start_time": "2025-03-14T20:09:39.892Z"
   },
   {
    "duration": 12,
    "start_time": "2025-03-14T20:09:40.222Z"
   },
   {
    "duration": 11,
    "start_time": "2025-03-14T20:09:40.362Z"
   },
   {
    "duration": 11,
    "start_time": "2025-03-14T20:09:40.738Z"
   },
   {
    "duration": 8,
    "start_time": "2025-03-14T20:09:40.916Z"
   },
   {
    "duration": 6,
    "start_time": "2025-03-14T20:09:41.191Z"
   },
   {
    "duration": 11,
    "start_time": "2025-03-14T20:09:41.538Z"
   },
   {
    "duration": 6,
    "start_time": "2025-03-14T20:09:41.645Z"
   },
   {
    "duration": 10,
    "start_time": "2025-03-14T20:09:41.785Z"
   },
   {
    "duration": 8,
    "start_time": "2025-03-14T20:09:41.967Z"
   },
   {
    "duration": 8,
    "start_time": "2025-03-14T20:09:42.293Z"
   },
   {
    "duration": 4,
    "start_time": "2025-03-14T20:09:42.916Z"
   },
   {
    "duration": 3,
    "start_time": "2025-03-14T20:09:43.101Z"
   },
   {
    "duration": 43,
    "start_time": "2025-03-14T20:09:44.106Z"
   },
   {
    "duration": 10,
    "start_time": "2025-03-14T20:09:44.756Z"
   },
   {
    "duration": 3,
    "start_time": "2025-03-14T20:10:51.151Z"
   },
   {
    "duration": 142,
    "start_time": "2025-03-14T20:10:51.875Z"
   },
   {
    "duration": 41,
    "start_time": "2025-03-14T20:10:52.470Z"
   },
   {
    "duration": 11,
    "start_time": "2025-03-14T20:10:52.921Z"
   },
   {
    "duration": 22,
    "start_time": "2025-03-14T20:10:55.309Z"
   },
   {
    "duration": 7,
    "start_time": "2025-03-14T20:10:56.204Z"
   },
   {
    "duration": 4,
    "start_time": "2025-03-14T20:11:02.138Z"
   },
   {
    "duration": 6,
    "start_time": "2025-03-14T20:11:02.911Z"
   },
   {
    "duration": 3,
    "start_time": "2025-03-14T20:11:03.490Z"
   },
   {
    "duration": 4,
    "start_time": "2025-03-14T20:11:13.373Z"
   },
   {
    "duration": 8,
    "start_time": "2025-03-14T20:11:13.995Z"
   },
   {
    "duration": 10,
    "start_time": "2025-03-14T20:11:19.430Z"
   },
   {
    "duration": 8,
    "start_time": "2025-03-14T20:11:20.530Z"
   },
   {
    "duration": 5,
    "start_time": "2025-03-14T20:11:23.245Z"
   },
   {
    "duration": 6,
    "start_time": "2025-03-14T20:11:24.831Z"
   },
   {
    "duration": 5,
    "start_time": "2025-03-14T20:11:25.467Z"
   },
   {
    "duration": 10,
    "start_time": "2025-03-14T20:11:26.494Z"
   },
   {
    "duration": 15,
    "start_time": "2025-03-14T20:11:28.614Z"
   },
   {
    "duration": 9,
    "start_time": "2025-03-14T20:11:31.962Z"
   },
   {
    "duration": 14,
    "start_time": "2025-03-14T20:11:43.039Z"
   },
   {
    "duration": 8,
    "start_time": "2025-03-14T20:11:45.070Z"
   },
   {
    "duration": 13,
    "start_time": "2025-03-14T20:11:45.550Z"
   },
   {
    "duration": 8,
    "start_time": "2025-03-14T20:11:48.389Z"
   },
   {
    "duration": 10,
    "start_time": "2025-03-14T20:11:51.725Z"
   },
   {
    "duration": 7,
    "start_time": "2025-03-14T20:11:54.428Z"
   },
   {
    "duration": 11,
    "start_time": "2025-03-14T20:12:08.919Z"
   },
   {
    "duration": 7,
    "start_time": "2025-03-14T20:12:12.112Z"
   },
   {
    "duration": 10,
    "start_time": "2025-03-14T20:12:12.392Z"
   },
   {
    "duration": 7,
    "start_time": "2025-03-14T20:12:13.290Z"
   },
   {
    "duration": 16,
    "start_time": "2025-03-14T20:12:15.300Z"
   },
   {
    "duration": 7,
    "start_time": "2025-03-14T20:12:16.203Z"
   },
   {
    "duration": 12,
    "start_time": "2025-03-14T20:12:21.067Z"
   },
   {
    "duration": 4,
    "start_time": "2025-03-14T20:12:22.113Z"
   },
   {
    "duration": 10,
    "start_time": "2025-03-14T20:12:25.151Z"
   },
   {
    "duration": 6,
    "start_time": "2025-03-14T20:12:25.645Z"
   },
   {
    "duration": 4,
    "start_time": "2025-03-14T20:12:26.277Z"
   },
   {
    "duration": 9,
    "start_time": "2025-03-14T20:12:38.383Z"
   },
   {
    "duration": 9,
    "start_time": "2025-03-14T20:12:44.751Z"
   },
   {
    "duration": 12,
    "start_time": "2025-03-14T20:12:53.389Z"
   },
   {
    "duration": 14,
    "start_time": "2025-03-14T20:12:54.323Z"
   },
   {
    "duration": 11,
    "start_time": "2025-03-14T20:12:55.972Z"
   },
   {
    "duration": 7,
    "start_time": "2025-03-14T20:12:56.955Z"
   },
   {
    "duration": 6,
    "start_time": "2025-03-14T20:13:01.748Z"
   },
   {
    "duration": 3,
    "start_time": "2025-03-14T20:19:44.252Z"
   },
   {
    "duration": 9,
    "start_time": "2025-03-14T20:19:45.561Z"
   },
   {
    "duration": 7,
    "start_time": "2025-03-14T20:19:55.398Z"
   },
   {
    "duration": 17,
    "start_time": "2025-03-14T20:19:56.534Z"
   },
   {
    "duration": 13,
    "start_time": "2025-03-14T20:19:56.915Z"
   },
   {
    "duration": 11,
    "start_time": "2025-03-14T20:19:57.911Z"
   },
   {
    "duration": 8,
    "start_time": "2025-03-14T20:19:58.292Z"
   },
   {
    "duration": 6,
    "start_time": "2025-03-14T20:19:58.792Z"
   },
   {
    "duration": 8,
    "start_time": "2025-03-14T20:24:28.965Z"
   },
   {
    "duration": 7,
    "start_time": "2025-03-14T20:24:29.376Z"
   },
   {
    "duration": 7,
    "start_time": "2025-03-14T20:24:40.097Z"
   },
   {
    "duration": 7,
    "start_time": "2025-03-14T20:24:40.595Z"
   },
   {
    "duration": 11,
    "start_time": "2025-03-14T20:26:29.276Z"
   },
   {
    "duration": 9,
    "start_time": "2025-03-14T20:26:51.477Z"
   },
   {
    "duration": 18,
    "start_time": "2025-03-14T20:27:03.110Z"
   },
   {
    "duration": 3,
    "start_time": "2025-03-14T20:32:49.758Z"
   },
   {
    "duration": 17,
    "start_time": "2025-03-14T20:32:50.876Z"
   },
   {
    "duration": 11,
    "start_time": "2025-03-14T20:33:02.974Z"
   },
   {
    "duration": 4,
    "start_time": "2025-03-14T20:33:03.326Z"
   },
   {
    "duration": 11,
    "start_time": "2025-03-14T20:33:13.408Z"
   },
   {
    "duration": 4,
    "start_time": "2025-03-14T20:33:31.840Z"
   },
   {
    "duration": 877,
    "start_time": "2025-03-14T20:34:00.206Z"
   },
   {
    "duration": 166,
    "start_time": "2025-03-14T20:34:01.085Z"
   },
   {
    "duration": 44,
    "start_time": "2025-03-14T20:34:01.252Z"
   },
   {
    "duration": 12,
    "start_time": "2025-03-14T20:34:01.299Z"
   },
   {
    "duration": 20,
    "start_time": "2025-03-14T20:34:01.314Z"
   },
   {
    "duration": 7,
    "start_time": "2025-03-14T20:34:01.335Z"
   },
   {
    "duration": 28,
    "start_time": "2025-03-14T20:34:01.343Z"
   },
   {
    "duration": 9,
    "start_time": "2025-03-14T20:34:01.373Z"
   },
   {
    "duration": 4,
    "start_time": "2025-03-14T20:34:01.384Z"
   },
   {
    "duration": 3,
    "start_time": "2025-03-14T20:34:01.390Z"
   },
   {
    "duration": 8,
    "start_time": "2025-03-14T20:34:01.395Z"
   },
   {
    "duration": 11,
    "start_time": "2025-03-14T20:34:01.404Z"
   },
   {
    "duration": 10,
    "start_time": "2025-03-14T20:34:01.417Z"
   },
   {
    "duration": 41,
    "start_time": "2025-03-14T20:34:01.432Z"
   },
   {
    "duration": 6,
    "start_time": "2025-03-14T20:34:01.475Z"
   },
   {
    "duration": 6,
    "start_time": "2025-03-14T20:34:01.482Z"
   },
   {
    "duration": 10,
    "start_time": "2025-03-14T20:34:01.490Z"
   },
   {
    "duration": 18,
    "start_time": "2025-03-14T20:34:01.502Z"
   },
   {
    "duration": 7,
    "start_time": "2025-03-14T20:34:01.521Z"
   },
   {
    "duration": 48,
    "start_time": "2025-03-14T20:34:01.531Z"
   },
   {
    "duration": 11,
    "start_time": "2025-03-14T20:34:01.581Z"
   },
   {
    "duration": 14,
    "start_time": "2025-03-14T20:34:01.594Z"
   },
   {
    "duration": 8,
    "start_time": "2025-03-14T20:34:01.610Z"
   },
   {
    "duration": 10,
    "start_time": "2025-03-14T20:34:01.620Z"
   },
   {
    "duration": 39,
    "start_time": "2025-03-14T20:34:01.631Z"
   },
   {
    "duration": 11,
    "start_time": "2025-03-14T20:34:01.673Z"
   },
   {
    "duration": 7,
    "start_time": "2025-03-14T20:34:01.686Z"
   },
   {
    "duration": 10,
    "start_time": "2025-03-14T20:34:01.694Z"
   },
   {
    "duration": 8,
    "start_time": "2025-03-14T20:34:01.705Z"
   },
   {
    "duration": 18,
    "start_time": "2025-03-14T20:34:01.715Z"
   },
   {
    "duration": 40,
    "start_time": "2025-03-14T20:34:01.735Z"
   },
   {
    "duration": 13,
    "start_time": "2025-03-14T20:34:01.777Z"
   },
   {
    "duration": 4,
    "start_time": "2025-03-14T20:34:01.791Z"
   },
   {
    "duration": 13,
    "start_time": "2025-03-14T20:34:01.796Z"
   },
   {
    "duration": 4,
    "start_time": "2025-03-14T20:34:01.810Z"
   },
   {
    "duration": 9,
    "start_time": "2025-03-14T20:34:01.816Z"
   },
   {
    "duration": 46,
    "start_time": "2025-03-14T20:34:01.826Z"
   },
   {
    "duration": 18,
    "start_time": "2025-03-14T20:34:01.873Z"
   },
   {
    "duration": 17,
    "start_time": "2025-03-14T20:34:01.893Z"
   },
   {
    "duration": 14,
    "start_time": "2025-03-14T20:34:01.913Z"
   },
   {
    "duration": 40,
    "start_time": "2025-03-14T20:34:01.933Z"
   },
   {
    "duration": 6,
    "start_time": "2025-03-14T20:34:01.975Z"
   },
   {
    "duration": 13,
    "start_time": "2025-03-14T20:34:01.983Z"
   },
   {
    "duration": 8,
    "start_time": "2025-03-14T20:34:01.998Z"
   },
   {
    "duration": 11,
    "start_time": "2025-03-14T20:34:02.007Z"
   },
   {
    "duration": 8,
    "start_time": "2025-03-14T20:34:02.020Z"
   },
   {
    "duration": 42,
    "start_time": "2025-03-14T20:34:02.030Z"
   },
   {
    "duration": 4,
    "start_time": "2025-03-14T20:34:02.074Z"
   },
   {
    "duration": 4,
    "start_time": "2025-03-14T20:34:02.080Z"
   },
   {
    "duration": 45,
    "start_time": "2025-03-14T20:34:02.086Z"
   },
   {
    "duration": 11,
    "start_time": "2025-03-14T20:34:02.133Z"
   },
   {
    "duration": 32,
    "start_time": "2025-03-14T20:34:02.169Z"
   },
   {
    "duration": 412,
    "start_time": "2025-03-14T20:34:02.203Z"
   },
   {
    "duration": 570,
    "start_time": "2025-03-14T20:34:02.616Z"
   },
   {
    "duration": 9,
    "start_time": "2025-03-14T20:34:03.189Z"
   },
   {
    "duration": 227,
    "start_time": "2025-03-14T20:34:03.200Z"
   },
   {
    "duration": 0,
    "start_time": "2025-03-14T20:34:03.429Z"
   },
   {
    "duration": 0,
    "start_time": "2025-03-14T20:34:03.430Z"
   },
   {
    "duration": 0,
    "start_time": "2025-03-14T20:34:03.432Z"
   },
   {
    "duration": 0,
    "start_time": "2025-03-14T20:34:03.433Z"
   },
   {
    "duration": 0,
    "start_time": "2025-03-14T20:34:03.434Z"
   },
   {
    "duration": 0,
    "start_time": "2025-03-14T20:34:03.436Z"
   },
   {
    "duration": 14,
    "start_time": "2025-03-14T20:35:07.007Z"
   },
   {
    "duration": 9,
    "start_time": "2025-03-14T20:36:18.091Z"
   },
   {
    "duration": 9,
    "start_time": "2025-03-14T20:37:22.776Z"
   },
   {
    "duration": 9,
    "start_time": "2025-03-14T20:37:51.992Z"
   },
   {
    "duration": 5,
    "start_time": "2025-03-14T20:37:52.641Z"
   },
   {
    "duration": 6,
    "start_time": "2025-03-14T20:37:59.482Z"
   },
   {
    "duration": 4,
    "start_time": "2025-03-14T20:41:44.311Z"
   },
   {
    "duration": 6,
    "start_time": "2025-03-14T20:41:58.890Z"
   },
   {
    "duration": 4,
    "start_time": "2025-03-14T20:42:37.723Z"
   },
   {
    "duration": 8,
    "start_time": "2025-03-14T20:42:38.148Z"
   },
   {
    "duration": 3,
    "start_time": "2025-03-14T20:43:32.245Z"
   },
   {
    "duration": 7,
    "start_time": "2025-03-14T20:43:32.627Z"
   },
   {
    "duration": 843,
    "start_time": "2025-03-14T20:43:56.498Z"
   },
   {
    "duration": 155,
    "start_time": "2025-03-14T20:43:57.343Z"
   },
   {
    "duration": 44,
    "start_time": "2025-03-14T20:43:57.500Z"
   },
   {
    "duration": 26,
    "start_time": "2025-03-14T20:43:57.546Z"
   },
   {
    "duration": 21,
    "start_time": "2025-03-14T20:43:57.574Z"
   },
   {
    "duration": 7,
    "start_time": "2025-03-14T20:43:57.596Z"
   },
   {
    "duration": 5,
    "start_time": "2025-03-14T20:43:57.604Z"
   },
   {
    "duration": 5,
    "start_time": "2025-03-14T20:43:57.611Z"
   },
   {
    "duration": 4,
    "start_time": "2025-03-14T20:43:57.617Z"
   },
   {
    "duration": 3,
    "start_time": "2025-03-14T20:43:57.625Z"
   },
   {
    "duration": 46,
    "start_time": "2025-03-14T20:43:57.630Z"
   },
   {
    "duration": 12,
    "start_time": "2025-03-14T20:43:57.678Z"
   },
   {
    "duration": 8,
    "start_time": "2025-03-14T20:43:57.693Z"
   },
   {
    "duration": 5,
    "start_time": "2025-03-14T20:43:57.703Z"
   },
   {
    "duration": 6,
    "start_time": "2025-03-14T20:43:57.710Z"
   },
   {
    "duration": 8,
    "start_time": "2025-03-14T20:43:57.717Z"
   },
   {
    "duration": 10,
    "start_time": "2025-03-14T20:43:57.727Z"
   },
   {
    "duration": 17,
    "start_time": "2025-03-14T20:43:57.770Z"
   },
   {
    "duration": 6,
    "start_time": "2025-03-14T20:43:57.789Z"
   },
   {
    "duration": 15,
    "start_time": "2025-03-14T20:43:57.797Z"
   },
   {
    "duration": 10,
    "start_time": "2025-03-14T20:43:57.813Z"
   },
   {
    "duration": 14,
    "start_time": "2025-03-14T20:43:57.824Z"
   },
   {
    "duration": 7,
    "start_time": "2025-03-14T20:43:57.871Z"
   },
   {
    "duration": 9,
    "start_time": "2025-03-14T20:43:57.880Z"
   },
   {
    "duration": 5,
    "start_time": "2025-03-14T20:43:57.890Z"
   },
   {
    "duration": 9,
    "start_time": "2025-03-14T20:43:57.897Z"
   },
   {
    "duration": 6,
    "start_time": "2025-03-14T20:43:57.908Z"
   },
   {
    "duration": 9,
    "start_time": "2025-03-14T20:43:57.920Z"
   },
   {
    "duration": 40,
    "start_time": "2025-03-14T20:43:57.930Z"
   },
   {
    "duration": 15,
    "start_time": "2025-03-14T20:43:57.972Z"
   },
   {
    "duration": 6,
    "start_time": "2025-03-14T20:43:57.989Z"
   },
   {
    "duration": 12,
    "start_time": "2025-03-14T20:43:57.997Z"
   },
   {
    "duration": 3,
    "start_time": "2025-03-14T20:43:58.011Z"
   },
   {
    "duration": 13,
    "start_time": "2025-03-14T20:43:58.015Z"
   },
   {
    "duration": 3,
    "start_time": "2025-03-14T20:43:58.029Z"
   },
   {
    "duration": 42,
    "start_time": "2025-03-14T20:43:58.034Z"
   },
   {
    "duration": 8,
    "start_time": "2025-03-14T20:43:58.077Z"
   },
   {
    "duration": 17,
    "start_time": "2025-03-14T20:43:58.087Z"
   },
   {
    "duration": 17,
    "start_time": "2025-03-14T20:43:58.106Z"
   },
   {
    "duration": 12,
    "start_time": "2025-03-14T20:43:58.124Z"
   },
   {
    "duration": 38,
    "start_time": "2025-03-14T20:43:58.138Z"
   },
   {
    "duration": 6,
    "start_time": "2025-03-14T20:43:58.178Z"
   },
   {
    "duration": 4,
    "start_time": "2025-03-14T20:43:58.185Z"
   },
   {
    "duration": 8,
    "start_time": "2025-03-14T20:43:58.190Z"
   },
   {
    "duration": 11,
    "start_time": "2025-03-14T20:43:58.199Z"
   },
   {
    "duration": 9,
    "start_time": "2025-03-14T20:43:58.211Z"
   },
   {
    "duration": 10,
    "start_time": "2025-03-14T20:43:58.221Z"
   },
   {
    "duration": 44,
    "start_time": "2025-03-14T20:43:58.233Z"
   },
   {
    "duration": 6,
    "start_time": "2025-03-14T20:43:58.278Z"
   },
   {
    "duration": 3,
    "start_time": "2025-03-14T20:43:58.287Z"
   },
   {
    "duration": 3,
    "start_time": "2025-03-14T20:43:58.292Z"
   },
   {
    "duration": 44,
    "start_time": "2025-03-14T20:43:58.297Z"
   },
   {
    "duration": 31,
    "start_time": "2025-03-14T20:43:58.343Z"
   },
   {
    "duration": 36,
    "start_time": "2025-03-14T20:43:58.375Z"
   },
   {
    "duration": 412,
    "start_time": "2025-03-14T20:43:58.413Z"
   },
   {
    "duration": 559,
    "start_time": "2025-03-14T20:43:58.827Z"
   },
   {
    "duration": 10,
    "start_time": "2025-03-14T20:43:59.389Z"
   },
   {
    "duration": 217,
    "start_time": "2025-03-14T20:43:59.400Z"
   },
   {
    "duration": 0,
    "start_time": "2025-03-14T20:43:59.619Z"
   },
   {
    "duration": 0,
    "start_time": "2025-03-14T20:43:59.620Z"
   },
   {
    "duration": 0,
    "start_time": "2025-03-14T20:43:59.621Z"
   },
   {
    "duration": 0,
    "start_time": "2025-03-14T20:43:59.622Z"
   },
   {
    "duration": 0,
    "start_time": "2025-03-14T20:43:59.623Z"
   },
   {
    "duration": 0,
    "start_time": "2025-03-14T20:43:59.624Z"
   },
   {
    "duration": 3,
    "start_time": "2025-03-14T20:45:16.114Z"
   },
   {
    "duration": 43,
    "start_time": "2025-03-14T20:45:16.609Z"
   },
   {
    "duration": 11,
    "start_time": "2025-03-14T20:45:17.477Z"
   },
   {
    "duration": 21,
    "start_time": "2025-03-14T20:50:48.937Z"
   },
   {
    "duration": 12,
    "start_time": "2025-03-14T20:54:47.172Z"
   },
   {
    "duration": 14,
    "start_time": "2025-03-14T20:54:48.505Z"
   },
   {
    "duration": 18,
    "start_time": "2025-03-14T20:54:56.871Z"
   },
   {
    "duration": 4,
    "start_time": "2025-03-14T20:55:14.169Z"
   },
   {
    "duration": 44,
    "start_time": "2025-03-14T22:00:42.394Z"
   },
   {
    "duration": 43,
    "start_time": "2025-03-14T22:00:51.242Z"
   },
   {
    "duration": 13,
    "start_time": "2025-03-14T22:00:51.837Z"
   },
   {
    "duration": 46,
    "start_time": "2025-03-14T22:03:35.662Z"
   },
   {
    "duration": 43,
    "start_time": "2025-03-14T22:03:36.257Z"
   },
   {
    "duration": 14,
    "start_time": "2025-03-14T22:03:37.192Z"
   },
   {
    "duration": 36,
    "start_time": "2025-03-14T22:03:37.986Z"
   },
   {
    "duration": 761,
    "start_time": "2025-03-14T22:04:02.632Z"
   },
   {
    "duration": 164,
    "start_time": "2025-03-14T22:04:03.396Z"
   },
   {
    "duration": 45,
    "start_time": "2025-03-14T22:04:03.562Z"
   },
   {
    "duration": 13,
    "start_time": "2025-03-14T22:04:03.608Z"
   },
   {
    "duration": 19,
    "start_time": "2025-03-14T22:04:03.624Z"
   },
   {
    "duration": 27,
    "start_time": "2025-03-14T22:04:03.644Z"
   },
   {
    "duration": 4,
    "start_time": "2025-03-14T22:04:03.672Z"
   },
   {
    "duration": 5,
    "start_time": "2025-03-14T22:04:03.679Z"
   },
   {
    "duration": 2,
    "start_time": "2025-03-14T22:04:03.686Z"
   },
   {
    "duration": 4,
    "start_time": "2025-03-14T22:04:03.690Z"
   },
   {
    "duration": 8,
    "start_time": "2025-03-14T22:04:03.695Z"
   },
   {
    "duration": 11,
    "start_time": "2025-03-14T22:04:03.705Z"
   },
   {
    "duration": 9,
    "start_time": "2025-03-14T22:04:03.717Z"
   },
   {
    "duration": 4,
    "start_time": "2025-03-14T22:04:03.770Z"
   },
   {
    "duration": 6,
    "start_time": "2025-03-14T22:04:03.776Z"
   },
   {
    "duration": 5,
    "start_time": "2025-03-14T22:04:03.783Z"
   },
   {
    "duration": 10,
    "start_time": "2025-03-14T22:04:03.789Z"
   },
   {
    "duration": 17,
    "start_time": "2025-03-14T22:04:03.800Z"
   },
   {
    "duration": 7,
    "start_time": "2025-03-14T22:04:03.819Z"
   },
   {
    "duration": 47,
    "start_time": "2025-03-14T22:04:03.828Z"
   },
   {
    "duration": 9,
    "start_time": "2025-03-14T22:04:03.877Z"
   },
   {
    "duration": 15,
    "start_time": "2025-03-14T22:04:03.887Z"
   },
   {
    "duration": 7,
    "start_time": "2025-03-14T22:04:03.903Z"
   },
   {
    "duration": 10,
    "start_time": "2025-03-14T22:04:03.912Z"
   },
   {
    "duration": 5,
    "start_time": "2025-03-14T22:04:03.923Z"
   },
   {
    "duration": 44,
    "start_time": "2025-03-14T22:04:03.930Z"
   },
   {
    "duration": 7,
    "start_time": "2025-03-14T22:04:03.976Z"
   },
   {
    "duration": 9,
    "start_time": "2025-03-14T22:04:03.984Z"
   },
   {
    "duration": 6,
    "start_time": "2025-03-14T22:04:03.994Z"
   },
   {
    "duration": 16,
    "start_time": "2025-03-14T22:04:04.003Z"
   },
   {
    "duration": 6,
    "start_time": "2025-03-14T22:04:04.021Z"
   },
   {
    "duration": 41,
    "start_time": "2025-03-14T22:04:04.029Z"
   },
   {
    "duration": 4,
    "start_time": "2025-03-14T22:04:04.071Z"
   },
   {
    "duration": 12,
    "start_time": "2025-03-14T22:04:04.076Z"
   },
   {
    "duration": 3,
    "start_time": "2025-03-14T22:04:04.090Z"
   },
   {
    "duration": 9,
    "start_time": "2025-03-14T22:04:04.095Z"
   },
   {
    "duration": 10,
    "start_time": "2025-03-14T22:04:04.107Z"
   },
   {
    "duration": 18,
    "start_time": "2025-03-14T22:04:04.118Z"
   },
   {
    "duration": 4,
    "start_time": "2025-03-14T22:04:04.169Z"
   },
   {
    "duration": 17,
    "start_time": "2025-03-14T22:04:04.174Z"
   },
   {
    "duration": 11,
    "start_time": "2025-03-14T22:04:04.195Z"
   },
   {
    "duration": 9,
    "start_time": "2025-03-14T22:04:04.208Z"
   },
   {
    "duration": 6,
    "start_time": "2025-03-14T22:04:04.219Z"
   },
   {
    "duration": 4,
    "start_time": "2025-03-14T22:04:04.226Z"
   },
   {
    "duration": 40,
    "start_time": "2025-03-14T22:04:04.231Z"
   },
   {
    "duration": 11,
    "start_time": "2025-03-14T22:04:04.273Z"
   },
   {
    "duration": 8,
    "start_time": "2025-03-14T22:04:04.285Z"
   },
   {
    "duration": 11,
    "start_time": "2025-03-14T22:04:04.294Z"
   },
   {
    "duration": 9,
    "start_time": "2025-03-14T22:04:04.306Z"
   },
   {
    "duration": 7,
    "start_time": "2025-03-14T22:04:04.316Z"
   },
   {
    "duration": 4,
    "start_time": "2025-03-14T22:04:04.325Z"
   },
   {
    "duration": 80,
    "start_time": "2025-03-14T22:04:04.330Z"
   },
   {
    "duration": 44,
    "start_time": "2025-03-14T22:04:04.412Z"
   },
   {
    "duration": 21,
    "start_time": "2025-03-14T22:04:04.458Z"
   },
   {
    "duration": 32,
    "start_time": "2025-03-14T22:04:04.481Z"
   },
   {
    "duration": 400,
    "start_time": "2025-03-14T22:04:04.515Z"
   },
   {
    "duration": 558,
    "start_time": "2025-03-14T22:04:04.917Z"
   },
   {
    "duration": 9,
    "start_time": "2025-03-14T22:04:05.477Z"
   },
   {
    "duration": 216,
    "start_time": "2025-03-14T22:04:05.488Z"
   },
   {
    "duration": 0,
    "start_time": "2025-03-14T22:04:05.706Z"
   },
   {
    "duration": 0,
    "start_time": "2025-03-14T22:04:05.708Z"
   },
   {
    "duration": 0,
    "start_time": "2025-03-14T22:04:05.709Z"
   },
   {
    "duration": 0,
    "start_time": "2025-03-14T22:04:05.711Z"
   },
   {
    "duration": 0,
    "start_time": "2025-03-14T22:04:05.712Z"
   },
   {
    "duration": 0,
    "start_time": "2025-03-14T22:04:05.713Z"
   },
   {
    "duration": 3,
    "start_time": "2025-03-14T22:04:13.125Z"
   },
   {
    "duration": 153,
    "start_time": "2025-03-14T22:04:13.438Z"
   },
   {
    "duration": 46,
    "start_time": "2025-03-14T22:04:13.757Z"
   },
   {
    "duration": 11,
    "start_time": "2025-03-14T22:04:13.920Z"
   },
   {
    "duration": 21,
    "start_time": "2025-03-14T22:04:14.421Z"
   },
   {
    "duration": 7,
    "start_time": "2025-03-14T22:04:14.571Z"
   },
   {
    "duration": 4,
    "start_time": "2025-03-14T22:04:17.679Z"
   },
   {
    "duration": 5,
    "start_time": "2025-03-14T22:04:17.889Z"
   },
   {
    "duration": 3,
    "start_time": "2025-03-14T22:04:18.059Z"
   },
   {
    "duration": 3,
    "start_time": "2025-03-14T22:04:19.605Z"
   },
   {
    "duration": 8,
    "start_time": "2025-03-14T22:04:19.757Z"
   },
   {
    "duration": 12,
    "start_time": "2025-03-14T22:04:20.205Z"
   },
   {
    "duration": 8,
    "start_time": "2025-03-14T22:04:20.432Z"
   },
   {
    "duration": 5,
    "start_time": "2025-03-14T22:04:22.527Z"
   },
   {
    "duration": 6,
    "start_time": "2025-03-14T22:04:23.678Z"
   },
   {
    "duration": 5,
    "start_time": "2025-03-14T22:04:23.976Z"
   },
   {
    "duration": 9,
    "start_time": "2025-03-14T22:04:24.366Z"
   },
   {
    "duration": 17,
    "start_time": "2025-03-14T22:04:25.327Z"
   },
   {
    "duration": 7,
    "start_time": "2025-03-14T22:04:26.031Z"
   },
   {
    "duration": 15,
    "start_time": "2025-03-14T22:04:29.677Z"
   },
   {
    "duration": 11,
    "start_time": "2025-03-14T22:04:30.829Z"
   },
   {
    "duration": 14,
    "start_time": "2025-03-14T22:04:31.227Z"
   },
   {
    "duration": 7,
    "start_time": "2025-03-14T22:04:31.525Z"
   },
   {
    "duration": 10,
    "start_time": "2025-03-14T22:04:34.127Z"
   },
   {
    "duration": 6,
    "start_time": "2025-03-14T22:04:34.807Z"
   },
   {
    "duration": 10,
    "start_time": "2025-03-14T22:04:36.784Z"
   },
   {
    "duration": 7,
    "start_time": "2025-03-14T22:04:38.140Z"
   },
   {
    "duration": 9,
    "start_time": "2025-03-14T22:04:38.430Z"
   },
   {
    "duration": 8,
    "start_time": "2025-03-14T22:04:38.777Z"
   },
   {
    "duration": 15,
    "start_time": "2025-03-14T22:04:40.561Z"
   },
   {
    "duration": 7,
    "start_time": "2025-03-14T22:04:40.859Z"
   },
   {
    "duration": 12,
    "start_time": "2025-03-14T22:04:43.560Z"
   },
   {
    "duration": 4,
    "start_time": "2025-03-14T22:04:44.177Z"
   },
   {
    "duration": 11,
    "start_time": "2025-03-14T22:04:45.879Z"
   },
   {
    "duration": 4,
    "start_time": "2025-03-14T22:04:46.229Z"
   },
   {
    "duration": 8,
    "start_time": "2025-03-14T22:04:46.610Z"
   },
   {
    "duration": 8,
    "start_time": "2025-03-14T22:05:00.906Z"
   },
   {
    "duration": 15,
    "start_time": "2025-03-14T22:05:20.197Z"
   },
   {
    "duration": 4,
    "start_time": "2025-03-14T22:06:08.607Z"
   },
   {
    "duration": 15,
    "start_time": "2025-03-14T22:06:09.489Z"
   },
   {
    "duration": 11,
    "start_time": "2025-03-14T22:07:16.136Z"
   },
   {
    "duration": 9,
    "start_time": "2025-03-14T22:07:18.215Z"
   },
   {
    "duration": 6,
    "start_time": "2025-03-14T22:07:21.042Z"
   },
   {
    "duration": 4,
    "start_time": "2025-03-14T22:07:22.221Z"
   },
   {
    "duration": 7,
    "start_time": "2025-03-14T22:07:23.362Z"
   },
   {
    "duration": 11,
    "start_time": "2025-03-14T22:07:53.231Z"
   },
   {
    "duration": 8,
    "start_time": "2025-03-14T22:07:54.245Z"
   },
   {
    "duration": 11,
    "start_time": "2025-03-14T22:08:17.094Z"
   },
   {
    "duration": 8,
    "start_time": "2025-03-14T22:08:20.023Z"
   },
   {
    "duration": 4,
    "start_time": "2025-03-14T22:11:06.307Z"
   },
   {
    "duration": 561,
    "start_time": "2025-03-14T22:11:06.790Z"
   },
   {
    "duration": 9,
    "start_time": "2025-03-14T22:11:07.572Z"
   },
   {
    "duration": 11,
    "start_time": "2025-03-14T22:11:21.572Z"
   },
   {
    "duration": 6,
    "start_time": "2025-03-14T22:26:34.126Z"
   },
   {
    "duration": 11,
    "start_time": "2025-03-14T22:27:12.003Z"
   },
   {
    "duration": 4,
    "start_time": "2025-03-14T22:27:26.130Z"
   },
   {
    "duration": 67,
    "start_time": "2025-03-14T22:27:27.250Z"
   },
   {
    "duration": 9,
    "start_time": "2025-03-14T22:27:29.578Z"
   },
   {
    "duration": 10,
    "start_time": "2025-03-14T22:27:30.489Z"
   },
   {
    "duration": 7,
    "start_time": "2025-03-14T22:29:12.236Z"
   },
   {
    "duration": 360,
    "start_time": "2025-03-14T22:29:13.432Z"
   },
   {
    "duration": 19,
    "start_time": "2025-03-14T22:29:14.050Z"
   },
   {
    "duration": 4,
    "start_time": "2025-03-14T22:29:21.937Z"
   },
   {
    "duration": 68,
    "start_time": "2025-03-14T22:29:22.474Z"
   },
   {
    "duration": 822,
    "start_time": "2025-03-14T22:30:25.260Z"
   },
   {
    "duration": 157,
    "start_time": "2025-03-14T22:30:26.085Z"
   },
   {
    "duration": 43,
    "start_time": "2025-03-14T22:30:26.243Z"
   },
   {
    "duration": 14,
    "start_time": "2025-03-14T22:30:26.288Z"
   },
   {
    "duration": 21,
    "start_time": "2025-03-14T22:30:26.303Z"
   },
   {
    "duration": 9,
    "start_time": "2025-03-14T22:30:26.326Z"
   },
   {
    "duration": 6,
    "start_time": "2025-03-14T22:30:26.339Z"
   },
   {
    "duration": 5,
    "start_time": "2025-03-14T22:30:26.371Z"
   },
   {
    "duration": 3,
    "start_time": "2025-03-14T22:30:26.378Z"
   },
   {
    "duration": 4,
    "start_time": "2025-03-14T22:30:26.384Z"
   },
   {
    "duration": 8,
    "start_time": "2025-03-14T22:30:26.390Z"
   },
   {
    "duration": 11,
    "start_time": "2025-03-14T22:30:26.399Z"
   },
   {
    "duration": 8,
    "start_time": "2025-03-14T22:30:26.411Z"
   },
   {
    "duration": 5,
    "start_time": "2025-03-14T22:30:26.422Z"
   },
   {
    "duration": 46,
    "start_time": "2025-03-14T22:30:26.429Z"
   },
   {
    "duration": 6,
    "start_time": "2025-03-14T22:30:26.477Z"
   },
   {
    "duration": 11,
    "start_time": "2025-03-14T22:30:26.485Z"
   },
   {
    "duration": 16,
    "start_time": "2025-03-14T22:30:26.498Z"
   },
   {
    "duration": 6,
    "start_time": "2025-03-14T22:30:26.516Z"
   },
   {
    "duration": 47,
    "start_time": "2025-03-14T22:30:26.524Z"
   },
   {
    "duration": 10,
    "start_time": "2025-03-14T22:30:26.574Z"
   },
   {
    "duration": 14,
    "start_time": "2025-03-14T22:30:26.585Z"
   },
   {
    "duration": 8,
    "start_time": "2025-03-14T22:30:26.601Z"
   },
   {
    "duration": 9,
    "start_time": "2025-03-14T22:30:26.610Z"
   },
   {
    "duration": 5,
    "start_time": "2025-03-14T22:30:26.621Z"
   },
   {
    "duration": 47,
    "start_time": "2025-03-14T22:30:26.628Z"
   },
   {
    "duration": 7,
    "start_time": "2025-03-14T22:30:26.676Z"
   },
   {
    "duration": 9,
    "start_time": "2025-03-14T22:30:26.687Z"
   },
   {
    "duration": 8,
    "start_time": "2025-03-14T22:30:26.697Z"
   },
   {
    "duration": 16,
    "start_time": "2025-03-14T22:30:26.706Z"
   },
   {
    "duration": 7,
    "start_time": "2025-03-14T22:30:26.723Z"
   },
   {
    "duration": 40,
    "start_time": "2025-03-14T22:30:26.732Z"
   },
   {
    "duration": 4,
    "start_time": "2025-03-14T22:30:26.774Z"
   },
   {
    "duration": 12,
    "start_time": "2025-03-14T22:30:26.780Z"
   },
   {
    "duration": 3,
    "start_time": "2025-03-14T22:30:26.793Z"
   },
   {
    "duration": 9,
    "start_time": "2025-03-14T22:30:26.798Z"
   },
   {
    "duration": 8,
    "start_time": "2025-03-14T22:30:26.808Z"
   },
   {
    "duration": 17,
    "start_time": "2025-03-14T22:30:26.817Z"
   },
   {
    "duration": 37,
    "start_time": "2025-03-14T22:30:26.835Z"
   },
   {
    "duration": 22,
    "start_time": "2025-03-14T22:30:26.874Z"
   },
   {
    "duration": 12,
    "start_time": "2025-03-14T22:30:26.898Z"
   },
   {
    "duration": 10,
    "start_time": "2025-03-14T22:30:26.911Z"
   },
   {
    "duration": 6,
    "start_time": "2025-03-14T22:30:26.922Z"
   },
   {
    "duration": 4,
    "start_time": "2025-03-14T22:30:26.930Z"
   },
   {
    "duration": 37,
    "start_time": "2025-03-14T22:30:26.935Z"
   },
   {
    "duration": 13,
    "start_time": "2025-03-14T22:30:26.975Z"
   },
   {
    "duration": 11,
    "start_time": "2025-03-14T22:30:26.991Z"
   },
   {
    "duration": 12,
    "start_time": "2025-03-14T22:30:27.004Z"
   },
   {
    "duration": 11,
    "start_time": "2025-03-14T22:30:27.019Z"
   },
   {
    "duration": 38,
    "start_time": "2025-03-14T22:30:27.032Z"
   },
   {
    "duration": 9,
    "start_time": "2025-03-14T22:30:27.073Z"
   },
   {
    "duration": 18,
    "start_time": "2025-03-14T22:30:27.086Z"
   },
   {
    "duration": 2,
    "start_time": "2025-03-14T22:30:27.106Z"
   },
   {
    "duration": 8,
    "start_time": "2025-03-14T22:30:27.110Z"
   },
   {
    "duration": 1018,
    "start_time": "2025-03-14T22:30:27.121Z"
   },
   {
    "duration": 0,
    "start_time": "2025-03-14T22:30:28.141Z"
   },
   {
    "duration": 0,
    "start_time": "2025-03-14T22:30:28.142Z"
   },
   {
    "duration": 0,
    "start_time": "2025-03-14T22:30:28.143Z"
   },
   {
    "duration": 0,
    "start_time": "2025-03-14T22:30:28.145Z"
   },
   {
    "duration": 0,
    "start_time": "2025-03-14T22:30:28.145Z"
   },
   {
    "duration": 0,
    "start_time": "2025-03-14T22:30:28.147Z"
   },
   {
    "duration": 0,
    "start_time": "2025-03-14T22:30:28.148Z"
   },
   {
    "duration": 0,
    "start_time": "2025-03-14T22:30:28.149Z"
   },
   {
    "duration": 0,
    "start_time": "2025-03-14T22:30:28.150Z"
   },
   {
    "duration": 0,
    "start_time": "2025-03-14T22:30:28.151Z"
   },
   {
    "duration": 0,
    "start_time": "2025-03-14T22:30:28.170Z"
   },
   {
    "duration": 0,
    "start_time": "2025-03-14T22:30:28.172Z"
   },
   {
    "duration": 3,
    "start_time": "2025-03-14T22:30:32.078Z"
   },
   {
    "duration": 165,
    "start_time": "2025-03-14T22:30:32.479Z"
   },
   {
    "duration": 43,
    "start_time": "2025-03-14T22:30:32.762Z"
   },
   {
    "duration": 15,
    "start_time": "2025-03-14T22:30:32.894Z"
   },
   {
    "duration": 20,
    "start_time": "2025-03-14T22:30:33.576Z"
   },
   {
    "duration": 8,
    "start_time": "2025-03-14T22:30:33.688Z"
   },
   {
    "duration": 3,
    "start_time": "2025-03-14T22:30:34.262Z"
   },
   {
    "duration": 7,
    "start_time": "2025-03-14T22:30:34.414Z"
   },
   {
    "duration": 3,
    "start_time": "2025-03-14T22:30:34.544Z"
   },
   {
    "duration": 4,
    "start_time": "2025-03-14T22:30:35.251Z"
   },
   {
    "duration": 8,
    "start_time": "2025-03-14T22:30:35.397Z"
   },
   {
    "duration": 15,
    "start_time": "2025-03-14T22:30:35.712Z"
   },
   {
    "duration": 11,
    "start_time": "2025-03-14T22:30:36.067Z"
   },
   {
    "duration": 5,
    "start_time": "2025-03-14T22:30:36.449Z"
   },
   {
    "duration": 7,
    "start_time": "2025-03-14T22:30:37.047Z"
   },
   {
    "duration": 8,
    "start_time": "2025-03-14T22:30:37.185Z"
   },
   {
    "duration": 11,
    "start_time": "2025-03-14T22:30:37.341Z"
   },
   {
    "duration": 19,
    "start_time": "2025-03-14T22:30:37.612Z"
   },
   {
    "duration": 7,
    "start_time": "2025-03-14T22:30:37.764Z"
   },
   {
    "duration": 16,
    "start_time": "2025-03-14T22:30:38.333Z"
   },
   {
    "duration": 9,
    "start_time": "2025-03-14T22:30:38.804Z"
   },
   {
    "duration": 14,
    "start_time": "2025-03-14T22:30:39.105Z"
   },
   {
    "duration": 7,
    "start_time": "2025-03-14T22:30:39.265Z"
   },
   {
    "duration": 10,
    "start_time": "2025-03-14T22:30:39.562Z"
   },
   {
    "duration": 7,
    "start_time": "2025-03-14T22:30:39.711Z"
   },
   {
    "duration": 10,
    "start_time": "2025-03-14T22:30:40.294Z"
   },
   {
    "duration": 7,
    "start_time": "2025-03-14T22:30:40.773Z"
   },
   {
    "duration": 9,
    "start_time": "2025-03-14T22:30:40.895Z"
   },
   {
    "duration": 7,
    "start_time": "2025-03-14T22:30:41.062Z"
   },
   {
    "duration": 18,
    "start_time": "2025-03-14T22:30:41.366Z"
   },
   {
    "duration": 7,
    "start_time": "2025-03-14T22:30:41.510Z"
   },
   {
    "duration": 13,
    "start_time": "2025-03-14T22:30:42.097Z"
   },
   {
    "duration": 3,
    "start_time": "2025-03-14T22:30:42.244Z"
   },
   {
    "duration": 11,
    "start_time": "2025-03-14T22:30:42.672Z"
   },
   {
    "duration": 4,
    "start_time": "2025-03-14T22:30:43.003Z"
   },
   {
    "duration": 8,
    "start_time": "2025-03-14T22:30:43.168Z"
   },
   {
    "duration": 8,
    "start_time": "2025-03-14T22:30:44.051Z"
   },
   {
    "duration": 15,
    "start_time": "2025-03-14T22:30:44.581Z"
   },
   {
    "duration": 4,
    "start_time": "2025-03-14T22:30:44.994Z"
   },
   {
    "duration": 16,
    "start_time": "2025-03-14T22:30:45.236Z"
   },
   {
    "duration": 12,
    "start_time": "2025-03-14T22:30:45.377Z"
   },
   {
    "duration": 12,
    "start_time": "2025-03-14T22:30:45.584Z"
   },
   {
    "duration": 6,
    "start_time": "2025-03-14T22:30:49.806Z"
   },
   {
    "duration": 4,
    "start_time": "2025-03-14T22:30:53.633Z"
   },
   {
    "duration": 8,
    "start_time": "2025-03-14T22:30:53.900Z"
   },
   {
    "duration": 10,
    "start_time": "2025-03-14T22:30:58.555Z"
   },
   {
    "duration": 8,
    "start_time": "2025-03-14T22:30:59.018Z"
   },
   {
    "duration": 11,
    "start_time": "2025-03-14T22:31:02.788Z"
   },
   {
    "duration": 9,
    "start_time": "2025-03-14T22:31:03.333Z"
   },
   {
    "duration": 6,
    "start_time": "2025-03-14T22:31:04.233Z"
   },
   {
    "duration": 4,
    "start_time": "2025-03-14T22:31:12.535Z"
   },
   {
    "duration": 12,
    "start_time": "2025-03-14T22:31:13.039Z"
   },
   {
    "duration": 4,
    "start_time": "2025-03-14T22:32:31.903Z"
   },
   {
    "duration": 68,
    "start_time": "2025-03-14T22:32:32.435Z"
   },
   {
    "duration": 14,
    "start_time": "2025-03-14T22:32:39.817Z"
   },
   {
    "duration": 7,
    "start_time": "2025-03-14T22:33:54.604Z"
   },
   {
    "duration": 5,
    "start_time": "2025-03-14T22:33:55.132Z"
   },
   {
    "duration": 17,
    "start_time": "2025-03-14T22:33:55.826Z"
   },
   {
    "duration": 809,
    "start_time": "2025-03-14T22:34:05.086Z"
   },
   {
    "duration": 177,
    "start_time": "2025-03-14T22:34:05.899Z"
   },
   {
    "duration": 43,
    "start_time": "2025-03-14T22:34:06.078Z"
   },
   {
    "duration": 12,
    "start_time": "2025-03-14T22:34:06.125Z"
   },
   {
    "duration": 31,
    "start_time": "2025-03-14T22:34:06.139Z"
   },
   {
    "duration": 7,
    "start_time": "2025-03-14T22:34:06.171Z"
   },
   {
    "duration": 4,
    "start_time": "2025-03-14T22:34:06.180Z"
   },
   {
    "duration": 5,
    "start_time": "2025-03-14T22:34:06.186Z"
   },
   {
    "duration": 3,
    "start_time": "2025-03-14T22:34:06.194Z"
   },
   {
    "duration": 7,
    "start_time": "2025-03-14T22:34:06.198Z"
   },
   {
    "duration": 8,
    "start_time": "2025-03-14T22:34:06.207Z"
   },
   {
    "duration": 11,
    "start_time": "2025-03-14T22:34:06.216Z"
   },
   {
    "duration": 44,
    "start_time": "2025-03-14T22:34:06.228Z"
   },
   {
    "duration": 5,
    "start_time": "2025-03-14T22:34:06.274Z"
   },
   {
    "duration": 5,
    "start_time": "2025-03-14T22:34:06.281Z"
   },
   {
    "duration": 5,
    "start_time": "2025-03-14T22:34:06.287Z"
   },
   {
    "duration": 9,
    "start_time": "2025-03-14T22:34:06.294Z"
   },
   {
    "duration": 16,
    "start_time": "2025-03-14T22:34:06.305Z"
   },
   {
    "duration": 8,
    "start_time": "2025-03-14T22:34:06.323Z"
   },
   {
    "duration": 52,
    "start_time": "2025-03-14T22:34:06.333Z"
   },
   {
    "duration": 10,
    "start_time": "2025-03-14T22:34:06.386Z"
   },
   {
    "duration": 14,
    "start_time": "2025-03-14T22:34:06.398Z"
   },
   {
    "duration": 8,
    "start_time": "2025-03-14T22:34:06.414Z"
   },
   {
    "duration": 10,
    "start_time": "2025-03-14T22:34:06.424Z"
   },
   {
    "duration": 5,
    "start_time": "2025-03-14T22:34:06.470Z"
   },
   {
    "duration": 10,
    "start_time": "2025-03-14T22:34:06.476Z"
   },
   {
    "duration": 5,
    "start_time": "2025-03-14T22:34:06.491Z"
   },
   {
    "duration": 20,
    "start_time": "2025-03-14T22:34:06.498Z"
   },
   {
    "duration": 8,
    "start_time": "2025-03-14T22:34:06.520Z"
   },
   {
    "duration": 40,
    "start_time": "2025-03-14T22:34:06.531Z"
   },
   {
    "duration": 10,
    "start_time": "2025-03-14T22:34:06.577Z"
   },
   {
    "duration": 12,
    "start_time": "2025-03-14T22:34:06.589Z"
   },
   {
    "duration": 3,
    "start_time": "2025-03-14T22:34:06.602Z"
   },
   {
    "duration": 11,
    "start_time": "2025-03-14T22:34:06.607Z"
   },
   {
    "duration": 3,
    "start_time": "2025-03-14T22:34:06.620Z"
   },
   {
    "duration": 9,
    "start_time": "2025-03-14T22:34:06.625Z"
   },
   {
    "duration": 35,
    "start_time": "2025-03-14T22:34:06.636Z"
   },
   {
    "duration": 17,
    "start_time": "2025-03-14T22:34:06.672Z"
   },
   {
    "duration": 4,
    "start_time": "2025-03-14T22:34:06.690Z"
   },
   {
    "duration": 16,
    "start_time": "2025-03-14T22:34:06.695Z"
   },
   {
    "duration": 11,
    "start_time": "2025-03-14T22:34:06.712Z"
   },
   {
    "duration": 9,
    "start_time": "2025-03-14T22:34:06.725Z"
   },
   {
    "duration": 39,
    "start_time": "2025-03-14T22:34:06.736Z"
   },
   {
    "duration": 4,
    "start_time": "2025-03-14T22:34:06.777Z"
   },
   {
    "duration": 8,
    "start_time": "2025-03-14T22:34:06.782Z"
   },
   {
    "duration": 11,
    "start_time": "2025-03-14T22:34:06.792Z"
   },
   {
    "duration": 8,
    "start_time": "2025-03-14T22:34:06.804Z"
   },
   {
    "duration": 9,
    "start_time": "2025-03-14T22:34:06.814Z"
   },
   {
    "duration": 7,
    "start_time": "2025-03-14T22:34:06.825Z"
   },
   {
    "duration": 7,
    "start_time": "2025-03-14T22:34:06.870Z"
   },
   {
    "duration": 4,
    "start_time": "2025-03-14T22:34:06.879Z"
   },
   {
    "duration": 11,
    "start_time": "2025-03-14T22:34:06.884Z"
   },
   {
    "duration": 3,
    "start_time": "2025-03-14T22:34:06.897Z"
   },
   {
    "duration": 4,
    "start_time": "2025-03-14T22:34:06.902Z"
   },
   {
    "duration": 864,
    "start_time": "2025-03-14T22:34:06.907Z"
   },
   {
    "duration": 0,
    "start_time": "2025-03-14T22:34:07.773Z"
   },
   {
    "duration": 0,
    "start_time": "2025-03-14T22:34:07.774Z"
   },
   {
    "duration": 0,
    "start_time": "2025-03-14T22:34:07.775Z"
   },
   {
    "duration": 0,
    "start_time": "2025-03-14T22:34:07.776Z"
   },
   {
    "duration": 0,
    "start_time": "2025-03-14T22:34:07.777Z"
   },
   {
    "duration": 0,
    "start_time": "2025-03-14T22:34:07.778Z"
   },
   {
    "duration": 0,
    "start_time": "2025-03-14T22:34:07.779Z"
   },
   {
    "duration": 0,
    "start_time": "2025-03-14T22:34:07.781Z"
   },
   {
    "duration": 0,
    "start_time": "2025-03-14T22:34:07.782Z"
   },
   {
    "duration": 0,
    "start_time": "2025-03-14T22:34:07.783Z"
   },
   {
    "duration": 0,
    "start_time": "2025-03-14T22:34:07.784Z"
   },
   {
    "duration": 0,
    "start_time": "2025-03-14T22:34:07.785Z"
   },
   {
    "duration": 3,
    "start_time": "2025-03-14T22:34:18.127Z"
   },
   {
    "duration": 154,
    "start_time": "2025-03-14T22:34:18.378Z"
   },
   {
    "duration": 42,
    "start_time": "2025-03-14T22:34:18.615Z"
   },
   {
    "duration": 12,
    "start_time": "2025-03-14T22:34:18.754Z"
   },
   {
    "duration": 21,
    "start_time": "2025-03-14T22:34:19.125Z"
   },
   {
    "duration": 9,
    "start_time": "2025-03-14T22:34:19.243Z"
   },
   {
    "duration": 4,
    "start_time": "2025-03-14T22:34:19.762Z"
   },
   {
    "duration": 5,
    "start_time": "2025-03-14T22:34:19.892Z"
   },
   {
    "duration": 4,
    "start_time": "2025-03-14T22:34:20.024Z"
   },
   {
    "duration": 3,
    "start_time": "2025-03-14T22:34:20.415Z"
   },
   {
    "duration": 10,
    "start_time": "2025-03-14T22:34:20.541Z"
   },
   {
    "duration": 11,
    "start_time": "2025-03-14T22:34:20.808Z"
   },
   {
    "duration": 8,
    "start_time": "2025-03-14T22:34:20.941Z"
   },
   {
    "duration": 5,
    "start_time": "2025-03-14T22:34:21.476Z"
   },
   {
    "duration": 6,
    "start_time": "2025-03-14T22:34:21.875Z"
   },
   {
    "duration": 5,
    "start_time": "2025-03-14T22:34:22.001Z"
   },
   {
    "duration": 10,
    "start_time": "2025-03-14T22:34:22.157Z"
   },
   {
    "duration": 18,
    "start_time": "2025-03-14T22:34:22.413Z"
   },
   {
    "duration": 7,
    "start_time": "2025-03-14T22:34:22.561Z"
   },
   {
    "duration": 15,
    "start_time": "2025-03-14T22:34:23.116Z"
   },
   {
    "duration": 12,
    "start_time": "2025-03-14T22:34:23.512Z"
   },
   {
    "duration": 14,
    "start_time": "2025-03-14T22:34:23.641Z"
   },
   {
    "duration": 8,
    "start_time": "2025-03-14T22:34:23.815Z"
   },
   {
    "duration": 9,
    "start_time": "2025-03-14T22:34:24.060Z"
   },
   {
    "duration": 5,
    "start_time": "2025-03-14T22:34:24.195Z"
   },
   {
    "duration": 9,
    "start_time": "2025-03-14T22:34:24.758Z"
   },
   {
    "duration": 6,
    "start_time": "2025-03-14T22:34:25.176Z"
   },
   {
    "duration": 10,
    "start_time": "2025-03-14T22:34:25.493Z"
   },
   {
    "duration": 7,
    "start_time": "2025-03-14T22:34:25.831Z"
   },
   {
    "duration": 15,
    "start_time": "2025-03-14T22:34:26.209Z"
   },
   {
    "duration": 7,
    "start_time": "2025-03-14T22:34:26.426Z"
   },
   {
    "duration": 13,
    "start_time": "2025-03-14T22:34:27.007Z"
   },
   {
    "duration": 3,
    "start_time": "2025-03-14T22:34:27.197Z"
   },
   {
    "duration": 11,
    "start_time": "2025-03-14T22:34:27.634Z"
   },
   {
    "duration": 4,
    "start_time": "2025-03-14T22:34:27.875Z"
   },
   {
    "duration": 8,
    "start_time": "2025-03-14T22:34:28.077Z"
   },
   {
    "duration": 9,
    "start_time": "2025-03-14T22:34:28.760Z"
   },
   {
    "duration": 16,
    "start_time": "2025-03-14T22:34:29.149Z"
   },
   {
    "duration": 4,
    "start_time": "2025-03-14T22:34:30.330Z"
   },
   {
    "duration": 16,
    "start_time": "2025-03-14T22:34:30.553Z"
   },
   {
    "duration": 13,
    "start_time": "2025-03-14T22:34:30.732Z"
   },
   {
    "duration": 10,
    "start_time": "2025-03-14T22:34:31.358Z"
   },
   {
    "duration": 5,
    "start_time": "2025-03-14T22:34:31.560Z"
   },
   {
    "duration": 3,
    "start_time": "2025-03-14T22:34:32.514Z"
   },
   {
    "duration": 6,
    "start_time": "2025-03-14T22:34:33.453Z"
   },
   {
    "duration": 10,
    "start_time": "2025-03-14T22:34:34.362Z"
   },
   {
    "duration": 8,
    "start_time": "2025-03-14T22:34:34.765Z"
   },
   {
    "duration": 11,
    "start_time": "2025-03-14T22:34:35.015Z"
   },
   {
    "duration": 9,
    "start_time": "2025-03-14T22:34:35.742Z"
   },
   {
    "duration": 7,
    "start_time": "2025-03-14T22:34:36.472Z"
   },
   {
    "duration": 4,
    "start_time": "2025-03-14T22:34:38.612Z"
   },
   {
    "duration": 11,
    "start_time": "2025-03-14T22:34:56.716Z"
   },
   {
    "duration": 4,
    "start_time": "2025-03-14T22:35:09.836Z"
   },
   {
    "duration": 71,
    "start_time": "2025-03-14T22:35:11.450Z"
   },
   {
    "duration": 3,
    "start_time": "2025-03-14T22:36:14.029Z"
   },
   {
    "duration": 9,
    "start_time": "2025-03-14T22:36:56.581Z"
   },
   {
    "duration": 5,
    "start_time": "2025-03-14T22:37:10.602Z"
   },
   {
    "duration": 3,
    "start_time": "2025-03-14T22:37:22.921Z"
   },
   {
    "duration": 1441,
    "start_time": "2025-03-14T22:38:54.735Z"
   },
   {
    "duration": 3,
    "start_time": "2025-03-14T22:47:58.555Z"
   },
   {
    "duration": 14,
    "start_time": "2025-03-14T22:48:30.424Z"
   },
   {
    "duration": 71,
    "start_time": "2025-03-14T22:48:44.506Z"
   },
   {
    "duration": 824,
    "start_time": "2025-03-14T23:08:30.314Z"
   },
   {
    "duration": 162,
    "start_time": "2025-03-14T23:08:31.142Z"
   },
   {
    "duration": 44,
    "start_time": "2025-03-14T23:08:31.306Z"
   },
   {
    "duration": 20,
    "start_time": "2025-03-14T23:08:31.351Z"
   },
   {
    "duration": 23,
    "start_time": "2025-03-14T23:08:31.374Z"
   },
   {
    "duration": 8,
    "start_time": "2025-03-14T23:08:31.398Z"
   },
   {
    "duration": 6,
    "start_time": "2025-03-14T23:08:31.408Z"
   },
   {
    "duration": 5,
    "start_time": "2025-03-14T23:08:31.416Z"
   },
   {
    "duration": 3,
    "start_time": "2025-03-14T23:08:31.423Z"
   },
   {
    "duration": 4,
    "start_time": "2025-03-14T23:08:31.427Z"
   },
   {
    "duration": 38,
    "start_time": "2025-03-14T23:08:31.433Z"
   },
   {
    "duration": 11,
    "start_time": "2025-03-14T23:08:31.472Z"
   },
   {
    "duration": 8,
    "start_time": "2025-03-14T23:08:31.484Z"
   },
   {
    "duration": 4,
    "start_time": "2025-03-14T23:08:31.497Z"
   },
   {
    "duration": 6,
    "start_time": "2025-03-14T23:08:31.502Z"
   },
   {
    "duration": 5,
    "start_time": "2025-03-14T23:08:31.509Z"
   },
   {
    "duration": 10,
    "start_time": "2025-03-14T23:08:31.515Z"
   },
   {
    "duration": 52,
    "start_time": "2025-03-14T23:08:31.526Z"
   },
   {
    "duration": 8,
    "start_time": "2025-03-14T23:08:31.579Z"
   },
   {
    "duration": 16,
    "start_time": "2025-03-14T23:08:31.588Z"
   },
   {
    "duration": 9,
    "start_time": "2025-03-14T23:08:31.605Z"
   },
   {
    "duration": 15,
    "start_time": "2025-03-14T23:08:31.615Z"
   },
   {
    "duration": 8,
    "start_time": "2025-03-14T23:08:31.631Z"
   },
   {
    "duration": 36,
    "start_time": "2025-03-14T23:08:31.641Z"
   },
   {
    "duration": 6,
    "start_time": "2025-03-14T23:08:31.678Z"
   },
   {
    "duration": 10,
    "start_time": "2025-03-14T23:08:31.686Z"
   },
   {
    "duration": 6,
    "start_time": "2025-03-14T23:08:31.697Z"
   },
   {
    "duration": 9,
    "start_time": "2025-03-14T23:08:31.704Z"
   },
   {
    "duration": 7,
    "start_time": "2025-03-14T23:08:31.715Z"
   },
   {
    "duration": 47,
    "start_time": "2025-03-14T23:08:31.724Z"
   },
   {
    "duration": 7,
    "start_time": "2025-03-14T23:08:31.773Z"
   },
   {
    "duration": 14,
    "start_time": "2025-03-14T23:08:31.781Z"
   },
   {
    "duration": 4,
    "start_time": "2025-03-14T23:08:31.796Z"
   },
   {
    "duration": 12,
    "start_time": "2025-03-14T23:08:31.802Z"
   },
   {
    "duration": 4,
    "start_time": "2025-03-14T23:08:31.816Z"
   },
   {
    "duration": 9,
    "start_time": "2025-03-14T23:08:31.822Z"
   },
   {
    "duration": 8,
    "start_time": "2025-03-14T23:08:31.870Z"
   },
   {
    "duration": 16,
    "start_time": "2025-03-14T23:08:31.880Z"
   },
   {
    "duration": 3,
    "start_time": "2025-03-14T23:08:31.898Z"
   },
   {
    "duration": 16,
    "start_time": "2025-03-14T23:08:31.903Z"
   },
   {
    "duration": 12,
    "start_time": "2025-03-14T23:08:31.924Z"
   },
   {
    "duration": 40,
    "start_time": "2025-03-14T23:08:31.937Z"
   },
   {
    "duration": 6,
    "start_time": "2025-03-14T23:08:31.978Z"
   },
   {
    "duration": 3,
    "start_time": "2025-03-14T23:08:31.986Z"
   },
   {
    "duration": 6,
    "start_time": "2025-03-14T23:08:31.991Z"
   },
   {
    "duration": 11,
    "start_time": "2025-03-14T23:08:31.999Z"
   },
   {
    "duration": 8,
    "start_time": "2025-03-14T23:08:32.011Z"
   },
   {
    "duration": 10,
    "start_time": "2025-03-14T23:08:32.020Z"
   },
   {
    "duration": 45,
    "start_time": "2025-03-14T23:08:32.032Z"
   },
   {
    "duration": 7,
    "start_time": "2025-03-14T23:08:32.078Z"
   },
   {
    "duration": 3,
    "start_time": "2025-03-14T23:08:32.087Z"
   },
   {
    "duration": 11,
    "start_time": "2025-03-14T23:08:32.092Z"
   },
   {
    "duration": 3,
    "start_time": "2025-03-14T23:08:32.105Z"
   },
   {
    "duration": 3,
    "start_time": "2025-03-14T23:08:32.109Z"
   },
   {
    "duration": 7,
    "start_time": "2025-03-14T23:08:32.114Z"
   },
   {
    "duration": 4,
    "start_time": "2025-03-14T23:08:32.122Z"
   },
   {
    "duration": 43,
    "start_time": "2025-03-14T23:08:32.127Z"
   },
   {
    "duration": 4,
    "start_time": "2025-03-14T23:08:32.172Z"
   },
   {
    "duration": 835,
    "start_time": "2025-03-14T23:08:32.178Z"
   },
   {
    "duration": 0,
    "start_time": "2025-03-14T23:08:33.015Z"
   },
   {
    "duration": 0,
    "start_time": "2025-03-14T23:08:33.016Z"
   },
   {
    "duration": 0,
    "start_time": "2025-03-14T23:08:33.017Z"
   },
   {
    "duration": 0,
    "start_time": "2025-03-14T23:08:33.018Z"
   },
   {
    "duration": 0,
    "start_time": "2025-03-14T23:08:33.020Z"
   },
   {
    "duration": 0,
    "start_time": "2025-03-14T23:08:33.021Z"
   },
   {
    "duration": 0,
    "start_time": "2025-03-14T23:08:33.022Z"
   },
   {
    "duration": 0,
    "start_time": "2025-03-14T23:08:33.024Z"
   },
   {
    "duration": 1,
    "start_time": "2025-03-14T23:08:33.025Z"
   },
   {
    "duration": 0,
    "start_time": "2025-03-14T23:08:33.026Z"
   },
   {
    "duration": 0,
    "start_time": "2025-03-14T23:08:33.027Z"
   },
   {
    "duration": 0,
    "start_time": "2025-03-14T23:08:33.028Z"
   },
   {
    "duration": 3,
    "start_time": "2025-03-14T23:08:42.129Z"
   },
   {
    "duration": 154,
    "start_time": "2025-03-14T23:08:42.393Z"
   },
   {
    "duration": 41,
    "start_time": "2025-03-14T23:08:42.670Z"
   },
   {
    "duration": 11,
    "start_time": "2025-03-14T23:08:42.795Z"
   },
   {
    "duration": 21,
    "start_time": "2025-03-14T23:08:43.207Z"
   },
   {
    "duration": 8,
    "start_time": "2025-03-14T23:08:43.349Z"
   },
   {
    "duration": 5,
    "start_time": "2025-03-14T23:08:43.884Z"
   },
   {
    "duration": 5,
    "start_time": "2025-03-14T23:08:44.013Z"
   },
   {
    "duration": 3,
    "start_time": "2025-03-14T23:08:44.161Z"
   },
   {
    "duration": 3,
    "start_time": "2025-03-14T23:08:44.547Z"
   },
   {
    "duration": 8,
    "start_time": "2025-03-14T23:08:44.679Z"
   },
   {
    "duration": 10,
    "start_time": "2025-03-14T23:08:44.947Z"
   },
   {
    "duration": 8,
    "start_time": "2025-03-14T23:08:45.093Z"
   },
   {
    "duration": 5,
    "start_time": "2025-03-14T23:08:45.628Z"
   },
   {
    "duration": 6,
    "start_time": "2025-03-14T23:08:46.010Z"
   },
   {
    "duration": 5,
    "start_time": "2025-03-14T23:08:46.144Z"
   },
   {
    "duration": 13,
    "start_time": "2025-03-14T23:08:46.299Z"
   },
   {
    "duration": 21,
    "start_time": "2025-03-14T23:08:46.544Z"
   },
   {
    "duration": 8,
    "start_time": "2025-03-14T23:08:46.681Z"
   },
   {
    "duration": 16,
    "start_time": "2025-03-14T23:08:47.231Z"
   },
   {
    "duration": 10,
    "start_time": "2025-03-14T23:08:47.929Z"
   },
   {
    "duration": 14,
    "start_time": "2025-03-14T23:08:48.078Z"
   },
   {
    "duration": 7,
    "start_time": "2025-03-14T23:08:48.229Z"
   },
   {
    "duration": 9,
    "start_time": "2025-03-14T23:08:48.712Z"
   },
   {
    "duration": 7,
    "start_time": "2025-03-14T23:08:48.880Z"
   },
   {
    "duration": 10,
    "start_time": "2025-03-14T23:08:49.578Z"
   },
   {
    "duration": 7,
    "start_time": "2025-03-14T23:08:50.497Z"
   },
   {
    "duration": 9,
    "start_time": "2025-03-14T23:08:50.703Z"
   },
   {
    "duration": 6,
    "start_time": "2025-03-14T23:08:50.880Z"
   },
   {
    "duration": 17,
    "start_time": "2025-03-14T23:08:51.499Z"
   },
   {
    "duration": 7,
    "start_time": "2025-03-14T23:08:51.787Z"
   },
   {
    "duration": 12,
    "start_time": "2025-03-14T23:08:53.964Z"
   },
   {
    "duration": 3,
    "start_time": "2025-03-14T23:08:54.244Z"
   },
   {
    "duration": 11,
    "start_time": "2025-03-14T23:08:54.928Z"
   },
   {
    "duration": 4,
    "start_time": "2025-03-14T23:08:55.112Z"
   },
   {
    "duration": 8,
    "start_time": "2025-03-14T23:08:55.451Z"
   },
   {
    "duration": 9,
    "start_time": "2025-03-14T23:08:56.130Z"
   },
   {
    "duration": 19,
    "start_time": "2025-03-14T23:08:56.963Z"
   },
   {
    "duration": 3,
    "start_time": "2025-03-14T23:08:57.111Z"
   },
   {
    "duration": 17,
    "start_time": "2025-03-14T23:08:57.280Z"
   },
   {
    "duration": 12,
    "start_time": "2025-03-14T23:08:57.477Z"
   },
   {
    "duration": 10,
    "start_time": "2025-03-14T23:08:57.712Z"
   },
   {
    "duration": 6,
    "start_time": "2025-03-14T23:08:58.299Z"
   },
   {
    "duration": 4,
    "start_time": "2025-03-14T23:08:58.847Z"
   },
   {
    "duration": 7,
    "start_time": "2025-03-14T23:08:59.011Z"
   },
   {
    "duration": 11,
    "start_time": "2025-03-14T23:08:59.332Z"
   },
   {
    "duration": 8,
    "start_time": "2025-03-14T23:08:59.528Z"
   },
   {
    "duration": 10,
    "start_time": "2025-03-14T23:09:00.079Z"
   },
   {
    "duration": 9,
    "start_time": "2025-03-14T23:09:00.265Z"
   },
   {
    "duration": 8,
    "start_time": "2025-03-14T23:09:00.476Z"
   },
   {
    "duration": 5,
    "start_time": "2025-03-14T23:09:02.362Z"
   },
   {
    "duration": 10,
    "start_time": "2025-03-14T23:09:02.722Z"
   },
   {
    "duration": 10,
    "start_time": "2025-03-14T23:12:52.140Z"
   },
   {
    "duration": 8,
    "start_time": "2025-03-14T23:12:53.047Z"
   },
   {
    "duration": 841,
    "start_time": "2025-03-14T23:18:31.701Z"
   },
   {
    "duration": 159,
    "start_time": "2025-03-14T23:18:32.544Z"
   },
   {
    "duration": 44,
    "start_time": "2025-03-14T23:18:32.704Z"
   },
   {
    "duration": 22,
    "start_time": "2025-03-14T23:18:32.751Z"
   },
   {
    "duration": 19,
    "start_time": "2025-03-14T23:18:32.775Z"
   },
   {
    "duration": 7,
    "start_time": "2025-03-14T23:18:32.796Z"
   },
   {
    "duration": 4,
    "start_time": "2025-03-14T23:18:32.804Z"
   },
   {
    "duration": 4,
    "start_time": "2025-03-14T23:18:32.810Z"
   },
   {
    "duration": 3,
    "start_time": "2025-03-14T23:18:32.816Z"
   },
   {
    "duration": 3,
    "start_time": "2025-03-14T23:18:32.823Z"
   },
   {
    "duration": 43,
    "start_time": "2025-03-14T23:18:32.828Z"
   },
   {
    "duration": 11,
    "start_time": "2025-03-14T23:18:32.873Z"
   },
   {
    "duration": 8,
    "start_time": "2025-03-14T23:18:32.886Z"
   },
   {
    "duration": 6,
    "start_time": "2025-03-14T23:18:32.895Z"
   },
   {
    "duration": 5,
    "start_time": "2025-03-14T23:18:32.903Z"
   },
   {
    "duration": 5,
    "start_time": "2025-03-14T23:18:32.909Z"
   },
   {
    "duration": 10,
    "start_time": "2025-03-14T23:18:32.916Z"
   },
   {
    "duration": 56,
    "start_time": "2025-03-14T23:18:32.928Z"
   },
   {
    "duration": 8,
    "start_time": "2025-03-14T23:18:32.985Z"
   },
   {
    "duration": 17,
    "start_time": "2025-03-14T23:18:32.995Z"
   },
   {
    "duration": 11,
    "start_time": "2025-03-14T23:18:33.014Z"
   },
   {
    "duration": 16,
    "start_time": "2025-03-14T23:18:33.026Z"
   },
   {
    "duration": 34,
    "start_time": "2025-03-14T23:18:33.043Z"
   },
   {
    "duration": 9,
    "start_time": "2025-03-14T23:18:33.080Z"
   },
   {
    "duration": 6,
    "start_time": "2025-03-14T23:18:33.091Z"
   },
   {
    "duration": 10,
    "start_time": "2025-03-14T23:18:33.099Z"
   },
   {
    "duration": 8,
    "start_time": "2025-03-14T23:18:33.110Z"
   },
   {
    "duration": 8,
    "start_time": "2025-03-14T23:18:33.123Z"
   },
   {
    "duration": 41,
    "start_time": "2025-03-14T23:18:33.134Z"
   },
   {
    "duration": 16,
    "start_time": "2025-03-14T23:18:33.176Z"
   },
   {
    "duration": 6,
    "start_time": "2025-03-14T23:18:33.194Z"
   },
   {
    "duration": 12,
    "start_time": "2025-03-14T23:18:33.202Z"
   },
   {
    "duration": 3,
    "start_time": "2025-03-14T23:18:33.217Z"
   },
   {
    "duration": 11,
    "start_time": "2025-03-14T23:18:33.222Z"
   },
   {
    "duration": 37,
    "start_time": "2025-03-14T23:18:33.234Z"
   },
   {
    "duration": 9,
    "start_time": "2025-03-14T23:18:33.272Z"
   },
   {
    "duration": 8,
    "start_time": "2025-03-14T23:18:33.282Z"
   },
   {
    "duration": 17,
    "start_time": "2025-03-14T23:18:33.291Z"
   },
   {
    "duration": 3,
    "start_time": "2025-03-14T23:18:33.310Z"
   },
   {
    "duration": 15,
    "start_time": "2025-03-14T23:18:33.315Z"
   },
   {
    "duration": 43,
    "start_time": "2025-03-14T23:18:33.332Z"
   },
   {
    "duration": 9,
    "start_time": "2025-03-14T23:18:33.377Z"
   },
   {
    "duration": 6,
    "start_time": "2025-03-14T23:18:33.388Z"
   },
   {
    "duration": 3,
    "start_time": "2025-03-14T23:18:33.395Z"
   },
   {
    "duration": 6,
    "start_time": "2025-03-14T23:18:33.401Z"
   },
   {
    "duration": 11,
    "start_time": "2025-03-14T23:18:33.409Z"
   },
   {
    "duration": 8,
    "start_time": "2025-03-14T23:18:33.422Z"
   },
   {
    "duration": 4,
    "start_time": "2025-03-14T23:18:33.470Z"
   },
   {
    "duration": 0,
    "start_time": "2025-03-14T23:18:33.476Z"
   },
   {
    "duration": 0,
    "start_time": "2025-03-14T23:18:33.478Z"
   },
   {
    "duration": 0,
    "start_time": "2025-03-14T23:18:33.480Z"
   },
   {
    "duration": 0,
    "start_time": "2025-03-14T23:18:33.481Z"
   },
   {
    "duration": 0,
    "start_time": "2025-03-14T23:18:33.483Z"
   },
   {
    "duration": 0,
    "start_time": "2025-03-14T23:18:33.484Z"
   },
   {
    "duration": 0,
    "start_time": "2025-03-14T23:18:33.486Z"
   },
   {
    "duration": 0,
    "start_time": "2025-03-14T23:18:33.487Z"
   },
   {
    "duration": 0,
    "start_time": "2025-03-14T23:18:33.488Z"
   },
   {
    "duration": 0,
    "start_time": "2025-03-14T23:18:33.489Z"
   },
   {
    "duration": 0,
    "start_time": "2025-03-14T23:18:33.490Z"
   },
   {
    "duration": 0,
    "start_time": "2025-03-14T23:18:33.491Z"
   },
   {
    "duration": 0,
    "start_time": "2025-03-14T23:18:33.492Z"
   },
   {
    "duration": 0,
    "start_time": "2025-03-14T23:18:33.493Z"
   },
   {
    "duration": 0,
    "start_time": "2025-03-14T23:18:33.494Z"
   },
   {
    "duration": 0,
    "start_time": "2025-03-14T23:18:33.496Z"
   },
   {
    "duration": 0,
    "start_time": "2025-03-14T23:18:33.497Z"
   },
   {
    "duration": 0,
    "start_time": "2025-03-14T23:18:33.500Z"
   },
   {
    "duration": 0,
    "start_time": "2025-03-14T23:18:33.501Z"
   },
   {
    "duration": 0,
    "start_time": "2025-03-14T23:18:33.502Z"
   },
   {
    "duration": 0,
    "start_time": "2025-03-14T23:18:33.503Z"
   },
   {
    "duration": 0,
    "start_time": "2025-03-14T23:18:33.504Z"
   },
   {
    "duration": 4,
    "start_time": "2025-03-14T23:19:10.332Z"
   },
   {
    "duration": 4,
    "start_time": "2025-03-14T23:19:14.862Z"
   },
   {
    "duration": 11,
    "start_time": "2025-03-14T23:19:29.048Z"
   },
   {
    "duration": 10,
    "start_time": "2025-03-14T23:19:32.397Z"
   },
   {
    "duration": 3,
    "start_time": "2025-03-14T23:20:26.792Z"
   },
   {
    "duration": 812,
    "start_time": "2025-03-14T23:20:30.140Z"
   },
   {
    "duration": 12,
    "start_time": "2025-03-14T23:20:31.212Z"
   },
   {
    "duration": 7,
    "start_time": "2025-03-16T15:28:32.071Z"
   },
   {
    "duration": 157,
    "start_time": "2025-03-16T15:28:33.029Z"
   },
   {
    "duration": 2593,
    "start_time": "2025-03-16T15:29:26.599Z"
   },
   {
    "duration": 221,
    "start_time": "2025-03-16T15:29:29.194Z"
   },
   {
    "duration": 42,
    "start_time": "2025-03-16T15:29:29.416Z"
   },
   {
    "duration": 20,
    "start_time": "2025-03-16T15:29:29.460Z"
   },
   {
    "duration": 19,
    "start_time": "2025-03-16T15:29:29.481Z"
   },
   {
    "duration": 6,
    "start_time": "2025-03-16T15:29:29.502Z"
   },
   {
    "duration": 5,
    "start_time": "2025-03-16T15:29:29.520Z"
   },
   {
    "duration": 5,
    "start_time": "2025-03-16T15:29:29.692Z"
   },
   {
    "duration": 3,
    "start_time": "2025-03-16T15:29:29.824Z"
   },
   {
    "duration": 4,
    "start_time": "2025-03-16T15:29:30.190Z"
   },
   {
    "duration": 8,
    "start_time": "2025-03-16T15:29:30.323Z"
   },
   {
    "duration": 11,
    "start_time": "2025-03-16T15:29:30.599Z"
   },
   {
    "duration": 8,
    "start_time": "2025-03-16T15:29:30.840Z"
   },
   {
    "duration": 4,
    "start_time": "2025-03-16T15:29:31.697Z"
   },
   {
    "duration": 7,
    "start_time": "2025-03-16T15:29:32.116Z"
   },
   {
    "duration": 5,
    "start_time": "2025-03-16T15:29:32.241Z"
   },
   {
    "duration": 9,
    "start_time": "2025-03-16T15:29:32.388Z"
   },
   {
    "duration": 16,
    "start_time": "2025-03-16T15:29:32.656Z"
   },
   {
    "duration": 7,
    "start_time": "2025-03-16T15:29:32.815Z"
   },
   {
    "duration": 15,
    "start_time": "2025-03-16T15:29:33.346Z"
   },
   {
    "duration": 10,
    "start_time": "2025-03-16T15:29:33.776Z"
   },
   {
    "duration": 14,
    "start_time": "2025-03-16T15:29:33.906Z"
   },
   {
    "duration": 11,
    "start_time": "2025-03-16T15:29:34.064Z"
   },
   {
    "duration": 9,
    "start_time": "2025-03-16T15:29:34.322Z"
   },
   {
    "duration": 5,
    "start_time": "2025-03-16T15:29:34.455Z"
   },
   {
    "duration": 10,
    "start_time": "2025-03-16T15:29:35.001Z"
   },
   {
    "duration": 7,
    "start_time": "2025-03-16T15:29:35.418Z"
   },
   {
    "duration": 9,
    "start_time": "2025-03-16T15:29:35.550Z"
   },
   {
    "duration": 6,
    "start_time": "2025-03-16T15:29:35.671Z"
   },
   {
    "duration": 15,
    "start_time": "2025-03-16T15:29:35.938Z"
   },
   {
    "duration": 6,
    "start_time": "2025-03-16T15:29:36.087Z"
   },
   {
    "duration": 12,
    "start_time": "2025-03-16T15:29:36.642Z"
   },
   {
    "duration": 7,
    "start_time": "2025-03-16T15:29:36.773Z"
   },
   {
    "duration": 11,
    "start_time": "2025-03-16T15:29:37.222Z"
   },
   {
    "duration": 4,
    "start_time": "2025-03-16T15:29:37.327Z"
   },
   {
    "duration": 8,
    "start_time": "2025-03-16T15:29:37.455Z"
   },
   {
    "duration": 8,
    "start_time": "2025-03-16T15:29:37.874Z"
   },
   {
    "duration": 17,
    "start_time": "2025-03-16T15:29:38.154Z"
   },
   {
    "duration": 4,
    "start_time": "2025-03-16T15:29:38.302Z"
   },
   {
    "duration": 16,
    "start_time": "2025-03-16T15:29:38.431Z"
   },
   {
    "duration": 12,
    "start_time": "2025-03-16T15:29:38.555Z"
   },
   {
    "duration": 9,
    "start_time": "2025-03-16T15:29:38.688Z"
   },
   {
    "duration": 8,
    "start_time": "2025-03-16T15:29:38.837Z"
   },
   {
    "duration": 4,
    "start_time": "2025-03-16T15:29:38.973Z"
   },
   {
    "duration": 7,
    "start_time": "2025-03-16T15:29:39.122Z"
   },
   {
    "duration": 11,
    "start_time": "2025-03-16T15:29:39.375Z"
   },
   {
    "duration": 7,
    "start_time": "2025-03-16T15:29:39.504Z"
   },
   {
    "duration": 11,
    "start_time": "2025-03-16T15:29:39.958Z"
   },
   {
    "duration": 9,
    "start_time": "2025-03-16T15:29:40.144Z"
   },
   {
    "duration": 2,
    "start_time": "2025-03-16T15:29:40.531Z"
   },
   {
    "duration": 3,
    "start_time": "2025-03-16T15:29:41.235Z"
   },
   {
    "duration": 648,
    "start_time": "2025-03-16T15:29:41.810Z"
   },
   {
    "duration": 10,
    "start_time": "2025-03-16T15:29:43.928Z"
   },
   {
    "duration": 27,
    "start_time": "2025-03-16T15:31:10.740Z"
   },
   {
    "duration": 10,
    "start_time": "2025-03-16T15:31:11.214Z"
   },
   {
    "duration": 761,
    "start_time": "2025-03-16T15:31:27.738Z"
   },
   {
    "duration": 161,
    "start_time": "2025-03-16T15:31:28.501Z"
   },
   {
    "duration": 42,
    "start_time": "2025-03-16T15:31:28.664Z"
   },
   {
    "duration": 12,
    "start_time": "2025-03-16T15:31:28.708Z"
   },
   {
    "duration": 20,
    "start_time": "2025-03-16T15:31:28.723Z"
   },
   {
    "duration": 27,
    "start_time": "2025-03-16T15:31:28.744Z"
   },
   {
    "duration": 3,
    "start_time": "2025-03-16T15:31:28.773Z"
   },
   {
    "duration": 5,
    "start_time": "2025-03-16T15:31:28.778Z"
   },
   {
    "duration": 3,
    "start_time": "2025-03-16T15:31:28.784Z"
   },
   {
    "duration": 4,
    "start_time": "2025-03-16T15:31:28.789Z"
   },
   {
    "duration": 9,
    "start_time": "2025-03-16T15:31:28.794Z"
   },
   {
    "duration": 10,
    "start_time": "2025-03-16T15:31:28.805Z"
   },
   {
    "duration": 8,
    "start_time": "2025-03-16T15:31:28.816Z"
   },
   {
    "duration": 5,
    "start_time": "2025-03-16T15:31:28.869Z"
   },
   {
    "duration": 6,
    "start_time": "2025-03-16T15:31:28.876Z"
   },
   {
    "duration": 5,
    "start_time": "2025-03-16T15:31:28.883Z"
   },
   {
    "duration": 9,
    "start_time": "2025-03-16T15:31:28.890Z"
   },
   {
    "duration": 16,
    "start_time": "2025-03-16T15:31:28.901Z"
   },
   {
    "duration": 6,
    "start_time": "2025-03-16T15:31:28.919Z"
   },
   {
    "duration": 53,
    "start_time": "2025-03-16T15:31:28.926Z"
   },
   {
    "duration": 10,
    "start_time": "2025-03-16T15:31:28.980Z"
   },
   {
    "duration": 14,
    "start_time": "2025-03-16T15:31:28.991Z"
   },
   {
    "duration": 7,
    "start_time": "2025-03-16T15:31:29.007Z"
   },
   {
    "duration": 9,
    "start_time": "2025-03-16T15:31:29.016Z"
   },
   {
    "duration": 7,
    "start_time": "2025-03-16T15:31:29.027Z"
   },
   {
    "duration": 38,
    "start_time": "2025-03-16T15:31:29.035Z"
   },
   {
    "duration": 7,
    "start_time": "2025-03-16T15:31:29.074Z"
   },
   {
    "duration": 9,
    "start_time": "2025-03-16T15:31:29.082Z"
   },
   {
    "duration": 7,
    "start_time": "2025-03-16T15:31:29.092Z"
   },
   {
    "duration": 16,
    "start_time": "2025-03-16T15:31:29.101Z"
   },
   {
    "duration": 6,
    "start_time": "2025-03-16T15:31:29.118Z"
   },
   {
    "duration": 44,
    "start_time": "2025-03-16T15:31:29.127Z"
   },
   {
    "duration": 3,
    "start_time": "2025-03-16T15:31:29.173Z"
   },
   {
    "duration": 13,
    "start_time": "2025-03-16T15:31:29.177Z"
   },
   {
    "duration": 4,
    "start_time": "2025-03-16T15:31:29.191Z"
   },
   {
    "duration": 8,
    "start_time": "2025-03-16T15:31:29.196Z"
   },
   {
    "duration": 7,
    "start_time": "2025-03-16T15:31:29.206Z"
   },
   {
    "duration": 17,
    "start_time": "2025-03-16T15:31:29.215Z"
   },
   {
    "duration": 37,
    "start_time": "2025-03-16T15:31:29.234Z"
   },
   {
    "duration": 16,
    "start_time": "2025-03-16T15:31:29.273Z"
   },
   {
    "duration": 11,
    "start_time": "2025-03-16T15:31:29.294Z"
   },
   {
    "duration": 10,
    "start_time": "2025-03-16T15:31:29.306Z"
   },
   {
    "duration": 5,
    "start_time": "2025-03-16T15:31:29.318Z"
   },
   {
    "duration": 3,
    "start_time": "2025-03-16T15:31:29.325Z"
   },
   {
    "duration": 43,
    "start_time": "2025-03-16T15:31:29.329Z"
   },
   {
    "duration": 10,
    "start_time": "2025-03-16T15:31:29.374Z"
   },
   {
    "duration": 7,
    "start_time": "2025-03-16T15:31:29.386Z"
   },
   {
    "duration": 10,
    "start_time": "2025-03-16T15:31:29.394Z"
   },
   {
    "duration": 9,
    "start_time": "2025-03-16T15:31:29.406Z"
   },
   {
    "duration": 2,
    "start_time": "2025-03-16T15:31:29.417Z"
   },
   {
    "duration": 4,
    "start_time": "2025-03-16T15:31:29.421Z"
   },
   {
    "duration": 75,
    "start_time": "2025-03-16T15:31:29.426Z"
   },
   {
    "duration": 11,
    "start_time": "2025-03-16T15:31:29.503Z"
   },
   {
    "duration": 10,
    "start_time": "2025-03-16T15:31:29.516Z"
   },
   {
    "duration": 379,
    "start_time": "2025-03-16T15:31:29.528Z"
   },
   {
    "duration": 561,
    "start_time": "2025-03-16T15:31:29.909Z"
   },
   {
    "duration": 9,
    "start_time": "2025-03-16T15:31:30.472Z"
   },
   {
    "duration": 225,
    "start_time": "2025-03-16T15:31:30.483Z"
   },
   {
    "duration": 0,
    "start_time": "2025-03-16T15:31:30.710Z"
   },
   {
    "duration": 0,
    "start_time": "2025-03-16T15:31:30.711Z"
   },
   {
    "duration": 0,
    "start_time": "2025-03-16T15:31:30.712Z"
   },
   {
    "duration": 0,
    "start_time": "2025-03-16T15:31:30.713Z"
   },
   {
    "duration": 0,
    "start_time": "2025-03-16T15:31:30.715Z"
   },
   {
    "duration": 0,
    "start_time": "2025-03-16T15:31:30.716Z"
   },
   {
    "duration": 26,
    "start_time": "2025-03-16T15:33:29.948Z"
   },
   {
    "duration": 20,
    "start_time": "2025-03-16T15:33:59.264Z"
   },
   {
    "duration": 3,
    "start_time": "2025-03-16T15:36:53.175Z"
   },
   {
    "duration": 154,
    "start_time": "2025-03-16T15:36:55.506Z"
   },
   {
    "duration": 43,
    "start_time": "2025-03-16T15:36:56.388Z"
   },
   {
    "duration": 12,
    "start_time": "2025-03-16T15:36:56.433Z"
   },
   {
    "duration": 20,
    "start_time": "2025-03-16T15:36:56.636Z"
   },
   {
    "duration": 8,
    "start_time": "2025-03-16T15:36:56.737Z"
   },
   {
    "duration": 3,
    "start_time": "2025-03-16T15:36:57.514Z"
   },
   {
    "duration": 5,
    "start_time": "2025-03-16T15:36:57.830Z"
   },
   {
    "duration": 3,
    "start_time": "2025-03-16T15:36:57.955Z"
   },
   {
    "duration": 3,
    "start_time": "2025-03-16T15:36:58.344Z"
   },
   {
    "duration": 8,
    "start_time": "2025-03-16T15:36:58.471Z"
   },
   {
    "duration": 11,
    "start_time": "2025-03-16T15:36:58.717Z"
   },
   {
    "duration": 8,
    "start_time": "2025-03-16T15:36:58.834Z"
   },
   {
    "duration": 5,
    "start_time": "2025-03-16T15:36:59.285Z"
   },
   {
    "duration": 6,
    "start_time": "2025-03-16T15:36:59.653Z"
   },
   {
    "duration": 5,
    "start_time": "2025-03-16T15:36:59.767Z"
   },
   {
    "duration": 9,
    "start_time": "2025-03-16T15:36:59.892Z"
   },
   {
    "duration": 16,
    "start_time": "2025-03-16T15:37:00.288Z"
   },
   {
    "duration": 7,
    "start_time": "2025-03-16T15:37:00.405Z"
   },
   {
    "duration": 15,
    "start_time": "2025-03-16T15:37:00.893Z"
   },
   {
    "duration": 9,
    "start_time": "2025-03-16T15:37:01.274Z"
   },
   {
    "duration": 14,
    "start_time": "2025-03-16T15:37:01.427Z"
   },
   {
    "duration": 7,
    "start_time": "2025-03-16T15:37:01.543Z"
   },
   {
    "duration": 10,
    "start_time": "2025-03-16T15:37:01.807Z"
   },
   {
    "duration": 5,
    "start_time": "2025-03-16T15:37:01.931Z"
   },
   {
    "duration": 11,
    "start_time": "2025-03-16T15:37:02.428Z"
   },
   {
    "duration": 7,
    "start_time": "2025-03-16T15:37:02.812Z"
   },
   {
    "duration": 8,
    "start_time": "2025-03-16T15:37:02.951Z"
   },
   {
    "duration": 7,
    "start_time": "2025-03-16T15:37:03.069Z"
   },
   {
    "duration": 15,
    "start_time": "2025-03-16T15:37:03.338Z"
   },
   {
    "duration": 7,
    "start_time": "2025-03-16T15:37:03.451Z"
   },
   {
    "duration": 12,
    "start_time": "2025-03-16T15:37:03.978Z"
   },
   {
    "duration": 4,
    "start_time": "2025-03-16T15:37:04.100Z"
   },
   {
    "duration": 11,
    "start_time": "2025-03-16T15:37:04.508Z"
   },
   {
    "duration": 4,
    "start_time": "2025-03-16T15:37:04.680Z"
   },
   {
    "duration": 9,
    "start_time": "2025-03-16T15:37:04.770Z"
   },
   {
    "duration": 9,
    "start_time": "2025-03-16T15:37:05.193Z"
   },
   {
    "duration": 15,
    "start_time": "2025-03-16T15:37:05.469Z"
   },
   {
    "duration": 4,
    "start_time": "2025-03-16T15:37:05.602Z"
   },
   {
    "duration": 15,
    "start_time": "2025-03-16T15:37:05.742Z"
   },
   {
    "duration": 12,
    "start_time": "2025-03-16T15:37:05.868Z"
   },
   {
    "duration": 9,
    "start_time": "2025-03-16T15:37:06.112Z"
   },
   {
    "duration": 7,
    "start_time": "2025-03-16T15:37:06.495Z"
   },
   {
    "duration": 4,
    "start_time": "2025-03-16T15:37:06.702Z"
   },
   {
    "duration": 7,
    "start_time": "2025-03-16T15:37:06.878Z"
   },
   {
    "duration": 19,
    "start_time": "2025-03-16T15:37:07.172Z"
   },
   {
    "duration": 8,
    "start_time": "2025-03-16T15:37:07.321Z"
   },
   {
    "duration": 11,
    "start_time": "2025-03-16T15:37:07.452Z"
   },
   {
    "duration": 11,
    "start_time": "2025-03-16T15:37:07.614Z"
   },
   {
    "duration": 2,
    "start_time": "2025-03-16T15:37:07.867Z"
   },
   {
    "duration": 3,
    "start_time": "2025-03-16T15:37:08.023Z"
   },
   {
    "duration": 45,
    "start_time": "2025-03-16T15:37:08.172Z"
   },
   {
    "duration": 18,
    "start_time": "2025-03-16T15:37:08.747Z"
   },
   {
    "duration": 12,
    "start_time": "2025-03-16T15:37:09.100Z"
   },
   {
    "duration": 355,
    "start_time": "2025-03-16T15:37:10.288Z"
   },
   {
    "duration": 433,
    "start_time": "2025-03-16T15:37:10.646Z"
   },
   {
    "duration": 9,
    "start_time": "2025-03-16T15:37:11.441Z"
   },
   {
    "duration": 13,
    "start_time": "2025-03-16T15:37:11.628Z"
   },
   {
    "duration": 13,
    "start_time": "2025-03-16T15:37:11.786Z"
   },
   {
    "duration": 226,
    "start_time": "2025-03-16T15:37:11.976Z"
   },
   {
    "duration": 239,
    "start_time": "2025-03-16T15:37:12.471Z"
   },
   {
    "duration": 244,
    "start_time": "2025-03-16T15:37:12.712Z"
   },
   {
    "duration": 227,
    "start_time": "2025-03-16T15:38:48.373Z"
   },
   {
    "duration": 186,
    "start_time": "2025-03-16T15:38:50.241Z"
   },
   {
    "duration": 44,
    "start_time": "2025-03-16T15:38:51.753Z"
   },
   {
    "duration": 189,
    "start_time": "2025-03-16T15:39:59.339Z"
   },
   {
    "duration": 12,
    "start_time": "2025-03-16T15:42:41.574Z"
   },
   {
    "duration": 476,
    "start_time": "2025-03-16T15:52:54.281Z"
   },
   {
    "duration": 426,
    "start_time": "2025-03-16T15:53:07.634Z"
   },
   {
    "duration": 497,
    "start_time": "2025-03-16T15:53:46.375Z"
   },
   {
    "duration": 213,
    "start_time": "2025-03-16T15:55:16.111Z"
   },
   {
    "duration": 11,
    "start_time": "2025-03-16T16:02:33.600Z"
   },
   {
    "duration": 13,
    "start_time": "2025-03-16T16:03:07.491Z"
   },
   {
    "duration": 12,
    "start_time": "2025-03-16T16:18:05.482Z"
   },
   {
    "duration": 14,
    "start_time": "2025-03-16T16:18:14.152Z"
   },
   {
    "duration": 248,
    "start_time": "2025-03-16T16:19:05.054Z"
   },
   {
    "duration": 191,
    "start_time": "2025-03-16T16:19:16.118Z"
   },
   {
    "duration": 2,
    "start_time": "2025-03-16T16:22:14.025Z"
   },
   {
    "duration": 94,
    "start_time": "2025-03-16T16:22:20.064Z"
   },
   {
    "duration": 6,
    "start_time": "2025-03-16T16:23:52.688Z"
   },
   {
    "duration": 2616,
    "start_time": "2025-03-19T16:14:49.525Z"
   },
   {
    "duration": 238,
    "start_time": "2025-03-19T16:37:29.989Z"
   },
   {
    "duration": 13,
    "start_time": "2025-03-19T16:37:34.427Z"
   },
   {
    "duration": 3,
    "start_time": "2025-03-19T16:37:46.664Z"
   },
   {
    "duration": 241,
    "start_time": "2025-03-19T16:37:46.990Z"
   },
   {
    "duration": 48,
    "start_time": "2025-03-19T16:37:47.385Z"
   },
   {
    "duration": 13,
    "start_time": "2025-03-19T16:37:47.537Z"
   },
   {
    "duration": 22,
    "start_time": "2025-03-19T16:37:47.907Z"
   },
   {
    "duration": 7,
    "start_time": "2025-03-19T16:37:48.074Z"
   },
   {
    "duration": 3,
    "start_time": "2025-03-19T16:37:48.782Z"
   },
   {
    "duration": 6,
    "start_time": "2025-03-19T16:37:48.967Z"
   },
   {
    "duration": 3,
    "start_time": "2025-03-19T16:37:49.119Z"
   },
   {
    "duration": 10,
    "start_time": "2025-03-19T16:37:49.493Z"
   },
   {
    "duration": 8,
    "start_time": "2025-03-19T16:37:49.651Z"
   },
   {
    "duration": 11,
    "start_time": "2025-03-19T16:37:50.001Z"
   },
   {
    "duration": 8,
    "start_time": "2025-03-19T16:37:50.182Z"
   },
   {
    "duration": 5,
    "start_time": "2025-03-19T16:37:50.910Z"
   },
   {
    "duration": 6,
    "start_time": "2025-03-19T16:37:51.492Z"
   },
   {
    "duration": 5,
    "start_time": "2025-03-19T16:37:51.651Z"
   },
   {
    "duration": 11,
    "start_time": "2025-03-19T16:37:51.856Z"
   },
   {
    "duration": 17,
    "start_time": "2025-03-19T16:37:52.228Z"
   },
   {
    "duration": 7,
    "start_time": "2025-03-19T16:37:52.382Z"
   },
   {
    "duration": 15,
    "start_time": "2025-03-19T16:37:52.952Z"
   },
   {
    "duration": 10,
    "start_time": "2025-03-19T16:37:53.311Z"
   },
   {
    "duration": 16,
    "start_time": "2025-03-19T16:37:53.487Z"
   },
   {
    "duration": 8,
    "start_time": "2025-03-19T16:37:53.667Z"
   },
   {
    "duration": 10,
    "start_time": "2025-03-19T16:37:54.056Z"
   },
   {
    "duration": 6,
    "start_time": "2025-03-19T16:37:54.242Z"
   },
   {
    "duration": 9,
    "start_time": "2025-03-19T16:37:54.815Z"
   },
   {
    "duration": 7,
    "start_time": "2025-03-19T16:37:55.366Z"
   },
   {
    "duration": 10,
    "start_time": "2025-03-19T16:37:58.772Z"
   },
   {
    "duration": 8,
    "start_time": "2025-03-19T16:37:59.055Z"
   },
   {
    "duration": 18,
    "start_time": "2025-03-19T16:38:00.167Z"
   },
   {
    "duration": 7,
    "start_time": "2025-03-19T16:38:00.416Z"
   },
   {
    "duration": 13,
    "start_time": "2025-03-19T16:38:00.797Z"
   },
   {
    "duration": 3,
    "start_time": "2025-03-19T16:38:01.040Z"
   },
   {
    "duration": 11,
    "start_time": "2025-03-19T16:38:01.585Z"
   },
   {
    "duration": 4,
    "start_time": "2025-03-19T16:38:01.771Z"
   },
   {
    "duration": 9,
    "start_time": "2025-03-19T16:38:01.973Z"
   },
   {
    "duration": 8,
    "start_time": "2025-03-19T16:38:02.645Z"
   },
   {
    "duration": 17,
    "start_time": "2025-03-19T16:38:03.239Z"
   },
   {
    "duration": 4,
    "start_time": "2025-03-19T16:38:03.430Z"
   },
   {
    "duration": 16,
    "start_time": "2025-03-19T16:38:03.633Z"
   },
   {
    "duration": 13,
    "start_time": "2025-03-19T16:38:03.868Z"
   },
   {
    "duration": 10,
    "start_time": "2025-03-19T16:38:04.061Z"
   },
   {
    "duration": 6,
    "start_time": "2025-03-19T16:38:04.269Z"
   },
   {
    "duration": 4,
    "start_time": "2025-03-19T16:38:04.510Z"
   },
   {
    "duration": 6,
    "start_time": "2025-03-19T16:38:04.705Z"
   },
   {
    "duration": 11,
    "start_time": "2025-03-19T16:38:04.941Z"
   },
   {
    "duration": 8,
    "start_time": "2025-03-19T16:38:05.433Z"
   },
   {
    "duration": 11,
    "start_time": "2025-03-19T16:38:05.709Z"
   },
   {
    "duration": 11,
    "start_time": "2025-03-19T16:38:06.127Z"
   },
   {
    "duration": 5,
    "start_time": "2025-03-19T16:38:06.466Z"
   },
   {
    "duration": 44,
    "start_time": "2025-03-19T16:38:06.810Z"
   },
   {
    "duration": 11,
    "start_time": "2025-03-19T16:38:08.031Z"
   },
   {
    "duration": 12,
    "start_time": "2025-03-19T16:38:08.420Z"
   },
   {
    "duration": 495,
    "start_time": "2025-03-19T16:38:10.675Z"
   },
   {
    "duration": 468,
    "start_time": "2025-03-19T16:38:11.173Z"
   },
   {
    "duration": 11,
    "start_time": "2025-03-19T16:38:11.643Z"
   },
   {
    "duration": 213,
    "start_time": "2025-03-19T16:38:11.658Z"
   },
   {
    "duration": 229,
    "start_time": "2025-03-19T16:38:12.020Z"
   },
   {
    "duration": 235,
    "start_time": "2025-03-19T16:38:12.619Z"
   },
   {
    "duration": 15,
    "start_time": "2025-03-19T16:38:13.920Z"
   },
   {
    "duration": 210,
    "start_time": "2025-03-19T16:38:14.133Z"
   },
   {
    "duration": 8,
    "start_time": "2025-03-19T16:38:15.601Z"
   },
   {
    "duration": 2,
    "start_time": "2025-03-19T16:38:16.402Z"
   },
   {
    "duration": 10,
    "start_time": "2025-03-19T17:29:09.462Z"
   },
   {
    "duration": 5,
    "start_time": "2025-03-19T17:29:42.122Z"
   },
   {
    "duration": 449,
    "start_time": "2025-03-19T17:33:23.912Z"
   },
   {
    "duration": 859,
    "start_time": "2025-03-19T17:35:54.326Z"
   },
   {
    "duration": 165,
    "start_time": "2025-03-19T17:35:55.187Z"
   },
   {
    "duration": 44,
    "start_time": "2025-03-19T17:35:55.354Z"
   },
   {
    "duration": 12,
    "start_time": "2025-03-19T17:35:55.408Z"
   },
   {
    "duration": 19,
    "start_time": "2025-03-19T17:35:55.422Z"
   },
   {
    "duration": 7,
    "start_time": "2025-03-19T17:35:55.442Z"
   },
   {
    "duration": 4,
    "start_time": "2025-03-19T17:35:55.450Z"
   },
   {
    "duration": 5,
    "start_time": "2025-03-19T17:35:55.456Z"
   },
   {
    "duration": 2,
    "start_time": "2025-03-19T17:35:55.464Z"
   },
   {
    "duration": 40,
    "start_time": "2025-03-19T17:35:55.471Z"
   },
   {
    "duration": 8,
    "start_time": "2025-03-19T17:35:55.514Z"
   },
   {
    "duration": 11,
    "start_time": "2025-03-19T17:35:55.523Z"
   },
   {
    "duration": 8,
    "start_time": "2025-03-19T17:35:55.535Z"
   },
   {
    "duration": 5,
    "start_time": "2025-03-19T17:35:55.545Z"
   },
   {
    "duration": 6,
    "start_time": "2025-03-19T17:35:55.552Z"
   },
   {
    "duration": 5,
    "start_time": "2025-03-19T17:35:55.559Z"
   },
   {
    "duration": 46,
    "start_time": "2025-03-19T17:35:55.568Z"
   },
   {
    "duration": 15,
    "start_time": "2025-03-19T17:35:55.616Z"
   },
   {
    "duration": 6,
    "start_time": "2025-03-19T17:35:55.633Z"
   },
   {
    "duration": 15,
    "start_time": "2025-03-19T17:35:55.641Z"
   },
   {
    "duration": 9,
    "start_time": "2025-03-19T17:35:55.658Z"
   },
   {
    "duration": 43,
    "start_time": "2025-03-19T17:35:55.669Z"
   },
   {
    "duration": 8,
    "start_time": "2025-03-19T17:35:55.714Z"
   },
   {
    "duration": 9,
    "start_time": "2025-03-19T17:35:55.723Z"
   },
   {
    "duration": 5,
    "start_time": "2025-03-19T17:35:55.734Z"
   },
   {
    "duration": 9,
    "start_time": "2025-03-19T17:35:55.741Z"
   },
   {
    "duration": 6,
    "start_time": "2025-03-19T17:35:55.752Z"
   },
   {
    "duration": 9,
    "start_time": "2025-03-19T17:35:55.762Z"
   },
   {
    "duration": 43,
    "start_time": "2025-03-19T17:35:55.772Z"
   },
   {
    "duration": 17,
    "start_time": "2025-03-19T17:35:55.817Z"
   },
   {
    "duration": 6,
    "start_time": "2025-03-19T17:35:55.835Z"
   },
   {
    "duration": 13,
    "start_time": "2025-03-19T17:35:55.843Z"
   },
   {
    "duration": 3,
    "start_time": "2025-03-19T17:35:55.858Z"
   },
   {
    "duration": 12,
    "start_time": "2025-03-19T17:35:55.862Z"
   },
   {
    "duration": 35,
    "start_time": "2025-03-19T17:35:55.876Z"
   },
   {
    "duration": 8,
    "start_time": "2025-03-19T17:35:55.913Z"
   },
   {
    "duration": 8,
    "start_time": "2025-03-19T17:35:55.923Z"
   },
   {
    "duration": 16,
    "start_time": "2025-03-19T17:35:55.933Z"
   },
   {
    "duration": 4,
    "start_time": "2025-03-19T17:35:55.952Z"
   },
   {
    "duration": 53,
    "start_time": "2025-03-19T17:35:55.957Z"
   },
   {
    "duration": 12,
    "start_time": "2025-03-19T17:35:56.012Z"
   },
   {
    "duration": 10,
    "start_time": "2025-03-19T17:35:56.026Z"
   },
   {
    "duration": 6,
    "start_time": "2025-03-19T17:35:56.037Z"
   },
   {
    "duration": 3,
    "start_time": "2025-03-19T17:35:56.045Z"
   },
   {
    "duration": 6,
    "start_time": "2025-03-19T17:35:56.050Z"
   },
   {
    "duration": 11,
    "start_time": "2025-03-19T17:35:56.058Z"
   },
   {
    "duration": 40,
    "start_time": "2025-03-19T17:35:56.070Z"
   },
   {
    "duration": 12,
    "start_time": "2025-03-19T17:35:56.112Z"
   },
   {
    "duration": 10,
    "start_time": "2025-03-19T17:35:56.126Z"
   },
   {
    "duration": 4,
    "start_time": "2025-03-19T17:35:56.138Z"
   },
   {
    "duration": 74,
    "start_time": "2025-03-19T17:35:56.144Z"
   },
   {
    "duration": 15,
    "start_time": "2025-03-19T17:35:56.221Z"
   },
   {
    "duration": 12,
    "start_time": "2025-03-19T17:35:56.238Z"
   },
   {
    "duration": 400,
    "start_time": "2025-03-19T17:35:56.252Z"
   },
   {
    "duration": 567,
    "start_time": "2025-03-19T17:35:56.655Z"
   },
   {
    "duration": 10,
    "start_time": "2025-03-19T17:35:57.224Z"
   },
   {
    "duration": 241,
    "start_time": "2025-03-19T17:35:57.235Z"
   },
   {
    "duration": 246,
    "start_time": "2025-03-19T17:35:57.477Z"
   },
   {
    "duration": 242,
    "start_time": "2025-03-19T17:35:57.725Z"
   },
   {
    "duration": 14,
    "start_time": "2025-03-19T17:35:57.969Z"
   },
   {
    "duration": 275,
    "start_time": "2025-03-19T17:35:57.985Z"
   },
   {
    "duration": 7,
    "start_time": "2025-03-19T17:35:58.262Z"
   },
   {
    "duration": 663,
    "start_time": "2025-03-19T17:35:58.271Z"
   },
   {
    "duration": 0,
    "start_time": "2025-03-19T17:35:58.936Z"
   },
   {
    "duration": 6,
    "start_time": "2025-03-19T17:36:25.147Z"
   },
   {
    "duration": 9,
    "start_time": "2025-03-19T17:36:27.406Z"
   },
   {
    "duration": 6,
    "start_time": "2025-03-19T17:36:30.489Z"
   },
   {
    "duration": 3,
    "start_time": "2025-03-19T17:36:40.613Z"
   },
   {
    "duration": 4,
    "start_time": "2025-03-19T17:37:07.291Z"
   },
   {
    "duration": 4,
    "start_time": "2025-03-19T17:38:32.757Z"
   },
   {
    "duration": 7,
    "start_time": "2025-03-19T17:38:54.376Z"
   },
   {
    "duration": 18,
    "start_time": "2025-03-19T17:39:12.461Z"
   },
   {
    "duration": 5,
    "start_time": "2025-03-19T17:39:23.228Z"
   },
   {
    "duration": 7,
    "start_time": "2025-03-19T17:40:14.960Z"
   },
   {
    "duration": 8,
    "start_time": "2025-03-19T17:41:28.872Z"
   },
   {
    "duration": 3,
    "start_time": "2025-03-19T18:23:20.115Z"
   },
   {
    "duration": 155,
    "start_time": "2025-03-19T18:23:21.000Z"
   },
   {
    "duration": 44,
    "start_time": "2025-03-19T18:23:21.822Z"
   },
   {
    "duration": 12,
    "start_time": "2025-03-19T18:23:22.444Z"
   },
   {
    "duration": 21,
    "start_time": "2025-03-19T18:23:24.012Z"
   },
   {
    "duration": 7,
    "start_time": "2025-03-19T18:23:24.772Z"
   },
   {
    "duration": 4,
    "start_time": "2025-03-19T18:23:26.862Z"
   },
   {
    "duration": 9,
    "start_time": "2025-03-19T18:23:27.197Z"
   },
   {
    "duration": 3,
    "start_time": "2025-03-19T18:23:27.681Z"
   },
   {
    "duration": 3,
    "start_time": "2025-03-19T18:23:29.146Z"
   },
   {
    "duration": 9,
    "start_time": "2025-03-19T18:23:29.713Z"
   },
   {
    "duration": 13,
    "start_time": "2025-03-19T18:23:31.131Z"
   },
   {
    "duration": 9,
    "start_time": "2025-03-19T18:23:31.441Z"
   },
   {
    "duration": 6,
    "start_time": "2025-03-19T18:23:32.567Z"
   },
   {
    "duration": 6,
    "start_time": "2025-03-19T18:23:33.147Z"
   },
   {
    "duration": 4,
    "start_time": "2025-03-19T18:23:33.423Z"
   },
   {
    "duration": 10,
    "start_time": "2025-03-19T18:23:33.690Z"
   },
   {
    "duration": 17,
    "start_time": "2025-03-19T18:23:34.486Z"
   },
   {
    "duration": 8,
    "start_time": "2025-03-19T18:23:34.751Z"
   },
   {
    "duration": 15,
    "start_time": "2025-03-19T18:23:35.512Z"
   },
   {
    "duration": 9,
    "start_time": "2025-03-19T18:23:35.989Z"
   },
   {
    "duration": 15,
    "start_time": "2025-03-19T18:23:36.236Z"
   },
   {
    "duration": 12,
    "start_time": "2025-03-19T18:23:36.456Z"
   },
   {
    "duration": 11,
    "start_time": "2025-03-19T18:23:36.903Z"
   },
   {
    "duration": 6,
    "start_time": "2025-03-19T18:23:37.154Z"
   },
   {
    "duration": 13,
    "start_time": "2025-03-19T18:23:37.610Z"
   },
   {
    "duration": 7,
    "start_time": "2025-03-19T18:23:38.056Z"
   },
   {
    "duration": 10,
    "start_time": "2025-03-19T18:23:38.271Z"
   },
   {
    "duration": 8,
    "start_time": "2025-03-19T18:23:38.487Z"
   },
   {
    "duration": 16,
    "start_time": "2025-03-19T18:23:38.939Z"
   },
   {
    "duration": 7,
    "start_time": "2025-03-19T18:23:39.156Z"
   },
   {
    "duration": 14,
    "start_time": "2025-03-19T18:23:39.578Z"
   },
   {
    "duration": 4,
    "start_time": "2025-03-19T18:23:39.808Z"
   },
   {
    "duration": 11,
    "start_time": "2025-03-19T18:23:40.237Z"
   },
   {
    "duration": 4,
    "start_time": "2025-03-19T18:23:40.472Z"
   },
   {
    "duration": 9,
    "start_time": "2025-03-19T18:23:40.974Z"
   },
   {
    "duration": 8,
    "start_time": "2025-03-19T18:23:41.711Z"
   },
   {
    "duration": 15,
    "start_time": "2025-03-19T18:23:42.788Z"
   },
   {
    "duration": 4,
    "start_time": "2025-03-19T18:23:43.040Z"
   },
   {
    "duration": 15,
    "start_time": "2025-03-19T18:23:43.323Z"
   },
   {
    "duration": 12,
    "start_time": "2025-03-19T18:23:43.520Z"
   },
   {
    "duration": 9,
    "start_time": "2025-03-19T18:23:43.735Z"
   },
   {
    "duration": 6,
    "start_time": "2025-03-19T18:23:43.955Z"
   },
   {
    "duration": 4,
    "start_time": "2025-03-19T18:23:44.307Z"
   },
   {
    "duration": 8,
    "start_time": "2025-03-19T18:23:44.558Z"
   },
   {
    "duration": 13,
    "start_time": "2025-03-19T18:23:44.789Z"
   },
   {
    "duration": 8,
    "start_time": "2025-03-19T18:23:45.069Z"
   },
   {
    "duration": 12,
    "start_time": "2025-03-19T18:23:45.335Z"
   },
   {
    "duration": 11,
    "start_time": "2025-03-19T18:23:45.588Z"
   },
   {
    "duration": 4,
    "start_time": "2025-03-19T18:23:45.889Z"
   },
   {
    "duration": 43,
    "start_time": "2025-03-19T18:23:46.221Z"
   },
   {
    "duration": 12,
    "start_time": "2025-03-19T18:23:46.605Z"
   },
   {
    "duration": 387,
    "start_time": "2025-03-19T18:23:47.889Z"
   },
   {
    "duration": 432,
    "start_time": "2025-03-19T18:23:48.278Z"
   },
   {
    "duration": 9,
    "start_time": "2025-03-19T18:23:48.713Z"
   },
   {
    "duration": 317,
    "start_time": "2025-03-19T18:23:49.145Z"
   },
   {
    "duration": 247,
    "start_time": "2025-03-19T18:23:50.403Z"
   },
   {
    "duration": 211,
    "start_time": "2025-03-19T18:23:51.760Z"
   },
   {
    "duration": 15,
    "start_time": "2025-03-19T18:23:53.008Z"
   },
   {
    "duration": 267,
    "start_time": "2025-03-19T18:23:53.394Z"
   },
   {
    "duration": 7,
    "start_time": "2025-03-19T18:23:54.872Z"
   },
   {
    "duration": 7,
    "start_time": "2025-03-19T18:23:55.734Z"
   },
   {
    "duration": 2454,
    "start_time": "2025-03-20T13:24:21.506Z"
   },
   {
    "duration": 227,
    "start_time": "2025-03-20T13:24:23.962Z"
   },
   {
    "duration": 43,
    "start_time": "2025-03-20T13:24:24.191Z"
   },
   {
    "duration": 12,
    "start_time": "2025-03-20T13:24:24.237Z"
   },
   {
    "duration": 19,
    "start_time": "2025-03-20T13:24:24.251Z"
   },
   {
    "duration": 6,
    "start_time": "2025-03-20T13:24:24.272Z"
   },
   {
    "duration": 4,
    "start_time": "2025-03-20T13:24:24.279Z"
   },
   {
    "duration": 5,
    "start_time": "2025-03-20T13:24:24.285Z"
   },
   {
    "duration": 2,
    "start_time": "2025-03-20T13:24:24.294Z"
   },
   {
    "duration": 3,
    "start_time": "2025-03-20T13:24:24.300Z"
   },
   {
    "duration": 45,
    "start_time": "2025-03-20T13:24:24.304Z"
   },
   {
    "duration": 10,
    "start_time": "2025-03-20T13:24:24.350Z"
   },
   {
    "duration": 7,
    "start_time": "2025-03-20T13:24:24.362Z"
   },
   {
    "duration": 4,
    "start_time": "2025-03-20T13:24:24.371Z"
   },
   {
    "duration": 6,
    "start_time": "2025-03-20T13:24:24.377Z"
   },
   {
    "duration": 5,
    "start_time": "2025-03-20T13:24:24.384Z"
   },
   {
    "duration": 9,
    "start_time": "2025-03-20T13:24:24.392Z"
   },
   {
    "duration": 53,
    "start_time": "2025-03-20T13:24:24.403Z"
   },
   {
    "duration": 7,
    "start_time": "2025-03-20T13:24:24.457Z"
   },
   {
    "duration": 15,
    "start_time": "2025-03-20T13:24:24.466Z"
   },
   {
    "duration": 9,
    "start_time": "2025-03-20T13:24:24.482Z"
   },
   {
    "duration": 14,
    "start_time": "2025-03-20T13:24:24.492Z"
   },
   {
    "duration": 7,
    "start_time": "2025-03-20T13:24:24.508Z"
   },
   {
    "duration": 8,
    "start_time": "2025-03-20T13:24:24.542Z"
   },
   {
    "duration": 6,
    "start_time": "2025-03-20T13:24:24.552Z"
   },
   {
    "duration": 10,
    "start_time": "2025-03-20T13:24:24.560Z"
   },
   {
    "duration": 6,
    "start_time": "2025-03-20T13:24:24.571Z"
   },
   {
    "duration": 9,
    "start_time": "2025-03-20T13:24:24.582Z"
   },
   {
    "duration": 6,
    "start_time": "2025-03-20T13:24:24.592Z"
   },
   {
    "duration": 51,
    "start_time": "2025-03-20T13:24:24.600Z"
   },
   {
    "duration": 6,
    "start_time": "2025-03-20T13:24:24.652Z"
   },
   {
    "duration": 12,
    "start_time": "2025-03-20T13:24:24.660Z"
   },
   {
    "duration": 3,
    "start_time": "2025-03-20T13:24:24.674Z"
   },
   {
    "duration": 12,
    "start_time": "2025-03-20T13:24:24.678Z"
   },
   {
    "duration": 3,
    "start_time": "2025-03-20T13:24:24.691Z"
   },
   {
    "duration": 8,
    "start_time": "2025-03-20T13:24:24.696Z"
   },
   {
    "duration": 39,
    "start_time": "2025-03-20T13:24:24.705Z"
   },
   {
    "duration": 25,
    "start_time": "2025-03-20T13:24:24.746Z"
   },
   {
    "duration": 4,
    "start_time": "2025-03-20T13:24:24.773Z"
   },
   {
    "duration": 16,
    "start_time": "2025-03-20T13:24:24.778Z"
   },
   {
    "duration": 11,
    "start_time": "2025-03-20T13:24:24.795Z"
   },
   {
    "duration": 35,
    "start_time": "2025-03-20T13:24:24.808Z"
   },
   {
    "duration": 6,
    "start_time": "2025-03-20T13:24:24.844Z"
   },
   {
    "duration": 5,
    "start_time": "2025-03-20T13:24:24.851Z"
   },
   {
    "duration": 6,
    "start_time": "2025-03-20T13:24:24.858Z"
   },
   {
    "duration": 11,
    "start_time": "2025-03-20T13:24:24.866Z"
   },
   {
    "duration": 7,
    "start_time": "2025-03-20T13:24:24.878Z"
   },
   {
    "duration": 10,
    "start_time": "2025-03-20T13:24:24.887Z"
   },
   {
    "duration": 44,
    "start_time": "2025-03-20T13:24:24.899Z"
   },
   {
    "duration": 4,
    "start_time": "2025-03-20T13:24:24.944Z"
   },
   {
    "duration": 45,
    "start_time": "2025-03-20T13:24:24.950Z"
   },
   {
    "duration": 11,
    "start_time": "2025-03-20T13:24:24.996Z"
   },
   {
    "duration": 399,
    "start_time": "2025-03-20T13:24:25.009Z"
   },
   {
    "duration": 445,
    "start_time": "2025-03-20T13:24:25.410Z"
   },
   {
    "duration": 9,
    "start_time": "2025-03-20T13:24:25.857Z"
   },
   {
    "duration": 232,
    "start_time": "2025-03-20T13:24:25.867Z"
   },
   {
    "duration": 292,
    "start_time": "2025-03-20T13:24:26.100Z"
   },
   {
    "duration": 215,
    "start_time": "2025-03-20T13:24:26.394Z"
   },
   {
    "duration": 39,
    "start_time": "2025-03-20T13:24:26.611Z"
   },
   {
    "duration": 239,
    "start_time": "2025-03-20T13:24:26.652Z"
   },
   {
    "duration": 6,
    "start_time": "2025-03-20T13:24:26.894Z"
   },
   {
    "duration": 5,
    "start_time": "2025-03-20T13:24:26.902Z"
   },
   {
    "duration": 5,
    "start_time": "2025-03-20T13:27:57.956Z"
   },
   {
    "duration": 4,
    "start_time": "2025-03-20T13:28:08.164Z"
   },
   {
    "duration": 44,
    "start_time": "2025-03-20T13:28:09.934Z"
   },
   {
    "duration": 12,
    "start_time": "2025-03-20T13:28:10.833Z"
   },
   {
    "duration": 3,
    "start_time": "2025-03-20T13:28:31.355Z"
   },
   {
    "duration": 501,
    "start_time": "2025-03-20T13:28:32.829Z"
   },
   {
    "duration": 3,
    "start_time": "2025-03-20T13:28:40.055Z"
   },
   {
    "duration": 33,
    "start_time": "2025-03-20T13:28:41.462Z"
   },
   {
    "duration": 12,
    "start_time": "2025-03-20T13:28:43.421Z"
   },
   {
    "duration": 4,
    "start_time": "2025-03-20T13:29:05.595Z"
   },
   {
    "duration": 32,
    "start_time": "2025-03-20T13:29:06.904Z"
   },
   {
    "duration": 19,
    "start_time": "2025-03-20T13:29:07.668Z"
   },
   {
    "duration": 10,
    "start_time": "2025-03-20T13:30:05.267Z"
   },
   {
    "duration": 11,
    "start_time": "2025-03-20T13:30:14.615Z"
   },
   {
    "duration": 3,
    "start_time": "2025-03-20T13:39:36.978Z"
   },
   {
    "duration": 157,
    "start_time": "2025-03-20T15:16:31.718Z"
   },
   {
    "duration": 12,
    "start_time": "2025-03-20T15:16:38.196Z"
   },
   {
    "duration": 2638,
    "start_time": "2025-03-20T15:16:44.286Z"
   },
   {
    "duration": 219,
    "start_time": "2025-03-20T15:16:46.926Z"
   },
   {
    "duration": 55,
    "start_time": "2025-03-20T15:16:47.147Z"
   },
   {
    "duration": 15,
    "start_time": "2025-03-20T15:16:47.205Z"
   },
   {
    "duration": 19,
    "start_time": "2025-03-20T15:16:47.222Z"
   },
   {
    "duration": 7,
    "start_time": "2025-03-20T15:16:47.242Z"
   },
   {
    "duration": 4,
    "start_time": "2025-03-20T15:16:47.270Z"
   },
   {
    "duration": 6,
    "start_time": "2025-03-20T15:16:47.276Z"
   },
   {
    "duration": 2,
    "start_time": "2025-03-20T15:16:47.285Z"
   },
   {
    "duration": 3,
    "start_time": "2025-03-20T15:16:47.291Z"
   },
   {
    "duration": 8,
    "start_time": "2025-03-20T15:16:47.296Z"
   },
   {
    "duration": 9,
    "start_time": "2025-03-20T15:16:47.306Z"
   },
   {
    "duration": 7,
    "start_time": "2025-03-20T15:16:47.318Z"
   },
   {
    "duration": 45,
    "start_time": "2025-03-20T15:16:47.326Z"
   },
   {
    "duration": 6,
    "start_time": "2025-03-20T15:16:47.373Z"
   },
   {
    "duration": 5,
    "start_time": "2025-03-20T15:16:47.381Z"
   },
   {
    "duration": 10,
    "start_time": "2025-03-20T15:16:47.387Z"
   },
   {
    "duration": 17,
    "start_time": "2025-03-20T15:16:47.398Z"
   },
   {
    "duration": 7,
    "start_time": "2025-03-20T15:16:47.417Z"
   },
   {
    "duration": 55,
    "start_time": "2025-03-20T15:16:47.425Z"
   },
   {
    "duration": 10,
    "start_time": "2025-03-20T15:16:47.482Z"
   },
   {
    "duration": 14,
    "start_time": "2025-03-20T15:16:47.493Z"
   },
   {
    "duration": 9,
    "start_time": "2025-03-20T15:16:47.508Z"
   },
   {
    "duration": 10,
    "start_time": "2025-03-20T15:16:47.518Z"
   },
   {
    "duration": 6,
    "start_time": "2025-03-20T15:16:47.530Z"
   },
   {
    "duration": 39,
    "start_time": "2025-03-20T15:16:47.537Z"
   },
   {
    "duration": 7,
    "start_time": "2025-03-20T15:16:47.578Z"
   },
   {
    "duration": 8,
    "start_time": "2025-03-20T15:16:47.590Z"
   },
   {
    "duration": 6,
    "start_time": "2025-03-20T15:16:47.600Z"
   },
   {
    "duration": 15,
    "start_time": "2025-03-20T15:16:47.607Z"
   },
   {
    "duration": 6,
    "start_time": "2025-03-20T15:16:47.623Z"
   },
   {
    "duration": 46,
    "start_time": "2025-03-20T15:16:47.630Z"
   },
   {
    "duration": 3,
    "start_time": "2025-03-20T15:16:47.678Z"
   },
   {
    "duration": 12,
    "start_time": "2025-03-20T15:16:47.683Z"
   },
   {
    "duration": 3,
    "start_time": "2025-03-20T15:16:47.697Z"
   },
   {
    "duration": 8,
    "start_time": "2025-03-20T15:16:47.702Z"
   },
   {
    "duration": 8,
    "start_time": "2025-03-20T15:16:47.712Z"
   },
   {
    "duration": 48,
    "start_time": "2025-03-20T15:16:47.722Z"
   },
   {
    "duration": 4,
    "start_time": "2025-03-20T15:16:47.771Z"
   },
   {
    "duration": 16,
    "start_time": "2025-03-20T15:16:47.776Z"
   },
   {
    "duration": 12,
    "start_time": "2025-03-20T15:16:47.793Z"
   },
   {
    "duration": 10,
    "start_time": "2025-03-20T15:16:47.806Z"
   },
   {
    "duration": 6,
    "start_time": "2025-03-20T15:16:47.818Z"
   },
   {
    "duration": 4,
    "start_time": "2025-03-20T15:16:47.825Z"
   },
   {
    "duration": 41,
    "start_time": "2025-03-20T15:16:47.830Z"
   },
   {
    "duration": 10,
    "start_time": "2025-03-20T15:16:47.873Z"
   },
   {
    "duration": 7,
    "start_time": "2025-03-20T15:16:47.885Z"
   },
   {
    "duration": 10,
    "start_time": "2025-03-20T15:16:47.894Z"
   },
   {
    "duration": 10,
    "start_time": "2025-03-20T15:16:47.905Z"
   },
   {
    "duration": 3,
    "start_time": "2025-03-20T15:16:47.918Z"
   },
   {
    "duration": 74,
    "start_time": "2025-03-20T15:16:47.923Z"
   },
   {
    "duration": 11,
    "start_time": "2025-03-20T15:16:47.998Z"
   },
   {
    "duration": 413,
    "start_time": "2025-03-20T15:16:48.011Z"
   },
   {
    "duration": 460,
    "start_time": "2025-03-20T15:16:48.426Z"
   },
   {
    "duration": 9,
    "start_time": "2025-03-20T15:16:48.888Z"
   },
   {
    "duration": 224,
    "start_time": "2025-03-20T15:16:48.898Z"
   },
   {
    "duration": 208,
    "start_time": "2025-03-20T15:16:49.123Z"
   },
   {
    "duration": 278,
    "start_time": "2025-03-20T15:16:49.333Z"
   },
   {
    "duration": 15,
    "start_time": "2025-03-20T15:16:49.614Z"
   },
   {
    "duration": 250,
    "start_time": "2025-03-20T15:16:49.631Z"
   },
   {
    "duration": 7,
    "start_time": "2025-03-20T15:16:49.882Z"
   },
   {
    "duration": 6,
    "start_time": "2025-03-20T15:16:49.890Z"
   },
   {
    "duration": 745,
    "start_time": "2025-03-20T16:08:04.642Z"
   },
   {
    "duration": 171,
    "start_time": "2025-03-20T16:08:05.389Z"
   },
   {
    "duration": 44,
    "start_time": "2025-03-20T16:08:05.562Z"
   },
   {
    "duration": 12,
    "start_time": "2025-03-20T16:08:05.608Z"
   },
   {
    "duration": 20,
    "start_time": "2025-03-20T16:08:05.622Z"
   },
   {
    "duration": 28,
    "start_time": "2025-03-20T16:08:05.643Z"
   },
   {
    "duration": 4,
    "start_time": "2025-03-20T16:08:05.673Z"
   },
   {
    "duration": 6,
    "start_time": "2025-03-20T16:08:05.678Z"
   },
   {
    "duration": 3,
    "start_time": "2025-03-20T16:08:05.685Z"
   },
   {
    "duration": 4,
    "start_time": "2025-03-20T16:08:05.691Z"
   },
   {
    "duration": 7,
    "start_time": "2025-03-20T16:08:05.697Z"
   },
   {
    "duration": 9,
    "start_time": "2025-03-20T16:08:05.707Z"
   },
   {
    "duration": 8,
    "start_time": "2025-03-20T16:08:05.718Z"
   },
   {
    "duration": 4,
    "start_time": "2025-03-20T16:08:05.770Z"
   },
   {
    "duration": 6,
    "start_time": "2025-03-20T16:08:05.777Z"
   },
   {
    "duration": 4,
    "start_time": "2025-03-20T16:08:05.784Z"
   },
   {
    "duration": 10,
    "start_time": "2025-03-20T16:08:05.790Z"
   },
   {
    "duration": 16,
    "start_time": "2025-03-20T16:08:05.801Z"
   },
   {
    "duration": 7,
    "start_time": "2025-03-20T16:08:05.819Z"
   },
   {
    "duration": 47,
    "start_time": "2025-03-20T16:08:05.827Z"
   },
   {
    "duration": 9,
    "start_time": "2025-03-20T16:08:05.876Z"
   },
   {
    "duration": 14,
    "start_time": "2025-03-20T16:08:05.887Z"
   },
   {
    "duration": 7,
    "start_time": "2025-03-20T16:08:05.902Z"
   },
   {
    "duration": 9,
    "start_time": "2025-03-20T16:08:05.911Z"
   },
   {
    "duration": 7,
    "start_time": "2025-03-20T16:08:05.921Z"
   },
   {
    "duration": 41,
    "start_time": "2025-03-20T16:08:05.930Z"
   },
   {
    "duration": 9,
    "start_time": "2025-03-20T16:08:59.121Z"
   },
   {
    "duration": 7,
    "start_time": "2025-03-20T16:08:59.478Z"
   },
   {
    "duration": 15,
    "start_time": "2025-03-20T16:09:00.293Z"
   },
   {
    "duration": 8,
    "start_time": "2025-03-20T16:09:00.722Z"
   },
   {
    "duration": 13,
    "start_time": "2025-03-20T16:09:01.938Z"
   },
   {
    "duration": 3,
    "start_time": "2025-03-20T16:09:02.388Z"
   },
   {
    "duration": 11,
    "start_time": "2025-03-20T16:09:03.454Z"
   },
   {
    "duration": 5,
    "start_time": "2025-03-20T16:09:04.338Z"
   },
   {
    "duration": 9,
    "start_time": "2025-03-20T16:09:04.755Z"
   },
   {
    "duration": 7,
    "start_time": "2025-03-20T16:09:08.654Z"
   },
   {
    "duration": 16,
    "start_time": "2025-03-20T16:09:09.983Z"
   },
   {
    "duration": 4,
    "start_time": "2025-03-20T16:09:10.387Z"
   },
   {
    "duration": 16,
    "start_time": "2025-03-20T16:09:10.938Z"
   },
   {
    "duration": 378,
    "start_time": "2025-03-20T16:09:11.537Z"
   },
   {
    "duration": 16,
    "start_time": "2025-03-20T16:11:40.604Z"
   },
   {
    "duration": 19,
    "start_time": "2025-03-20T16:12:41.186Z"
   },
   {
    "duration": 15,
    "start_time": "2025-03-20T16:14:46.236Z"
   },
   {
    "duration": 13,
    "start_time": "2025-03-20T16:16:59.620Z"
   },
   {
    "duration": 13,
    "start_time": "2025-03-20T16:19:13.138Z"
   },
   {
    "duration": 9,
    "start_time": "2025-03-20T16:19:37.155Z"
   },
   {
    "duration": 6,
    "start_time": "2025-03-20T16:19:37.903Z"
   },
   {
    "duration": 3,
    "start_time": "2025-03-20T16:19:38.689Z"
   },
   {
    "duration": 7,
    "start_time": "2025-03-20T16:19:39.355Z"
   },
   {
    "duration": 11,
    "start_time": "2025-03-20T16:19:39.768Z"
   },
   {
    "duration": 7,
    "start_time": "2025-03-20T16:19:40.324Z"
   },
   {
    "duration": 12,
    "start_time": "2025-03-20T16:19:40.669Z"
   },
   {
    "duration": 11,
    "start_time": "2025-03-20T16:19:41.151Z"
   },
   {
    "duration": 3,
    "start_time": "2025-03-20T16:19:41.943Z"
   },
   {
    "duration": 3,
    "start_time": "2025-03-20T16:22:01.334Z"
   },
   {
    "duration": 3,
    "start_time": "2025-03-20T16:22:04.058Z"
   },
   {
    "duration": 4,
    "start_time": "2025-03-20T16:22:12.951Z"
   },
   {
    "duration": 44,
    "start_time": "2025-03-20T16:22:14.171Z"
   },
   {
    "duration": 12,
    "start_time": "2025-03-20T16:22:14.653Z"
   },
   {
    "duration": 400,
    "start_time": "2025-03-20T16:22:30.516Z"
   },
   {
    "duration": 475,
    "start_time": "2025-03-20T16:22:30.919Z"
   },
   {
    "duration": 9,
    "start_time": "2025-03-20T16:22:31.397Z"
   },
   {
    "duration": 238,
    "start_time": "2025-03-20T16:22:31.645Z"
   },
   {
    "duration": 241,
    "start_time": "2025-03-20T16:22:32.160Z"
   },
   {
    "duration": 186,
    "start_time": "2025-03-20T16:22:32.636Z"
   },
   {
    "duration": 14,
    "start_time": "2025-03-20T16:22:33.133Z"
   },
   {
    "duration": 218,
    "start_time": "2025-03-20T16:22:33.300Z"
   },
   {
    "duration": 7,
    "start_time": "2025-03-20T16:22:34.385Z"
   },
   {
    "duration": 6,
    "start_time": "2025-03-20T16:22:35.684Z"
   },
   {
    "duration": 11,
    "start_time": "2025-03-20T16:25:33.367Z"
   },
   {
    "duration": 7,
    "start_time": "2025-03-20T16:25:42.866Z"
   },
   {
    "duration": 29,
    "start_time": "2025-03-20T16:25:53.954Z"
   },
   {
    "duration": 14,
    "start_time": "2025-03-20T16:31:09.649Z"
   },
   {
    "duration": 8,
    "start_time": "2025-03-20T16:31:10.682Z"
   },
   {
    "duration": 4,
    "start_time": "2025-03-20T16:31:38.898Z"
   },
   {
    "duration": 44,
    "start_time": "2025-03-20T16:31:42.616Z"
   },
   {
    "duration": 27,
    "start_time": "2025-03-20T16:31:43.615Z"
   },
   {
    "duration": 16,
    "start_time": "2025-03-20T16:33:56.449Z"
   },
   {
    "duration": 808,
    "start_time": "2025-03-20T16:36:03.777Z"
   },
   {
    "duration": 161,
    "start_time": "2025-03-20T16:36:04.587Z"
   },
   {
    "duration": 42,
    "start_time": "2025-03-20T16:36:04.750Z"
   },
   {
    "duration": 12,
    "start_time": "2025-03-20T16:36:04.796Z"
   },
   {
    "duration": 19,
    "start_time": "2025-03-20T16:36:04.810Z"
   },
   {
    "duration": 6,
    "start_time": "2025-03-20T16:36:04.831Z"
   },
   {
    "duration": 4,
    "start_time": "2025-03-20T16:36:04.839Z"
   },
   {
    "duration": 31,
    "start_time": "2025-03-20T16:36:04.844Z"
   },
   {
    "duration": 4,
    "start_time": "2025-03-20T16:36:04.876Z"
   },
   {
    "duration": 3,
    "start_time": "2025-03-20T16:36:04.883Z"
   },
   {
    "duration": 7,
    "start_time": "2025-03-20T16:36:04.888Z"
   },
   {
    "duration": 9,
    "start_time": "2025-03-20T16:36:04.897Z"
   },
   {
    "duration": 8,
    "start_time": "2025-03-20T16:36:04.908Z"
   },
   {
    "duration": 5,
    "start_time": "2025-03-20T16:36:04.918Z"
   },
   {
    "duration": 6,
    "start_time": "2025-03-20T16:36:04.924Z"
   },
   {
    "duration": 44,
    "start_time": "2025-03-20T16:36:04.931Z"
   },
   {
    "duration": 9,
    "start_time": "2025-03-20T16:36:04.977Z"
   },
   {
    "duration": 15,
    "start_time": "2025-03-20T16:36:04.988Z"
   },
   {
    "duration": 6,
    "start_time": "2025-03-20T16:36:05.005Z"
   },
   {
    "duration": 15,
    "start_time": "2025-03-20T16:36:05.013Z"
   },
   {
    "duration": 9,
    "start_time": "2025-03-20T16:36:05.030Z"
   },
   {
    "duration": 16,
    "start_time": "2025-03-20T16:36:05.070Z"
   },
   {
    "duration": 9,
    "start_time": "2025-03-20T16:36:05.088Z"
   },
   {
    "duration": 11,
    "start_time": "2025-03-20T16:36:05.099Z"
   },
   {
    "duration": 7,
    "start_time": "2025-03-20T16:36:05.111Z"
   },
   {
    "duration": 10,
    "start_time": "2025-03-20T16:36:05.120Z"
   },
   {
    "duration": 42,
    "start_time": "2025-03-20T16:36:05.132Z"
   },
   {
    "duration": 7,
    "start_time": "2025-03-20T16:36:05.179Z"
   },
   {
    "duration": 14,
    "start_time": "2025-03-20T16:36:05.188Z"
   },
   {
    "duration": 6,
    "start_time": "2025-03-20T16:36:05.204Z"
   },
   {
    "duration": 14,
    "start_time": "2025-03-20T16:36:05.212Z"
   },
   {
    "duration": 3,
    "start_time": "2025-03-20T16:36:05.228Z"
   },
   {
    "duration": 44,
    "start_time": "2025-03-20T16:36:05.233Z"
   },
   {
    "duration": 4,
    "start_time": "2025-03-20T16:36:05.278Z"
   },
   {
    "duration": 8,
    "start_time": "2025-03-20T16:36:05.285Z"
   },
   {
    "duration": 8,
    "start_time": "2025-03-20T16:36:05.295Z"
   },
   {
    "duration": 15,
    "start_time": "2025-03-20T16:36:05.305Z"
   },
   {
    "duration": 4,
    "start_time": "2025-03-20T16:36:05.321Z"
   },
   {
    "duration": 48,
    "start_time": "2025-03-20T16:36:05.326Z"
   },
   {
    "duration": 13,
    "start_time": "2025-03-20T16:36:05.376Z"
   },
   {
    "duration": 9,
    "start_time": "2025-03-20T16:36:05.391Z"
   },
   {
    "duration": 6,
    "start_time": "2025-03-20T16:36:05.401Z"
   },
   {
    "duration": 3,
    "start_time": "2025-03-20T16:36:05.409Z"
   },
   {
    "duration": 8,
    "start_time": "2025-03-20T16:36:05.414Z"
   },
   {
    "duration": 46,
    "start_time": "2025-03-20T16:36:05.424Z"
   },
   {
    "duration": 8,
    "start_time": "2025-03-20T16:36:05.471Z"
   },
   {
    "duration": 11,
    "start_time": "2025-03-20T16:36:05.481Z"
   },
   {
    "duration": 10,
    "start_time": "2025-03-20T16:36:05.493Z"
   },
   {
    "duration": 4,
    "start_time": "2025-03-20T16:36:05.505Z"
   },
   {
    "duration": 68,
    "start_time": "2025-03-20T16:36:05.510Z"
   },
   {
    "duration": 12,
    "start_time": "2025-03-20T16:36:05.580Z"
   },
   {
    "duration": 415,
    "start_time": "2025-03-20T16:36:05.593Z"
   },
   {
    "duration": 584,
    "start_time": "2025-03-20T16:36:06.010Z"
   },
   {
    "duration": 9,
    "start_time": "2025-03-20T16:36:06.596Z"
   },
   {
    "duration": 227,
    "start_time": "2025-03-20T16:36:06.607Z"
   },
   {
    "duration": 241,
    "start_time": "2025-03-20T16:36:06.838Z"
   },
   {
    "duration": 253,
    "start_time": "2025-03-20T16:36:07.081Z"
   },
   {
    "duration": 17,
    "start_time": "2025-03-20T16:36:07.336Z"
   },
   {
    "duration": 252,
    "start_time": "2025-03-20T16:36:07.355Z"
   },
   {
    "duration": 7,
    "start_time": "2025-03-20T16:36:07.610Z"
   },
   {
    "duration": 6,
    "start_time": "2025-03-20T16:36:07.619Z"
   },
   {
    "duration": 55,
    "start_time": "2025-03-20T16:46:06.043Z"
   },
   {
    "duration": 57,
    "start_time": "2025-03-20T16:47:55.581Z"
   },
   {
    "duration": 57,
    "start_time": "2025-03-20T16:48:44.809Z"
   },
   {
    "duration": 773,
    "start_time": "2025-03-20T16:52:17.816Z"
   },
   {
    "duration": 157,
    "start_time": "2025-03-20T16:52:18.592Z"
   },
   {
    "duration": 53,
    "start_time": "2025-03-20T16:52:18.751Z"
   },
   {
    "duration": 16,
    "start_time": "2025-03-20T16:52:18.806Z"
   },
   {
    "duration": 21,
    "start_time": "2025-03-20T16:52:18.825Z"
   },
   {
    "duration": 28,
    "start_time": "2025-03-20T16:52:18.848Z"
   },
   {
    "duration": 4,
    "start_time": "2025-03-20T16:52:18.877Z"
   },
   {
    "duration": 5,
    "start_time": "2025-03-20T16:52:18.883Z"
   },
   {
    "duration": 3,
    "start_time": "2025-03-20T16:52:18.890Z"
   },
   {
    "duration": 5,
    "start_time": "2025-03-20T16:52:18.894Z"
   },
   {
    "duration": 9,
    "start_time": "2025-03-20T16:52:18.900Z"
   },
   {
    "duration": 9,
    "start_time": "2025-03-20T16:52:18.911Z"
   },
   {
    "duration": 7,
    "start_time": "2025-03-20T16:52:18.922Z"
   },
   {
    "duration": 4,
    "start_time": "2025-03-20T16:52:18.972Z"
   },
   {
    "duration": 5,
    "start_time": "2025-03-20T16:52:18.978Z"
   },
   {
    "duration": 5,
    "start_time": "2025-03-20T16:52:18.985Z"
   },
   {
    "duration": 10,
    "start_time": "2025-03-20T16:52:18.992Z"
   },
   {
    "duration": 16,
    "start_time": "2025-03-20T16:52:19.003Z"
   },
   {
    "duration": 7,
    "start_time": "2025-03-20T16:52:19.021Z"
   },
   {
    "duration": 48,
    "start_time": "2025-03-20T16:52:19.029Z"
   },
   {
    "duration": 10,
    "start_time": "2025-03-20T16:52:19.079Z"
   },
   {
    "duration": 15,
    "start_time": "2025-03-20T16:52:19.090Z"
   },
   {
    "duration": 8,
    "start_time": "2025-03-20T16:52:19.106Z"
   },
   {
    "duration": 9,
    "start_time": "2025-03-20T16:52:19.116Z"
   },
   {
    "duration": 5,
    "start_time": "2025-03-20T16:52:19.128Z"
   },
   {
    "duration": 38,
    "start_time": "2025-03-20T16:52:19.136Z"
   },
   {
    "duration": 8,
    "start_time": "2025-03-20T16:52:19.176Z"
   },
   {
    "duration": 6,
    "start_time": "2025-03-20T16:52:19.186Z"
   },
   {
    "duration": 14,
    "start_time": "2025-03-20T16:52:19.194Z"
   },
   {
    "duration": 7,
    "start_time": "2025-03-20T16:52:19.209Z"
   },
   {
    "duration": 13,
    "start_time": "2025-03-20T16:52:19.219Z"
   },
   {
    "duration": 3,
    "start_time": "2025-03-20T16:52:19.233Z"
   },
   {
    "duration": 43,
    "start_time": "2025-03-20T16:52:19.238Z"
   },
   {
    "duration": 4,
    "start_time": "2025-03-20T16:52:19.282Z"
   },
   {
    "duration": 7,
    "start_time": "2025-03-20T16:52:19.288Z"
   },
   {
    "duration": 8,
    "start_time": "2025-03-20T16:52:19.297Z"
   },
   {
    "duration": 16,
    "start_time": "2025-03-20T16:52:19.307Z"
   },
   {
    "duration": 3,
    "start_time": "2025-03-20T16:52:19.325Z"
   },
   {
    "duration": 49,
    "start_time": "2025-03-20T16:52:19.330Z"
   },
   {
    "duration": 13,
    "start_time": "2025-03-20T16:52:19.380Z"
   },
   {
    "duration": 8,
    "start_time": "2025-03-20T16:52:19.399Z"
   },
   {
    "duration": 6,
    "start_time": "2025-03-20T16:52:19.409Z"
   },
   {
    "duration": 3,
    "start_time": "2025-03-20T16:52:19.417Z"
   },
   {
    "duration": 6,
    "start_time": "2025-03-20T16:52:19.422Z"
   },
   {
    "duration": 44,
    "start_time": "2025-03-20T16:52:19.430Z"
   },
   {
    "duration": 8,
    "start_time": "2025-03-20T16:52:19.475Z"
   },
   {
    "duration": 10,
    "start_time": "2025-03-20T16:52:19.485Z"
   },
   {
    "duration": 11,
    "start_time": "2025-03-20T16:52:19.497Z"
   },
   {
    "duration": 5,
    "start_time": "2025-03-20T16:52:19.510Z"
   },
   {
    "duration": 0,
    "start_time": "2025-03-20T16:52:19.517Z"
   },
   {
    "duration": 0,
    "start_time": "2025-03-20T16:52:19.518Z"
   },
   {
    "duration": 0,
    "start_time": "2025-03-20T16:52:19.519Z"
   },
   {
    "duration": 0,
    "start_time": "2025-03-20T16:52:19.520Z"
   },
   {
    "duration": 0,
    "start_time": "2025-03-20T16:52:19.521Z"
   },
   {
    "duration": 0,
    "start_time": "2025-03-20T16:52:19.522Z"
   },
   {
    "duration": 0,
    "start_time": "2025-03-20T16:52:19.524Z"
   },
   {
    "duration": 0,
    "start_time": "2025-03-20T16:52:19.525Z"
   },
   {
    "duration": 0,
    "start_time": "2025-03-20T16:52:19.527Z"
   },
   {
    "duration": 0,
    "start_time": "2025-03-20T16:52:19.529Z"
   },
   {
    "duration": 0,
    "start_time": "2025-03-20T16:52:19.569Z"
   },
   {
    "duration": 0,
    "start_time": "2025-03-20T16:52:19.571Z"
   },
   {
    "duration": 0,
    "start_time": "2025-03-20T16:52:19.572Z"
   },
   {
    "duration": 0,
    "start_time": "2025-03-20T16:52:19.574Z"
   },
   {
    "duration": 0,
    "start_time": "2025-03-20T16:52:19.575Z"
   },
   {
    "duration": 4,
    "start_time": "2025-03-20T16:52:53.564Z"
   },
   {
    "duration": 44,
    "start_time": "2025-03-20T16:52:57.271Z"
   },
   {
    "duration": 12,
    "start_time": "2025-03-20T16:52:57.439Z"
   },
   {
    "duration": 57,
    "start_time": "2025-03-20T16:52:58.038Z"
   },
   {
    "duration": 367,
    "start_time": "2025-03-20T16:52:58.175Z"
   },
   {
    "duration": 543,
    "start_time": "2025-03-20T16:52:58.544Z"
   },
   {
    "duration": 10,
    "start_time": "2025-03-20T16:52:59.089Z"
   },
   {
    "duration": 213,
    "start_time": "2025-03-20T16:52:59.101Z"
   },
   {
    "duration": 66,
    "start_time": "2025-03-20T16:52:59.315Z"
   },
   {
    "duration": 230,
    "start_time": "2025-03-20T16:52:59.382Z"
   },
   {
    "duration": 59,
    "start_time": "2025-03-20T16:52:59.704Z"
   },
   {
    "duration": 244,
    "start_time": "2025-03-20T16:52:59.862Z"
   },
   {
    "duration": 14,
    "start_time": "2025-03-20T16:53:00.506Z"
   },
   {
    "duration": 210,
    "start_time": "2025-03-20T16:53:00.705Z"
   },
   {
    "duration": 8,
    "start_time": "2025-03-20T16:53:01.520Z"
   },
   {
    "duration": 6,
    "start_time": "2025-03-20T16:53:01.923Z"
   },
   {
    "duration": 4,
    "start_time": "2025-03-20T16:56:31.491Z"
   },
   {
    "duration": 6,
    "start_time": "2025-03-20T16:57:57.391Z"
   },
   {
    "duration": 6,
    "start_time": "2025-03-20T16:58:08.225Z"
   },
   {
    "duration": 6,
    "start_time": "2025-03-20T17:14:03.334Z"
   },
   {
    "duration": 7,
    "start_time": "2025-03-20T17:14:06.999Z"
   },
   {
    "duration": 6,
    "start_time": "2025-03-20T17:29:05.520Z"
   },
   {
    "duration": 6,
    "start_time": "2025-03-20T17:29:23.146Z"
   },
   {
    "duration": 7,
    "start_time": "2025-03-20T17:35:04.503Z"
   },
   {
    "duration": 6,
    "start_time": "2025-03-20T17:39:54.439Z"
   },
   {
    "duration": 6,
    "start_time": "2025-03-20T17:41:22.910Z"
   },
   {
    "duration": 6,
    "start_time": "2025-03-20T17:41:40.875Z"
   },
   {
    "duration": 220,
    "start_time": "2025-03-20T17:42:25.886Z"
   },
   {
    "duration": 18,
    "start_time": "2025-03-20T17:42:34.649Z"
   },
   {
    "duration": 19,
    "start_time": "2025-03-20T17:42:41.381Z"
   },
   {
    "duration": 7,
    "start_time": "2025-03-20T17:42:47.330Z"
   },
   {
    "duration": 6,
    "start_time": "2025-03-20T17:43:00.942Z"
   },
   {
    "duration": 7,
    "start_time": "2025-03-20T17:48:19.404Z"
   },
   {
    "duration": 4,
    "start_time": "2025-03-20T17:50:46.791Z"
   },
   {
    "duration": 5,
    "start_time": "2025-03-20T17:51:29.962Z"
   },
   {
    "duration": 7,
    "start_time": "2025-03-20T17:54:59.383Z"
   },
   {
    "duration": 7,
    "start_time": "2025-03-20T17:58:22.524Z"
   },
   {
    "duration": 20,
    "start_time": "2025-03-20T17:59:19.371Z"
   },
   {
    "duration": 18,
    "start_time": "2025-03-20T17:59:21.655Z"
   },
   {
    "duration": 18,
    "start_time": "2025-03-20T17:59:34.127Z"
   },
   {
    "duration": 8,
    "start_time": "2025-03-20T17:59:55.916Z"
   },
   {
    "duration": 17,
    "start_time": "2025-03-20T18:03:49.270Z"
   },
   {
    "duration": 6,
    "start_time": "2025-03-20T18:03:53.731Z"
   },
   {
    "duration": 6,
    "start_time": "2025-03-20T18:05:04.453Z"
   },
   {
    "duration": 8,
    "start_time": "2025-03-20T18:11:24.779Z"
   },
   {
    "duration": 6,
    "start_time": "2025-03-20T18:24:13.229Z"
   },
   {
    "duration": 6,
    "start_time": "2025-03-20T18:24:23.348Z"
   },
   {
    "duration": 13,
    "start_time": "2025-03-20T18:25:10.162Z"
   },
   {
    "duration": 9,
    "start_time": "2025-03-20T18:25:28.299Z"
   },
   {
    "duration": 9,
    "start_time": "2025-03-20T18:26:38.286Z"
   },
   {
    "duration": 15,
    "start_time": "2025-03-20T18:27:22.624Z"
   },
   {
    "duration": 8,
    "start_time": "2025-03-20T18:27:56.423Z"
   },
   {
    "duration": 9,
    "start_time": "2025-03-20T18:28:19.539Z"
   },
   {
    "duration": 426,
    "start_time": "2025-03-20T18:30:39.346Z"
   },
   {
    "duration": 541,
    "start_time": "2025-03-20T18:30:56.315Z"
   },
   {
    "duration": 814,
    "start_time": "2025-03-20T18:47:13.776Z"
   },
   {
    "duration": 158,
    "start_time": "2025-03-20T18:47:14.592Z"
   },
   {
    "duration": 48,
    "start_time": "2025-03-20T18:47:14.752Z"
   },
   {
    "duration": 12,
    "start_time": "2025-03-20T18:47:14.803Z"
   },
   {
    "duration": 22,
    "start_time": "2025-03-20T18:47:14.817Z"
   },
   {
    "duration": 29,
    "start_time": "2025-03-20T18:47:14.841Z"
   },
   {
    "duration": 3,
    "start_time": "2025-03-20T18:47:14.872Z"
   },
   {
    "duration": 6,
    "start_time": "2025-03-20T18:47:14.877Z"
   },
   {
    "duration": 3,
    "start_time": "2025-03-20T18:47:14.885Z"
   },
   {
    "duration": 4,
    "start_time": "2025-03-20T18:47:14.890Z"
   },
   {
    "duration": 8,
    "start_time": "2025-03-20T18:47:14.896Z"
   },
   {
    "duration": 11,
    "start_time": "2025-03-20T18:47:14.905Z"
   },
   {
    "duration": 7,
    "start_time": "2025-03-20T18:47:14.917Z"
   },
   {
    "duration": 45,
    "start_time": "2025-03-20T18:47:14.926Z"
   },
   {
    "duration": 6,
    "start_time": "2025-03-20T18:47:14.972Z"
   },
   {
    "duration": 5,
    "start_time": "2025-03-20T18:47:14.979Z"
   },
   {
    "duration": 9,
    "start_time": "2025-03-20T18:47:14.986Z"
   },
   {
    "duration": 16,
    "start_time": "2025-03-20T18:47:14.997Z"
   },
   {
    "duration": 7,
    "start_time": "2025-03-20T18:47:15.015Z"
   },
   {
    "duration": 52,
    "start_time": "2025-03-20T18:47:15.024Z"
   },
   {
    "duration": 10,
    "start_time": "2025-03-20T18:47:15.078Z"
   },
   {
    "duration": 17,
    "start_time": "2025-03-20T18:47:15.091Z"
   },
   {
    "duration": 10,
    "start_time": "2025-03-20T18:47:15.109Z"
   },
   {
    "duration": 9,
    "start_time": "2025-03-20T18:47:15.121Z"
   },
   {
    "duration": 7,
    "start_time": "2025-03-20T18:47:15.132Z"
   },
   {
    "duration": 35,
    "start_time": "2025-03-20T18:47:15.140Z"
   },
   {
    "duration": 8,
    "start_time": "2025-03-20T18:47:15.177Z"
   },
   {
    "duration": 7,
    "start_time": "2025-03-20T18:47:15.190Z"
   },
   {
    "duration": 14,
    "start_time": "2025-03-20T18:47:15.198Z"
   },
   {
    "duration": 7,
    "start_time": "2025-03-20T18:47:15.214Z"
   },
   {
    "duration": 11,
    "start_time": "2025-03-20T18:47:15.223Z"
   },
   {
    "duration": 2,
    "start_time": "2025-03-20T18:47:15.271Z"
   },
   {
    "duration": 11,
    "start_time": "2025-03-20T18:47:15.275Z"
   },
   {
    "duration": 4,
    "start_time": "2025-03-20T18:47:15.287Z"
   },
   {
    "duration": 7,
    "start_time": "2025-03-20T18:47:15.293Z"
   },
   {
    "duration": 7,
    "start_time": "2025-03-20T18:47:15.302Z"
   },
   {
    "duration": 16,
    "start_time": "2025-03-20T18:47:15.311Z"
   },
   {
    "duration": 3,
    "start_time": "2025-03-20T18:47:15.329Z"
   },
   {
    "duration": 50,
    "start_time": "2025-03-20T18:47:15.334Z"
   },
   {
    "duration": 13,
    "start_time": "2025-03-20T18:47:15.386Z"
   },
   {
    "duration": 10,
    "start_time": "2025-03-20T18:47:15.400Z"
   },
   {
    "duration": 6,
    "start_time": "2025-03-20T18:47:15.411Z"
   },
   {
    "duration": 3,
    "start_time": "2025-03-20T18:47:15.419Z"
   },
   {
    "duration": 7,
    "start_time": "2025-03-20T18:47:15.424Z"
   },
   {
    "duration": 43,
    "start_time": "2025-03-20T18:47:15.433Z"
   },
   {
    "duration": 8,
    "start_time": "2025-03-20T18:47:15.477Z"
   },
   {
    "duration": 10,
    "start_time": "2025-03-20T18:47:15.487Z"
   },
   {
    "duration": 12,
    "start_time": "2025-03-20T18:47:15.498Z"
   },
   {
    "duration": 3,
    "start_time": "2025-03-20T18:47:15.512Z"
   },
   {
    "duration": 72,
    "start_time": "2025-03-20T18:47:15.517Z"
   },
   {
    "duration": 11,
    "start_time": "2025-03-20T18:47:15.591Z"
   },
   {
    "duration": 408,
    "start_time": "2025-03-20T18:47:15.604Z"
   },
   {
    "duration": 566,
    "start_time": "2025-03-20T18:47:16.014Z"
   },
   {
    "duration": 10,
    "start_time": "2025-03-20T18:47:16.582Z"
   },
   {
    "duration": 224,
    "start_time": "2025-03-20T18:47:16.594Z"
   },
   {
    "duration": 10,
    "start_time": "2025-03-20T18:47:16.821Z"
   },
   {
    "duration": 248,
    "start_time": "2025-03-20T18:47:16.834Z"
   },
   {
    "duration": 9,
    "start_time": "2025-03-20T18:47:17.084Z"
   },
   {
    "duration": 258,
    "start_time": "2025-03-20T18:47:17.095Z"
   },
   {
    "duration": 17,
    "start_time": "2025-03-20T18:47:17.354Z"
   },
   {
    "duration": 246,
    "start_time": "2025-03-20T18:47:17.373Z"
   },
   {
    "duration": 9,
    "start_time": "2025-03-20T18:47:17.622Z"
   },
   {
    "duration": 7,
    "start_time": "2025-03-20T18:47:17.632Z"
   },
   {
    "duration": 3,
    "start_time": "2025-03-20T18:47:29.886Z"
   },
   {
    "duration": 164,
    "start_time": "2025-03-20T18:47:30.145Z"
   },
   {
    "duration": 45,
    "start_time": "2025-03-20T18:47:30.388Z"
   },
   {
    "duration": 11,
    "start_time": "2025-03-20T18:47:30.529Z"
   },
   {
    "duration": 21,
    "start_time": "2025-03-20T18:47:30.761Z"
   },
   {
    "duration": 7,
    "start_time": "2025-03-20T18:47:30.911Z"
   },
   {
    "duration": 4,
    "start_time": "2025-03-20T18:47:31.315Z"
   },
   {
    "duration": 5,
    "start_time": "2025-03-20T18:47:31.443Z"
   },
   {
    "duration": 4,
    "start_time": "2025-03-20T18:47:31.582Z"
   },
   {
    "duration": 3,
    "start_time": "2025-03-20T18:47:31.844Z"
   },
   {
    "duration": 9,
    "start_time": "2025-03-20T18:47:31.978Z"
   },
   {
    "duration": 11,
    "start_time": "2025-03-20T18:47:32.498Z"
   },
   {
    "duration": 9,
    "start_time": "2025-03-20T18:47:32.644Z"
   },
   {
    "duration": 5,
    "start_time": "2025-03-20T18:47:33.087Z"
   },
   {
    "duration": 6,
    "start_time": "2025-03-20T18:47:33.386Z"
   },
   {
    "duration": 5,
    "start_time": "2025-03-20T18:47:33.513Z"
   },
   {
    "duration": 10,
    "start_time": "2025-03-20T18:47:33.661Z"
   },
   {
    "duration": 18,
    "start_time": "2025-03-20T18:47:33.945Z"
   },
   {
    "duration": 7,
    "start_time": "2025-03-20T18:47:34.076Z"
   },
   {
    "duration": 19,
    "start_time": "2025-03-20T18:47:34.534Z"
   },
   {
    "duration": 9,
    "start_time": "2025-03-20T18:47:34.793Z"
   },
   {
    "duration": 15,
    "start_time": "2025-03-20T18:47:34.962Z"
   },
   {
    "duration": 8,
    "start_time": "2025-03-20T18:47:35.099Z"
   },
   {
    "duration": 12,
    "start_time": "2025-03-20T18:47:35.395Z"
   },
   {
    "duration": 6,
    "start_time": "2025-03-20T18:47:35.544Z"
   },
   {
    "duration": 9,
    "start_time": "2025-03-20T18:47:35.829Z"
   },
   {
    "duration": 9,
    "start_time": "2025-03-20T18:47:36.261Z"
   },
   {
    "duration": 8,
    "start_time": "2025-03-20T18:47:36.396Z"
   },
   {
    "duration": 21,
    "start_time": "2025-03-20T18:47:36.699Z"
   },
   {
    "duration": 7,
    "start_time": "2025-03-20T18:47:36.843Z"
   },
   {
    "duration": 13,
    "start_time": "2025-03-20T18:47:37.151Z"
   },
   {
    "duration": 3,
    "start_time": "2025-03-20T18:47:37.279Z"
   },
   {
    "duration": 11,
    "start_time": "2025-03-20T18:47:37.563Z"
   },
   {
    "duration": 4,
    "start_time": "2025-03-20T18:47:37.863Z"
   },
   {
    "duration": 8,
    "start_time": "2025-03-20T18:47:38.029Z"
   },
   {
    "duration": 8,
    "start_time": "2025-03-20T18:47:38.606Z"
   },
   {
    "duration": 16,
    "start_time": "2025-03-20T18:47:38.879Z"
   },
   {
    "duration": 3,
    "start_time": "2025-03-20T18:47:39.030Z"
   },
   {
    "duration": 15,
    "start_time": "2025-03-20T18:47:39.179Z"
   },
   {
    "duration": 14,
    "start_time": "2025-03-20T18:47:39.329Z"
   },
   {
    "duration": 10,
    "start_time": "2025-03-20T18:47:39.617Z"
   },
   {
    "duration": 6,
    "start_time": "2025-03-20T18:47:39.774Z"
   },
   {
    "duration": 6,
    "start_time": "2025-03-20T18:47:40.080Z"
   },
   {
    "duration": 7,
    "start_time": "2025-03-20T18:47:40.244Z"
   },
   {
    "duration": 11,
    "start_time": "2025-03-20T18:47:40.395Z"
   },
   {
    "duration": 10,
    "start_time": "2025-03-20T18:47:40.545Z"
   },
   {
    "duration": 11,
    "start_time": "2025-03-20T18:47:40.697Z"
   },
   {
    "duration": 11,
    "start_time": "2025-03-20T18:47:40.844Z"
   },
   {
    "duration": 3,
    "start_time": "2025-03-20T18:47:40.995Z"
   },
   {
    "duration": 43,
    "start_time": "2025-03-20T18:47:41.294Z"
   },
   {
    "duration": 12,
    "start_time": "2025-03-20T18:47:41.446Z"
   },
   {
    "duration": 384,
    "start_time": "2025-03-20T18:47:42.405Z"
   },
   {
    "duration": 493,
    "start_time": "2025-03-20T18:47:42.791Z"
   },
   {
    "duration": 9,
    "start_time": "2025-03-20T18:47:43.286Z"
   },
   {
    "duration": 226,
    "start_time": "2025-03-20T18:47:43.297Z"
   },
   {
    "duration": 10,
    "start_time": "2025-03-20T18:47:43.596Z"
   },
   {
    "duration": 197,
    "start_time": "2025-03-20T18:47:43.828Z"
   },
   {
    "duration": 9,
    "start_time": "2025-03-20T18:47:44.477Z"
   },
   {
    "duration": 259,
    "start_time": "2025-03-20T18:47:44.751Z"
   },
   {
    "duration": 10,
    "start_time": "2025-03-20T18:47:45.500Z"
   },
   {
    "duration": 287,
    "start_time": "2025-03-20T18:47:45.731Z"
   },
   {
    "duration": 8,
    "start_time": "2025-03-20T18:47:47.049Z"
   },
   {
    "duration": 9,
    "start_time": "2025-03-20T18:47:47.923Z"
   },
   {
    "duration": 128,
    "start_time": "2025-03-20T18:56:34.079Z"
   },
   {
    "duration": 567,
    "start_time": "2025-03-20T19:00:43.486Z"
   },
   {
    "duration": 6,
    "start_time": "2025-03-20T19:00:52.864Z"
   },
   {
    "duration": 13,
    "start_time": "2025-03-21T16:37:45.537Z"
   }
  ],
  "colab": {
   "provenance": []
  },
  "kernelspec": {
   "display_name": "Python 3 (ipykernel)",
   "language": "python",
   "name": "python3"
  },
  "language_info": {
   "codemirror_mode": {
    "name": "ipython",
    "version": 3
   },
   "file_extension": ".py",
   "mimetype": "text/x-python",
   "name": "python",
   "nbconvert_exporter": "python",
   "pygments_lexer": "ipython3",
   "version": "3.9.19"
  },
  "toc": {
   "base_numbering": 1,
   "nav_menu": {},
   "number_sections": true,
   "sideBar": true,
   "skip_h1_title": false,
   "title_cell": "Table of Contents",
   "title_sidebar": "Contents",
   "toc_cell": false,
   "toc_position": {},
   "toc_section_display": true,
   "toc_window_display": false
  }
 },
 "nbformat": 4,
 "nbformat_minor": 1
}
